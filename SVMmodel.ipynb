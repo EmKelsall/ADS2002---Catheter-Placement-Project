{
  "nbformat": 4,
  "nbformat_minor": 0,
  "metadata": {
    "colab": {
      "provenance": [],
      "include_colab_link": true
    },
    "kernelspec": {
      "name": "python3",
      "display_name": "Python 3"
    },
    "language_info": {
      "name": "python"
    }
  },
  "cells": [
    {
      "cell_type": "markdown",
      "metadata": {
        "id": "view-in-github",
        "colab_type": "text"
      },
      "source": [
        "<a href=\"https://colab.research.google.com/github/EmKelsall/ADS2002---Catheter-Placement-Project/blob/main/SVMmodel.ipynb\" target=\"_parent\"><img src=\"https://colab.research.google.com/assets/colab-badge.svg\" alt=\"Open In Colab\"/></a>"
      ]
    },
    {
      "cell_type": "markdown",
      "source": [
        "# SVM"
      ],
      "metadata": {
        "id": "A2uc1OmFVqq8"
      }
    },
    {
      "cell_type": "code",
      "execution_count": null,
      "metadata": {
        "colab": {
          "base_uri": "https://localhost:8080/"
        },
        "id": "SuvG3CzEEGKC",
        "outputId": "996a45c0-6848-4e28-cf16-a69b8f5ea6e2"
      },
      "outputs": [
        {
          "output_type": "stream",
          "name": "stdout",
          "text": [
            "Mounted at /content/drive\n",
            "/content/drive/MyDrive/ADS2002-Project-CatheterPlacement\n"
          ]
        }
      ],
      "source": [
        "from google.colab import drive\n",
        "drive.mount('/content/drive')\n",
        "\n",
        "%cd /content/drive/MyDrive/ADS2002-Project-CatheterPlacement\n",
        "\n"
      ]
    },
    {
      "cell_type": "code",
      "source": [
        "import pandas as pd\n",
        "import os\n",
        "import cv2\n",
        "import numpy as np\n",
        "from PIL import Image\n",
        "\n",
        "filenames = os.listdir(\"Data/train\")\n",
        "train_imgs = np.empty((0,600, 600))\n",
        "FileIDs = []\n",
        "lst = []\n",
        "\n",
        "count = 0\n",
        "for file in filenames:\n",
        "  if count == 500:\n",
        "    break\n",
        "\n",
        "  #Making sure the images are the same pixel size\n",
        "  img = Image.open(f\"/content/drive/MyDrive/ADS2002-Project-CatheterPlacement/Data/train/{file}\")\n",
        "  img = img.resize((600,600))\n",
        "  img = np.array(img)\n",
        "\n",
        "  #add extra dimension so we can concatenate\n",
        "  img = np.expand_dims(img,(0))\n",
        "\n",
        "  #Save filename for later\n",
        "  FileIDs.append(file)\n",
        "\n",
        "  #adding to train_imgs array\n",
        "  train_imgs = np.concatenate((train_imgs, img), axis = 0)\n",
        "\n",
        "  count += 1\n",
        "\n",
        "# Now, 'cvc_images' contains your preprocessed CVC catheter images, and 'cvc_labels' contains the placement labels (Abnormal, Normal, Borderline)."
      ],
      "metadata": {
        "id": "5Q4Mv1C8EcHv"
      },
      "execution_count": null,
      "outputs": []
    },
    {
      "cell_type": "code",
      "source": [
        "#extracting just the CVC labels\n",
        "train_data = pd.read_csv(\"/content/drive/MyDrive/ADS2002-Project-CatheterPlacement/Data/train.csv\")\n",
        "CVC_train = train_data[[\"StudyInstanceUID\",\"CVC - Abnormal\", \"CVC - Borderline\", \"CVC - Normal\"]]\n",
        "CVC_train.set_index('StudyInstanceUID', inplace=True)\n",
        "CVC_train.head()\n",
        "\n",
        "\n",
        "#cleaning up the labels\n",
        "UID = []\n",
        "for i in range(len(FileIDs)):\n",
        "  UID.append(FileIDs[i].replace(\".jpg\",\"\"))\n"
      ],
      "metadata": {
        "id": "2iGL2244Pntl"
      },
      "execution_count": null,
      "outputs": []
    },
    {
      "cell_type": "code",
      "source": [
        "\n",
        "train_labels = np.empty((0,3))\n",
        "data = []\n",
        "for ID in UID:\n",
        "    data.append(CVC_train.loc[ID])\n",
        "\n",
        "train_labels_df = pd.DataFrame(data)\n",
        "\n",
        "train_labels_df = train_labels_df.reindex(UID)\n",
        "\n",
        "train_labels = train_labels_df.values\n",
        "\n",
        "train_labels\n",
        "\n"
      ],
      "metadata": {
        "colab": {
          "base_uri": "https://localhost:8080/"
        },
        "id": "VBz4O_gIPq5s",
        "outputId": "00bb2ad4-07a7-4321-9399-5302034581a7"
      },
      "execution_count": null,
      "outputs": [
        {
          "output_type": "execute_result",
          "data": {
            "text/plain": [
              "array([[0, 0, 1],\n",
              "       [0, 1, 0],\n",
              "       [0, 0, 1],\n",
              "       ...,\n",
              "       [1, 0, 0],\n",
              "       [0, 1, 1],\n",
              "       [1, 0, 0]])"
            ]
          },
          "metadata": {},
          "execution_count": 22
        }
      ]
    },
    {
      "cell_type": "code",
      "source": [
        "# Assuming you have a list 'labels' with corresponding labels for each image (Abnormal, Normal, Borderline)\n",
        "# Example:\n",
        "# labels = [\"CVC - Abnormal\", \"CVC - Normal\", \"CVC - Borderline\"]  # Make sure this list matches your dataset\n",
        "\n",
        "from sklearn.model_selection import train_test_split\n",
        "\n",
        "# Flatten the images in train_imgs\n",
        "train_imgs_flattened = train_imgs.reshape(train_imgs.shape[0], -1)\n",
        "train_labels_flattened = train_labels.reshape(train_labels.shape[0], -1)\n",
        "train_labels_flattened = train_labels.argmax(axis=1)\n",
        "\n",
        "X_train, X_test, Y_train, Y_test = train_test_split(train_imgs_flattened, train_labels_flattened, test_size = 0.2, random_state=42)\n",
        "\n",
        "\n",
        "# Now, your SVM classifier is trained and ready for predictions.\n",
        "\n",
        "# You can use svm_classifier.predict(new_data) to make predictions on new data.\n"
      ],
      "metadata": {
        "id": "d0WUj_ojOPIn"
      },
      "execution_count": null,
      "outputs": []
    },
    {
      "cell_type": "code",
      "source": [
        "# Import the SVM classifier from scikit-learn\n",
        "from sklearn import svm\n",
        "\n",
        "# Initialize an SVM classifier\n",
        "svm_classifier = svm.SVC(kernel='linear')  # You can choose the kernel type you prefer\n",
        "\n",
        "# Train the SVM model with your data and labels\n",
        "svm_classifier.fit(X_train, Y_train)"
      ],
      "metadata": {
        "colab": {
          "base_uri": "https://localhost:8080/",
          "height": 75
        },
        "id": "C4FCpS3_S15c",
        "outputId": "1edf6e3a-5824-4b23-d4ad-f7d6835c6ad0"
      },
      "execution_count": null,
      "outputs": [
        {
          "output_type": "execute_result",
          "data": {
            "text/plain": [
              "SVC(kernel='linear')"
            ],
            "text/html": [
              "<style>#sk-container-id-3 {color: black;background-color: white;}#sk-container-id-3 pre{padding: 0;}#sk-container-id-3 div.sk-toggleable {background-color: white;}#sk-container-id-3 label.sk-toggleable__label {cursor: pointer;display: block;width: 100%;margin-bottom: 0;padding: 0.3em;box-sizing: border-box;text-align: center;}#sk-container-id-3 label.sk-toggleable__label-arrow:before {content: \"▸\";float: left;margin-right: 0.25em;color: #696969;}#sk-container-id-3 label.sk-toggleable__label-arrow:hover:before {color: black;}#sk-container-id-3 div.sk-estimator:hover label.sk-toggleable__label-arrow:before {color: black;}#sk-container-id-3 div.sk-toggleable__content {max-height: 0;max-width: 0;overflow: hidden;text-align: left;background-color: #f0f8ff;}#sk-container-id-3 div.sk-toggleable__content pre {margin: 0.2em;color: black;border-radius: 0.25em;background-color: #f0f8ff;}#sk-container-id-3 input.sk-toggleable__control:checked~div.sk-toggleable__content {max-height: 200px;max-width: 100%;overflow: auto;}#sk-container-id-3 input.sk-toggleable__control:checked~label.sk-toggleable__label-arrow:before {content: \"▾\";}#sk-container-id-3 div.sk-estimator input.sk-toggleable__control:checked~label.sk-toggleable__label {background-color: #d4ebff;}#sk-container-id-3 div.sk-label input.sk-toggleable__control:checked~label.sk-toggleable__label {background-color: #d4ebff;}#sk-container-id-3 input.sk-hidden--visually {border: 0;clip: rect(1px 1px 1px 1px);clip: rect(1px, 1px, 1px, 1px);height: 1px;margin: -1px;overflow: hidden;padding: 0;position: absolute;width: 1px;}#sk-container-id-3 div.sk-estimator {font-family: monospace;background-color: #f0f8ff;border: 1px dotted black;border-radius: 0.25em;box-sizing: border-box;margin-bottom: 0.5em;}#sk-container-id-3 div.sk-estimator:hover {background-color: #d4ebff;}#sk-container-id-3 div.sk-parallel-item::after {content: \"\";width: 100%;border-bottom: 1px solid gray;flex-grow: 1;}#sk-container-id-3 div.sk-label:hover label.sk-toggleable__label {background-color: #d4ebff;}#sk-container-id-3 div.sk-serial::before {content: \"\";position: absolute;border-left: 1px solid gray;box-sizing: border-box;top: 0;bottom: 0;left: 50%;z-index: 0;}#sk-container-id-3 div.sk-serial {display: flex;flex-direction: column;align-items: center;background-color: white;padding-right: 0.2em;padding-left: 0.2em;position: relative;}#sk-container-id-3 div.sk-item {position: relative;z-index: 1;}#sk-container-id-3 div.sk-parallel {display: flex;align-items: stretch;justify-content: center;background-color: white;position: relative;}#sk-container-id-3 div.sk-item::before, #sk-container-id-3 div.sk-parallel-item::before {content: \"\";position: absolute;border-left: 1px solid gray;box-sizing: border-box;top: 0;bottom: 0;left: 50%;z-index: -1;}#sk-container-id-3 div.sk-parallel-item {display: flex;flex-direction: column;z-index: 1;position: relative;background-color: white;}#sk-container-id-3 div.sk-parallel-item:first-child::after {align-self: flex-end;width: 50%;}#sk-container-id-3 div.sk-parallel-item:last-child::after {align-self: flex-start;width: 50%;}#sk-container-id-3 div.sk-parallel-item:only-child::after {width: 0;}#sk-container-id-3 div.sk-dashed-wrapped {border: 1px dashed gray;margin: 0 0.4em 0.5em 0.4em;box-sizing: border-box;padding-bottom: 0.4em;background-color: white;}#sk-container-id-3 div.sk-label label {font-family: monospace;font-weight: bold;display: inline-block;line-height: 1.2em;}#sk-container-id-3 div.sk-label-container {text-align: center;}#sk-container-id-3 div.sk-container {/* jupyter's `normalize.less` sets `[hidden] { display: none; }` but bootstrap.min.css set `[hidden] { display: none !important; }` so we also need the `!important` here to be able to override the default hidden behavior on the sphinx rendered scikit-learn.org. See: https://github.com/scikit-learn/scikit-learn/issues/21755 */display: inline-block !important;position: relative;}#sk-container-id-3 div.sk-text-repr-fallback {display: none;}</style><div id=\"sk-container-id-3\" class=\"sk-top-container\"><div class=\"sk-text-repr-fallback\"><pre>SVC(kernel=&#x27;linear&#x27;)</pre><b>In a Jupyter environment, please rerun this cell to show the HTML representation or trust the notebook. <br />On GitHub, the HTML representation is unable to render, please try loading this page with nbviewer.org.</b></div><div class=\"sk-container\" hidden><div class=\"sk-item\"><div class=\"sk-estimator sk-toggleable\"><input class=\"sk-toggleable__control sk-hidden--visually\" id=\"sk-estimator-id-3\" type=\"checkbox\" checked><label for=\"sk-estimator-id-3\" class=\"sk-toggleable__label sk-toggleable__label-arrow\">SVC</label><div class=\"sk-toggleable__content\"><pre>SVC(kernel=&#x27;linear&#x27;)</pre></div></div></div></div></div>"
            ]
          },
          "metadata": {},
          "execution_count": 38
        }
      ]
    },
    {
      "cell_type": "code",
      "source": [
        "# Make predictions on the test set\n",
        "\n",
        "from sklearn.metrics import accuracy_score, classification_report\n",
        "\n",
        "y_pred = svm_classifier.predict(X_test)\n",
        "\n",
        "# Evaluate the model using accuracy and classification report\n",
        "accuracy = accuracy_score(Y_test, y_pred)\n",
        "classification_rep = classification_report(Y_test, y_pred)\n",
        "\n",
        "print(f\"Accuracy: {accuracy}\")\n",
        "print(\"Classification Report:\")\n",
        "print(classification_rep)"
      ],
      "metadata": {
        "colab": {
          "base_uri": "https://localhost:8080/"
        },
        "id": "68_KCoIQR-iZ",
        "outputId": "9dd3e8a6-2650-418b-ed2b-35c4bd0d10c9"
      },
      "execution_count": null,
      "outputs": [
        {
          "output_type": "stream",
          "name": "stdout",
          "text": [
            "Accuracy: 0.44\n",
            "Classification Report:\n",
            "              precision    recall  f1-score   support\n",
            "\n",
            "           0       0.11      0.08      0.10        12\n",
            "           1       0.32      0.23      0.27        35\n",
            "           2       0.53      0.66      0.59        53\n",
            "\n",
            "    accuracy                           0.44       100\n",
            "   macro avg       0.32      0.32      0.32       100\n",
            "weighted avg       0.41      0.44      0.42       100\n",
            "\n"
          ]
        }
      ]
    }
  ]
}