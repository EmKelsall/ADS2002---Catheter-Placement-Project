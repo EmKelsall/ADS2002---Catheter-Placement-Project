{
  "cells": [
    {
      "cell_type": "markdown",
      "metadata": {
        "id": "view-in-github",
        "colab_type": "text"
      },
      "source": [
        "<a href=\"https://colab.research.google.com/github/EmKelsall/ADS2002---Catheter-Placement-Project/blob/main/dataAnalysis.ipynb\" target=\"_parent\"><img src=\"https://colab.research.google.com/assets/colab-badge.svg\" alt=\"Open In Colab\"/></a>"
      ]
    },
    {
      "cell_type": "markdown",
      "metadata": {
        "id": "xPHpTIA119eN"
      },
      "source": [
        "# ADS2002 - Catheter and Line Placement Project\n",
        "\n",
        "## Project Background\n",
        "\n",
        "The Catheter and Line position project was a Kaggle challenge created by the Royal Australian and NZ College of Radiologists (RANZCR) in an attempt to help clincians to be able to detect malpositioned catheters and lines early in order to save lives.\n",
        "\n",
        "### OUR OBJECTIVE\n",
        "The objective of this project is to use machine learning to train and test a model on 40,000 images to categorize whether a catheter or line has been poorly placed.\n",
        "\n",
        "### WHAT IS A CATHETER?\n",
        "\n",
        "A catheter is a thin tube made from medical grade materials serving a broad range of functions. Catheters are medical devices that can be inserted into the body to treat diseases or as an aid when performing surgical procedures.\n",
        "\n",
        "The most common catheter is that inserted into the bladder. This allows urine to drain freely. In this project we are not looking at this catheter but rather 4 other types:\n",
        "\n",
        "1. Endotracheal (inserted between the vocal cords and through the trachea to provide oxygen and inhaled gases to the lungs)\n",
        "2. Nasogastric (inserted through the nose into the stomach. Used to carry food and medicine directly to the stomach)\n",
        "3. Central Venous (inserted into a large vein in the neck, chest, groin or arm. Typcially used to administer medications over a long period of time as well as directly measure blood pressume)\n",
        "4. Swan Ganz (inserted into the right of the heart to monitor heart function including blood flow and pressures in and around the heart)\n",
        "\n",
        "Hospital patients have catheters and lines inserted during the course of their admission and serious complications can arise if they are positioned incorrectly. Millions of COVID-19 patients need tubes and lines inserted with a reported 3% of cases inserted incorrectly.\n",
        "\n",
        "Chest Radiographs are the gold standard to confirm whether a line or tube is placed correctly. A physician must manually check these chest x-rays to verify the optimal position. This process can be slow and leaves room for human error.\n",
        "\n",
        "In this project we want to use Deep learning algorithms to automatically detect malpositioned catheters and lines. These will alert clincians immediately and they can reposition or remove them before complications develop\n",
        "\n",
        "### FILES GIVEN\n",
        "\n",
        "- **train.csv** - contains images IDs, binary labels and patient IDs\n",
        "- **train_annotations.csv** - provides annotations for each image in the training set. Will be able to plot where the line or catheter is.\n",
        "- **test** - Folder with all test images\n",
        "- **train** - Folder with all train images (IDs same as IDs in train dataset)\n",
        "- TFRecords - Tensor Flow Records (way of storing a sequence of binary records)\n",
        "\n"
      ]
    },
    {
      "cell_type": "markdown",
      "source": [
        "## 1. Mount to Drive -> will allow access to data set\n",
        "\n"
      ],
      "metadata": {
        "id": "UU5MBhjZqE4D"
      }
    },
    {
      "cell_type": "code",
      "source": [
        "from google.colab import drive\n",
        "drive.mount('/content/drive')\n",
        "\n",
        "%cd /content/drive/MyDrive/ADS2002-Project-CatheterPlacement"
      ],
      "metadata": {
        "colab": {
          "base_uri": "https://localhost:8080/"
        },
        "id": "3hP_aaJIn8fI",
        "outputId": "d7068245-084c-49fa-cbfd-aed920dcc7b8"
      },
      "execution_count": 3,
      "outputs": [
        {
          "output_type": "stream",
          "name": "stdout",
          "text": [
            "Drive already mounted at /content/drive; to attempt to forcibly remount, call drive.mount(\"/content/drive\", force_remount=True).\n",
            "/content/drive/MyDrive/ADS2002-Project-CatheterPlacement\n"
          ]
        }
      ]
    },
    {
      "cell_type": "code",
      "source": [
        "!ls -lt"
      ],
      "metadata": {
        "colab": {
          "base_uri": "https://localhost:8080/"
        },
        "id": "wPoFdUk9o2hS",
        "outputId": "6a79d619-6724-42bf-9436-cdba4f8f4be4"
      },
      "execution_count": 4,
      "outputs": [
        {
          "output_type": "stream",
          "name": "stdout",
          "text": [
            "ls: ranzcr-clip-catheter-line-classification: No such file or directory\n",
            "total 217\n",
            "drwx------ 3 root root   4096 Oct 21 10:47  Data\n",
            "-rw------- 1 root root    182 Oct 20 09:16 'ADS2002 Final presentation .gslides'\n",
            "-rw------- 1 root root   9161 Oct 19 11:20  catheter_types.png\n",
            "-rw------- 1 root root    182 Sep  9 01:52 'ADS2002 - Catheter Placement.gdoc'\n",
            "-rw------- 1 root root 205295 Aug 18 00:49  CatheterPlacementADS2002.pdf\n",
            "-rw------- 1 root root   1783 Aug 11 06:17  mtcars.csv\n",
            "lrw------- 1 root root      0 Aug 11 05:22  ranzcr-clip-catheter-line-classification -> /content/drive/.shortcut-targets-by-id/1nr3dkndFZpGTbj671CSST0ofESPOncpx/ranzcr-clip-catheter-line-classification\n"
          ]
        }
      ]
    },
    {
      "cell_type": "code",
      "execution_count": 1,
      "metadata": {
        "id": "VycGpXtq19eQ"
      },
      "outputs": [],
      "source": [
        "import random\n",
        "import pandas as pd\n",
        "import numpy as np\n",
        "import matplotlib.pyplot as plt\n",
        "import seaborn as sns\n",
        "import json\n",
        "from PIL import Image\n",
        "import ast"
      ]
    },
    {
      "cell_type": "markdown",
      "source": [
        "### 2. Data Set Exploration"
      ],
      "metadata": {
        "id": "fduAgmxuq63G"
      }
    },
    {
      "cell_type": "code",
      "source": [
        "train = pd.read_csv('Data/train.csv')\n",
        "train.head()"
      ],
      "metadata": {
        "colab": {
          "base_uri": "https://localhost:8080/",
          "height": 278
        },
        "id": "GuDmiGsSq3F7",
        "outputId": "577702ab-402a-4135-92f9-3a4faa85ba3e"
      },
      "execution_count": 5,
      "outputs": [
        {
          "output_type": "execute_result",
          "data": {
            "text/plain": [
              "                                    StudyInstanceUID  ETT - Abnormal  \\\n",
              "0  1.2.826.0.1.3680043.8.498.26697628953273228189...               0   \n",
              "1  1.2.826.0.1.3680043.8.498.46302891597398758759...               0   \n",
              "2  1.2.826.0.1.3680043.8.498.23819260719748494858...               0   \n",
              "3  1.2.826.0.1.3680043.8.498.68286643202323212801...               0   \n",
              "4  1.2.826.0.1.3680043.8.498.10050203009225938259...               0   \n",
              "\n",
              "   ETT - Borderline  ETT - Normal  NGT - Abnormal  NGT - Borderline  \\\n",
              "0                 0             0               0                 0   \n",
              "1                 0             1               0                 0   \n",
              "2                 0             0               0                 0   \n",
              "3                 0             0               0                 0   \n",
              "4                 0             0               0                 0   \n",
              "\n",
              "   NGT - Incompletely Imaged  NGT - Normal  CVC - Abnormal  CVC - Borderline  \\\n",
              "0                          0             1               0                 0   \n",
              "1                          1             0               0                 0   \n",
              "2                          0             0               0                 1   \n",
              "3                          0             0               1                 0   \n",
              "4                          0             0               0                 0   \n",
              "\n",
              "   CVC - Normal  Swan Ganz Catheter Present  PatientID  \n",
              "0             0                           0  ec89415d1  \n",
              "1             1                           0  bf4c6da3c  \n",
              "2             0                           0  3fc1c97e5  \n",
              "3             0                           0  c31019814  \n",
              "4             1                           0  207685cd1  "
            ],
            "text/html": [
              "\n",
              "  <div id=\"df-773e0160-b5fa-4d53-b82a-df5d3feb9efb\" class=\"colab-df-container\">\n",
              "    <div>\n",
              "<style scoped>\n",
              "    .dataframe tbody tr th:only-of-type {\n",
              "        vertical-align: middle;\n",
              "    }\n",
              "\n",
              "    .dataframe tbody tr th {\n",
              "        vertical-align: top;\n",
              "    }\n",
              "\n",
              "    .dataframe thead th {\n",
              "        text-align: right;\n",
              "    }\n",
              "</style>\n",
              "<table border=\"1\" class=\"dataframe\">\n",
              "  <thead>\n",
              "    <tr style=\"text-align: right;\">\n",
              "      <th></th>\n",
              "      <th>StudyInstanceUID</th>\n",
              "      <th>ETT - Abnormal</th>\n",
              "      <th>ETT - Borderline</th>\n",
              "      <th>ETT - Normal</th>\n",
              "      <th>NGT - Abnormal</th>\n",
              "      <th>NGT - Borderline</th>\n",
              "      <th>NGT - Incompletely Imaged</th>\n",
              "      <th>NGT - Normal</th>\n",
              "      <th>CVC - Abnormal</th>\n",
              "      <th>CVC - Borderline</th>\n",
              "      <th>CVC - Normal</th>\n",
              "      <th>Swan Ganz Catheter Present</th>\n",
              "      <th>PatientID</th>\n",
              "    </tr>\n",
              "  </thead>\n",
              "  <tbody>\n",
              "    <tr>\n",
              "      <th>0</th>\n",
              "      <td>1.2.826.0.1.3680043.8.498.26697628953273228189...</td>\n",
              "      <td>0</td>\n",
              "      <td>0</td>\n",
              "      <td>0</td>\n",
              "      <td>0</td>\n",
              "      <td>0</td>\n",
              "      <td>0</td>\n",
              "      <td>1</td>\n",
              "      <td>0</td>\n",
              "      <td>0</td>\n",
              "      <td>0</td>\n",
              "      <td>0</td>\n",
              "      <td>ec89415d1</td>\n",
              "    </tr>\n",
              "    <tr>\n",
              "      <th>1</th>\n",
              "      <td>1.2.826.0.1.3680043.8.498.46302891597398758759...</td>\n",
              "      <td>0</td>\n",
              "      <td>0</td>\n",
              "      <td>1</td>\n",
              "      <td>0</td>\n",
              "      <td>0</td>\n",
              "      <td>1</td>\n",
              "      <td>0</td>\n",
              "      <td>0</td>\n",
              "      <td>0</td>\n",
              "      <td>1</td>\n",
              "      <td>0</td>\n",
              "      <td>bf4c6da3c</td>\n",
              "    </tr>\n",
              "    <tr>\n",
              "      <th>2</th>\n",
              "      <td>1.2.826.0.1.3680043.8.498.23819260719748494858...</td>\n",
              "      <td>0</td>\n",
              "      <td>0</td>\n",
              "      <td>0</td>\n",
              "      <td>0</td>\n",
              "      <td>0</td>\n",
              "      <td>0</td>\n",
              "      <td>0</td>\n",
              "      <td>0</td>\n",
              "      <td>1</td>\n",
              "      <td>0</td>\n",
              "      <td>0</td>\n",
              "      <td>3fc1c97e5</td>\n",
              "    </tr>\n",
              "    <tr>\n",
              "      <th>3</th>\n",
              "      <td>1.2.826.0.1.3680043.8.498.68286643202323212801...</td>\n",
              "      <td>0</td>\n",
              "      <td>0</td>\n",
              "      <td>0</td>\n",
              "      <td>0</td>\n",
              "      <td>0</td>\n",
              "      <td>0</td>\n",
              "      <td>0</td>\n",
              "      <td>1</td>\n",
              "      <td>0</td>\n",
              "      <td>0</td>\n",
              "      <td>0</td>\n",
              "      <td>c31019814</td>\n",
              "    </tr>\n",
              "    <tr>\n",
              "      <th>4</th>\n",
              "      <td>1.2.826.0.1.3680043.8.498.10050203009225938259...</td>\n",
              "      <td>0</td>\n",
              "      <td>0</td>\n",
              "      <td>0</td>\n",
              "      <td>0</td>\n",
              "      <td>0</td>\n",
              "      <td>0</td>\n",
              "      <td>0</td>\n",
              "      <td>0</td>\n",
              "      <td>0</td>\n",
              "      <td>1</td>\n",
              "      <td>0</td>\n",
              "      <td>207685cd1</td>\n",
              "    </tr>\n",
              "  </tbody>\n",
              "</table>\n",
              "</div>\n",
              "    <div class=\"colab-df-buttons\">\n",
              "\n",
              "  <div class=\"colab-df-container\">\n",
              "    <button class=\"colab-df-convert\" onclick=\"convertToInteractive('df-773e0160-b5fa-4d53-b82a-df5d3feb9efb')\"\n",
              "            title=\"Convert this dataframe to an interactive table.\"\n",
              "            style=\"display:none;\">\n",
              "\n",
              "  <svg xmlns=\"http://www.w3.org/2000/svg\" height=\"24px\" viewBox=\"0 -960 960 960\">\n",
              "    <path d=\"M120-120v-720h720v720H120Zm60-500h600v-160H180v160Zm220 220h160v-160H400v160Zm0 220h160v-160H400v160ZM180-400h160v-160H180v160Zm440 0h160v-160H620v160ZM180-180h160v-160H180v160Zm440 0h160v-160H620v160Z\"/>\n",
              "  </svg>\n",
              "    </button>\n",
              "\n",
              "  <style>\n",
              "    .colab-df-container {\n",
              "      display:flex;\n",
              "      gap: 12px;\n",
              "    }\n",
              "\n",
              "    .colab-df-convert {\n",
              "      background-color: #E8F0FE;\n",
              "      border: none;\n",
              "      border-radius: 50%;\n",
              "      cursor: pointer;\n",
              "      display: none;\n",
              "      fill: #1967D2;\n",
              "      height: 32px;\n",
              "      padding: 0 0 0 0;\n",
              "      width: 32px;\n",
              "    }\n",
              "\n",
              "    .colab-df-convert:hover {\n",
              "      background-color: #E2EBFA;\n",
              "      box-shadow: 0px 1px 2px rgba(60, 64, 67, 0.3), 0px 1px 3px 1px rgba(60, 64, 67, 0.15);\n",
              "      fill: #174EA6;\n",
              "    }\n",
              "\n",
              "    .colab-df-buttons div {\n",
              "      margin-bottom: 4px;\n",
              "    }\n",
              "\n",
              "    [theme=dark] .colab-df-convert {\n",
              "      background-color: #3B4455;\n",
              "      fill: #D2E3FC;\n",
              "    }\n",
              "\n",
              "    [theme=dark] .colab-df-convert:hover {\n",
              "      background-color: #434B5C;\n",
              "      box-shadow: 0px 1px 3px 1px rgba(0, 0, 0, 0.15);\n",
              "      filter: drop-shadow(0px 1px 2px rgba(0, 0, 0, 0.3));\n",
              "      fill: #FFFFFF;\n",
              "    }\n",
              "  </style>\n",
              "\n",
              "    <script>\n",
              "      const buttonEl =\n",
              "        document.querySelector('#df-773e0160-b5fa-4d53-b82a-df5d3feb9efb button.colab-df-convert');\n",
              "      buttonEl.style.display =\n",
              "        google.colab.kernel.accessAllowed ? 'block' : 'none';\n",
              "\n",
              "      async function convertToInteractive(key) {\n",
              "        const element = document.querySelector('#df-773e0160-b5fa-4d53-b82a-df5d3feb9efb');\n",
              "        const dataTable =\n",
              "          await google.colab.kernel.invokeFunction('convertToInteractive',\n",
              "                                                    [key], {});\n",
              "        if (!dataTable) return;\n",
              "\n",
              "        const docLinkHtml = 'Like what you see? Visit the ' +\n",
              "          '<a target=\"_blank\" href=https://colab.research.google.com/notebooks/data_table.ipynb>data table notebook</a>'\n",
              "          + ' to learn more about interactive tables.';\n",
              "        element.innerHTML = '';\n",
              "        dataTable['output_type'] = 'display_data';\n",
              "        await google.colab.output.renderOutput(dataTable, element);\n",
              "        const docLink = document.createElement('div');\n",
              "        docLink.innerHTML = docLinkHtml;\n",
              "        element.appendChild(docLink);\n",
              "      }\n",
              "    </script>\n",
              "  </div>\n",
              "\n",
              "\n",
              "<div id=\"df-c04c365e-10e0-4569-a80a-37311f2a7188\">\n",
              "  <button class=\"colab-df-quickchart\" onclick=\"quickchart('df-c04c365e-10e0-4569-a80a-37311f2a7188')\"\n",
              "            title=\"Suggest charts.\"\n",
              "            style=\"display:none;\">\n",
              "\n",
              "<svg xmlns=\"http://www.w3.org/2000/svg\" height=\"24px\"viewBox=\"0 0 24 24\"\n",
              "     width=\"24px\">\n",
              "    <g>\n",
              "        <path d=\"M19 3H5c-1.1 0-2 .9-2 2v14c0 1.1.9 2 2 2h14c1.1 0 2-.9 2-2V5c0-1.1-.9-2-2-2zM9 17H7v-7h2v7zm4 0h-2V7h2v10zm4 0h-2v-4h2v4z\"/>\n",
              "    </g>\n",
              "</svg>\n",
              "  </button>\n",
              "\n",
              "<style>\n",
              "  .colab-df-quickchart {\n",
              "      --bg-color: #E8F0FE;\n",
              "      --fill-color: #1967D2;\n",
              "      --hover-bg-color: #E2EBFA;\n",
              "      --hover-fill-color: #174EA6;\n",
              "      --disabled-fill-color: #AAA;\n",
              "      --disabled-bg-color: #DDD;\n",
              "  }\n",
              "\n",
              "  [theme=dark] .colab-df-quickchart {\n",
              "      --bg-color: #3B4455;\n",
              "      --fill-color: #D2E3FC;\n",
              "      --hover-bg-color: #434B5C;\n",
              "      --hover-fill-color: #FFFFFF;\n",
              "      --disabled-bg-color: #3B4455;\n",
              "      --disabled-fill-color: #666;\n",
              "  }\n",
              "\n",
              "  .colab-df-quickchart {\n",
              "    background-color: var(--bg-color);\n",
              "    border: none;\n",
              "    border-radius: 50%;\n",
              "    cursor: pointer;\n",
              "    display: none;\n",
              "    fill: var(--fill-color);\n",
              "    height: 32px;\n",
              "    padding: 0;\n",
              "    width: 32px;\n",
              "  }\n",
              "\n",
              "  .colab-df-quickchart:hover {\n",
              "    background-color: var(--hover-bg-color);\n",
              "    box-shadow: 0 1px 2px rgba(60, 64, 67, 0.3), 0 1px 3px 1px rgba(60, 64, 67, 0.15);\n",
              "    fill: var(--button-hover-fill-color);\n",
              "  }\n",
              "\n",
              "  .colab-df-quickchart-complete:disabled,\n",
              "  .colab-df-quickchart-complete:disabled:hover {\n",
              "    background-color: var(--disabled-bg-color);\n",
              "    fill: var(--disabled-fill-color);\n",
              "    box-shadow: none;\n",
              "  }\n",
              "\n",
              "  .colab-df-spinner {\n",
              "    border: 2px solid var(--fill-color);\n",
              "    border-color: transparent;\n",
              "    border-bottom-color: var(--fill-color);\n",
              "    animation:\n",
              "      spin 1s steps(1) infinite;\n",
              "  }\n",
              "\n",
              "  @keyframes spin {\n",
              "    0% {\n",
              "      border-color: transparent;\n",
              "      border-bottom-color: var(--fill-color);\n",
              "      border-left-color: var(--fill-color);\n",
              "    }\n",
              "    20% {\n",
              "      border-color: transparent;\n",
              "      border-left-color: var(--fill-color);\n",
              "      border-top-color: var(--fill-color);\n",
              "    }\n",
              "    30% {\n",
              "      border-color: transparent;\n",
              "      border-left-color: var(--fill-color);\n",
              "      border-top-color: var(--fill-color);\n",
              "      border-right-color: var(--fill-color);\n",
              "    }\n",
              "    40% {\n",
              "      border-color: transparent;\n",
              "      border-right-color: var(--fill-color);\n",
              "      border-top-color: var(--fill-color);\n",
              "    }\n",
              "    60% {\n",
              "      border-color: transparent;\n",
              "      border-right-color: var(--fill-color);\n",
              "    }\n",
              "    80% {\n",
              "      border-color: transparent;\n",
              "      border-right-color: var(--fill-color);\n",
              "      border-bottom-color: var(--fill-color);\n",
              "    }\n",
              "    90% {\n",
              "      border-color: transparent;\n",
              "      border-bottom-color: var(--fill-color);\n",
              "    }\n",
              "  }\n",
              "</style>\n",
              "\n",
              "  <script>\n",
              "    async function quickchart(key) {\n",
              "      const quickchartButtonEl =\n",
              "        document.querySelector('#' + key + ' button');\n",
              "      quickchartButtonEl.disabled = true;  // To prevent multiple clicks.\n",
              "      quickchartButtonEl.classList.add('colab-df-spinner');\n",
              "      try {\n",
              "        const charts = await google.colab.kernel.invokeFunction(\n",
              "            'suggestCharts', [key], {});\n",
              "      } catch (error) {\n",
              "        console.error('Error during call to suggestCharts:', error);\n",
              "      }\n",
              "      quickchartButtonEl.classList.remove('colab-df-spinner');\n",
              "      quickchartButtonEl.classList.add('colab-df-quickchart-complete');\n",
              "    }\n",
              "    (() => {\n",
              "      let quickchartButtonEl =\n",
              "        document.querySelector('#df-c04c365e-10e0-4569-a80a-37311f2a7188 button');\n",
              "      quickchartButtonEl.style.display =\n",
              "        google.colab.kernel.accessAllowed ? 'block' : 'none';\n",
              "    })();\n",
              "  </script>\n",
              "</div>\n",
              "    </div>\n",
              "  </div>\n"
            ]
          },
          "metadata": {},
          "execution_count": 5
        }
      ]
    },
    {
      "cell_type": "code",
      "source": [
        "df = train.iloc[:, 1:-2].sum()\n",
        "\n",
        "df = df.transpose().reset_index()\n",
        "df.columns = ['Procedure', 'Count']\n",
        "\n",
        "df['Category'] = df['Procedure'].apply(lambda x: x.split(' - ')[0])\n",
        "\n",
        "pivot_df = df.pivot(index='Category', columns='Procedure', values='Count').reset_index()\n",
        "pivot_df = pivot_df.fillna(0)\n",
        "\n",
        "pivot_df['Abnormal'] = pivot_df['ETT - Abnormal'] + pivot_df['NGT - Abnormal'] + pivot_df['CVC - Abnormal']\n",
        "pivot_df['Normal'] = pivot_df['ETT - Normal'] + pivot_df['NGT - Normal'] + pivot_df['CVC - Normal']\n",
        "pivot_df['Borderline'] = pivot_df['ETT - Borderline'] + pivot_df['NGT - Borderline'] + pivot_df['CVC - Borderline']\n",
        "pivot_df['Incompletely Imaged'] = pivot_df['NGT - Incompletely Imaged']"
      ],
      "metadata": {
        "id": "hd3Z0ipT2Pz8"
      },
      "execution_count": 7,
      "outputs": []
    },
    {
      "cell_type": "code",
      "source": [
        "import matplotlib.pyplot as plt\n",
        "\n",
        "categories = pivot_df['Category']\n",
        "abnormal = pivot_df['Abnormal']\n",
        "normal = pivot_df['Normal']\n",
        "borderline = pivot_df['Borderline']\n",
        "incompletely_imaged = pivot_df['Incompletely Imaged']\n",
        "\n",
        "plt.figure(figsize=(10, 6))\n",
        "plt.bar(categories, abnormal, label='Abnormal', color='pink')\n",
        "plt.bar(categories, normal, label='Normal', bottom=abnormal, color='cadetblue')\n",
        "plt.bar(categories, borderline, label='Borderline', bottom=abnormal + normal, color='darksalmon')\n",
        "plt.bar(categories, incompletely_imaged, label='Incompletely Imaged', bottom=abnormal + normal + borderline, color='aqua')\n",
        "\n",
        "plt.xlabel('Catheter Type', color='black')\n",
        "plt.ylabel('Distribution of Observations', color='black')\n",
        "plt.title('Distribution of Catheters by Type', color='black')\n",
        "\n",
        "# Customize the tick labels' color to white\n",
        "plt.xticks(ticks=categories, labels=categories, color='black')\n",
        "plt.yticks(color='black')\n",
        "\n",
        "plt.legend()\n",
        "\n",
        "# Make the plot background transparent\n",
        "ax = plt.gca()\n",
        "ax.set_facecolor('none')\n",
        "\n",
        "\n",
        "\n",
        "plt.show()"
      ],
      "metadata": {
        "id": "fQejwxoZ3B5b",
        "outputId": "27cb2572-00d8-4dfb-e388-233b8746bb7a",
        "colab": {
          "base_uri": "https://localhost:8080/",
          "height": 564
        }
      },
      "execution_count": 12,
      "outputs": [
        {
          "output_type": "display_data",
          "data": {
            "text/plain": [
              "<Figure size 1000x600 with 1 Axes>"
            ],
            "image/png": "[encoded data removed]"
          },
          "metadata": {}
        }
      ]
    },
    {
      "cell_type": "code",
      "source": [
        "plt.figure(figsize=(8, 8))\n",
        "df_tmp = train.iloc[:, 1:-1].sum()\n",
        "\n",
        "\n",
        "\n",
        "sns.barplot(x=df_tmp.values, y=df_tmp.index)\n",
        "plt.xticks(fontsize=14)\n",
        "plt.yticks(fontsize=14)\n",
        "plt.xlabel(\"Number of images\", fontsize=15)\n",
        "plt.title(\"Distribution of labels\", fontsize=16);"
      ],
      "metadata": {
        "colab": {
          "base_uri": "https://localhost:8080/",
          "height": 731
        },
        "id": "HTSfPYdtsJ1Q",
        "outputId": "5057e708-8ece-4d90-ebe3-31bf776c69f8"
      },
      "execution_count": 5,
      "outputs": [
        {
          "output_type": "display_data",
          "data": {
            "text/plain": [
              "<Figure size 800x800 with 1 Axes>"
            ],
            "image/png": "[encoded data removed]"
          },
          "metadata": {}
        }
      ]
    },
    {
      "cell_type": "markdown",
      "source": [
        "### COLUMNS\n",
        "\n",
        "- **StudyInstanceUID** - unique ID for each image\n",
        "- **ETT - Abnormal** - endotracheal tube placement abnormal\n",
        "- **ETT - Borderline** - endotracheal tube placement borderline abnormal\n",
        "- **ETT - Normal** - endotracheal tube placement normal\n",
        "- **NGT - Abnormal** - nasogastric tube placement abnormal\n",
        "- **NGT - Borderline** - nasogastric tube placement borderline abnormal\n",
        "- **NGT - Incompletely Imaged** - nasogastric tube placement inconclusive due to imaging\n",
        "- **NGT - Normal** - nasogastric tube placement borderline normal\n",
        "- **CVC - Abnormal** - central venous catheter placement abnormal\n",
        "- **CVC - Borderline** - central venous catheter placement borderline abnormal\n",
        "- **CVC - Normal** - central venous catheter placement normal\n",
        "- **Swan Ganz Catheter Present**\n",
        "- **PatientID** - unique ID for each patient in the dataset"
      ],
      "metadata": {
        "id": "ysf_7PHpqwmc"
      }
    },
    {
      "cell_type": "code",
      "source": [
        "print(\"Number of unique patients: \", train[\"PatientID\"].unique().shape[0])"
      ],
      "metadata": {
        "colab": {
          "base_uri": "https://localhost:8080/"
        },
        "id": "VIglKZqnukpq",
        "outputId": "d8a62b86-d855-48a4-dec6-cf9f640e4a04"
      },
      "execution_count": 6,
      "outputs": [
        {
          "output_type": "stream",
          "name": "stdout",
          "text": [
            "Number of unique patients:  3255\n"
          ]
        }
      ]
    },
    {
      "cell_type": "code",
      "source": [
        "print(\"Number of unique images: \", train['StudyInstanceUID'].unique().shape[0])"
      ],
      "metadata": {
        "colab": {
          "base_uri": "https://localhost:8080/"
        },
        "id": "eCj46_o5abS_",
        "outputId": "25c790ed-95fb-4ac8-8191-3909a588f207"
      },
      "execution_count": 7,
      "outputs": [
        {
          "output_type": "stream",
          "name": "stdout",
          "text": [
            "Number of unique images:  30083\n"
          ]
        }
      ]
    },
    {
      "cell_type": "code",
      "source": [
        "train.info()"
      ],
      "metadata": {
        "colab": {
          "base_uri": "https://localhost:8080/"
        },
        "id": "3IdMYt4lupLv",
        "outputId": "2269f12c-b47d-4ba9-c575-4a8a9a61bcc5"
      },
      "execution_count": 8,
      "outputs": [
        {
          "output_type": "stream",
          "name": "stdout",
          "text": [
            "<class 'pandas.core.frame.DataFrame'>\n",
            "RangeIndex: 30083 entries, 0 to 30082\n",
            "Data columns (total 13 columns):\n",
            " #   Column                      Non-Null Count  Dtype \n",
            "---  ------                      --------------  ----- \n",
            " 0   StudyInstanceUID            30083 non-null  object\n",
            " 1   ETT - Abnormal              30083 non-null  int64 \n",
            " 2   ETT - Borderline            30083 non-null  int64 \n",
            " 3   ETT - Normal                30083 non-null  int64 \n",
            " 4   NGT - Abnormal              30083 non-null  int64 \n",
            " 5   NGT - Borderline            30083 non-null  int64 \n",
            " 6   NGT - Incompletely Imaged   30083 non-null  int64 \n",
            " 7   NGT - Normal                30083 non-null  int64 \n",
            " 8   CVC - Abnormal              30083 non-null  int64 \n",
            " 9   CVC - Borderline            30083 non-null  int64 \n",
            " 10  CVC - Normal                30083 non-null  int64 \n",
            " 11  Swan Ganz Catheter Present  30083 non-null  int64 \n",
            " 12  PatientID                   30083 non-null  object\n",
            "dtypes: int64(11), object(2)\n",
            "memory usage: 3.0+ MB\n"
          ]
        }
      ]
    },
    {
      "cell_type": "code",
      "source": [
        "train.isna().sum()"
      ],
      "metadata": {
        "id": "8_AM_DLDRTw6",
        "outputId": "22be792c-ab4b-4054-b9ee-007b4083105b",
        "colab": {
          "base_uri": "https://localhost:8080/"
        }
      },
      "execution_count": 9,
      "outputs": [
        {
          "output_type": "execute_result",
          "data": {
            "text/plain": [
              "StudyInstanceUID              0\n",
              "ETT - Abnormal                0\n",
              "ETT - Borderline              0\n",
              "ETT - Normal                  0\n",
              "NGT - Abnormal                0\n",
              "NGT - Borderline              0\n",
              "NGT - Incompletely Imaged     0\n",
              "NGT - Normal                  0\n",
              "CVC - Abnormal                0\n",
              "CVC - Borderline              0\n",
              "CVC - Normal                  0\n",
              "Swan Ganz Catheter Present    0\n",
              "PatientID                     0\n",
              "dtype: int64"
            ]
          },
          "metadata": {},
          "execution_count": 9
        }
      ]
    },
    {
      "cell_type": "code",
      "source": [
        "train.describe()"
      ],
      "metadata": {
        "id": "3aTPpDwWTteo",
        "outputId": "926b54ca-764c-4061-bc26-bc33997f228c",
        "colab": {
          "base_uri": "https://localhost:8080/",
          "height": 355
        }
      },
      "execution_count": 10,
      "outputs": [
        {
          "output_type": "execute_result",
          "data": {
            "text/plain": [
              "       ETT - Abnormal  ETT - Borderline  ETT - Normal  NGT - Abnormal  \\\n",
              "count    30083.000000      30083.000000  30083.000000    30083.000000   \n",
              "mean         0.002626          0.037829      0.240667        0.009274   \n",
              "std          0.051179          0.190785      0.427496        0.095857   \n",
              "min          0.000000          0.000000      0.000000        0.000000   \n",
              "25%          0.000000          0.000000      0.000000        0.000000   \n",
              "50%          0.000000          0.000000      0.000000        0.000000   \n",
              "75%          0.000000          0.000000      0.000000        0.000000   \n",
              "max          1.000000          1.000000      1.000000        1.000000   \n",
              "\n",
              "       NGT - Borderline  NGT - Incompletely Imaged  NGT - Normal  \\\n",
              "count      30083.000000               30083.000000  30083.000000   \n",
              "mean           0.017585                   0.091347      0.159459   \n",
              "std            0.131438                   0.288107      0.366110   \n",
              "min            0.000000                   0.000000      0.000000   \n",
              "25%            0.000000                   0.000000      0.000000   \n",
              "50%            0.000000                   0.000000      0.000000   \n",
              "75%            0.000000                   0.000000      0.000000   \n",
              "max            1.000000                   1.000000      1.000000   \n",
              "\n",
              "       CVC - Abnormal  CVC - Borderline  CVC - Normal  \\\n",
              "count    30083.000000      30083.000000  30083.000000   \n",
              "mean         0.106206          0.281222      0.708839   \n",
              "std          0.308106          0.449603      0.454305   \n",
              "min          0.000000          0.000000      0.000000   \n",
              "25%          0.000000          0.000000      0.000000   \n",
              "50%          0.000000          0.000000      1.000000   \n",
              "75%          0.000000          1.000000      1.000000   \n",
              "max          1.000000          1.000000      1.000000   \n",
              "\n",
              "       Swan Ganz Catheter Present  \n",
              "count                30083.000000  \n",
              "mean                     0.027590  \n",
              "std                      0.163799  \n",
              "min                      0.000000  \n",
              "25%                      0.000000  \n",
              "50%                      0.000000  \n",
              "75%                      0.000000  \n",
              "max                      1.000000  "
            ],
            "text/html": [
              "\n",
              "  <div id=\"df-71995f19-5194-449d-ad6f-76bfb22d4af4\" class=\"colab-df-container\">\n",
              "    <div>\n",
              "<style scoped>\n",
              "    .dataframe tbody tr th:only-of-type {\n",
              "        vertical-align: middle;\n",
              "    }\n",
              "\n",
              "    .dataframe tbody tr th {\n",
              "        vertical-align: top;\n",
              "    }\n",
              "\n",
              "    .dataframe thead th {\n",
              "        text-align: right;\n",
              "    }\n",
              "</style>\n",
              "<table border=\"1\" class=\"dataframe\">\n",
              "  <thead>\n",
              "    <tr style=\"text-align: right;\">\n",
              "      <th></th>\n",
              "      <th>ETT - Abnormal</th>\n",
              "      <th>ETT - Borderline</th>\n",
              "      <th>ETT - Normal</th>\n",
              "      <th>NGT - Abnormal</th>\n",
              "      <th>NGT - Borderline</th>\n",
              "      <th>NGT - Incompletely Imaged</th>\n",
              "      <th>NGT - Normal</th>\n",
              "      <th>CVC - Abnormal</th>\n",
              "      <th>CVC - Borderline</th>\n",
              "      <th>CVC - Normal</th>\n",
              "      <th>Swan Ganz Catheter Present</th>\n",
              "    </tr>\n",
              "  </thead>\n",
              "  <tbody>\n",
              "    <tr>\n",
              "      <th>count</th>\n",
              "      <td>30083.000000</td>\n",
              "      <td>30083.000000</td>\n",
              "      <td>30083.000000</td>\n",
              "      <td>30083.000000</td>\n",
              "      <td>30083.000000</td>\n",
              "      <td>30083.000000</td>\n",
              "      <td>30083.000000</td>\n",
              "      <td>30083.000000</td>\n",
              "      <td>30083.000000</td>\n",
              "      <td>30083.000000</td>\n",
              "      <td>30083.000000</td>\n",
              "    </tr>\n",
              "    <tr>\n",
              "      <th>mean</th>\n",
              "      <td>0.002626</td>\n",
              "      <td>0.037829</td>\n",
              "      <td>0.240667</td>\n",
              "      <td>0.009274</td>\n",
              "      <td>0.017585</td>\n",
              "      <td>0.091347</td>\n",
              "      <td>0.159459</td>\n",
              "      <td>0.106206</td>\n",
              "      <td>0.281222</td>\n",
              "      <td>0.708839</td>\n",
              "      <td>0.027590</td>\n",
              "    </tr>\n",
              "    <tr>\n",
              "      <th>std</th>\n",
              "      <td>0.051179</td>\n",
              "      <td>0.190785</td>\n",
              "      <td>0.427496</td>\n",
              "      <td>0.095857</td>\n",
              "      <td>0.131438</td>\n",
              "      <td>0.288107</td>\n",
              "      <td>0.366110</td>\n",
              "      <td>0.308106</td>\n",
              "      <td>0.449603</td>\n",
              "      <td>0.454305</td>\n",
              "      <td>0.163799</td>\n",
              "    </tr>\n",
              "    <tr>\n",
              "      <th>min</th>\n",
              "      <td>0.000000</td>\n",
              "      <td>0.000000</td>\n",
              "      <td>0.000000</td>\n",
              "      <td>0.000000</td>\n",
              "      <td>0.000000</td>\n",
              "      <td>0.000000</td>\n",
              "      <td>0.000000</td>\n",
              "      <td>0.000000</td>\n",
              "      <td>0.000000</td>\n",
              "      <td>0.000000</td>\n",
              "      <td>0.000000</td>\n",
              "    </tr>\n",
              "    <tr>\n",
              "      <th>25%</th>\n",
              "      <td>0.000000</td>\n",
              "      <td>0.000000</td>\n",
              "      <td>0.000000</td>\n",
              "      <td>0.000000</td>\n",
              "      <td>0.000000</td>\n",
              "      <td>0.000000</td>\n",
              "      <td>0.000000</td>\n",
              "      <td>0.000000</td>\n",
              "      <td>0.000000</td>\n",
              "      <td>0.000000</td>\n",
              "      <td>0.000000</td>\n",
              "    </tr>\n",
              "    <tr>\n",
              "      <th>50%</th>\n",
              "      <td>0.000000</td>\n",
              "      <td>0.000000</td>\n",
              "      <td>0.000000</td>\n",
              "      <td>0.000000</td>\n",
              "      <td>0.000000</td>\n",
              "      <td>0.000000</td>\n",
              "      <td>0.000000</td>\n",
              "      <td>0.000000</td>\n",
              "      <td>0.000000</td>\n",
              "      <td>1.000000</td>\n",
              "      <td>0.000000</td>\n",
              "    </tr>\n",
              "    <tr>\n",
              "      <th>75%</th>\n",
              "      <td>0.000000</td>\n",
              "      <td>0.000000</td>\n",
              "      <td>0.000000</td>\n",
              "      <td>0.000000</td>\n",
              "      <td>0.000000</td>\n",
              "      <td>0.000000</td>\n",
              "      <td>0.000000</td>\n",
              "      <td>0.000000</td>\n",
              "      <td>1.000000</td>\n",
              "      <td>1.000000</td>\n",
              "      <td>0.000000</td>\n",
              "    </tr>\n",
              "    <tr>\n",
              "      <th>max</th>\n",
              "      <td>1.000000</td>\n",
              "      <td>1.000000</td>\n",
              "      <td>1.000000</td>\n",
              "      <td>1.000000</td>\n",
              "      <td>1.000000</td>\n",
              "      <td>1.000000</td>\n",
              "      <td>1.000000</td>\n",
              "      <td>1.000000</td>\n",
              "      <td>1.000000</td>\n",
              "      <td>1.000000</td>\n",
              "      <td>1.000000</td>\n",
              "    </tr>\n",
              "  </tbody>\n",
              "</table>\n",
              "</div>\n",
              "    <div class=\"colab-df-buttons\">\n",
              "\n",
              "  <div class=\"colab-df-container\">\n",
              "    <button class=\"colab-df-convert\" onclick=\"convertToInteractive('df-71995f19-5194-449d-ad6f-76bfb22d4af4')\"\n",
              "            title=\"Convert this dataframe to an interactive table.\"\n",
              "            style=\"display:none;\">\n",
              "\n",
              "  <svg xmlns=\"http://www.w3.org/2000/svg\" height=\"24px\" viewBox=\"0 -960 960 960\">\n",
              "    <path d=\"M120-120v-720h720v720H120Zm60-500h600v-160H180v160Zm220 220h160v-160H400v160Zm0 220h160v-160H400v160ZM180-400h160v-160H180v160Zm440 0h160v-160H620v160ZM180-180h160v-160H180v160Zm440 0h160v-160H620v160Z\"/>\n",
              "  </svg>\n",
              "    </button>\n",
              "\n",
              "  <style>\n",
              "    .colab-df-container {\n",
              "      display:flex;\n",
              "      gap: 12px;\n",
              "    }\n",
              "\n",
              "    .colab-df-convert {\n",
              "      background-color: #E8F0FE;\n",
              "      border: none;\n",
              "      border-radius: 50%;\n",
              "      cursor: pointer;\n",
              "      display: none;\n",
              "      fill: #1967D2;\n",
              "      height: 32px;\n",
              "      padding: 0 0 0 0;\n",
              "      width: 32px;\n",
              "    }\n",
              "\n",
              "    .colab-df-convert:hover {\n",
              "      background-color: #E2EBFA;\n",
              "      box-shadow: 0px 1px 2px rgba(60, 64, 67, 0.3), 0px 1px 3px 1px rgba(60, 64, 67, 0.15);\n",
              "      fill: #174EA6;\n",
              "    }\n",
              "\n",
              "    .colab-df-buttons div {\n",
              "      margin-bottom: 4px;\n",
              "    }\n",
              "\n",
              "    [theme=dark] .colab-df-convert {\n",
              "      background-color: #3B4455;\n",
              "      fill: #D2E3FC;\n",
              "    }\n",
              "\n",
              "    [theme=dark] .colab-df-convert:hover {\n",
              "      background-color: #434B5C;\n",
              "      box-shadow: 0px 1px 3px 1px rgba(0, 0, 0, 0.15);\n",
              "      filter: drop-shadow(0px 1px 2px rgba(0, 0, 0, 0.3));\n",
              "      fill: #FFFFFF;\n",
              "    }\n",
              "  </style>\n",
              "\n",
              "    <script>\n",
              "      const buttonEl =\n",
              "        document.querySelector('#df-71995f19-5194-449d-ad6f-76bfb22d4af4 button.colab-df-convert');\n",
              "      buttonEl.style.display =\n",
              "        google.colab.kernel.accessAllowed ? 'block' : 'none';\n",
              "\n",
              "      async function convertToInteractive(key) {\n",
              "        const element = document.querySelector('#df-71995f19-5194-449d-ad6f-76bfb22d4af4');\n",
              "        const dataTable =\n",
              "          await google.colab.kernel.invokeFunction('convertToInteractive',\n",
              "                                                    [key], {});\n",
              "        if (!dataTable) return;\n",
              "\n",
              "        const docLinkHtml = 'Like what you see? Visit the ' +\n",
              "          '<a target=\"_blank\" href=https://colab.research.google.com/notebooks/data_table.ipynb>data table notebook</a>'\n",
              "          + ' to learn more about interactive tables.';\n",
              "        element.innerHTML = '';\n",
              "        dataTable['output_type'] = 'display_data';\n",
              "        await google.colab.output.renderOutput(dataTable, element);\n",
              "        const docLink = document.createElement('div');\n",
              "        docLink.innerHTML = docLinkHtml;\n",
              "        element.appendChild(docLink);\n",
              "      }\n",
              "    </script>\n",
              "  </div>\n",
              "\n",
              "\n",
              "<div id=\"df-b2602e8f-0b29-4c89-889d-73f9250c6fe2\">\n",
              "  <button class=\"colab-df-quickchart\" onclick=\"quickchart('df-b2602e8f-0b29-4c89-889d-73f9250c6fe2')\"\n",
              "            title=\"Suggest charts.\"\n",
              "            style=\"display:none;\">\n",
              "\n",
              "<svg xmlns=\"http://www.w3.org/2000/svg\" height=\"24px\"viewBox=\"0 0 24 24\"\n",
              "     width=\"24px\">\n",
              "    <g>\n",
              "        <path d=\"M19 3H5c-1.1 0-2 .9-2 2v14c0 1.1.9 2 2 2h14c1.1 0 2-.9 2-2V5c0-1.1-.9-2-2-2zM9 17H7v-7h2v7zm4 0h-2V7h2v10zm4 0h-2v-4h2v4z\"/>\n",
              "    </g>\n",
              "</svg>\n",
              "  </button>\n",
              "\n",
              "<style>\n",
              "  .colab-df-quickchart {\n",
              "      --bg-color: #E8F0FE;\n",
              "      --fill-color: #1967D2;\n",
              "      --hover-bg-color: #E2EBFA;\n",
              "      --hover-fill-color: #174EA6;\n",
              "      --disabled-fill-color: #AAA;\n",
              "      --disabled-bg-color: #DDD;\n",
              "  }\n",
              "\n",
              "  [theme=dark] .colab-df-quickchart {\n",
              "      --bg-color: #3B4455;\n",
              "      --fill-color: #D2E3FC;\n",
              "      --hover-bg-color: #434B5C;\n",
              "      --hover-fill-color: #FFFFFF;\n",
              "      --disabled-bg-color: #3B4455;\n",
              "      --disabled-fill-color: #666;\n",
              "  }\n",
              "\n",
              "  .colab-df-quickchart {\n",
              "    background-color: var(--bg-color);\n",
              "    border: none;\n",
              "    border-radius: 50%;\n",
              "    cursor: pointer;\n",
              "    display: none;\n",
              "    fill: var(--fill-color);\n",
              "    height: 32px;\n",
              "    padding: 0;\n",
              "    width: 32px;\n",
              "  }\n",
              "\n",
              "  .colab-df-quickchart:hover {\n",
              "    background-color: var(--hover-bg-color);\n",
              "    box-shadow: 0 1px 2px rgba(60, 64, 67, 0.3), 0 1px 3px 1px rgba(60, 64, 67, 0.15);\n",
              "    fill: var(--button-hover-fill-color);\n",
              "  }\n",
              "\n",
              "  .colab-df-quickchart-complete:disabled,\n",
              "  .colab-df-quickchart-complete:disabled:hover {\n",
              "    background-color: var(--disabled-bg-color);\n",
              "    fill: var(--disabled-fill-color);\n",
              "    box-shadow: none;\n",
              "  }\n",
              "\n",
              "  .colab-df-spinner {\n",
              "    border: 2px solid var(--fill-color);\n",
              "    border-color: transparent;\n",
              "    border-bottom-color: var(--fill-color);\n",
              "    animation:\n",
              "      spin 1s steps(1) infinite;\n",
              "  }\n",
              "\n",
              "  @keyframes spin {\n",
              "    0% {\n",
              "      border-color: transparent;\n",
              "      border-bottom-color: var(--fill-color);\n",
              "      border-left-color: var(--fill-color);\n",
              "    }\n",
              "    20% {\n",
              "      border-color: transparent;\n",
              "      border-left-color: var(--fill-color);\n",
              "      border-top-color: var(--fill-color);\n",
              "    }\n",
              "    30% {\n",
              "      border-color: transparent;\n",
              "      border-left-color: var(--fill-color);\n",
              "      border-top-color: var(--fill-color);\n",
              "      border-right-color: var(--fill-color);\n",
              "    }\n",
              "    40% {\n",
              "      border-color: transparent;\n",
              "      border-right-color: var(--fill-color);\n",
              "      border-top-color: var(--fill-color);\n",
              "    }\n",
              "    60% {\n",
              "      border-color: transparent;\n",
              "      border-right-color: var(--fill-color);\n",
              "    }\n",
              "    80% {\n",
              "      border-color: transparent;\n",
              "      border-right-color: var(--fill-color);\n",
              "      border-bottom-color: var(--fill-color);\n",
              "    }\n",
              "    90% {\n",
              "      border-color: transparent;\n",
              "      border-bottom-color: var(--fill-color);\n",
              "    }\n",
              "  }\n",
              "</style>\n",
              "\n",
              "  <script>\n",
              "    async function quickchart(key) {\n",
              "      const quickchartButtonEl =\n",
              "        document.querySelector('#' + key + ' button');\n",
              "      quickchartButtonEl.disabled = true;  // To prevent multiple clicks.\n",
              "      quickchartButtonEl.classList.add('colab-df-spinner');\n",
              "      try {\n",
              "        const charts = await google.colab.kernel.invokeFunction(\n",
              "            'suggestCharts', [key], {});\n",
              "      } catch (error) {\n",
              "        console.error('Error during call to suggestCharts:', error);\n",
              "      }\n",
              "      quickchartButtonEl.classList.remove('colab-df-spinner');\n",
              "      quickchartButtonEl.classList.add('colab-df-quickchart-complete');\n",
              "    }\n",
              "    (() => {\n",
              "      let quickchartButtonEl =\n",
              "        document.querySelector('#df-b2602e8f-0b29-4c89-889d-73f9250c6fe2 button');\n",
              "      quickchartButtonEl.style.display =\n",
              "        google.colab.kernel.accessAllowed ? 'block' : 'none';\n",
              "    })();\n",
              "  </script>\n",
              "</div>\n",
              "    </div>\n",
              "  </div>\n"
            ]
          },
          "metadata": {},
          "execution_count": 10
        }
      ]
    },
    {
      "cell_type": "code",
      "source": [
        "plt.figure(figsize=(16, 6))\n",
        "df_tmp = train[\"PatientID\"].value_counts()\n",
        "sns.histplot(df_tmp.values, palette='pink', bins=35)  # Adjust the number of bins as needed\n",
        "plt.xticks(fontsize=12, rotation=90)\n",
        "plt.yticks(fontsize=14)\n",
        "plt.xlabel(\"Number of observations\", fontsize=15)\n",
        "plt.ylabel(\"Number of patients\", fontsize=15)\n",
        "plt.title(\"Distribution of observations by PatientID\", fontsize=16)"
      ],
      "metadata": {
        "colab": {
          "base_uri": "https://localhost:8080/",
          "height": 563
        },
        "id": "C2B9AYHTuv6M",
        "outputId": "9df398e1-414e-4dcb-d2d5-b9ebc8dbdb87"
      },
      "execution_count": 17,
      "outputs": [
        {
          "output_type": "stream",
          "name": "stderr",
          "text": [
            "<ipython-input-17-3502deb40889>:3: UserWarning: Ignoring `palette` because no `hue` variable has been assigned.\n",
            "  sns.histplot(df_tmp.values, palette='pink', bins=35)  # Adjust the number of bins as needed\n"
          ]
        },
        {
          "output_type": "execute_result",
          "data": {
            "text/plain": [
              "Text(0.5, 1.0, 'Distribution of observations by PatientID')"
            ]
          },
          "metadata": {},
          "execution_count": 17
        },
        {
          "output_type": "display_data",
          "data": {
            "text/plain": [
              "<Figure size 1600x600 with 1 Axes>"
            ],
            "image/png": "[encoded data removed]"
          },
          "metadata": {}
        }
      ]
    },
    {
      "cell_type": "code",
      "source": [
        "# Most common catheter combinations\n",
        "catheter_columns = ['ETT - Abnormal', 'ETT - Borderline', 'ETT - Normal',\n",
        "                    'NGT - Abnormal', 'NGT - Borderline', 'NGT - Incompletely Imaged',\n",
        "                    'NGT - Normal', 'CVC - Abnormal', 'CVC - Borderline',\n",
        "                    'CVC - Normal', 'Swan Ganz Catheter Present']\n",
        "\n",
        "# Count the combinations\n",
        "catheter_combinations = train[catheter_columns].apply(lambda row: \"-\".join(row.astype(str).dropna()), axis=1)\n",
        "common_combinations = catheter_combinations.value_counts().head(10)\n",
        "\n",
        "plt.figure(figsize=(10, 6))\n",
        "sns.barplot(x=common_combinations.values, y=common_combinations.index)\n",
        "plt.xlabel(\"Count\")\n",
        "plt.ylabel(\"Catheter Combination\")\n",
        "plt.title(\"Most Common Catheter Combinations\")\n",
        "plt.tight_layout()\n",
        "plt.show()\n"
      ],
      "metadata": {
        "id": "d8DjrCt9UXLg",
        "outputId": "f55e6f9d-375f-4187-e87b-18e2d9ccf348",
        "colab": {
          "base_uri": "https://localhost:8080/",
          "height": 607
        }
      },
      "execution_count": 12,
      "outputs": [
        {
          "output_type": "display_data",
          "data": {
            "text/plain": [
              "<Figure size 1000x600 with 1 Axes>"
            ],
            "image/png": "[encoded data removed]"
          },
          "metadata": {}
        }
      ]
    },
    {
      "cell_type": "code",
      "source": [
        "# Calculate correlation matrix for catheter columns\n",
        "catheter_corr = train[catheter_columns].corr()\n",
        "\n",
        "# Create a heatmap to visualize correlations\n",
        "plt.figure(figsize=(10, 8))\n",
        "sns.heatmap(catheter_corr, annot=True, cmap=\"coolwarm\", fmt=\".2f\")\n",
        "plt.title(\"Correlation Between Catheter Types\")\n",
        "plt.show()"
      ],
      "metadata": {
        "id": "BdRxfcBKU3OK",
        "outputId": "af798bc9-3567-4c42-a0d7-a514dc831a9a",
        "colab": {
          "base_uri": "https://localhost:8080/",
          "height": 884
        }
      },
      "execution_count": 13,
      "outputs": [
        {
          "output_type": "display_data",
          "data": {
            "text/plain": [
              "<Figure size 1000x800 with 2 Axes>"
            ],
            "image/png": "[encoded data removed]"
          },
          "metadata": {}
        }
      ]
    },
    {
      "cell_type": "markdown",
      "source": [
        "### Annotations Dataset"
      ],
      "metadata": {
        "id": "PGg_3CqkwS_V"
      }
    },
    {
      "cell_type": "code",
      "source": [
        "annot = pd.read_csv('Data/train_annotations.csv')\n",
        "annot.head()\n"
      ],
      "metadata": {
        "colab": {
          "base_uri": "https://localhost:8080/",
          "height": 206
        },
        "id": "lg9A9_ACwXPU",
        "outputId": "81ab169d-1f47-44b8-e33e-ed88b8e59004"
      },
      "execution_count": 14,
      "outputs": [
        {
          "output_type": "execute_result",
          "data": {
            "text/plain": [
              "                                    StudyInstanceUID             label  \\\n",
              "0  1.2.826.0.1.3680043.8.498.12616281126973421762...      CVC - Normal   \n",
              "1  1.2.826.0.1.3680043.8.498.12616281126973421762...      CVC - Normal   \n",
              "2  1.2.826.0.1.3680043.8.498.72921907356394389969...  CVC - Borderline   \n",
              "3  1.2.826.0.1.3680043.8.498.11697104485452001927...      CVC - Normal   \n",
              "4  1.2.826.0.1.3680043.8.498.87704688663091069148...      NGT - Normal   \n",
              "\n",
              "                                                data  \n",
              "0  [[1487, 1279], [1477, 1168], [1472, 1052], [14...  \n",
              "1  [[1328, 7], [1347, 101], [1383, 193], [1400, 2...  \n",
              "2  [[801, 1207], [812, 1112], [823, 1023], [842, ...  \n",
              "3  [[1366, 961], [1411, 861], [1453, 751], [1508,...  \n",
              "4  [[1862, 14], [1845, 293], [1801, 869], [1716, ...  "
            ],
            "text/html": [
              "\n",
              "  <div id=\"df-cae13405-5467-46c1-ab4b-2e68dabe1aef\" class=\"colab-df-container\">\n",
              "    <div>\n",
              "<style scoped>\n",
              "    .dataframe tbody tr th:only-of-type {\n",
              "        vertical-align: middle;\n",
              "    }\n",
              "\n",
              "    .dataframe tbody tr th {\n",
              "        vertical-align: top;\n",
              "    }\n",
              "\n",
              "    .dataframe thead th {\n",
              "        text-align: right;\n",
              "    }\n",
              "</style>\n",
              "<table border=\"1\" class=\"dataframe\">\n",
              "  <thead>\n",
              "    <tr style=\"text-align: right;\">\n",
              "      <th></th>\n",
              "      <th>StudyInstanceUID</th>\n",
              "      <th>label</th>\n",
              "      <th>data</th>\n",
              "    </tr>\n",
              "  </thead>\n",
              "  <tbody>\n",
              "    <tr>\n",
              "      <th>0</th>\n",
              "      <td>1.2.826.0.1.3680043.8.498.12616281126973421762...</td>\n",
              "      <td>CVC - Normal</td>\n",
              "      <td>[[1487, 1279], [1477, 1168], [1472, 1052], [14...</td>\n",
              "    </tr>\n",
              "    <tr>\n",
              "      <th>1</th>\n",
              "      <td>1.2.826.0.1.3680043.8.498.12616281126973421762...</td>\n",
              "      <td>CVC - Normal</td>\n",
              "      <td>[[1328, 7], [1347, 101], [1383, 193], [1400, 2...</td>\n",
              "    </tr>\n",
              "    <tr>\n",
              "      <th>2</th>\n",
              "      <td>1.2.826.0.1.3680043.8.498.72921907356394389969...</td>\n",
              "      <td>CVC - Borderline</td>\n",
              "      <td>[[801, 1207], [812, 1112], [823, 1023], [842, ...</td>\n",
              "    </tr>\n",
              "    <tr>\n",
              "      <th>3</th>\n",
              "      <td>1.2.826.0.1.3680043.8.498.11697104485452001927...</td>\n",
              "      <td>CVC - Normal</td>\n",
              "      <td>[[1366, 961], [1411, 861], [1453, 751], [1508,...</td>\n",
              "    </tr>\n",
              "    <tr>\n",
              "      <th>4</th>\n",
              "      <td>1.2.826.0.1.3680043.8.498.87704688663091069148...</td>\n",
              "      <td>NGT - Normal</td>\n",
              "      <td>[[1862, 14], [1845, 293], [1801, 869], [1716, ...</td>\n",
              "    </tr>\n",
              "  </tbody>\n",
              "</table>\n",
              "</div>\n",
              "    <div class=\"colab-df-buttons\">\n",
              "\n",
              "  <div class=\"colab-df-container\">\n",
              "    <button class=\"colab-df-convert\" onclick=\"convertToInteractive('df-cae13405-5467-46c1-ab4b-2e68dabe1aef')\"\n",
              "            title=\"Convert this dataframe to an interactive table.\"\n",
              "            style=\"display:none;\">\n",
              "\n",
              "  <svg xmlns=\"http://www.w3.org/2000/svg\" height=\"24px\" viewBox=\"0 -960 960 960\">\n",
              "    <path d=\"M120-120v-720h720v720H120Zm60-500h600v-160H180v160Zm220 220h160v-160H400v160Zm0 220h160v-160H400v160ZM180-400h160v-160H180v160Zm440 0h160v-160H620v160ZM180-180h160v-160H180v160Zm440 0h160v-160H620v160Z\"/>\n",
              "  </svg>\n",
              "    </button>\n",
              "\n",
              "  <style>\n",
              "    .colab-df-container {\n",
              "      display:flex;\n",
              "      gap: 12px;\n",
              "    }\n",
              "\n",
              "    .colab-df-convert {\n",
              "      background-color: #E8F0FE;\n",
              "      border: none;\n",
              "      border-radius: 50%;\n",
              "      cursor: pointer;\n",
              "      display: none;\n",
              "      fill: #1967D2;\n",
              "      height: 32px;\n",
              "      padding: 0 0 0 0;\n",
              "      width: 32px;\n",
              "    }\n",
              "\n",
              "    .colab-df-convert:hover {\n",
              "      background-color: #E2EBFA;\n",
              "      box-shadow: 0px 1px 2px rgba(60, 64, 67, 0.3), 0px 1px 3px 1px rgba(60, 64, 67, 0.15);\n",
              "      fill: #174EA6;\n",
              "    }\n",
              "\n",
              "    .colab-df-buttons div {\n",
              "      margin-bottom: 4px;\n",
              "    }\n",
              "\n",
              "    [theme=dark] .colab-df-convert {\n",
              "      background-color: #3B4455;\n",
              "      fill: #D2E3FC;\n",
              "    }\n",
              "\n",
              "    [theme=dark] .colab-df-convert:hover {\n",
              "      background-color: #434B5C;\n",
              "      box-shadow: 0px 1px 3px 1px rgba(0, 0, 0, 0.15);\n",
              "      filter: drop-shadow(0px 1px 2px rgba(0, 0, 0, 0.3));\n",
              "      fill: #FFFFFF;\n",
              "    }\n",
              "  </style>\n",
              "\n",
              "    <script>\n",
              "      const buttonEl =\n",
              "        document.querySelector('#df-cae13405-5467-46c1-ab4b-2e68dabe1aef button.colab-df-convert');\n",
              "      buttonEl.style.display =\n",
              "        google.colab.kernel.accessAllowed ? 'block' : 'none';\n",
              "\n",
              "      async function convertToInteractive(key) {\n",
              "        const element = document.querySelector('#df-cae13405-5467-46c1-ab4b-2e68dabe1aef');\n",
              "        const dataTable =\n",
              "          await google.colab.kernel.invokeFunction('convertToInteractive',\n",
              "                                                    [key], {});\n",
              "        if (!dataTable) return;\n",
              "\n",
              "        const docLinkHtml = 'Like what you see? Visit the ' +\n",
              "          '<a target=\"_blank\" href=https://colab.research.google.com/notebooks/data_table.ipynb>data table notebook</a>'\n",
              "          + ' to learn more about interactive tables.';\n",
              "        element.innerHTML = '';\n",
              "        dataTable['output_type'] = 'display_data';\n",
              "        await google.colab.output.renderOutput(dataTable, element);\n",
              "        const docLink = document.createElement('div');\n",
              "        docLink.innerHTML = docLinkHtml;\n",
              "        element.appendChild(docLink);\n",
              "      }\n",
              "    </script>\n",
              "  </div>\n",
              "\n",
              "\n",
              "<div id=\"df-8f2da264-c497-41bd-91c5-edca92695e32\">\n",
              "  <button class=\"colab-df-quickchart\" onclick=\"quickchart('df-8f2da264-c497-41bd-91c5-edca92695e32')\"\n",
              "            title=\"Suggest charts.\"\n",
              "            style=\"display:none;\">\n",
              "\n",
              "<svg xmlns=\"http://www.w3.org/2000/svg\" height=\"24px\"viewBox=\"0 0 24 24\"\n",
              "     width=\"24px\">\n",
              "    <g>\n",
              "        <path d=\"M19 3H5c-1.1 0-2 .9-2 2v14c0 1.1.9 2 2 2h14c1.1 0 2-.9 2-2V5c0-1.1-.9-2-2-2zM9 17H7v-7h2v7zm4 0h-2V7h2v10zm4 0h-2v-4h2v4z\"/>\n",
              "    </g>\n",
              "</svg>\n",
              "  </button>\n",
              "\n",
              "<style>\n",
              "  .colab-df-quickchart {\n",
              "      --bg-color: #E8F0FE;\n",
              "      --fill-color: #1967D2;\n",
              "      --hover-bg-color: #E2EBFA;\n",
              "      --hover-fill-color: #174EA6;\n",
              "      --disabled-fill-color: #AAA;\n",
              "      --disabled-bg-color: #DDD;\n",
              "  }\n",
              "\n",
              "  [theme=dark] .colab-df-quickchart {\n",
              "      --bg-color: #3B4455;\n",
              "      --fill-color: #D2E3FC;\n",
              "      --hover-bg-color: #434B5C;\n",
              "      --hover-fill-color: #FFFFFF;\n",
              "      --disabled-bg-color: #3B4455;\n",
              "      --disabled-fill-color: #666;\n",
              "  }\n",
              "\n",
              "  .colab-df-quickchart {\n",
              "    background-color: var(--bg-color);\n",
              "    border: none;\n",
              "    border-radius: 50%;\n",
              "    cursor: pointer;\n",
              "    display: none;\n",
              "    fill: var(--fill-color);\n",
              "    height: 32px;\n",
              "    padding: 0;\n",
              "    width: 32px;\n",
              "  }\n",
              "\n",
              "  .colab-df-quickchart:hover {\n",
              "    background-color: var(--hover-bg-color);\n",
              "    box-shadow: 0 1px 2px rgba(60, 64, 67, 0.3), 0 1px 3px 1px rgba(60, 64, 67, 0.15);\n",
              "    fill: var(--button-hover-fill-color);\n",
              "  }\n",
              "\n",
              "  .colab-df-quickchart-complete:disabled,\n",
              "  .colab-df-quickchart-complete:disabled:hover {\n",
              "    background-color: var(--disabled-bg-color);\n",
              "    fill: var(--disabled-fill-color);\n",
              "    box-shadow: none;\n",
              "  }\n",
              "\n",
              "  .colab-df-spinner {\n",
              "    border: 2px solid var(--fill-color);\n",
              "    border-color: transparent;\n",
              "    border-bottom-color: var(--fill-color);\n",
              "    animation:\n",
              "      spin 1s steps(1) infinite;\n",
              "  }\n",
              "\n",
              "  @keyframes spin {\n",
              "    0% {\n",
              "      border-color: transparent;\n",
              "      border-bottom-color: var(--fill-color);\n",
              "      border-left-color: var(--fill-color);\n",
              "    }\n",
              "    20% {\n",
              "      border-color: transparent;\n",
              "      border-left-color: var(--fill-color);\n",
              "      border-top-color: var(--fill-color);\n",
              "    }\n",
              "    30% {\n",
              "      border-color: transparent;\n",
              "      border-left-color: var(--fill-color);\n",
              "      border-top-color: var(--fill-color);\n",
              "      border-right-color: var(--fill-color);\n",
              "    }\n",
              "    40% {\n",
              "      border-color: transparent;\n",
              "      border-right-color: var(--fill-color);\n",
              "      border-top-color: var(--fill-color);\n",
              "    }\n",
              "    60% {\n",
              "      border-color: transparent;\n",
              "      border-right-color: var(--fill-color);\n",
              "    }\n",
              "    80% {\n",
              "      border-color: transparent;\n",
              "      border-right-color: var(--fill-color);\n",
              "      border-bottom-color: var(--fill-color);\n",
              "    }\n",
              "    90% {\n",
              "      border-color: transparent;\n",
              "      border-bottom-color: var(--fill-color);\n",
              "    }\n",
              "  }\n",
              "</style>\n",
              "\n",
              "  <script>\n",
              "    async function quickchart(key) {\n",
              "      const quickchartButtonEl =\n",
              "        document.querySelector('#' + key + ' button');\n",
              "      quickchartButtonEl.disabled = true;  // To prevent multiple clicks.\n",
              "      quickchartButtonEl.classList.add('colab-df-spinner');\n",
              "      try {\n",
              "        const charts = await google.colab.kernel.invokeFunction(\n",
              "            'suggestCharts', [key], {});\n",
              "      } catch (error) {\n",
              "        console.error('Error during call to suggestCharts:', error);\n",
              "      }\n",
              "      quickchartButtonEl.classList.remove('colab-df-spinner');\n",
              "      quickchartButtonEl.classList.add('colab-df-quickchart-complete');\n",
              "    }\n",
              "    (() => {\n",
              "      let quickchartButtonEl =\n",
              "        document.querySelector('#df-8f2da264-c497-41bd-91c5-edca92695e32 button');\n",
              "      quickchartButtonEl.style.display =\n",
              "        google.colab.kernel.accessAllowed ? 'block' : 'none';\n",
              "    })();\n",
              "  </script>\n",
              "</div>\n",
              "    </div>\n",
              "  </div>\n"
            ]
          },
          "metadata": {},
          "execution_count": 14
        }
      ]
    },
    {
      "cell_type": "code",
      "source": [
        "annot.info()"
      ],
      "metadata": {
        "colab": {
          "base_uri": "https://localhost:8080/"
        },
        "id": "L2nA-2vKOpFh",
        "outputId": "ca50c90b-6e5c-4877-ba71-f78aa18100a7"
      },
      "execution_count": 15,
      "outputs": [
        {
          "output_type": "stream",
          "name": "stdout",
          "text": [
            "<class 'pandas.core.frame.DataFrame'>\n",
            "RangeIndex: 17999 entries, 0 to 17998\n",
            "Data columns (total 3 columns):\n",
            " #   Column            Non-Null Count  Dtype \n",
            "---  ------            --------------  ----- \n",
            " 0   StudyInstanceUID  17999 non-null  object\n",
            " 1   label             17999 non-null  object\n",
            " 2   data              17999 non-null  object\n",
            "dtypes: object(3)\n",
            "memory usage: 422.0+ KB\n"
          ]
        }
      ]
    },
    {
      "cell_type": "code",
      "source": [
        "print(\"Number of unique images: \", annot['StudyInstanceUID'].unique().shape[0])\n",
        "print(\"9095 images have annotations \")"
      ],
      "metadata": {
        "id": "Lxvg8cd8SWUA",
        "outputId": "b318b2f2-fbbc-4194-d443-875049d9c5c6",
        "colab": {
          "base_uri": "https://localhost:8080/"
        }
      },
      "execution_count": 16,
      "outputs": [
        {
          "output_type": "stream",
          "name": "stdout",
          "text": [
            "Number of unique images:  9095\n",
            "9095 images have annotations \n"
          ]
        }
      ]
    },
    {
      "cell_type": "code",
      "source": [
        "# Combine the train and annotations dataset\n",
        "\n",
        "trainWannot = pd.merge(train, annot, on=\"StudyInstanceUID\")\n",
        "\n",
        "\n",
        "trainWannot.to_csv('Data/trainWithAnnotations.csv')\n",
        "print(trainWannot.shape)\n",
        "\n",
        "print(\"Number of unique images: \", trainWannot['StudyInstanceUID'].unique().shape[0])\n",
        "print(\"Number of unique patients: \", trainWannot['PatientID'].unique().shape[0])\n",
        "print(\"9095 images have annotations \")\n",
        "\n",
        "trainWannot.isna().sum()"
      ],
      "metadata": {
        "colab": {
          "base_uri": "https://localhost:8080/"
        },
        "id": "QqVOtSCYOsSV",
        "outputId": "4172b65d-6091-4c88-8151-18275b09ffab"
      },
      "execution_count": 17,
      "outputs": [
        {
          "output_type": "stream",
          "name": "stdout",
          "text": [
            "(17999, 15)\n",
            "Number of unique images:  9095\n",
            "Number of unique patients:  3255\n",
            "9095 images have annotations \n"
          ]
        },
        {
          "output_type": "execute_result",
          "data": {
            "text/plain": [
              "StudyInstanceUID              0\n",
              "ETT - Abnormal                0\n",
              "ETT - Borderline              0\n",
              "ETT - Normal                  0\n",
              "NGT - Abnormal                0\n",
              "NGT - Borderline              0\n",
              "NGT - Incompletely Imaged     0\n",
              "NGT - Normal                  0\n",
              "CVC - Abnormal                0\n",
              "CVC - Borderline              0\n",
              "CVC - Normal                  0\n",
              "Swan Ganz Catheter Present    0\n",
              "PatientID                     0\n",
              "label                         0\n",
              "data                          0\n",
              "dtype: int64"
            ]
          },
          "metadata": {},
          "execution_count": 17
        }
      ]
    },
    {
      "cell_type": "code",
      "source": [
        "patients = trainWannot['PatientID'].value_counts()\n",
        "patients = pd.DataFrame(patients)\n",
        "patients = patients.rename(columns={'PatientID': 'Image Count'})\n",
        "\n",
        "patients"
      ],
      "metadata": {
        "colab": {
          "base_uri": "https://localhost:8080/",
          "height": 424
        },
        "id": "_vbImsu9RSxk",
        "outputId": "fddf8663-5ccb-4f6a-e5d8-703c00f6a5b7"
      },
      "execution_count": 18,
      "outputs": [
        {
          "output_type": "execute_result",
          "data": {
            "text/plain": [
              "           Image Count\n",
              "05029c63a          354\n",
              "55073fece          172\n",
              "b36819098          137\n",
              "c20ec34df          129\n",
              "fd3ab6f0e          123\n",
              "...                ...\n",
              "f06bd0653            1\n",
              "14d0895c2            1\n",
              "5005ac431            1\n",
              "97fdd6be7            1\n",
              "d31702943            1\n",
              "\n",
              "[3255 rows x 1 columns]"
            ],
            "text/html": [
              "\n",
              "  <div id=\"df-7908125e-b11f-41a9-818b-d9eefee0aa15\" class=\"colab-df-container\">\n",
              "    <div>\n",
              "<style scoped>\n",
              "    .dataframe tbody tr th:only-of-type {\n",
              "        vertical-align: middle;\n",
              "    }\n",
              "\n",
              "    .dataframe tbody tr th {\n",
              "        vertical-align: top;\n",
              "    }\n",
              "\n",
              "    .dataframe thead th {\n",
              "        text-align: right;\n",
              "    }\n",
              "</style>\n",
              "<table border=\"1\" class=\"dataframe\">\n",
              "  <thead>\n",
              "    <tr style=\"text-align: right;\">\n",
              "      <th></th>\n",
              "      <th>Image Count</th>\n",
              "    </tr>\n",
              "  </thead>\n",
              "  <tbody>\n",
              "    <tr>\n",
              "      <th>05029c63a</th>\n",
              "      <td>354</td>\n",
              "    </tr>\n",
              "    <tr>\n",
              "      <th>55073fece</th>\n",
              "      <td>172</td>\n",
              "    </tr>\n",
              "    <tr>\n",
              "      <th>b36819098</th>\n",
              "      <td>137</td>\n",
              "    </tr>\n",
              "    <tr>\n",
              "      <th>c20ec34df</th>\n",
              "      <td>129</td>\n",
              "    </tr>\n",
              "    <tr>\n",
              "      <th>fd3ab6f0e</th>\n",
              "      <td>123</td>\n",
              "    </tr>\n",
              "    <tr>\n",
              "      <th>...</th>\n",
              "      <td>...</td>\n",
              "    </tr>\n",
              "    <tr>\n",
              "      <th>f06bd0653</th>\n",
              "      <td>1</td>\n",
              "    </tr>\n",
              "    <tr>\n",
              "      <th>14d0895c2</th>\n",
              "      <td>1</td>\n",
              "    </tr>\n",
              "    <tr>\n",
              "      <th>5005ac431</th>\n",
              "      <td>1</td>\n",
              "    </tr>\n",
              "    <tr>\n",
              "      <th>97fdd6be7</th>\n",
              "      <td>1</td>\n",
              "    </tr>\n",
              "    <tr>\n",
              "      <th>d31702943</th>\n",
              "      <td>1</td>\n",
              "    </tr>\n",
              "  </tbody>\n",
              "</table>\n",
              "<p>3255 rows × 1 columns</p>\n",
              "</div>\n",
              "    <div class=\"colab-df-buttons\">\n",
              "\n",
              "  <div class=\"colab-df-container\">\n",
              "    <button class=\"colab-df-convert\" onclick=\"convertToInteractive('df-7908125e-b11f-41a9-818b-d9eefee0aa15')\"\n",
              "            title=\"Convert this dataframe to an interactive table.\"\n",
              "            style=\"display:none;\">\n",
              "\n",
              "  <svg xmlns=\"http://www.w3.org/2000/svg\" height=\"24px\" viewBox=\"0 -960 960 960\">\n",
              "    <path d=\"M120-120v-720h720v720H120Zm60-500h600v-160H180v160Zm220 220h160v-160H400v160Zm0 220h160v-160H400v160ZM180-400h160v-160H180v160Zm440 0h160v-160H620v160ZM180-180h160v-160H180v160Zm440 0h160v-160H620v160Z\"/>\n",
              "  </svg>\n",
              "    </button>\n",
              "\n",
              "  <style>\n",
              "    .colab-df-container {\n",
              "      display:flex;\n",
              "      gap: 12px;\n",
              "    }\n",
              "\n",
              "    .colab-df-convert {\n",
              "      background-color: #E8F0FE;\n",
              "      border: none;\n",
              "      border-radius: 50%;\n",
              "      cursor: pointer;\n",
              "      display: none;\n",
              "      fill: #1967D2;\n",
              "      height: 32px;\n",
              "      padding: 0 0 0 0;\n",
              "      width: 32px;\n",
              "    }\n",
              "\n",
              "    .colab-df-convert:hover {\n",
              "      background-color: #E2EBFA;\n",
              "      box-shadow: 0px 1px 2px rgba(60, 64, 67, 0.3), 0px 1px 3px 1px rgba(60, 64, 67, 0.15);\n",
              "      fill: #174EA6;\n",
              "    }\n",
              "\n",
              "    .colab-df-buttons div {\n",
              "      margin-bottom: 4px;\n",
              "    }\n",
              "\n",
              "    [theme=dark] .colab-df-convert {\n",
              "      background-color: #3B4455;\n",
              "      fill: #D2E3FC;\n",
              "    }\n",
              "\n",
              "    [theme=dark] .colab-df-convert:hover {\n",
              "      background-color: #434B5C;\n",
              "      box-shadow: 0px 1px 3px 1px rgba(0, 0, 0, 0.15);\n",
              "      filter: drop-shadow(0px 1px 2px rgba(0, 0, 0, 0.3));\n",
              "      fill: #FFFFFF;\n",
              "    }\n",
              "  </style>\n",
              "\n",
              "    <script>\n",
              "      const buttonEl =\n",
              "        document.querySelector('#df-7908125e-b11f-41a9-818b-d9eefee0aa15 button.colab-df-convert');\n",
              "      buttonEl.style.display =\n",
              "        google.colab.kernel.accessAllowed ? 'block' : 'none';\n",
              "\n",
              "      async function convertToInteractive(key) {\n",
              "        const element = document.querySelector('#df-7908125e-b11f-41a9-818b-d9eefee0aa15');\n",
              "        const dataTable =\n",
              "          await google.colab.kernel.invokeFunction('convertToInteractive',\n",
              "                                                    [key], {});\n",
              "        if (!dataTable) return;\n",
              "\n",
              "        const docLinkHtml = 'Like what you see? Visit the ' +\n",
              "          '<a target=\"_blank\" href=https://colab.research.google.com/notebooks/data_table.ipynb>data table notebook</a>'\n",
              "          + ' to learn more about interactive tables.';\n",
              "        element.innerHTML = '';\n",
              "        dataTable['output_type'] = 'display_data';\n",
              "        await google.colab.output.renderOutput(dataTable, element);\n",
              "        const docLink = document.createElement('div');\n",
              "        docLink.innerHTML = docLinkHtml;\n",
              "        element.appendChild(docLink);\n",
              "      }\n",
              "    </script>\n",
              "  </div>\n",
              "\n",
              "\n",
              "<div id=\"df-eed41f5b-9e10-45d6-ac9b-6fdef9418b1f\">\n",
              "  <button class=\"colab-df-quickchart\" onclick=\"quickchart('df-eed41f5b-9e10-45d6-ac9b-6fdef9418b1f')\"\n",
              "            title=\"Suggest charts.\"\n",
              "            style=\"display:none;\">\n",
              "\n",
              "<svg xmlns=\"http://www.w3.org/2000/svg\" height=\"24px\"viewBox=\"0 0 24 24\"\n",
              "     width=\"24px\">\n",
              "    <g>\n",
              "        <path d=\"M19 3H5c-1.1 0-2 .9-2 2v14c0 1.1.9 2 2 2h14c1.1 0 2-.9 2-2V5c0-1.1-.9-2-2-2zM9 17H7v-7h2v7zm4 0h-2V7h2v10zm4 0h-2v-4h2v4z\"/>\n",
              "    </g>\n",
              "</svg>\n",
              "  </button>\n",
              "\n",
              "<style>\n",
              "  .colab-df-quickchart {\n",
              "      --bg-color: #E8F0FE;\n",
              "      --fill-color: #1967D2;\n",
              "      --hover-bg-color: #E2EBFA;\n",
              "      --hover-fill-color: #174EA6;\n",
              "      --disabled-fill-color: #AAA;\n",
              "      --disabled-bg-color: #DDD;\n",
              "  }\n",
              "\n",
              "  [theme=dark] .colab-df-quickchart {\n",
              "      --bg-color: #3B4455;\n",
              "      --fill-color: #D2E3FC;\n",
              "      --hover-bg-color: #434B5C;\n",
              "      --hover-fill-color: #FFFFFF;\n",
              "      --disabled-bg-color: #3B4455;\n",
              "      --disabled-fill-color: #666;\n",
              "  }\n",
              "\n",
              "  .colab-df-quickchart {\n",
              "    background-color: var(--bg-color);\n",
              "    border: none;\n",
              "    border-radius: 50%;\n",
              "    cursor: pointer;\n",
              "    display: none;\n",
              "    fill: var(--fill-color);\n",
              "    height: 32px;\n",
              "    padding: 0;\n",
              "    width: 32px;\n",
              "  }\n",
              "\n",
              "  .colab-df-quickchart:hover {\n",
              "    background-color: var(--hover-bg-color);\n",
              "    box-shadow: 0 1px 2px rgba(60, 64, 67, 0.3), 0 1px 3px 1px rgba(60, 64, 67, 0.15);\n",
              "    fill: var(--button-hover-fill-color);\n",
              "  }\n",
              "\n",
              "  .colab-df-quickchart-complete:disabled,\n",
              "  .colab-df-quickchart-complete:disabled:hover {\n",
              "    background-color: var(--disabled-bg-color);\n",
              "    fill: var(--disabled-fill-color);\n",
              "    box-shadow: none;\n",
              "  }\n",
              "\n",
              "  .colab-df-spinner {\n",
              "    border: 2px solid var(--fill-color);\n",
              "    border-color: transparent;\n",
              "    border-bottom-color: var(--fill-color);\n",
              "    animation:\n",
              "      spin 1s steps(1) infinite;\n",
              "  }\n",
              "\n",
              "  @keyframes spin {\n",
              "    0% {\n",
              "      border-color: transparent;\n",
              "      border-bottom-color: var(--fill-color);\n",
              "      border-left-color: var(--fill-color);\n",
              "    }\n",
              "    20% {\n",
              "      border-color: transparent;\n",
              "      border-left-color: var(--fill-color);\n",
              "      border-top-color: var(--fill-color);\n",
              "    }\n",
              "    30% {\n",
              "      border-color: transparent;\n",
              "      border-left-color: var(--fill-color);\n",
              "      border-top-color: var(--fill-color);\n",
              "      border-right-color: var(--fill-color);\n",
              "    }\n",
              "    40% {\n",
              "      border-color: transparent;\n",
              "      border-right-color: var(--fill-color);\n",
              "      border-top-color: var(--fill-color);\n",
              "    }\n",
              "    60% {\n",
              "      border-color: transparent;\n",
              "      border-right-color: var(--fill-color);\n",
              "    }\n",
              "    80% {\n",
              "      border-color: transparent;\n",
              "      border-right-color: var(--fill-color);\n",
              "      border-bottom-color: var(--fill-color);\n",
              "    }\n",
              "    90% {\n",
              "      border-color: transparent;\n",
              "      border-bottom-color: var(--fill-color);\n",
              "    }\n",
              "  }\n",
              "</style>\n",
              "\n",
              "  <script>\n",
              "    async function quickchart(key) {\n",
              "      const quickchartButtonEl =\n",
              "        document.querySelector('#' + key + ' button');\n",
              "      quickchartButtonEl.disabled = true;  // To prevent multiple clicks.\n",
              "      quickchartButtonEl.classList.add('colab-df-spinner');\n",
              "      try {\n",
              "        const charts = await google.colab.kernel.invokeFunction(\n",
              "            'suggestCharts', [key], {});\n",
              "      } catch (error) {\n",
              "        console.error('Error during call to suggestCharts:', error);\n",
              "      }\n",
              "      quickchartButtonEl.classList.remove('colab-df-spinner');\n",
              "      quickchartButtonEl.classList.add('colab-df-quickchart-complete');\n",
              "    }\n",
              "    (() => {\n",
              "      let quickchartButtonEl =\n",
              "        document.querySelector('#df-eed41f5b-9e10-45d6-ac9b-6fdef9418b1f button');\n",
              "      quickchartButtonEl.style.display =\n",
              "        google.colab.kernel.accessAllowed ? 'block' : 'none';\n",
              "    })();\n",
              "  </script>\n",
              "</div>\n",
              "    </div>\n",
              "  </div>\n"
            ]
          },
          "metadata": {},
          "execution_count": 18
        }
      ]
    },
    {
      "cell_type": "markdown",
      "source": [],
      "metadata": {
        "id": "h6jKL4f6TF9r"
      }
    },
    {
      "cell_type": "markdown",
      "source": [
        "<br>\n",
        "<br>\n",
        "<br>\n",
        "\n",
        "\n",
        "\n",
        "\n",
        "\n",
        "<br>\n",
        "\n",
        "<br>\n",
        "\n",
        "\n",
        "\n",
        "\n",
        "<br>"
      ],
      "metadata": {
        "id": "_nWb5KlCRTWg"
      }
    },
    {
      "cell_type": "code",
      "source": [
        "def plot_annotations(ind):\n",
        "  row = annot.iloc[ind]\n",
        "  image_path = \"Data/train/\" + row['StudyInstanceUID'] + \".jpg\"\n",
        "  label = row['label']\n",
        "  data = np.array(ast.literal_eval(row[\"data\"]))\n",
        "\n",
        "  plt.figure(figsize=(10,5))\n",
        "  image = Image.open(image_path)\n",
        "  plt.subplot(1,2,1)\n",
        "  plt.imshow(image, cmap='Greys')\n",
        "  plt.subplot(1,2,2)\n",
        "  plt.imshow(image, cmap=\"Greys\")\n",
        "  plt.scatter(data[:,0], data[:,1], color='Coral')\n",
        "\n",
        "  plt.suptitle(label)"
      ],
      "metadata": {
        "id": "28ph0uqRxEIT"
      },
      "execution_count": 19,
      "outputs": []
    },
    {
      "cell_type": "code",
      "source": [
        "plot_annotations(6)"
      ],
      "metadata": {
        "id": "gA_Z5HcMxiHq"
      },
      "execution_count": null,
      "outputs": []
    },
    {
      "cell_type": "code",
      "source": [
        "# Function to make multiple annotations on 1 image\n",
        "\n",
        "def multiple_annotations(img_id):\n",
        "\n",
        "  plt.figure(figsize=(8,8))\n",
        "\n",
        "  image = Image.open(\"Data/train/\" + img_id + \".jpg\")\n",
        "  plt.imshow(image, cmap=\"Greys\")\n",
        "\n",
        "  patient = annot.loc[annot[\"StudyInstanceUID\"] == img_id]\n",
        "\n",
        "  if patient.shape[0]:\n",
        "    labels = patient['label'].values.tolist()\n",
        "    catheters = patient['data'].apply(ast.literal_eval).values.tolist()\n",
        "\n",
        "    for catheter, label in zip(catheters, labels):\n",
        "      catheter = np.asarray(catheter)\n",
        "      if (type is ('ETT - Abnormal' or 'ETT - Normal' or 'ETT - Borderline')):\n",
        "        plt.scatter(catheter[:, 0], catheter[:,1], s=40, label=label, color='lavender')\n",
        "      elif (type is ('NGT - Normal' or 'NGT - Borderline' or 'NGT - Incompletely Imaged' or 'NGT - Abnormal')):\n",
        "        plt.scatter(catheter[:, 0], catheter[:,1], s=40, label=label, color='paleturquoise')\n",
        "      elif (type is ('CVC - Normal' or 'CVC - Abnormal' or 'CVC - Borderline')):\n",
        "        plt.scatter(catheter[:, 0], catheter[:,1], s=40, label=label, color='lightsalmon')\n",
        "      else:\n",
        "        plt.scatter(catheter[:, 0], catheter[:,1], s=40, label=label, color='palevioletred')\n",
        "\n",
        "    plt.legend(bbox_to_anchor=(1.05, 1), loc=2, borderaxespad=0, prop={'size': 20})\n",
        "\n",
        "  plt.tick_params(axis=\"x\", labelsize=15)\n",
        "  plt.tick_params(axis=\"y\", labelsize=15)\n",
        "\n",
        "  plt.show()"
      ],
      "metadata": {
        "id": "VdRj2uQb4ZaC"
      },
      "execution_count": null,
      "outputs": []
    },
    {
      "cell_type": "code",
      "source": [
        "# Function to find all the x-ray images for 1 patient\n",
        "\n",
        "def find_patient_files(patientID):\n",
        "  patient = trainWannot[trainWannot['PatientID'] == patientID]\n",
        "\n",
        "  images = patient['StudyInstanceUID'].tolist()\n",
        "  images = list(set(images))\n",
        "  return images"
      ],
      "metadata": {
        "id": "cnn7U2KR659i"
      },
      "execution_count": null,
      "outputs": []
    },
    {
      "cell_type": "code",
      "source": [
        "image_ids = find_patient_files('248aeb1e5')\n",
        "\n",
        "print(image_ids)\n",
        "for id in image_ids:\n",
        "  multiple_annotations(id)\n"
      ],
      "metadata": {
        "id": "6_AlSZxl8PYe"
      },
      "execution_count": null,
      "outputs": []
    },
    {
      "cell_type": "markdown",
      "source": [
        "### Next Steps:\n",
        "\n",
        "\n",
        "\n",
        "* Plot annotations for each individual tube placement\n",
        "  * What do these look like?\n",
        "* Find the distribution of each type (how many are abnormal, normal, borderline etc.)\n",
        "* Research ways to start image processing\n",
        "\n",
        "\n"
      ],
      "metadata": {
        "id": "fZEcBhC6XE2V"
      }
    },
    {
      "cell_type": "markdown",
      "source": [
        "# ETT - ENDOTRACHEAL TUBE PLACEMENT"
      ],
      "metadata": {
        "id": "h0npLd28UYHc"
      }
    },
    {
      "cell_type": "code",
      "source": [
        "def plot_distribution(df, type):\n",
        "  sns.barplot(x=df.values, y=df.index, palette='mako')\n",
        "  plt.xticks(fontsize=14)\n",
        "  plt.yticks(fontsize=14)\n",
        "  plt.xlabel(\"Number of images\", fontsize=15)\n",
        "  plt.title(f\"Distribution of {type}\", fontsize=16);\n",
        "\n",
        "\n",
        "def find_image(tubeType):\n",
        "  row = train[train[tubeType] == 1]\n",
        "  print(row)\n",
        "  return row.index[0]\n",
        "\n",
        "def visualise_multiple(imgs, title):\n",
        "  plt.figure(figsize=(16,5))\n",
        "\n",
        "\n",
        "  for i, img in enumerate(imgs):\n",
        "    plt.subplot(1,3, i+1)\n",
        "    image_path = \"Data/train/\" + img + \".jpg\"\n",
        "    image = Image.open(image_path)\n",
        "    plt.imshow(image, cmap=\"Greys\")\n",
        "    plt.axis('off')\n",
        "\n",
        "  plt.suptitle(title)\n",
        "  plt.show()\n",
        "\n",
        "def process_type(type):\n",
        "  df = train[train[type] == 1]\n",
        "  visualise_multiple(random.sample(df['StudyInstanceUID'].tolist(), 3), type)\n",
        "\n",
        "def plot_catheter(type):\n",
        "  row = annot[annot['label'] == type].iloc[0]\n",
        "  image_path = \"Data/train/\" + row['StudyInstanceUID'] + \".jpg\"\n",
        "  label = row['label']\n",
        "  data = np.array(ast.literal_eval(row[\"data\"]))\n",
        "\n",
        "  plt.figure(figsize=(10,5))\n",
        "  image = Image.open(image_path)\n",
        "  plt.subplot(1,2,1)\n",
        "  plt.imshow(image, cmap='Greys')\n",
        "  plt.subplot(1,2,2)\n",
        "  plt.imshow(image, cmap=\"Greys\")\n",
        "  if (type is ('ETT - Abnormal' or 'ETT - Normal' or 'ETT - Borderline')):\n",
        "    plt.scatter(data[:,0], data[:,1], color='lavender')\n",
        "  elif (type is ('NGT - Normal' or 'NGT - Borderline' or 'NGT - Incompletely Imaged' or 'NGT - Abnormal')):\n",
        "    plt.scatter(data[:,0], data[:,1], color='paleturquoise')\n",
        "  elif (type is ('CVC - Normal' or 'CVC - Abnormal' or 'CVC - Borderline')):\n",
        "    plt.scatter(data[:,0], data[:,1], color='lightsalmon')\n",
        "  else:\n",
        "    plt.scatter(data[:,0], data[:,1], color='palevioletred')\n",
        "  plt.suptitle(label)\n"
      ],
      "metadata": {
        "id": "xjfcgZB1UnCO"
      },
      "execution_count": null,
      "outputs": []
    },
    {
      "cell_type": "code",
      "source": [
        "catheterTypes = ['ETT - Abnormal', 'ETT - Borderline', 'ETT - Normal', 'NGT - Abnormal', 'NGT - Borderline', 'NGT - Normal', 'CVC - Abnormal', 'CVC - Borderline', 'CVC - Borderline', 'Swan Ganz Catheter Present']\n",
        "\n",
        "ETT = train.iloc[:, 1:4].sum()\n",
        "\n",
        "plot_distribution(ETT, \"ETT\")\n",
        "\n"
      ],
      "metadata": {
        "id": "8pnRbYmoVcFH"
      },
      "execution_count": null,
      "outputs": []
    },
    {
      "cell_type": "markdown",
      "source": [
        "# ETT - ABNORMAL"
      ],
      "metadata": {
        "id": "2xdcA4gNNtf_"
      }
    },
    {
      "cell_type": "code",
      "source": [
        "process_type('ETT - Abnormal')"
      ],
      "metadata": {
        "id": "D1UeW56yMUE9"
      },
      "execution_count": null,
      "outputs": []
    },
    {
      "cell_type": "code",
      "source": [
        "plot_catheter('ETT - Abnormal')\n"
      ],
      "metadata": {
        "id": "uUKynKL3_wSq"
      },
      "execution_count": null,
      "outputs": []
    },
    {
      "cell_type": "markdown",
      "source": [
        "## ETT - BORDERLINE"
      ],
      "metadata": {
        "id": "GN4xPspxN0un"
      }
    },
    {
      "cell_type": "code",
      "source": [
        "process_type('ETT - Borderline')"
      ],
      "metadata": {
        "id": "UJJDBeoHN3oh"
      },
      "execution_count": null,
      "outputs": []
    },
    {
      "cell_type": "code",
      "source": [
        "plot_catheter('ETT - Borderline')"
      ],
      "metadata": {
        "id": "LLpaiuZPOClT"
      },
      "execution_count": null,
      "outputs": []
    },
    {
      "cell_type": "markdown",
      "source": [
        "# ETT - NORMAL"
      ],
      "metadata": {
        "id": "2BuYzTJqOJXZ"
      }
    },
    {
      "cell_type": "code",
      "source": [
        "process_type('ETT - Normal')"
      ],
      "metadata": {
        "id": "9vRk3xr8OMBG"
      },
      "execution_count": null,
      "outputs": []
    },
    {
      "cell_type": "code",
      "source": [
        "plot_catheter('ETT - Normal')"
      ],
      "metadata": {
        "id": "3GNZAMtFORXJ"
      },
      "execution_count": null,
      "outputs": []
    },
    {
      "cell_type": "markdown",
      "source": [
        "# NGT - Nasogastric Tube Placement"
      ],
      "metadata": {
        "id": "GD8RJSNQU59J"
      }
    },
    {
      "cell_type": "code",
      "source": [
        "NGT = train.iloc[:, 4:8].sum()\n",
        "\n",
        "\n",
        "plot_distribution(NGT, \"NGT\")"
      ],
      "metadata": {
        "id": "V7xvkh8pWB75"
      },
      "execution_count": null,
      "outputs": []
    },
    {
      "cell_type": "markdown",
      "source": [
        "## NGT - ABNORMAL"
      ],
      "metadata": {
        "id": "B97V6nt-Xvhj"
      }
    },
    {
      "cell_type": "code",
      "source": [
        "process_type(\"NGT - Abnormal\")"
      ],
      "metadata": {
        "id": "utyHyXJnXsZm"
      },
      "execution_count": null,
      "outputs": []
    },
    {
      "cell_type": "code",
      "source": [
        "plot_catheter(\"NGT - Abnormal\")"
      ],
      "metadata": {
        "id": "SXjhJLAKiKiJ"
      },
      "execution_count": null,
      "outputs": []
    },
    {
      "cell_type": "markdown",
      "source": [
        "## NGT - BORDERLINE"
      ],
      "metadata": {
        "id": "HaBKIPU4iVAF"
      }
    },
    {
      "cell_type": "code",
      "source": [
        "process_type('NGT - Borderline')"
      ],
      "metadata": {
        "id": "nRP0tUCiiZw3"
      },
      "execution_count": null,
      "outputs": []
    },
    {
      "cell_type": "code",
      "source": [
        "plot_catheter('NGT - Borderline')"
      ],
      "metadata": {
        "id": "usmFFRcEieST"
      },
      "execution_count": null,
      "outputs": []
    },
    {
      "cell_type": "markdown",
      "source": [
        "## NGT - Incompletely Imaged"
      ],
      "metadata": {
        "id": "U-i7u6JlimQL"
      }
    },
    {
      "cell_type": "code",
      "source": [
        "process_type('NGT - Incompletely Imaged')"
      ],
      "metadata": {
        "id": "Kalzsxr6iqqp"
      },
      "execution_count": null,
      "outputs": []
    },
    {
      "cell_type": "code",
      "source": [
        "plot_catheter('NGT - Incompletely Imaged')"
      ],
      "metadata": {
        "id": "i22BjBEIivB5"
      },
      "execution_count": null,
      "outputs": []
    },
    {
      "cell_type": "markdown",
      "source": [
        "## NGT - Normal"
      ],
      "metadata": {
        "id": "bcinagaei4iX"
      }
    },
    {
      "cell_type": "code",
      "source": [
        "process_type('NGT - Normal')"
      ],
      "metadata": {
        "id": "UckzjfqvjB4B"
      },
      "execution_count": null,
      "outputs": []
    },
    {
      "cell_type": "code",
      "source": [
        "plot_catheter('NGT - Normal')"
      ],
      "metadata": {
        "id": "nzvFEuTKjIkl"
      },
      "execution_count": null,
      "outputs": []
    },
    {
      "cell_type": "markdown",
      "source": [
        "# CVC - Central Venous Catheter Placement"
      ],
      "metadata": {
        "id": "MLnlOm2zjPfU"
      }
    },
    {
      "cell_type": "code",
      "source": [
        "CVC = train.iloc[:, 8:11].sum()\n",
        "\n",
        "plot_distribution(CVC, \"CVC\")"
      ],
      "metadata": {
        "id": "6ZNN4wxXjaq0"
      },
      "execution_count": null,
      "outputs": []
    },
    {
      "cell_type": "markdown",
      "source": [
        "## CVC - ABNORMAL"
      ],
      "metadata": {
        "id": "0UGh9O97w2ud"
      }
    },
    {
      "cell_type": "code",
      "source": [
        "process_type(\"CVC - Abnormal\")"
      ],
      "metadata": {
        "id": "ID7ZVdoCw0Pv"
      },
      "execution_count": null,
      "outputs": []
    },
    {
      "cell_type": "code",
      "source": [
        "plot_catheter(\"CVC - Abnormal\")"
      ],
      "metadata": {
        "id": "njPShRU6w_wF"
      },
      "execution_count": null,
      "outputs": []
    },
    {
      "cell_type": "markdown",
      "source": [
        "## CVC - BORDERLINE"
      ],
      "metadata": {
        "id": "izmiNd9cxF63"
      }
    },
    {
      "cell_type": "code",
      "source": [
        "process_type(\"CVC - Borderline\")"
      ],
      "metadata": {
        "id": "jqGZW4EDxEnh"
      },
      "execution_count": null,
      "outputs": []
    },
    {
      "cell_type": "code",
      "source": [
        "plot_catheter(\"CVC - Borderline\")"
      ],
      "metadata": {
        "id": "IgjFt7K5xPkm"
      },
      "execution_count": null,
      "outputs": []
    },
    {
      "cell_type": "markdown",
      "source": [
        "## CVC - NORMAL"
      ],
      "metadata": {
        "id": "zcZO3Em0xW3y"
      }
    },
    {
      "cell_type": "code",
      "source": [
        "process_type(\"CVC - Normal\")"
      ],
      "metadata": {
        "id": "Af4eY_pgxWlN"
      },
      "execution_count": null,
      "outputs": []
    },
    {
      "cell_type": "code",
      "source": [
        "plot_catheter(\"CVC - Normal\")"
      ],
      "metadata": {
        "id": "A75vqFSjxfc6"
      },
      "execution_count": null,
      "outputs": []
    },
    {
      "cell_type": "markdown",
      "source": [
        "# SWAN GANZ CATHETER PLACEMENT"
      ],
      "metadata": {
        "id": "W0dJLI57xhnS"
      }
    },
    {
      "cell_type": "code",
      "source": [
        "SWAN = CVC = train.iloc[:, 11:12].sum()\n",
        "\n",
        "plot_distribution(SWAN, \"Swan Ganz Catheter Present\")"
      ],
      "metadata": {
        "id": "KSe32-XlxrHK"
      },
      "execution_count": null,
      "outputs": []
    },
    {
      "cell_type": "code",
      "source": [
        "process_type('Swan Ganz Catheter Present')"
      ],
      "metadata": {
        "id": "nPjh48cQx7gj"
      },
      "execution_count": null,
      "outputs": []
    },
    {
      "cell_type": "code",
      "source": [
        "plot_catheter('Swan Ganz Catheter Present')"
      ],
      "metadata": {
        "id": "04fGauXXyFcS"
      },
      "execution_count": null,
      "outputs": []
    }
  ],
  "metadata": {
    "kernelspec": {
      "display_name": "ADSprojects",
      "language": "python",
      "name": "python3"
    },
    "language_info": {
      "codemirror_mode": {
        "name": "ipython",
        "version": 3
      },
      "file_extension": ".py",
      "mimetype": "text/x-python",
      "name": "python",
      "nbconvert_exporter": "python",
      "pygments_lexer": "ipython3",
      "version": "3.10.10"
    },
    "orig_nbformat": 4,
    "colab": {
      "provenance": [],
      "include_colab_link": true
    }
  },
  "nbformat": 4,
  "nbformat_minor": 0
}