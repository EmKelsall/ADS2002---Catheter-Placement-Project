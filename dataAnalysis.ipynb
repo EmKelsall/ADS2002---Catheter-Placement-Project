{
  "cells": [
    {
      "cell_type": "markdown",
      "metadata": {
        "id": "xPHpTIA119eN"
      },
      "source": [
        "# ADS2002 - Catheter and Line Placement Project\n",
        "\n",
        "## Project Background\n",
        "\n",
        "The Catheter and Line position project was a Kaggle challenge created by the Royal Australian and NZ College of Radiologists (RANZCR) in an attempt to help clincians to be able to detect malpositioned catheters and lines early in order to save lives.\n",
        "\n",
        "### OUR OBJECTIVE\n",
        "The objective of this project is to use machine learning to train and test a model on 40,000 images to categorize whether a catheter or line has been poorly placed.\n",
        "\n",
        "### WHAT IS A CATHETER?\n",
        "\n",
        "A catheter is a thin tube made from medical grade materials serving a broad range of functions. Catheters are medical devices that can be inserted into the body to treat diseases or as an aid when performing surgical procedures.\n",
        "\n",
        "The most common catheter is that inserted into the bladder. This allows urine to drain freely. In this project we are not looking at this catheter but rather 4 other types:\n",
        "\n",
        "1. Endotracheal (inserted between the vocal cords and through the trachea to provide oxygen and inhaled gases to the lungs)\n",
        "2. Nasogastric (inserted through the nose into the stomach. Used to carry food and medicine directly to the stomach)\n",
        "3. Central Venous (inserted into a large vein in the neck, chest, groin or arm. Typcially used to administer medications over a long period of time as well as directly measure blood pressume)\n",
        "4. Swan Ganz (inserted into the right of the heart to monitor heart function including blood flow and pressures in and around the heart)\n",
        "\n",
        "Hospital patients have catheters and lines inserted during the course of their admission and serious complications can arise if they are positioned incorrectly. Millions of COVID-19 patients need tubes and lines inserted with a reported 3% of cases inserted incorrectly.\n",
        "\n",
        "Chest Radiographs are the gold standard to confirm whether a line or tube is placed correctly. A physician must manually check these chest x-rays to verify the optimal position. This process can be slow and leaves room for human error.\n",
        "\n",
        "In this project we want to use Deep learning algorithms to automatically detect malpositioned catheters and lines. These will alert clincians immediately and they can reposition or remove them before complications develop\n",
        "\n",
        "### FILES GIVEN\n",
        "\n",
        "- **train.csv** - contains images IDs, binary labels and patient IDs\n",
        "- **train_annotations.csv** - provides annotations for each image in the training set. Will be able to plot where the line or catheter is.\n",
        "- **test** - Folder with all test images\n",
        "- **train** - Folder with all train images (IDs same as IDs in train dataset)\n",
        "- TFRecords - Tensor Flow Records (way of storing a sequence of binary records)\n",
        "\n",
        "### DATASET COLUMNS\n",
        "\n",
        "- **StudyInstanceUID** - unique ID for each image\n",
        "- **ETT - Abnormal** - endotracheal tube placement abnormal\n",
        "- **ETT - Borderline** - endotracheal tube placement borderline abnormal\n",
        "- **ETT - Normal** - endotracheal tube placement normal\n",
        "- **NGT - Abnormal** - nasogastric tube placement abnormal\n",
        "- **NGT - Borderline** - nasogastric tube placement borderline abnormal\n",
        "- **NGT - Incompletely Imaged** - nasogastric tube placement inconclusive due to imaging\n",
        "- **NGT - Normal** - nasogastric tube placement borderline normal\n",
        "- **CVC - Abnormal** - central venous catheter placement abnormal\n",
        "- **CVC - Borderline** - central venous catheter placement borderline abnormal\n",
        "- **CVC - Normal** - central venous catheter placement normal\n",
        "- **Swan Ganz Catheter Present**\n",
        "- **PatientID** - unique ID for each patient in the dataset\n"
      ]
    },
    {
      "cell_type": "code",
      "execution_count": null,
      "metadata": {
        "id": "VycGpXtq19eQ"
      },
      "outputs": [],
      "source": [
        "import pandas as pd\n",
        "import numpy as np\n",
        "import matplotlib.pyplot as plt"
      ]
    },
    {
      "cell_type": "code",
      "execution_count": null,
      "metadata": {
        "id": "e6ddj1T119eR"
      },
      "outputs": [],
      "source": []
    }
  ],
  "metadata": {
    "kernelspec": {
      "display_name": "ADSprojects",
      "language": "python",
      "name": "python3"
    },
    "language_info": {
      "codemirror_mode": {
        "name": "ipython",
        "version": 3
      },
      "file_extension": ".py",
      "mimetype": "text/x-python",
      "name": "python",
      "nbconvert_exporter": "python",
      "pygments_lexer": "ipython3",
      "version": "3.10.10"
    },
    "orig_nbformat": 4,
    "colab": {
      "provenance": []
    }
  },
  "nbformat": 4,
  "nbformat_minor": 0
}