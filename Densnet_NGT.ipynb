{
  "metadata": {
    "colab": {
      "provenance": [],
      "include_colab_link": true
    },
    "kernelspec": {
      "display_name": "Python 3",
      "language": "python",
      "name": "python3"
    },
    "language_info": {
      "name": "python",
      "version": "3.8.17",
      "mimetype": "text/x-python",
      "codemirror_mode": {
        "name": "ipython",
        "version": 3
      },
      "pygments_lexer": "ipython3",
      "nbconvert_exporter": "python",
      "file_extension": ".py"
    }
  },
  "nbformat_minor": 0,
  "nbformat": 4,
  "cells": [
    {
      "cell_type": "markdown",
      "metadata": {
        "id": "view-in-github",
        "colab_type": "text"
      },
      "source": [
        "<a href=\"https://colab.research.google.com/github/EmKelsall/ADS2002---Catheter-Placement-Project/blob/main/Densnet_NGT.ipynb\" target=\"_parent\"><img src=\"https://colab.research.google.com/assets/colab-badge.svg\" alt=\"Open In Colab\"/></a>"
      ]
    },
    {
      "cell_type": "markdown",
      "source": [
        "# DenseNet - NGT"
      ],
      "metadata": {
        "id": "duZntG_3pPDD"
      }
    },
    {
      "cell_type": "code",
      "source": [
        "import random\n",
        "import pandas as pd\n",
        "import numpy as np\n",
        "import matplotlib.pyplot as plt\n",
        "import json\n",
        "from PIL import Image\n",
        "import ast\n",
        "import os\n",
        "\n",
        "from tqdm import tqdm\n"
      ],
      "metadata": {
        "id": "fY_idKL9-0o0",
        "execution": {
          "iopub.status.busy": "2023-10-19T06:57:02.304825Z",
          "iopub.execute_input": "2023-10-19T06:57:02.305801Z",
          "iopub.status.idle": "2023-10-19T06:57:03.735356Z",
          "shell.execute_reply.started": "2023-10-19T06:57:02.305765Z",
          "shell.execute_reply": "2023-10-19T06:57:03.734351Z"
        },
        "trusted": true
      },
      "execution_count": null,
      "outputs": []
    },
    {
      "cell_type": "code",
      "source": [
        "#extracting just the CVC labels\n",
        "train_data = pd.read_csv(\"/kaggle/input/ranzcr-clip-catheter-line-classification/train.csv\")\n",
        "train_data = train_data[train_data['NGT - Borderline'] != 1]\n",
        "train_data['NGT - Present'] = np.where((train_data['NGT - Abnormal'] == 0) & (train_data['NGT - Normal'] == 0) & (train_data['NGT - Borderline'] == 0), 0, 1)\n",
        "\n",
        "train_data['NGT - Present'].value_counts()"
      ],
      "metadata": {
        "colab": {
          "base_uri": "https://localhost:8080/",
          "height": 238
        },
        "id": "CF8ONZND-5Jl",
        "outputId": "6ceb08ed-9c45-4c39-bcf0-ad49e440d4f4",
        "execution": {
          "iopub.status.busy": "2023-10-19T06:57:03.737128Z",
          "iopub.execute_input": "2023-10-19T06:57:03.737500Z",
          "iopub.status.idle": "2023-10-19T06:57:03.849974Z",
          "shell.execute_reply.started": "2023-10-19T06:57:03.737474Z",
          "shell.execute_reply": "2023-10-19T06:57:03.849202Z"
        },
        "trusted": true
      },
      "execution_count": null,
      "outputs": [
        {
          "execution_count": 2,
          "output_type": "execute_result",
          "data": {
            "text/plain": "NGT - Present\n0    24501\n1     5053\nName: count, dtype: int64"
          },
          "metadata": {}
        }
      ]
    },
    {
      "cell_type": "code",
      "source": [
        "sampled_data = pd.concat([train_data[train_data['NGT - Present'] == 1].sample(n=750), train_data[train_data['NGT - Present'] == 0].sample(n=750)])\n",
        "sampled_data"
      ],
      "metadata": {
        "colab": {
          "base_uri": "https://localhost:8080/"
        },
        "id": "rp449s9-AElp",
        "outputId": "3d16b5b1-f881-47a9-ab52-7ef680cdf61d",
        "execution": {
          "iopub.status.busy": "2023-10-19T06:57:03.851099Z",
          "iopub.execute_input": "2023-10-19T06:57:03.851358Z",
          "iopub.status.idle": "2023-10-19T06:57:03.874852Z",
          "shell.execute_reply.started": "2023-10-19T06:57:03.851335Z",
          "shell.execute_reply": "2023-10-19T06:57:03.874189Z"
        },
        "trusted": true
      },
      "execution_count": null,
      "outputs": [
        {
          "execution_count": 3,
          "output_type": "execute_result",
          "data": {
            "text/plain": "                                        StudyInstanceUID  ETT - Abnormal  \\\n2381   1.2.826.0.1.3680043.8.498.72027842236740426828...               0   \n21218  1.2.826.0.1.3680043.8.498.17124285924673288354...               0   \n9458   1.2.826.0.1.3680043.8.498.83787296854153893198...               0   \n4115   1.2.826.0.1.3680043.8.498.87430326611380193974...               0   \n27341  1.2.826.0.1.3680043.8.498.11939772432256969564...               0   \n...                                                  ...             ...   \n29678  1.2.826.0.1.3680043.8.498.90915831742574604863...               0   \n29690  1.2.826.0.1.3680043.8.498.92686998100433418697...               0   \n3397   1.2.826.0.1.3680043.8.498.11438096043898267210...               0   \n7600   1.2.826.0.1.3680043.8.498.95329529106960247096...               0   \n16690  1.2.826.0.1.3680043.8.498.10819922478064523573...               0   \n\n       ETT - Borderline  ETT - Normal  NGT - Abnormal  NGT - Borderline  \\\n2381                  0             1               0                 0   \n21218                 1             0               0                 0   \n9458                  0             1               0                 0   \n4115                  0             1               0                 0   \n27341                 1             0               0                 0   \n...                 ...           ...             ...               ...   \n29678                 0             0               0                 0   \n29690                 0             1               0                 0   \n3397                  0             0               0                 0   \n7600                  0             0               0                 0   \n16690                 0             0               0                 0   \n\n       NGT - Incompletely Imaged  NGT - Normal  CVC - Abnormal  \\\n2381                           0             1               0   \n21218                          0             1               0   \n9458                           0             1               0   \n4115                           0             1               0   \n27341                          0             1               0   \n...                          ...           ...             ...   \n29678                          0             0               0   \n29690                          0             0               0   \n3397                           0             0               0   \n7600                           0             0               0   \n16690                          0             0               0   \n\n       CVC - Borderline  CVC - Normal  Swan Ganz Catheter Present  PatientID  \\\n2381                  0             1                           0  fd3ab6f0e   \n21218                 1             0                           0  2bb41c720   \n9458                  1             0                           0  05029c63a   \n4115                  1             0                           0  a54516ab5   \n27341                 0             1                           0  9cd0c75bb   \n...                 ...           ...                         ...        ...   \n29678                 0             1                           0  b1f81964b   \n29690                 1             0                           0  fe900cd30   \n3397                  0             1                           0  fbb620657   \n7600                  0             1                           0  547d5c00b   \n16690                 1             0                           0  d68a9c60c   \n\n       NGT - Present  \n2381               1  \n21218              1  \n9458               1  \n4115               1  \n27341              1  \n...              ...  \n29678              0  \n29690              0  \n3397               0  \n7600               0  \n16690              0  \n\n[1500 rows x 14 columns]",
            "text/html": "<div>\n<style scoped>\n    .dataframe tbody tr th:only-of-type {\n        vertical-align: middle;\n    }\n\n    .dataframe tbody tr th {\n        vertical-align: top;\n    }\n\n    .dataframe thead th {\n        text-align: right;\n    }\n</style>\n<table border=\"1\" class=\"dataframe\">\n  <thead>\n    <tr style=\"text-align: right;\">\n      <th></th>\n      <th>StudyInstanceUID</th>\n      <th>ETT - Abnormal</th>\n      <th>ETT - Borderline</th>\n      <th>ETT - Normal</th>\n      <th>NGT - Abnormal</th>\n      <th>NGT - Borderline</th>\n      <th>NGT - Incompletely Imaged</th>\n      <th>NGT - Normal</th>\n      <th>CVC - Abnormal</th>\n      <th>CVC - Borderline</th>\n      <th>CVC - Normal</th>\n      <th>Swan Ganz Catheter Present</th>\n      <th>PatientID</th>\n      <th>NGT - Present</th>\n    </tr>\n  </thead>\n  <tbody>\n    <tr>\n      <th>2381</th>\n      <td>1.2.826.0.1.3680043.8.498.72027842236740426828...</td>\n      <td>0</td>\n      <td>0</td>\n      <td>1</td>\n      <td>0</td>\n      <td>0</td>\n      <td>0</td>\n      <td>1</td>\n      <td>0</td>\n      <td>0</td>\n      <td>1</td>\n      <td>0</td>\n      <td>fd3ab6f0e</td>\n      <td>1</td>\n    </tr>\n    <tr>\n      <th>21218</th>\n      <td>1.2.826.0.1.3680043.8.498.17124285924673288354...</td>\n      <td>0</td>\n      <td>1</td>\n      <td>0</td>\n      <td>0</td>\n      <td>0</td>\n      <td>0</td>\n      <td>1</td>\n      <td>0</td>\n      <td>1</td>\n      <td>0</td>\n      <td>0</td>\n      <td>2bb41c720</td>\n      <td>1</td>\n    </tr>\n    <tr>\n      <th>9458</th>\n      <td>1.2.826.0.1.3680043.8.498.83787296854153893198...</td>\n      <td>0</td>\n      <td>0</td>\n      <td>1</td>\n      <td>0</td>\n      <td>0</td>\n      <td>0</td>\n      <td>1</td>\n      <td>0</td>\n      <td>1</td>\n      <td>0</td>\n      <td>0</td>\n      <td>05029c63a</td>\n      <td>1</td>\n    </tr>\n    <tr>\n      <th>4115</th>\n      <td>1.2.826.0.1.3680043.8.498.87430326611380193974...</td>\n      <td>0</td>\n      <td>0</td>\n      <td>1</td>\n      <td>0</td>\n      <td>0</td>\n      <td>0</td>\n      <td>1</td>\n      <td>0</td>\n      <td>1</td>\n      <td>0</td>\n      <td>0</td>\n      <td>a54516ab5</td>\n      <td>1</td>\n    </tr>\n    <tr>\n      <th>27341</th>\n      <td>1.2.826.0.1.3680043.8.498.11939772432256969564...</td>\n      <td>0</td>\n      <td>1</td>\n      <td>0</td>\n      <td>0</td>\n      <td>0</td>\n      <td>0</td>\n      <td>1</td>\n      <td>0</td>\n      <td>0</td>\n      <td>1</td>\n      <td>0</td>\n      <td>9cd0c75bb</td>\n      <td>1</td>\n    </tr>\n    <tr>\n      <th>...</th>\n      <td>...</td>\n      <td>...</td>\n      <td>...</td>\n      <td>...</td>\n      <td>...</td>\n      <td>...</td>\n      <td>...</td>\n      <td>...</td>\n      <td>...</td>\n      <td>...</td>\n      <td>...</td>\n      <td>...</td>\n      <td>...</td>\n      <td>...</td>\n    </tr>\n    <tr>\n      <th>29678</th>\n      <td>1.2.826.0.1.3680043.8.498.90915831742574604863...</td>\n      <td>0</td>\n      <td>0</td>\n      <td>0</td>\n      <td>0</td>\n      <td>0</td>\n      <td>0</td>\n      <td>0</td>\n      <td>0</td>\n      <td>0</td>\n      <td>1</td>\n      <td>0</td>\n      <td>b1f81964b</td>\n      <td>0</td>\n    </tr>\n    <tr>\n      <th>29690</th>\n      <td>1.2.826.0.1.3680043.8.498.92686998100433418697...</td>\n      <td>0</td>\n      <td>0</td>\n      <td>1</td>\n      <td>0</td>\n      <td>0</td>\n      <td>0</td>\n      <td>0</td>\n      <td>0</td>\n      <td>1</td>\n      <td>0</td>\n      <td>0</td>\n      <td>fe900cd30</td>\n      <td>0</td>\n    </tr>\n    <tr>\n      <th>3397</th>\n      <td>1.2.826.0.1.3680043.8.498.11438096043898267210...</td>\n      <td>0</td>\n      <td>0</td>\n      <td>0</td>\n      <td>0</td>\n      <td>0</td>\n      <td>0</td>\n      <td>0</td>\n      <td>0</td>\n      <td>0</td>\n      <td>1</td>\n      <td>0</td>\n      <td>fbb620657</td>\n      <td>0</td>\n    </tr>\n    <tr>\n      <th>7600</th>\n      <td>1.2.826.0.1.3680043.8.498.95329529106960247096...</td>\n      <td>0</td>\n      <td>0</td>\n      <td>0</td>\n      <td>0</td>\n      <td>0</td>\n      <td>0</td>\n      <td>0</td>\n      <td>0</td>\n      <td>0</td>\n      <td>1</td>\n      <td>0</td>\n      <td>547d5c00b</td>\n      <td>0</td>\n    </tr>\n    <tr>\n      <th>16690</th>\n      <td>1.2.826.0.1.3680043.8.498.10819922478064523573...</td>\n      <td>0</td>\n      <td>0</td>\n      <td>0</td>\n      <td>0</td>\n      <td>0</td>\n      <td>0</td>\n      <td>0</td>\n      <td>0</td>\n      <td>1</td>\n      <td>0</td>\n      <td>0</td>\n      <td>d68a9c60c</td>\n      <td>0</td>\n    </tr>\n  </tbody>\n</table>\n<p>1500 rows × 14 columns</p>\n</div>"
          },
          "metadata": {}
        }
      ]
    },
    {
      "cell_type": "code",
      "source": [
        "studyInstance = sampled_data['StudyInstanceUID'].tolist()\n",
        "studyInstance\n",
        "\n",
        "for i in range(len(studyInstance)):\n",
        "    studyInstance[i] = f'{studyInstance[i]}.jpg'"
      ],
      "metadata": {
        "id": "dJtBRPRsAEs7",
        "execution": {
          "iopub.status.busy": "2023-10-19T06:57:03.875817Z",
          "iopub.execute_input": "2023-10-19T06:57:03.876077Z",
          "iopub.status.idle": "2023-10-19T06:57:03.900419Z",
          "shell.execute_reply.started": "2023-10-19T06:57:03.876055Z",
          "shell.execute_reply": "2023-10-19T06:57:03.899700Z"
        },
        "trusted": true
      },
      "execution_count": null,
      "outputs": []
    },
    {
      "cell_type": "code",
      "source": [
        "def processImages(filenames,train_test):\n",
        "\n",
        "    imgs = []\n",
        "    FileIDs = []\n",
        "    lst = []\n",
        "\n",
        "\n",
        "    desired_channels = 3\n",
        "\n",
        "    count = 0\n",
        "    for file in tqdm(filenames, position=0, leave=True):\n",
        "        # Making sure the images are the same pixel size\n",
        "        img = Image.open(f\"/kaggle/input/ranzcr-clip-catheter-line-classification/{train_test}/{file}\")\n",
        "        img = img.resize((300, 300))\n",
        "        img = np.array(img)\n",
        "\n",
        "        # Ensure that the image has 3 channels (RGB)\n",
        "        if img.shape[-1] != 3:\n",
        "            img = np.stack((img,) * 3, axis=-1)  # Convert grayscale to RGB by duplicating channels\n",
        "\n",
        "        imgs.append(img)  # Append the 4D image to the list\n",
        "\n",
        "        # Save filename for later\n",
        "        FileIDs.append(file)\n",
        "\n",
        "        count += 1\n",
        "\n",
        "    # Convert the list of images to a numpy array\n",
        "    imgs = np.array(imgs)\n",
        "    return imgs, FileIDs"
      ],
      "metadata": {
        "execution": {
          "iopub.status.busy": "2023-10-19T06:57:03.902340Z",
          "iopub.execute_input": "2023-10-19T06:57:03.902565Z",
          "iopub.status.idle": "2023-10-19T06:57:03.917399Z",
          "shell.execute_reply.started": "2023-10-19T06:57:03.902545Z",
          "shell.execute_reply": "2023-10-19T06:57:03.916669Z"
        },
        "trusted": true,
        "id": "ekUFGmEQpN4R"
      },
      "execution_count": null,
      "outputs": []
    },
    {
      "cell_type": "code",
      "source": [
        "train_imgs, fileIDs = processImages(studyInstance, 'train')"
      ],
      "metadata": {
        "id": "EroHf9NdATGh",
        "execution": {
          "iopub.status.busy": "2023-10-19T06:57:03.918311Z",
          "iopub.execute_input": "2023-10-19T06:57:03.918548Z",
          "iopub.status.idle": "2023-10-19T06:58:12.001975Z",
          "shell.execute_reply.started": "2023-10-19T06:57:03.918526Z",
          "shell.execute_reply": "2023-10-19T06:58:12.001094Z"
        },
        "trusted": true,
        "outputId": "df1f6280-7dcb-44a6-b528-1341b0775900"
      },
      "execution_count": null,
      "outputs": [
        {
          "name": "stderr",
          "text": "100%|██████████| 1500/1500 [01:07<00:00, 22.09it/s]\n",
          "output_type": "stream"
        }
      ]
    },
    {
      "cell_type": "code",
      "source": [
        "#cleaning up the labels\n",
        "UID = []\n",
        "for i in range(len(fileIDs)):\n",
        "  UID.append(fileIDs[i].replace(\".jpg\",\"\"))\n",
        "\n",
        "UID[0:10]"
      ],
      "metadata": {
        "execution": {
          "iopub.status.busy": "2023-10-19T06:58:12.003382Z",
          "iopub.execute_input": "2023-10-19T06:58:12.003658Z",
          "iopub.status.idle": "2023-10-19T06:58:12.011343Z",
          "shell.execute_reply.started": "2023-10-19T06:58:12.003634Z",
          "shell.execute_reply": "2023-10-19T06:58:12.010605Z"
        },
        "trusted": true,
        "id": "1taJircepN4S",
        "outputId": "4207769f-84bd-4d33-d9ef-48b010daca5e"
      },
      "execution_count": null,
      "outputs": [
        {
          "execution_count": 7,
          "output_type": "execute_result",
          "data": {
            "text/plain": "['1.2.826.0.1.3680043.8.498.72027842236740426828450197490947975428',\n '1.2.826.0.1.3680043.8.498.17124285924673288354603519153366166318',\n '1.2.826.0.1.3680043.8.498.83787296854153893198021375584075109904',\n '1.2.826.0.1.3680043.8.498.87430326611380193974662642793143433568',\n '1.2.826.0.1.3680043.8.498.11939772432256969564077532046371198564',\n '1.2.826.0.1.3680043.8.498.44820679417635582340602856104412843092',\n '1.2.826.0.1.3680043.8.498.11151413709327750697141242070265662852',\n '1.2.826.0.1.3680043.8.498.85042569865520881877173875324351728516',\n '1.2.826.0.1.3680043.8.498.27474037990075738604723665323633255657',\n '1.2.826.0.1.3680043.8.498.12149340551138111408992017658320866089']"
          },
          "metadata": {}
        }
      ]
    },
    {
      "cell_type": "code",
      "source": [
        "columns_to_drop = ['ETT - Abnormal', 'ETT - Borderline', 'ETT - Normal', 'NGT - Abnormal', 'NGT - Borderline', 'NGT - Normal',\n",
        "                  \"NGT - Incompletely Imaged\", \"Swan Ganz Catheter Present\", \"PatientID\", \"CVC - Borderline\", 'CVC - Abnormal', 'CVC - Normal']\n",
        "\n",
        "CVCsampled_data = sampled_data.drop(columns=columns_to_drop, axis=1)\n",
        "\n",
        "CVCsampled_data.set_index('StudyInstanceUID', inplace=True)"
      ],
      "metadata": {
        "id": "0HjjlqoIB-g-",
        "execution": {
          "iopub.status.busy": "2023-10-19T06:58:12.012275Z",
          "iopub.execute_input": "2023-10-19T06:58:12.012509Z",
          "iopub.status.idle": "2023-10-19T06:58:12.027619Z",
          "shell.execute_reply.started": "2023-10-19T06:58:12.012489Z",
          "shell.execute_reply": "2023-10-19T06:58:12.026959Z"
        },
        "trusted": true
      },
      "execution_count": null,
      "outputs": []
    },
    {
      "cell_type": "code",
      "source": [
        "CVCsampled_data = CVCsampled_data.reindex(UID)\n"
      ],
      "metadata": {
        "execution": {
          "iopub.status.busy": "2023-10-19T06:58:12.028489Z",
          "iopub.execute_input": "2023-10-19T06:58:12.028709Z",
          "iopub.status.idle": "2023-10-19T06:58:12.043661Z",
          "shell.execute_reply.started": "2023-10-19T06:58:12.028689Z",
          "shell.execute_reply": "2023-10-19T06:58:12.042900Z"
        },
        "trusted": true,
        "id": "TZfHRdVypN4T"
      },
      "execution_count": null,
      "outputs": []
    },
    {
      "cell_type": "code",
      "source": [
        "train_labels = np.empty((0,3))\n",
        "data = []\n",
        "\n",
        "for ID in UID:\n",
        "    data.append(CVCsampled_data.loc[ID])\n",
        "\n",
        "train_labels_df = pd.DataFrame(data)\n",
        "\n",
        "\n",
        "\n",
        "train_labels_df = train_labels_df.reindex(UID)\n",
        "train_labels = train_labels_df['NGT - Present'].values\n",
        "# train_labels = train_labels_df.values\n",
        "train_labels"
      ],
      "metadata": {
        "execution": {
          "iopub.status.busy": "2023-10-19T06:58:12.044700Z",
          "iopub.execute_input": "2023-10-19T06:58:12.045043Z",
          "iopub.status.idle": "2023-10-19T06:58:12.157834Z",
          "shell.execute_reply.started": "2023-10-19T06:58:12.044993Z",
          "shell.execute_reply": "2023-10-19T06:58:12.157217Z"
        },
        "trusted": true,
        "id": "GwJXBVsYpN4U",
        "outputId": "9df8afcb-410f-49f4-d262-a3a5d3a56b70"
      },
      "execution_count": null,
      "outputs": [
        {
          "execution_count": 10,
          "output_type": "execute_result",
          "data": {
            "text/plain": "array([1, 1, 1, ..., 0, 0, 0])"
          },
          "metadata": {}
        }
      ]
    },
    {
      "cell_type": "code",
      "source": [],
      "metadata": {
        "id": "SxvNNj68pN4U"
      },
      "execution_count": null,
      "outputs": []
    },
    {
      "cell_type": "code",
      "source": [
        "from sklearn.model_selection import train_test_split\n",
        "\n",
        "# Split your data into training and temporary data (combined validation and test)\n",
        "train_imgs, temp_imgs, train_labels, temp_labels = train_test_split(train_imgs, train_labels, test_size=0.3, random_state=42)\n",
        "\n",
        "# Split the temporary data into validation and test sets\n",
        "val_imgs, test_imgs, val_labels, test_labels = train_test_split(temp_imgs, temp_labels, test_size=0.5, random_state=42)"
      ],
      "metadata": {
        "execution": {
          "iopub.status.busy": "2023-10-19T06:58:12.159090Z",
          "iopub.execute_input": "2023-10-19T06:58:12.159399Z",
          "iopub.status.idle": "2023-10-19T06:58:13.046497Z",
          "shell.execute_reply.started": "2023-10-19T06:58:12.159365Z",
          "shell.execute_reply": "2023-10-19T06:58:13.045317Z"
        },
        "trusted": true,
        "id": "LsKYc3j6pN4V"
      },
      "execution_count": null,
      "outputs": []
    },
    {
      "cell_type": "code",
      "source": [
        "print(len(train_labels))\n",
        "print(len(train_imgs))\n"
      ],
      "metadata": {
        "execution": {
          "iopub.status.busy": "2023-10-19T06:58:13.047964Z",
          "iopub.execute_input": "2023-10-19T06:58:13.048439Z",
          "iopub.status.idle": "2023-10-19T06:58:13.053719Z",
          "shell.execute_reply.started": "2023-10-19T06:58:13.048413Z",
          "shell.execute_reply": "2023-10-19T06:58:13.052874Z"
        },
        "trusted": true,
        "id": "moyDfNVQpN4V",
        "outputId": "6dbd27cf-fdc8-40b2-ea0a-12e7bd0c045f"
      },
      "execution_count": null,
      "outputs": [
        {
          "name": "stdout",
          "text": "1050\n1050\n",
          "output_type": "stream"
        }
      ]
    },
    {
      "cell_type": "code",
      "source": [
        "from tensorflow.keras.applications.densenet import DenseNet121\n",
        "from tensorflow.keras.layers import Dense, GlobalAveragePooling2D\n",
        "from tensorflow.keras.models import Model\n",
        "from tensorflow.keras.optimizers import Adam\n",
        "from tensorflow.keras.layers import Dropout, BatchNormalization\n",
        "# Load the DenseNet121 base model without its top layers\n",
        "base_model = DenseNet121(weights='imagenet', include_top=False)\n",
        "\n",
        "# Add dropout and batch normalization to custom fully connected layers\n",
        "x = base_model.output\n",
        "x = GlobalAveragePooling2D()(x)\n",
        "x = Dense(1024, activation='relu')(x)\n",
        "x = BatchNormalization()(x)\n",
        "x = Dropout(0.5)(x)\n",
        "predictions = Dense(1, activation='sigmoid')(x)\n",
        "model = Model(inputs=base_model.input, outputs=predictions)\n"
      ],
      "metadata": {
        "colab": {
          "base_uri": "https://localhost:8080/"
        },
        "id": "lqRSBnX9BYzB",
        "outputId": "58704064-0424-4554-b3bf-65ff1e706328",
        "execution": {
          "iopub.status.busy": "2023-10-19T06:58:13.054905Z",
          "iopub.execute_input": "2023-10-19T06:58:13.055190Z",
          "iopub.status.idle": "2023-10-19T06:58:58.620215Z",
          "shell.execute_reply.started": "2023-10-19T06:58:13.055166Z",
          "shell.execute_reply": "2023-10-19T06:58:58.618882Z"
        },
        "trusted": true
      },
      "execution_count": null,
      "outputs": [
        {
          "name": "stderr",
          "text": "D1019 06:58:44.395660674      15 config.cc:119]                        gRPC EXPERIMENT tcp_frame_size_tuning               OFF (default:OFF)\nD1019 06:58:44.395685658      15 config.cc:119]                        gRPC EXPERIMENT tcp_rcv_lowat                       OFF (default:OFF)\nD1019 06:58:44.395689062      15 config.cc:119]                        gRPC EXPERIMENT peer_state_based_framing            OFF (default:OFF)\nD1019 06:58:44.395691555      15 config.cc:119]                        gRPC EXPERIMENT flow_control_fixes                  ON  (default:ON)\nD1019 06:58:44.395693788      15 config.cc:119]                        gRPC EXPERIMENT memory_pressure_controller          OFF (default:OFF)\nD1019 06:58:44.395696331      15 config.cc:119]                        gRPC EXPERIMENT unconstrained_max_quota_buffer_size OFF (default:OFF)\nD1019 06:58:44.395699749      15 config.cc:119]                        gRPC EXPERIMENT new_hpack_huffman_decoder           ON  (default:ON)\nD1019 06:58:44.395702059      15 config.cc:119]                        gRPC EXPERIMENT event_engine_client                 OFF (default:OFF)\nD1019 06:58:44.395704328      15 config.cc:119]                        gRPC EXPERIMENT monitoring_experiment               ON  (default:ON)\nD1019 06:58:44.395706529      15 config.cc:119]                        gRPC EXPERIMENT promise_based_client_call           OFF (default:OFF)\nD1019 06:58:44.395708820      15 config.cc:119]                        gRPC EXPERIMENT free_large_allocator                OFF (default:OFF)\nD1019 06:58:44.395711017      15 config.cc:119]                        gRPC EXPERIMENT promise_based_server_call           OFF (default:OFF)\nD1019 06:58:44.395713352      15 config.cc:119]                        gRPC EXPERIMENT transport_supplies_client_latency   OFF (default:OFF)\nD1019 06:58:44.395721850      15 config.cc:119]                        gRPC EXPERIMENT event_engine_listener               OFF (default:OFF)\nI1019 06:58:44.395978094      15 ev_epoll1_linux.cc:122]               grpc epoll fd: 70\nD1019 06:58:44.395992442      15 ev_posix.cc:144]                      Using polling engine: epoll1\nD1019 06:58:44.396033705      15 dns_resolver_ares.cc:822]             Using ares dns resolver\nD1019 06:58:44.396593778      15 lb_policy_registry.cc:46]             registering LB policy factory for \"priority_experimental\"\nD1019 06:58:44.396605542      15 lb_policy_registry.cc:46]             registering LB policy factory for \"outlier_detection_experimental\"\nD1019 06:58:44.396609010      15 lb_policy_registry.cc:46]             registering LB policy factory for \"weighted_target_experimental\"\nD1019 06:58:44.396612077      15 lb_policy_registry.cc:46]             registering LB policy factory for \"pick_first\"\nD1019 06:58:44.396615243      15 lb_policy_registry.cc:46]             registering LB policy factory for \"round_robin\"\nD1019 06:58:44.396618338      15 lb_policy_registry.cc:46]             registering LB policy factory for \"weighted_round_robin_experimental\"\nD1019 06:58:44.396626244      15 lb_policy_registry.cc:46]             registering LB policy factory for \"ring_hash_experimental\"\nD1019 06:58:44.396645756      15 lb_policy_registry.cc:46]             registering LB policy factory for \"grpclb\"\nD1019 06:58:44.396680004      15 lb_policy_registry.cc:46]             registering LB policy factory for \"rls_experimental\"\nD1019 06:58:44.396696472      15 lb_policy_registry.cc:46]             registering LB policy factory for \"xds_cluster_manager_experimental\"\nD1019 06:58:44.396700356      15 lb_policy_registry.cc:46]             registering LB policy factory for \"xds_cluster_impl_experimental\"\nD1019 06:58:44.396703670      15 lb_policy_registry.cc:46]             registering LB policy factory for \"cds_experimental\"\nD1019 06:58:44.396728266      15 lb_policy_registry.cc:46]             registering LB policy factory for \"xds_cluster_resolver_experimental\"\nD1019 06:58:44.396731979      15 lb_policy_registry.cc:46]             registering LB policy factory for \"xds_override_host_experimental\"\nD1019 06:58:44.396735762      15 lb_policy_registry.cc:46]             registering LB policy factory for \"xds_wrr_locality_experimental\"\nD1019 06:58:44.396740979      15 certificate_provider_registry.cc:35]  registering certificate provider factory for \"file_watcher\"\nI1019 06:58:44.400642685      15 socket_utils_common_posix.cc:408]     Disabling AF_INET6 sockets because ::1 is not available.\nI1019 06:58:44.416041354     377 socket_utils_common_posix.cc:337]     TCP_USER_TIMEOUT is available. TCP_USER_TIMEOUT will be used thereafter\nE1019 06:58:44.421656447     377 oauth2_credentials.cc:236]            oauth_fetch: UNKNOWN:C-ares status is not ARES_SUCCESS qtype=A name=metadata.google.internal. is_balancer=0: Domain name not found {grpc_status:2, created_time:\"2023-10-19T06:58:44.421640715+00:00\"}\n",
          "output_type": "stream"
        },
        {
          "name": "stdout",
          "text": "Downloading data from https://storage.googleapis.com/tensorflow/keras-applications/densenet/densenet121_weights_tf_dim_ordering_tf_kernels_notop.h5\n29084464/29084464 [==============================] - 0s 0us/step\n",
          "output_type": "stream"
        }
      ]
    },
    {
      "cell_type": "code",
      "source": [
        "from tensorflow.keras.callbacks import ReduceLROnPlateau\n",
        "from tensorflow.keras.callbacks import EarlyStopping, ModelCheckpoint\n",
        "\n",
        "# Reduce learning rate when the validation loss plateaus\n",
        "reduce_lr = ReduceLROnPlateau(monitor='val_loss', factor=0.2, patience=5, min_lr=1e-6)\n",
        "\n",
        "\n",
        "# Compile the model with optimizer and loss function\n",
        "model.compile(optimizer='SGD', loss='binary_crossentropy', metrics=['accuracy'])\n",
        "\n",
        "# Early stopping to prevent overfitting\n",
        "early_stop = EarlyStopping(monitor='val_loss', patience=10, restore_best_weights=True)\n",
        "\n",
        "# Save the best model during training\n",
        "model_checkpoint = ModelCheckpoint('best_model.h5', save_best_only=True)\n",
        "\n",
        "# Model Training with callbacks\n",
        "history = model.fit(train_imgs, train_labels, epochs=30, validation_data=(val_imgs, val_labels), callbacks=[reduce_lr, early_stop, model_checkpoint])\n",
        "\n",
        "# Evaluate the model\n",
        "test_loss, test_accuracy = model.evaluate(test_imgs, test_labels)\n",
        "print(f'Test Accuracy: {test_accuracy * 100:.2f}%')\n"
      ],
      "metadata": {
        "colab": {
          "base_uri": "https://localhost:8080/"
        },
        "id": "b4U11cTRIsJp",
        "outputId": "c76f7246-e171-411e-addc-17c494bba2cb",
        "execution": {
          "iopub.status.busy": "2023-10-19T06:58:58.624079Z",
          "iopub.execute_input": "2023-10-19T06:58:58.624410Z",
          "iopub.status.idle": "2023-10-19T07:54:05.709667Z",
          "shell.execute_reply.started": "2023-10-19T06:58:58.624364Z",
          "shell.execute_reply": "2023-10-19T07:54:05.708531Z"
        },
        "trusted": true
      },
      "execution_count": null,
      "outputs": [
        {
          "name": "stdout",
          "text": "Epoch 1/30\n33/33 [==============================] - 242s 7s/step - loss: 0.6585 - accuracy: 0.7000 - val_loss: 0.5851 - val_accuracy: 0.7289 - lr: 0.0100\nEpoch 2/30\n33/33 [==============================] - 219s 7s/step - loss: 0.4641 - accuracy: 0.8133 - val_loss: 0.4836 - val_accuracy: 0.8044 - lr: 0.0100\nEpoch 3/30\n33/33 [==============================] - 220s 7s/step - loss: 0.3136 - accuracy: 0.8705 - val_loss: 0.5736 - val_accuracy: 0.7111 - lr: 0.0100\nEpoch 4/30\n33/33 [==============================] - 217s 7s/step - loss: 0.1800 - accuracy: 0.9286 - val_loss: 0.5125 - val_accuracy: 0.8089 - lr: 0.0100\nEpoch 5/30\n33/33 [==============================] - 218s 7s/step - loss: 0.0995 - accuracy: 0.9581 - val_loss: 0.4295 - val_accuracy: 0.8222 - lr: 0.0100\nEpoch 6/30\n33/33 [==============================] - 219s 7s/step - loss: 0.0711 - accuracy: 0.9781 - val_loss: 0.5158 - val_accuracy: 0.8356 - lr: 0.0100\nEpoch 7/30\n33/33 [==============================] - 216s 7s/step - loss: 0.0191 - accuracy: 0.9971 - val_loss: 0.5504 - val_accuracy: 0.8711 - lr: 0.0100\nEpoch 8/30\n33/33 [==============================] - 220s 7s/step - loss: 0.0216 - accuracy: 0.9924 - val_loss: 0.6313 - val_accuracy: 0.8489 - lr: 0.0100\nEpoch 9/30\n33/33 [==============================] - 220s 7s/step - loss: 0.0154 - accuracy: 0.9971 - val_loss: 0.5175 - val_accuracy: 0.8533 - lr: 0.0100\nEpoch 10/30\n33/33 [==============================] - 218s 7s/step - loss: 0.0086 - accuracy: 1.0000 - val_loss: 0.5334 - val_accuracy: 0.8667 - lr: 0.0100\nEpoch 11/30\n33/33 [==============================] - 216s 7s/step - loss: 0.0087 - accuracy: 0.9971 - val_loss: 0.5484 - val_accuracy: 0.8533 - lr: 0.0020\nEpoch 12/30\n33/33 [==============================] - 218s 7s/step - loss: 0.0061 - accuracy: 0.9990 - val_loss: 0.5643 - val_accuracy: 0.8622 - lr: 0.0020\nEpoch 13/30\n33/33 [==============================] - 214s 6s/step - loss: 0.0085 - accuracy: 0.9990 - val_loss: 0.6009 - val_accuracy: 0.8756 - lr: 0.0020\nEpoch 14/30\n33/33 [==============================] - 222s 7s/step - loss: 0.0053 - accuracy: 0.9990 - val_loss: 0.6065 - val_accuracy: 0.8756 - lr: 0.0020\nEpoch 15/30\n33/33 [==============================] - 219s 7s/step - loss: 0.0040 - accuracy: 1.0000 - val_loss: 0.6124 - val_accuracy: 0.8667 - lr: 0.0020\n8/8 [==============================] - 8s 1s/step - loss: 0.4234 - accuracy: 0.7956\nTest Accuracy: 79.56%\n",
          "output_type": "stream"
        }
      ]
    },
    {
      "cell_type": "code",
      "source": [
        "def buildTrainData(catheter, train_data, size):\n",
        "\n",
        "    train_data = train_data[train_data[f'{catheter} - Present'] == 1]\n",
        "    train_data = train_data = train_data[~((train_data[f'{catheter} - Normal'] == 1) & (train_data[f'{catheter} - Abnormal'] == 1))]\n",
        "    train_data[f'{catheter} - Normal/Abnormal'] = np.where(train_data[f'{catheter} - Normal'] == 1, 1, 0)\n",
        "    sampled_data = pd.concat([train_data[train_data[f'{catheter} - Normal'] == 1].sample(n=size), train_data[train_data[f'{catheter} - Abnormal'] == 1].sample(n=size)])\n",
        "\n",
        "    return sampled_data"
      ],
      "metadata": {
        "execution": {
          "iopub.status.busy": "2023-10-19T08:12:47.796786Z",
          "iopub.execute_input": "2023-10-19T08:12:47.797435Z",
          "iopub.status.idle": "2023-10-19T08:12:47.803412Z",
          "shell.execute_reply.started": "2023-10-19T08:12:47.797404Z",
          "shell.execute_reply": "2023-10-19T08:12:47.802622Z"
        },
        "trusted": true,
        "id": "d20J87ucpN4X"
      },
      "execution_count": null,
      "outputs": []
    },
    {
      "cell_type": "code",
      "source": [
        "sample = buildTrainData('NGT', train_data, 250)\n",
        "sample[['NGT - Normal', 'NGT - Abnormal']].value_counts()\n"
      ],
      "metadata": {
        "execution": {
          "iopub.status.busy": "2023-10-19T08:12:50.312750Z",
          "iopub.execute_input": "2023-10-19T08:12:50.313091Z",
          "iopub.status.idle": "2023-10-19T08:12:50.328612Z",
          "shell.execute_reply.started": "2023-10-19T08:12:50.313064Z",
          "shell.execute_reply": "2023-10-19T08:12:50.327816Z"
        },
        "trusted": true,
        "id": "fFfp_aQepN4X",
        "outputId": "8e92547c-e2bb-4a80-f4b3-f04cbfce7a11"
      },
      "execution_count": null,
      "outputs": [
        {
          "execution_count": 42,
          "output_type": "execute_result",
          "data": {
            "text/plain": "NGT - Normal  NGT - Abnormal\n0             1                 250\n1             0                 250\nName: count, dtype: int64"
          },
          "metadata": {}
        }
      ]
    },
    {
      "cell_type": "code",
      "source": [
        "nAb_data = getFileNames(sample)\n",
        "\n",
        "ngt_imgs, fileIDs = processImages(nAb_data, 'train')"
      ],
      "metadata": {
        "execution": {
          "iopub.status.busy": "2023-10-19T08:13:16.620344Z",
          "iopub.execute_input": "2023-10-19T08:13:16.620677Z",
          "iopub.status.idle": "2023-10-19T08:13:35.753539Z",
          "shell.execute_reply.started": "2023-10-19T08:13:16.620650Z",
          "shell.execute_reply": "2023-10-19T08:13:35.752618Z"
        },
        "trusted": true,
        "id": "QrB1juAjpN4Y",
        "outputId": "0f156748-997d-4d3c-dc5e-edff2764c17e"
      },
      "execution_count": null,
      "outputs": [
        {
          "name": "stderr",
          "text": "100%|██████████| 500/500 [00:19<00:00, 26.20it/s]\n",
          "output_type": "stream"
        }
      ]
    },
    {
      "cell_type": "code",
      "source": [
        "UID = []\n",
        "for i in range(len(fileIDs)):\n",
        "  UID.append(fileIDs[i].replace(\".jpg\",\"\"))\n",
        "\n",
        "\n",
        "columns_to_drop = ['ETT - Abnormal', 'ETT - Borderline', 'ETT - Normal', 'NGT - Abnormal', 'NGT - Borderline', 'NGT - Normal',\n",
        "                  \"NGT - Incompletely Imaged\", \"Swan Ganz Catheter Present\", \"PatientID\", \"CVC - Borderline\", 'CVC - Abnormal', 'CVC - Normal', 'NGT - Present']\n",
        "\n",
        "NGTsample = sample.drop(columns=columns_to_drop, axis=1)\n",
        "\n",
        "NGTsample.set_index('StudyInstanceUID', inplace=True)\n",
        "\n",
        "NGTsample\n"
      ],
      "metadata": {
        "execution": {
          "iopub.status.busy": "2023-10-19T08:18:47.723011Z",
          "iopub.execute_input": "2023-10-19T08:18:47.723398Z",
          "iopub.status.idle": "2023-10-19T08:18:47.736033Z",
          "shell.execute_reply.started": "2023-10-19T08:18:47.723370Z",
          "shell.execute_reply": "2023-10-19T08:18:47.735243Z"
        },
        "trusted": true,
        "id": "97jKv21ppN4Y",
        "outputId": "e96f6fe9-e41f-4c17-e746-92f2c11a3551"
      },
      "execution_count": null,
      "outputs": [
        {
          "execution_count": 49,
          "output_type": "execute_result",
          "data": {
            "text/plain": "                                                    NGT - Normal/Abnormal\nStudyInstanceUID                                                         \n1.2.826.0.1.3680043.8.498.835577028525783441525...                      1\n1.2.826.0.1.3680043.8.498.334751883876496158658...                      1\n1.2.826.0.1.3680043.8.498.757058814848227778113...                      1\n1.2.826.0.1.3680043.8.498.828300371868166783788...                      1\n1.2.826.0.1.3680043.8.498.124223333563675616702...                      1\n...                                                                   ...\n1.2.826.0.1.3680043.8.498.772133053463199005142...                      0\n1.2.826.0.1.3680043.8.498.127078014108452509726...                      0\n1.2.826.0.1.3680043.8.498.648481976456820809669...                      0\n1.2.826.0.1.3680043.8.498.496511083892552715935...                      0\n1.2.826.0.1.3680043.8.498.820697484870504414780...                      0\n\n[500 rows x 1 columns]",
            "text/html": "<div>\n<style scoped>\n    .dataframe tbody tr th:only-of-type {\n        vertical-align: middle;\n    }\n\n    .dataframe tbody tr th {\n        vertical-align: top;\n    }\n\n    .dataframe thead th {\n        text-align: right;\n    }\n</style>\n<table border=\"1\" class=\"dataframe\">\n  <thead>\n    <tr style=\"text-align: right;\">\n      <th></th>\n      <th>NGT - Normal/Abnormal</th>\n    </tr>\n    <tr>\n      <th>StudyInstanceUID</th>\n      <th></th>\n    </tr>\n  </thead>\n  <tbody>\n    <tr>\n      <th>1.2.826.0.1.3680043.8.498.83557702852578344152590975521603931676</th>\n      <td>1</td>\n    </tr>\n    <tr>\n      <th>1.2.826.0.1.3680043.8.498.33475188387649615865841783605310668224</th>\n      <td>1</td>\n    </tr>\n    <tr>\n      <th>1.2.826.0.1.3680043.8.498.75705881484822777811302505593938591112</th>\n      <td>1</td>\n    </tr>\n    <tr>\n      <th>1.2.826.0.1.3680043.8.498.82830037186816678378898651543905905890</th>\n      <td>1</td>\n    </tr>\n    <tr>\n      <th>1.2.826.0.1.3680043.8.498.12422333356367561670298118556489412076</th>\n      <td>1</td>\n    </tr>\n    <tr>\n      <th>...</th>\n      <td>...</td>\n    </tr>\n    <tr>\n      <th>1.2.826.0.1.3680043.8.498.77213305346319900514294160115528863198</th>\n      <td>0</td>\n    </tr>\n    <tr>\n      <th>1.2.826.0.1.3680043.8.498.12707801410845250972678487173558836809</th>\n      <td>0</td>\n    </tr>\n    <tr>\n      <th>1.2.826.0.1.3680043.8.498.64848197645682080966935746451622376111</th>\n      <td>0</td>\n    </tr>\n    <tr>\n      <th>1.2.826.0.1.3680043.8.498.49651108389255271593507462962326144550</th>\n      <td>0</td>\n    </tr>\n    <tr>\n      <th>1.2.826.0.1.3680043.8.498.82069748487050441478024818899239025360</th>\n      <td>0</td>\n    </tr>\n  </tbody>\n</table>\n<p>500 rows × 1 columns</p>\n</div>"
          },
          "metadata": {}
        }
      ]
    },
    {
      "cell_type": "code",
      "source": [
        "# Extract UIDs from fileIDs\n",
        "UID = [fileID.replace(\".jpg\", \"\") for fileID in fileIDs]\n",
        "\n",
        "# List of columns to drop\n",
        "columns_to_drop = ['ETT - Abnormal', 'ETT - Borderline', 'ETT - Normal', 'NGT - Abnormal', 'NGT - Borderline', 'NGT - Normal',\n",
        "                  \"NGT - Incompletely Imaged\", \"Swan Ganz Catheter Present\", \"PatientID\", \"CVC - Borderline\",\n",
        "                  'CVC - Abnormal', 'CVC - Normal', 'CVC - Present']\n",
        "\n",
        "# Drop the columns and set index\n",
        "NGTsample = sample.drop(columns=columns_to_drop, errors='ignore')  # 'errors' parameter set to 'ignore' to avoid KeyError\n",
        "NGTsample.set_index('StudyInstanceUID', inplace=True)\n",
        "\n",
        "NGTsample\n",
        "\n"
      ],
      "metadata": {
        "execution": {
          "iopub.status.busy": "2023-10-19T08:18:51.465874Z",
          "iopub.execute_input": "2023-10-19T08:18:51.466803Z",
          "iopub.status.idle": "2023-10-19T08:18:51.479402Z",
          "shell.execute_reply.started": "2023-10-19T08:18:51.466765Z",
          "shell.execute_reply": "2023-10-19T08:18:51.478459Z"
        },
        "trusted": true,
        "id": "vYxZBBdKpN4Z",
        "outputId": "b66a62f7-07b6-4d68-e3d1-116e6970ada1"
      },
      "execution_count": null,
      "outputs": [
        {
          "execution_count": 50,
          "output_type": "execute_result",
          "data": {
            "text/plain": "                                                    NGT - Present  \\\nStudyInstanceUID                                                    \n1.2.826.0.1.3680043.8.498.835577028525783441525...              1   \n1.2.826.0.1.3680043.8.498.334751883876496158658...              1   \n1.2.826.0.1.3680043.8.498.757058814848227778113...              1   \n1.2.826.0.1.3680043.8.498.828300371868166783788...              1   \n1.2.826.0.1.3680043.8.498.124223333563675616702...              1   \n...                                                           ...   \n1.2.826.0.1.3680043.8.498.772133053463199005142...              1   \n1.2.826.0.1.3680043.8.498.127078014108452509726...              1   \n1.2.826.0.1.3680043.8.498.648481976456820809669...              1   \n1.2.826.0.1.3680043.8.498.496511083892552715935...              1   \n1.2.826.0.1.3680043.8.498.820697484870504414780...              1   \n\n                                                    NGT - Normal/Abnormal  \nStudyInstanceUID                                                           \n1.2.826.0.1.3680043.8.498.835577028525783441525...                      1  \n1.2.826.0.1.3680043.8.498.334751883876496158658...                      1  \n1.2.826.0.1.3680043.8.498.757058814848227778113...                      1  \n1.2.826.0.1.3680043.8.498.828300371868166783788...                      1  \n1.2.826.0.1.3680043.8.498.124223333563675616702...                      1  \n...                                                                   ...  \n1.2.826.0.1.3680043.8.498.772133053463199005142...                      0  \n1.2.826.0.1.3680043.8.498.127078014108452509726...                      0  \n1.2.826.0.1.3680043.8.498.648481976456820809669...                      0  \n1.2.826.0.1.3680043.8.498.496511083892552715935...                      0  \n1.2.826.0.1.3680043.8.498.820697484870504414780...                      0  \n\n[500 rows x 2 columns]",
            "text/html": "<div>\n<style scoped>\n    .dataframe tbody tr th:only-of-type {\n        vertical-align: middle;\n    }\n\n    .dataframe tbody tr th {\n        vertical-align: top;\n    }\n\n    .dataframe thead th {\n        text-align: right;\n    }\n</style>\n<table border=\"1\" class=\"dataframe\">\n  <thead>\n    <tr style=\"text-align: right;\">\n      <th></th>\n      <th>NGT - Present</th>\n      <th>NGT - Normal/Abnormal</th>\n    </tr>\n    <tr>\n      <th>StudyInstanceUID</th>\n      <th></th>\n      <th></th>\n    </tr>\n  </thead>\n  <tbody>\n    <tr>\n      <th>1.2.826.0.1.3680043.8.498.83557702852578344152590975521603931676</th>\n      <td>1</td>\n      <td>1</td>\n    </tr>\n    <tr>\n      <th>1.2.826.0.1.3680043.8.498.33475188387649615865841783605310668224</th>\n      <td>1</td>\n      <td>1</td>\n    </tr>\n    <tr>\n      <th>1.2.826.0.1.3680043.8.498.75705881484822777811302505593938591112</th>\n      <td>1</td>\n      <td>1</td>\n    </tr>\n    <tr>\n      <th>1.2.826.0.1.3680043.8.498.82830037186816678378898651543905905890</th>\n      <td>1</td>\n      <td>1</td>\n    </tr>\n    <tr>\n      <th>1.2.826.0.1.3680043.8.498.12422333356367561670298118556489412076</th>\n      <td>1</td>\n      <td>1</td>\n    </tr>\n    <tr>\n      <th>...</th>\n      <td>...</td>\n      <td>...</td>\n    </tr>\n    <tr>\n      <th>1.2.826.0.1.3680043.8.498.77213305346319900514294160115528863198</th>\n      <td>1</td>\n      <td>0</td>\n    </tr>\n    <tr>\n      <th>1.2.826.0.1.3680043.8.498.12707801410845250972678487173558836809</th>\n      <td>1</td>\n      <td>0</td>\n    </tr>\n    <tr>\n      <th>1.2.826.0.1.3680043.8.498.64848197645682080966935746451622376111</th>\n      <td>1</td>\n      <td>0</td>\n    </tr>\n    <tr>\n      <th>1.2.826.0.1.3680043.8.498.49651108389255271593507462962326144550</th>\n      <td>1</td>\n      <td>0</td>\n    </tr>\n    <tr>\n      <th>1.2.826.0.1.3680043.8.498.82069748487050441478024818899239025360</th>\n      <td>1</td>\n      <td>0</td>\n    </tr>\n  </tbody>\n</table>\n<p>500 rows × 2 columns</p>\n</div>"
          },
          "metadata": {}
        }
      ]
    },
    {
      "cell_type": "code",
      "source": [
        "train_labels_df = np.empty((0,3))\n",
        "data = []\n",
        "\n",
        "for ID in UID:\n",
        "    data.append(NGTsample.loc[ID])\n",
        "\n",
        "train_labels_df = pd.DataFrame(data)\n",
        "\n",
        "\n",
        "\n",
        "train_labels_df = train_labels_df.reindex(UID)\n",
        "ngt_labels = train_labels_df['NGT - Normal/Abnormal'].values\n",
        "# train_labels = train_labels_df.values\n",
        "ngt_labels\n"
      ],
      "metadata": {
        "execution": {
          "iopub.status.busy": "2023-10-19T08:18:54.341159Z",
          "iopub.execute_input": "2023-10-19T08:18:54.341491Z",
          "iopub.status.idle": "2023-10-19T08:18:54.389496Z",
          "shell.execute_reply.started": "2023-10-19T08:18:54.341465Z",
          "shell.execute_reply": "2023-10-19T08:18:54.388600Z"
        },
        "trusted": true,
        "id": "e3u8PtnopN4Z",
        "outputId": "8d331a31-6699-45a4-a996-429ac22d7580"
      },
      "execution_count": null,
      "outputs": [
        {
          "execution_count": 51,
          "output_type": "execute_result",
          "data": {
            "text/plain": "array([1, 1, 1, 1, 1, 1, 1, 1, 1, 1, 1, 1, 1, 1, 1, 1, 1, 1, 1, 1, 1, 1,\n       1, 1, 1, 1, 1, 1, 1, 1, 1, 1, 1, 1, 1, 1, 1, 1, 1, 1, 1, 1, 1, 1,\n       1, 1, 1, 1, 1, 1, 1, 1, 1, 1, 1, 1, 1, 1, 1, 1, 1, 1, 1, 1, 1, 1,\n       1, 1, 1, 1, 1, 1, 1, 1, 1, 1, 1, 1, 1, 1, 1, 1, 1, 1, 1, 1, 1, 1,\n       1, 1, 1, 1, 1, 1, 1, 1, 1, 1, 1, 1, 1, 1, 1, 1, 1, 1, 1, 1, 1, 1,\n       1, 1, 1, 1, 1, 1, 1, 1, 1, 1, 1, 1, 1, 1, 1, 1, 1, 1, 1, 1, 1, 1,\n       1, 1, 1, 1, 1, 1, 1, 1, 1, 1, 1, 1, 1, 1, 1, 1, 1, 1, 1, 1, 1, 1,\n       1, 1, 1, 1, 1, 1, 1, 1, 1, 1, 1, 1, 1, 1, 1, 1, 1, 1, 1, 1, 1, 1,\n       1, 1, 1, 1, 1, 1, 1, 1, 1, 1, 1, 1, 1, 1, 1, 1, 1, 1, 1, 1, 1, 1,\n       1, 1, 1, 1, 1, 1, 1, 1, 1, 1, 1, 1, 1, 1, 1, 1, 1, 1, 1, 1, 1, 1,\n       1, 1, 1, 1, 1, 1, 1, 1, 1, 1, 1, 1, 1, 1, 1, 1, 1, 1, 1, 1, 1, 1,\n       1, 1, 1, 1, 1, 1, 1, 1, 0, 0, 0, 0, 0, 0, 0, 0, 0, 0, 0, 0, 0, 0,\n       0, 0, 0, 0, 0, 0, 0, 0, 0, 0, 0, 0, 0, 0, 0, 0, 0, 0, 0, 0, 0, 0,\n       0, 0, 0, 0, 0, 0, 0, 0, 0, 0, 0, 0, 0, 0, 0, 0, 0, 0, 0, 0, 0, 0,\n       0, 0, 0, 0, 0, 0, 0, 0, 0, 0, 0, 0, 0, 0, 0, 0, 0, 0, 0, 0, 0, 0,\n       0, 0, 0, 0, 0, 0, 0, 0, 0, 0, 0, 0, 0, 0, 0, 0, 0, 0, 0, 0, 0, 0,\n       0, 0, 0, 0, 0, 0, 0, 0, 0, 0, 0, 0, 0, 0, 0, 0, 0, 0, 0, 0, 0, 0,\n       0, 0, 0, 0, 0, 0, 0, 0, 0, 0, 0, 0, 0, 0, 0, 0, 0, 0, 0, 0, 0, 0,\n       0, 0, 0, 0, 0, 0, 0, 0, 0, 0, 0, 0, 0, 0, 0, 0, 0, 0, 0, 0, 0, 0,\n       0, 0, 0, 0, 0, 0, 0, 0, 0, 0, 0, 0, 0, 0, 0, 0, 0, 0, 0, 0, 0, 0,\n       0, 0, 0, 0, 0, 0, 0, 0, 0, 0, 0, 0, 0, 0, 0, 0, 0, 0, 0, 0, 0, 0,\n       0, 0, 0, 0, 0, 0, 0, 0, 0, 0, 0, 0, 0, 0, 0, 0, 0, 0, 0, 0, 0, 0,\n       0, 0, 0, 0, 0, 0, 0, 0, 0, 0, 0, 0, 0, 0, 0, 0])"
          },
          "metadata": {}
        }
      ]
    },
    {
      "cell_type": "code",
      "source": [
        "from sklearn.model_selection import train_test_split\n",
        "\n",
        "# Split your data into training and temporary data (combined validation and test)\n",
        "trainNGT_imgs, temp_imgs, trainNGT_labels, temp_labels = train_test_split(ngt_imgs, ngt_labels, test_size=0.2, random_state=42)\n",
        "\n",
        "# Split the temporary data into validation and test sets\n",
        "valNGT_imgs, testNGT_imgs, valNGT_labels, testNGT_labels = train_test_split(temp_imgs, temp_labels, test_size=0.5, random_state=42)"
      ],
      "metadata": {
        "execution": {
          "iopub.status.busy": "2023-10-19T08:18:57.510634Z",
          "iopub.execute_input": "2023-10-19T08:18:57.510979Z",
          "iopub.status.idle": "2023-10-19T08:18:57.562654Z",
          "shell.execute_reply.started": "2023-10-19T08:18:57.510940Z",
          "shell.execute_reply": "2023-10-19T08:18:57.561693Z"
        },
        "trusted": true,
        "id": "JHAuCdbupN4Z"
      },
      "execution_count": null,
      "outputs": []
    },
    {
      "cell_type": "code",
      "source": [
        "from tensorflow.keras.applications.densenet import DenseNet121\n",
        "from tensorflow.keras.layers import Dense, GlobalAveragePooling2D\n",
        "from tensorflow.keras.models import Model\n",
        "from tensorflow.keras.optimizers import Adam\n",
        "from tensorflow.keras.layers import Dropout, BatchNormalization\n",
        "from tensorflow.keras.callbacks import ReduceLROnPlateau\n",
        "from tensorflow.keras.callbacks import EarlyStopping, ModelCheckpoint\n",
        "base_model = DenseNet121(weights='imagenet', include_top=False)\n",
        "\n",
        "\n",
        "# Add dropout and batch normalization to custom fully connected layers\n",
        "x = base_model.output\n",
        "x = GlobalAveragePooling2D()(x)\n",
        "x = Dense(1024, activation='relu')(x)\n",
        "x = BatchNormalization()(x)\n",
        "x = Dropout(0.5)(x)\n",
        "predictions = Dense(1, activation='sigmoid')(x)\n",
        "model = Model(inputs=base_model.input, outputs=predictions)\n",
        "\n",
        "# Reduce learning rate when the validation loss plateaus\n",
        "reduce_lr = ReduceLROnPlateau(monitor='val_loss', factor=0.2, patience=5, min_lr=1e-6)\n",
        "\n",
        "\n",
        "# Compile the model with optimizer and loss function\n",
        "model.compile(optimizer='SGD', loss='binary_crossentropy', metrics=['accuracy'])\n",
        "\n",
        "# Early stopping to prevent overfitting\n",
        "early_stop = EarlyStopping(monitor='val_loss', patience=10, restore_best_weights=True)\n",
        "\n",
        "# Save the best model during training\n",
        "model_checkpoint = ModelCheckpoint('best_model.h5', save_best_only=True)\n",
        "\n",
        "# Model Training with callbacks\n",
        "history = model.fit(trainNGT_imgs, trainNGT_labels, epochs=30, validation_data=(val_imgs, val_labels), callbacks=[reduce_lr, early_stop, model_checkpoint])\n",
        "\n",
        "# Evaluate the model\n",
        "test_loss, test_accuracy = model.evaluate(test_imgs, test_labels)\n",
        "print(f'Test Accuracy: {test_accuracy * 100:.2f}%')"
      ],
      "metadata": {
        "execution": {
          "iopub.status.busy": "2023-10-19T08:22:03.217980Z",
          "iopub.execute_input": "2023-10-19T08:22:03.219353Z",
          "iopub.status.idle": "2023-10-19T08:47:14.693847Z",
          "shell.execute_reply.started": "2023-10-19T08:22:03.219315Z",
          "shell.execute_reply": "2023-10-19T08:47:14.692897Z"
        },
        "trusted": true,
        "id": "XjVKHuw9pN4Z",
        "outputId": "bc18a840-ec53-4547-a4e1-e03291c5321f"
      },
      "execution_count": null,
      "outputs": [
        {
          "name": "stdout",
          "text": "Epoch 1/30\n13/13 [==============================] - 106s 7s/step - loss: 0.8169 - accuracy: 0.6050 - val_loss: 0.7350 - val_accuracy: 0.4844 - lr: 0.0100\nEpoch 2/30\n13/13 [==============================] - 87s 7s/step - loss: 0.6494 - accuracy: 0.6725 - val_loss: 0.6992 - val_accuracy: 0.4800 - lr: 0.0100\nEpoch 3/30\n13/13 [==============================] - 88s 7s/step - loss: 0.4995 - accuracy: 0.7775 - val_loss: 0.7756 - val_accuracy: 0.4667 - lr: 0.0100\nEpoch 4/30\n13/13 [==============================] - 89s 7s/step - loss: 0.2937 - accuracy: 0.8875 - val_loss: 0.6905 - val_accuracy: 0.5422 - lr: 0.0100\nEpoch 5/30\n13/13 [==============================] - 87s 7s/step - loss: 0.2128 - accuracy: 0.9225 - val_loss: 0.6453 - val_accuracy: 0.6089 - lr: 0.0100\nEpoch 6/30\n13/13 [==============================] - 86s 7s/step - loss: 0.0854 - accuracy: 0.9675 - val_loss: 0.6639 - val_accuracy: 0.5778 - lr: 0.0100\nEpoch 7/30\n13/13 [==============================] - 88s 7s/step - loss: 0.0450 - accuracy: 0.9875 - val_loss: 0.6268 - val_accuracy: 0.6578 - lr: 0.0100\nEpoch 8/30\n13/13 [==============================] - 86s 7s/step - loss: 0.0308 - accuracy: 0.9950 - val_loss: 0.6437 - val_accuracy: 0.6267 - lr: 0.0100\nEpoch 9/30\n13/13 [==============================] - 86s 7s/step - loss: 0.0207 - accuracy: 1.0000 - val_loss: 0.6352 - val_accuracy: 0.6622 - lr: 0.0100\nEpoch 10/30\n13/13 [==============================] - 86s 7s/step - loss: 0.0073 - accuracy: 1.0000 - val_loss: 0.6646 - val_accuracy: 0.6756 - lr: 0.0100\nEpoch 11/30\n13/13 [==============================] - 86s 7s/step - loss: 0.0092 - accuracy: 1.0000 - val_loss: 0.6716 - val_accuracy: 0.6978 - lr: 0.0100\nEpoch 12/30\n13/13 [==============================] - 87s 7s/step - loss: 0.0074 - accuracy: 1.0000 - val_loss: 0.6829 - val_accuracy: 0.6844 - lr: 0.0100\nEpoch 13/30\n13/13 [==============================] - 87s 7s/step - loss: 0.0076 - accuracy: 1.0000 - val_loss: 0.7033 - val_accuracy: 0.7067 - lr: 0.0020\nEpoch 14/30\n13/13 [==============================] - 87s 7s/step - loss: 0.0059 - accuracy: 1.0000 - val_loss: 0.7239 - val_accuracy: 0.6978 - lr: 0.0020\nEpoch 15/30\n13/13 [==============================] - 88s 7s/step - loss: 0.0055 - accuracy: 1.0000 - val_loss: 0.7463 - val_accuracy: 0.6889 - lr: 0.0020\nEpoch 16/30\n13/13 [==============================] - 88s 7s/step - loss: 0.0060 - accuracy: 1.0000 - val_loss: 0.7640 - val_accuracy: 0.6933 - lr: 0.0020\nEpoch 17/30\n13/13 [==============================] - 88s 7s/step - loss: 0.0043 - accuracy: 1.0000 - val_loss: 0.7804 - val_accuracy: 0.7067 - lr: 0.0020\n8/8 [==============================] - 8s 959ms/step - loss: 0.5868 - accuracy: 0.7289\nTest Accuracy: 72.89%\n",
          "output_type": "stream"
        }
      ]
    },
    {
      "cell_type": "code",
      "source": [
        "pip install seaborn\n"
      ],
      "metadata": {
        "execution": {
          "iopub.status.busy": "2023-10-19T08:49:16.727133Z",
          "iopub.execute_input": "2023-10-19T08:49:16.727471Z",
          "iopub.status.idle": "2023-10-19T08:49:22.771860Z",
          "shell.execute_reply.started": "2023-10-19T08:49:16.727446Z",
          "shell.execute_reply": "2023-10-19T08:49:22.770679Z"
        },
        "trusted": true,
        "id": "wd5iqO6ApN4a",
        "outputId": "a8a4fce6-351c-4687-b641-9e89c23740ec"
      },
      "execution_count": null,
      "outputs": [
        {
          "name": "stdout",
          "text": "Collecting seaborn\n  Downloading seaborn-0.13.0-py3-none-any.whl (294 kB)\n\u001b[2K     \u001b[90m━━━━━━━━━━━━━━━━━━━━━━━━━━━━━━━━━━━━━━━\u001b[0m \u001b[32m294.6/294.6 kB\u001b[0m \u001b[31m6.1 MB/s\u001b[0m eta \u001b[36m0:00:00\u001b[0ma \u001b[36m0:00:01\u001b[0m\n\u001b[?25hRequirement already satisfied: matplotlib!=3.6.1,>=3.3 in /usr/local/lib/python3.8/site-packages (from seaborn) (3.7.2)\nRequirement already satisfied: pandas>=1.2 in /usr/local/lib/python3.8/site-packages (from seaborn) (2.0.3)\nRequirement already satisfied: numpy!=1.24.0,>=1.20 in /usr/local/lib/python3.8/site-packages (from seaborn) (1.23.5)\nRequirement already satisfied: kiwisolver>=1.0.1 in /usr/local/lib/python3.8/site-packages (from matplotlib!=3.6.1,>=3.3->seaborn) (1.4.4)\nRequirement already satisfied: cycler>=0.10 in /usr/local/lib/python3.8/site-packages (from matplotlib!=3.6.1,>=3.3->seaborn) (0.11.0)\nRequirement already satisfied: python-dateutil>=2.7 in /usr/local/lib/python3.8/site-packages (from matplotlib!=3.6.1,>=3.3->seaborn) (2.8.2)\nRequirement already satisfied: packaging>=20.0 in /usr/local/lib/python3.8/site-packages (from matplotlib!=3.6.1,>=3.3->seaborn) (23.1)\nRequirement already satisfied: fonttools>=4.22.0 in /usr/local/lib/python3.8/site-packages (from matplotlib!=3.6.1,>=3.3->seaborn) (4.40.0)\nRequirement already satisfied: importlib-resources>=3.2.0 in /usr/local/lib/python3.8/site-packages (from matplotlib!=3.6.1,>=3.3->seaborn) (6.0.0)\nRequirement already satisfied: contourpy>=1.0.1 in /usr/local/lib/python3.8/site-packages (from matplotlib!=3.6.1,>=3.3->seaborn) (1.1.0)\nRequirement already satisfied: pyparsing<3.1,>=2.3.1 in /usr/local/lib/python3.8/site-packages (from matplotlib!=3.6.1,>=3.3->seaborn) (3.0.9)\nRequirement already satisfied: pillow>=6.2.0 in /usr/local/lib/python3.8/site-packages (from matplotlib!=3.6.1,>=3.3->seaborn) (10.0.0)\nRequirement already satisfied: pytz>=2020.1 in /usr/local/lib/python3.8/site-packages (from pandas>=1.2->seaborn) (2023.3)\nRequirement already satisfied: tzdata>=2022.1 in /usr/local/lib/python3.8/site-packages (from pandas>=1.2->seaborn) (2023.3)\nRequirement already satisfied: zipp>=3.1.0 in /usr/local/lib/python3.8/site-packages (from importlib-resources>=3.2.0->matplotlib!=3.6.1,>=3.3->seaborn) (3.15.0)\nRequirement already satisfied: six>=1.5 in /usr/local/lib/python3.8/site-packages (from python-dateutil>=2.7->matplotlib!=3.6.1,>=3.3->seaborn) (1.16.0)\nInstalling collected packages: seaborn\nSuccessfully installed seaborn-0.13.0\n\u001b[33mWARNING: Running pip as the 'root' user can result in broken permissions and conflicting behaviour with the system package manager. It is recommended to use a virtual environment instead: https://pip.pypa.io/warnings/venv\u001b[0m\u001b[33m\n\u001b[0m\n\u001b[1m[\u001b[0m\u001b[34;49mnotice\u001b[0m\u001b[1;39;49m]\u001b[0m\u001b[39;49m A new release of pip is available: \u001b[0m\u001b[31;49m23.0.1\u001b[0m\u001b[39;49m -> \u001b[0m\u001b[32;49m23.3\u001b[0m\n\u001b[1m[\u001b[0m\u001b[34;49mnotice\u001b[0m\u001b[1;39;49m]\u001b[0m\u001b[39;49m To update, run: \u001b[0m\u001b[32;49mpip install --upgrade pip\u001b[0m\nNote: you may need to restart the kernel to use updated packages.\n",
          "output_type": "stream"
        }
      ]
    },
    {
      "cell_type": "code",
      "source": [
        "\n",
        "\n",
        "import seaborn as sns\n",
        "\n",
        "# Make predictions\n",
        "predictions = model.predict(test_imgs)\n",
        "\n",
        "# Convert the predictions to a binary array\n",
        "predictions_binary = np.where(predictions > 0.5, 1, 0)\n",
        "\n",
        "\n",
        "from sklearn.metrics import confusion_matrix\n",
        "\n",
        "# Create the confusion matrix\n",
        "confusion_matrix = confusion_matrix(test_labels, predictions_binary)\n",
        "\n",
        "plt.gca().patch.set_facecolor('none')\n",
        "\n",
        "\n",
        "\n",
        "custom_palette = ['#D3E0EA', '#AAB8C4', '#8498A2', '#5D7D88', '#3C6270',\n",
        "                  '#1F465E', '#132D4B', '#0A1C36', '#051024', '#020916']\n",
        "\n",
        "# Create a heatmap plot of the confusion matrix\n",
        "sns.heatmap(confusion_matrix, annot=True, cmap=custom_palette)\n",
        "plt.xlabel('Predicted')\n",
        "plt.ylabel('Actual')\n",
        "plt.title('Confusion Matrix')\n",
        "plt.show()"
      ],
      "metadata": {
        "execution": {
          "iopub.status.busy": "2023-10-19T08:49:38.603470Z",
          "iopub.execute_input": "2023-10-19T08:49:38.604467Z",
          "iopub.status.idle": "2023-10-19T08:49:48.826962Z",
          "shell.execute_reply.started": "2023-10-19T08:49:38.604429Z",
          "shell.execute_reply": "2023-10-19T08:49:48.825997Z"
        },
        "trusted": true,
        "id": "0BlbUGxbpN4a",
        "outputId": "e60fa6cb-5041-4722-bd84-a42ff323825a"
      },
      "execution_count": null,
      "outputs": [
        {
          "name": "stdout",
          "text": "8/8 [==============================] - 10s 961ms/step\n",
          "output_type": "stream"
        },
        {
          "output_type": "display_data",
          "data": {
            "text/plain": "<Figure size 640x480 with 2 Axes>",
            "image/png": "[encoded data removed]"
          },
          "metadata": {}
        }
      ]
    },
    {
      "cell_type": "code",
      "source": [],
      "metadata": {
        "execution": {
          "iopub.status.busy": "2023-10-19T09:10:04.910070Z",
          "iopub.execute_input": "2023-10-19T09:10:04.910518Z",
          "iopub.status.idle": "2023-10-19T09:10:44.971279Z",
          "shell.execute_reply.started": "2023-10-19T09:10:04.910385Z",
          "shell.execute_reply": "2023-10-19T09:10:44.970168Z"
        },
        "trusted": true,
        "id": "bFq87prNpN4b",
        "outputId": "98b07a5e-bc50-4467-de16-c394d5735be9"
      },
      "execution_count": null,
      "outputs": [
        {
          "name": "stderr",
          "text": "D1019 09:10:36.425302730      15 config.cc:119]                        gRPC EXPERIMENT tcp_frame_size_tuning               OFF (default:OFF)\nD1019 09:10:36.425347332      15 config.cc:119]                        gRPC EXPERIMENT tcp_rcv_lowat                       OFF (default:OFF)\nD1019 09:10:36.425351241      15 config.cc:119]                        gRPC EXPERIMENT peer_state_based_framing            OFF (default:OFF)\nD1019 09:10:36.425353899      15 config.cc:119]                        gRPC EXPERIMENT flow_control_fixes                  ON  (default:ON)\nD1019 09:10:36.425356218      15 config.cc:119]                        gRPC EXPERIMENT memory_pressure_controller          OFF (default:OFF)\nD1019 09:10:36.425358631      15 config.cc:119]                        gRPC EXPERIMENT unconstrained_max_quota_buffer_size OFF (default:OFF)\nD1019 09:10:36.425360897      15 config.cc:119]                        gRPC EXPERIMENT new_hpack_huffman_decoder           ON  (default:ON)\nD1019 09:10:36.425363412      15 config.cc:119]                        gRPC EXPERIMENT event_engine_client                 OFF (default:OFF)\nD1019 09:10:36.425365499      15 config.cc:119]                        gRPC EXPERIMENT monitoring_experiment               ON  (default:ON)\nD1019 09:10:36.425367710      15 config.cc:119]                        gRPC EXPERIMENT promise_based_client_call           OFF (default:OFF)\nD1019 09:10:36.425369755      15 config.cc:119]                        gRPC EXPERIMENT free_large_allocator                OFF (default:OFF)\nD1019 09:10:36.425371784      15 config.cc:119]                        gRPC EXPERIMENT promise_based_server_call           OFF (default:OFF)\nD1019 09:10:36.425373842      15 config.cc:119]                        gRPC EXPERIMENT transport_supplies_client_latency   OFF (default:OFF)\nD1019 09:10:36.425375975      15 config.cc:119]                        gRPC EXPERIMENT event_engine_listener               OFF (default:OFF)\nI1019 09:10:36.425573167      15 ev_epoll1_linux.cc:122]               grpc epoll fd: 62\nD1019 09:10:36.425585421      15 ev_posix.cc:144]                      Using polling engine: epoll1\nD1019 09:10:36.425659938      15 dns_resolver_ares.cc:822]             Using ares dns resolver\nD1019 09:10:36.440910472      15 lb_policy_registry.cc:46]             registering LB policy factory for \"priority_experimental\"\nD1019 09:10:36.440925364      15 lb_policy_registry.cc:46]             registering LB policy factory for \"outlier_detection_experimental\"\nD1019 09:10:36.440929307      15 lb_policy_registry.cc:46]             registering LB policy factory for \"weighted_target_experimental\"\nD1019 09:10:36.440932541      15 lb_policy_registry.cc:46]             registering LB policy factory for \"pick_first\"\nD1019 09:10:36.440935882      15 lb_policy_registry.cc:46]             registering LB policy factory for \"round_robin\"\nD1019 09:10:36.440938809      15 lb_policy_registry.cc:46]             registering LB policy factory for \"weighted_round_robin_experimental\"\nD1019 09:10:36.440947537      15 lb_policy_registry.cc:46]             registering LB policy factory for \"ring_hash_experimental\"\nD1019 09:10:36.440968022      15 lb_policy_registry.cc:46]             registering LB policy factory for \"grpclb\"\nD1019 09:10:36.441001230      15 lb_policy_registry.cc:46]             registering LB policy factory for \"rls_experimental\"\nD1019 09:10:36.441018053      15 lb_policy_registry.cc:46]             registering LB policy factory for \"xds_cluster_manager_experimental\"\nD1019 09:10:36.441021874      15 lb_policy_registry.cc:46]             registering LB policy factory for \"xds_cluster_impl_experimental\"\nD1019 09:10:36.441025245      15 lb_policy_registry.cc:46]             registering LB policy factory for \"cds_experimental\"\nD1019 09:10:36.441032781      15 lb_policy_registry.cc:46]             registering LB policy factory for \"xds_cluster_resolver_experimental\"\nD1019 09:10:36.441036080      15 lb_policy_registry.cc:46]             registering LB policy factory for \"xds_override_host_experimental\"\nD1019 09:10:36.441039329      15 lb_policy_registry.cc:46]             registering LB policy factory for \"xds_wrr_locality_experimental\"\nD1019 09:10:36.441043558      15 certificate_provider_registry.cc:35]  registering certificate provider factory for \"file_watcher\"\nI1019 09:10:36.444449441      15 socket_utils_common_posix.cc:408]     Disabling AF_INET6 sockets because ::1 is not available.\nI1019 09:10:36.468923958     246 socket_utils_common_posix.cc:337]     TCP_USER_TIMEOUT is available. TCP_USER_TIMEOUT will be used thereafter\nE1019 09:10:36.483780255     246 oauth2_credentials.cc:236]            oauth_fetch: UNKNOWN:C-ares status is not ARES_SUCCESS qtype=A name=metadata.google.internal. is_balancer=0: Domain name not found {created_time:\"2023-10-19T09:10:36.483767675+00:00\", grpc_status:2}\n",
          "output_type": "stream"
        },
        {
          "traceback": [
            "\u001b[0;31m---------------------------------------------------------------------------\u001b[0m",
            "\u001b[0;31mNameError\u001b[0m                                 Traceback (most recent call last)",
            "Cell \u001b[0;32mIn[1], line 4\u001b[0m\n\u001b[1;32m      1\u001b[0m \u001b[38;5;28;01mfrom\u001b[39;00m \u001b[38;5;21;01mtensorflow\u001b[39;00m\u001b[38;5;21;01m.\u001b[39;00m\u001b[38;5;21;01mkeras\u001b[39;00m\u001b[38;5;21;01m.\u001b[39;00m\u001b[38;5;21;01mutils\u001b[39;00m \u001b[38;5;28;01mimport\u001b[39;00m plot_model\n\u001b[1;32m      3\u001b[0m \u001b[38;5;66;03m# Plot model architecture\u001b[39;00m\n\u001b[0;32m----> 4\u001b[0m plot_model(\u001b[43mmodel\u001b[49m, to_file\u001b[38;5;241m=\u001b[39m\u001b[38;5;124m'\u001b[39m\u001b[38;5;124mmodel_architecture.png\u001b[39m\u001b[38;5;124m'\u001b[39m, show_shapes\u001b[38;5;241m=\u001b[39m\u001b[38;5;28;01mTrue\u001b[39;00m, show_layer_names\u001b[38;5;241m=\u001b[39m\u001b[38;5;28;01mTrue\u001b[39;00m)\n",
            "\u001b[0;31mNameError\u001b[0m: name 'model' is not defined"
          ],
          "ename": "NameError",
          "evalue": "name 'model' is not defined",
          "output_type": "error"
        }
      ]
    },
    {
      "cell_type": "code",
      "source": [],
      "metadata": {
        "id": "bIqKIDripN4b"
      },
      "execution_count": null,
      "outputs": []
    }
  ]
}