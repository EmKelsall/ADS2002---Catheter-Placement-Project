{
  "nbformat": 4,
  "nbformat_minor": 0,
  "metadata": {
    "colab": {
      "provenance": [],
      "authorship_tag": "ABX9TyNqzMpdUPi6wT1kWnvD9TDY",
      "include_colab_link": true
    },
    "kernelspec": {
      "name": "python3",
      "display_name": "Python 3"
    },
    "language_info": {
      "name": "python"
    }
  },
  "cells": [
    {
      "cell_type": "markdown",
      "metadata": {
        "id": "view-in-github",
        "colab_type": "text"
      },
      "source": [
        "<a href=\"https://colab.research.google.com/github/EmKelsall/ADS2002---Catheter-Placement-Project/blob/main/SVM_2D_trial.ipynb\" target=\"_parent\"><img src=\"https://colab.research.google.com/assets/colab-badge.svg\" alt=\"Open In Colab\"/></a>"
      ]
    },
    {
      "cell_type": "code",
      "execution_count": 2,
      "metadata": {
        "id": "X4Qash2ZNWAr"
      },
      "outputs": [],
      "source": [
        "import pandas as pd\n",
        "import os\n",
        "import cv2\n",
        "import numpy as np\n",
        "from sklearn.model_selection import train_test_split\n",
        "from sklearn import svm\n",
        "from sklearn.metrics import accuracy_score, classification_report\n",
        "from PIL import Image"
      ]
    },
    {
      "cell_type": "code",
      "source": [
        "from google.colab import drive\n",
        "drive.mount('/content/drive')\n",
        "\n",
        "%cd /content/drive/MyDrive/ADS2002-Project-CatheterPlacement\n",
        "\n"
      ],
      "metadata": {
        "colab": {
          "base_uri": "https://localhost:8080/"
        },
        "id": "y9TRzu2XNX61",
        "outputId": "9f011ece-fed8-4120-e78b-c0c06bf225bf"
      },
      "execution_count": 3,
      "outputs": [
        {
          "output_type": "stream",
          "name": "stdout",
          "text": [
            "Drive already mounted at /content/drive; to attempt to forcibly remount, call drive.mount(\"/content/drive\", force_remount=True).\n",
            "/content/drive/.shortcut-targets-by-id/1sDmXQTrvwQhCF8mWDh9phnwM9axaYjjb/ADS2002-Project-CatheterPlacement\n"
          ]
        }
      ]
    },
    {
      "cell_type": "code",
      "source": [
        "# Define the image dimensions for 2D data\n",
        "image_width = 600\n",
        "image_height = 600\n",
        "num_channels = 3  # Assuming RGB images"
      ],
      "metadata": {
        "id": "GRgGv3tfSYxH"
      },
      "execution_count": 3,
      "outputs": []
    },
    {
      "cell_type": "code",
      "source": [
        "filenames = os.listdir(\"Data/train\")\n",
        "train_imgs = np.empty((0, image_width, image_height, num_channels))\n",
        "FileIDs = []\n"
      ],
      "metadata": {
        "id": "_6Vv1L1DSbNi"
      },
      "execution_count": 4,
      "outputs": []
    },
    {
      "cell_type": "code",
      "source": [
        "# Load and preprocess your 2D images\n",
        "# filenames = os.listdir(\"Data/train\")\n",
        "# train_imgs = np.empty((0, 600, 600, 3))  # Assuming 3 channels (RGB)\n",
        "# FileIDs = []\n",
        "# lst = []"
      ],
      "metadata": {
        "id": "b65D0UIpNa06"
      },
      "execution_count": 10,
      "outputs": []
    },
    {
      "cell_type": "markdown",
      "source": [
        "old:"
      ],
      "metadata": {
        "id": "Q8hOgPVPSjA8"
      }
    },
    {
      "cell_type": "code",
      "source": [
        "count = 0\n",
        "for file in filenames:\n",
        "    if count == 500:\n",
        "        break\n",
        "\n",
        "    # Making sure the images are the same pixel size\n",
        "    img = Image.open(f\"/content/drive/MyDrive/ADS2002-Project-CatheterPlacement/Data/train/{file}\")\n",
        "    img = img.resize((600, 600))\n",
        "\n",
        "    # Convert the image to RGB if it's not already\n",
        "    if img.mode != 'RGB':\n",
        "        img = img.convert('RGB')\n",
        "\n",
        "    img = np.array(img)\n",
        "\n",
        "    # Save filename for later\n",
        "    FileIDs.append(file)\n",
        "\n",
        "    # Adding to train_imgs array\n",
        "    train_imgs = np.concatenate((train_imgs, img.reshape(1, 600, 600, 3)), axis=0)\n",
        "\n",
        "    count += 1"
      ],
      "metadata": {
        "id": "Fbh36HkvOxgz"
      },
      "execution_count": 15,
      "outputs": []
    },
    {
      "cell_type": "markdown",
      "source": [
        "new:"
      ],
      "metadata": {
        "id": "FnwsBv8eSkIs"
      }
    },
    {
      "cell_type": "code",
      "source": [
        "count = 0\n",
        "for file in filenames:\n",
        "    if count == 500:\n",
        "        break\n",
        "\n",
        "    # Load and resize the image\n",
        "    img = Image.open(f\"/content/drive/MyDrive/ADS2002-Project-CatheterPlacement/Data/train/{file}\")\n",
        "    img = img.resize((image_width, image_height))\n",
        "\n",
        "    # Ensure the image has the correct number of channels (RGB)\n",
        "    img = img.convert(\"RGB\")\n",
        "\n",
        "    # Convert the image to a NumPy array\n",
        "    img = np.array(img)\n",
        "\n",
        "    # Save filename for later\n",
        "    FileIDs.append(file)\n",
        "\n",
        "    # Adding to train_imgs array\n",
        "    train_imgs = np.concatenate((train_imgs, img.reshape(1, image_width, image_height, num_channels)), axis=0)\n",
        "\n",
        "    count += 1\n"
      ],
      "metadata": {
        "id": "YBpMl8RTSgxc"
      },
      "execution_count": 5,
      "outputs": []
    },
    {
      "cell_type": "code",
      "source": [
        "# Load only CVC labels\n",
        "train_data = pd.read_csv(\"/content/drive/MyDrive/ADS2002-Project-CatheterPlacement/Data/train.csv\")\n",
        "CVC_labels = train_data[[\"StudyInstanceUID\", \"CVC - Abnormal\", \"CVC - Borderline\", \"CVC - Normal\"]]\n",
        "CVC_labels.set_index('StudyInstanceUID', inplace=True)\n",
        "\n",
        "# Match labels with loaded images based on filenames\n",
        "UID = [file.replace(\".jpg\", \"\") for file in FileIDs]\n",
        "train_labels_df = CVC_labels.loc[CVC_labels.index.isin(UID)]\n",
        "train_labels = train_labels_df.values\n"
      ],
      "metadata": {
        "id": "xjBRiGBHjA9K"
      },
      "execution_count": 6,
      "outputs": []
    },
    {
      "cell_type": "code",
      "source": [
        "# # Load labels or any other required data\n",
        "# train_data = pd.read_csv(\"/content/drive/MyDrive/ADS2002-Project-CatheterPlacement/Data/train.csv\")\n",
        "\n",
        "# # Assuming your labels are encoded as 0, 1, 2\n",
        "# UID = [file.replace(\".jpg\", \"\") for file in FileIDs]\n",
        "# train_labels_df = train_data.loc[train_data['StudyInstanceUID'].isin(UID)][[\"StudyInstanceUID\", \"CVC - Abnormal\", \"CVC - Borderline\", \"CVC - Normal\"]]\n",
        "# train_labels_df.set_index('StudyInstanceUID', inplace=True)\n",
        "# train_labels = train_labels_df.values"
      ],
      "metadata": {
        "id": "wE81R0k3Zhnr"
      },
      "execution_count": 6,
      "outputs": []
    },
    {
      "cell_type": "code",
      "source": [
        "# Assuming you have labels encoded as 0, 1, 2\n",
        "# Flatten the images in train_imgs\n",
        "train_imgs_flattened = train_imgs.reshape(train_imgs.shape[0], -1)\n"
      ],
      "metadata": {
        "id": "XH-cRauqZjcI"
      },
      "execution_count": 7,
      "outputs": []
    },
    {
      "cell_type": "code",
      "source": [
        "# Split the data into training and testing sets\n",
        "from sklearn.model_selection import train_test_split\n",
        "X_train, X_test, Y_train, Y_test = train_test_split(train_imgs_flattened, train_labels, test_size=0.2, random_state=42)\n"
      ],
      "metadata": {
        "id": "O4FxPHa1ZltK"
      },
      "execution_count": 8,
      "outputs": []
    },
    {
      "cell_type": "code",
      "source": [
        "# Convert one-hot encoded labels to class indices\n",
        "Y_train_indices = np.argmax(Y_train, axis=1)\n",
        "Y_test_indices = np.argmax(Y_test, axis=1)\n"
      ],
      "metadata": {
        "id": "0EvEwztNl50k"
      },
      "execution_count": 11,
      "outputs": []
    },
    {
      "cell_type": "code",
      "source": [
        "# Initialize an SVM classifier\n",
        "from sklearn import svm\n",
        "svm_classifier = svm.SVC(kernel='linear')  # You can choose the kernel type you prefer\n",
        "\n",
        "# Train the SVM model with your data and labels\n",
        "svm_classifier.fit(X_train, Y_train_indices)  # Use Y_train_indices instead of Y_train\n",
        "\n",
        "# Make predictions on the test set\n",
        "y_pred_indices = svm_classifier.predict(X_test)\n",
        "\n",
        "# Evaluate the model using accuracy and classification report\n",
        "from sklearn.metrics import accuracy_score, classification_report\n",
        "accuracy = accuracy_score(Y_test_indices, y_pred_indices)  # Use Y_test_indices for evaluation\n",
        "classification_rep = classification_report(Y_test_indices, y_pred_indices)\n",
        "\n",
        "print(f\"Accuracy: {accuracy}\")\n",
        "print(\"Classification Report:\")\n",
        "print(classification_rep)\n"
      ],
      "metadata": {
        "colab": {
          "base_uri": "https://localhost:8080/",
          "height": 245
        },
        "id": "Uq9N-FzWZ6SH",
        "outputId": "06f3839c-bf89-4307-d5c8-377d285cf0e8"
      },
      "execution_count": 1,
      "outputs": [
        {
          "output_type": "error",
          "ename": "NameError",
          "evalue": "ignored",
          "traceback": [
            "\u001b[0;31m---------------------------------------------------------------------------\u001b[0m",
            "\u001b[0;31mNameError\u001b[0m                                 Traceback (most recent call last)",
            "\u001b[0;32m<ipython-input-1-60d78d31ac60>\u001b[0m in \u001b[0;36m<cell line: 6>\u001b[0;34m()\u001b[0m\n\u001b[1;32m      4\u001b[0m \u001b[0;34m\u001b[0m\u001b[0m\n\u001b[1;32m      5\u001b[0m \u001b[0;31m# Train the SVM model with your data and labels\u001b[0m\u001b[0;34m\u001b[0m\u001b[0;34m\u001b[0m\u001b[0m\n\u001b[0;32m----> 6\u001b[0;31m \u001b[0msvm_classifier\u001b[0m\u001b[0;34m.\u001b[0m\u001b[0mfit\u001b[0m\u001b[0;34m(\u001b[0m\u001b[0mX_train\u001b[0m\u001b[0;34m,\u001b[0m \u001b[0mY_train_indices\u001b[0m\u001b[0;34m)\u001b[0m  \u001b[0;31m# Use Y_train_indices instead of Y_train\u001b[0m\u001b[0;34m\u001b[0m\u001b[0;34m\u001b[0m\u001b[0m\n\u001b[0m\u001b[1;32m      7\u001b[0m \u001b[0;34m\u001b[0m\u001b[0m\n\u001b[1;32m      8\u001b[0m \u001b[0;31m# Make predictions on the test set\u001b[0m\u001b[0;34m\u001b[0m\u001b[0;34m\u001b[0m\u001b[0m\n",
            "\u001b[0;31mNameError\u001b[0m: name 'X_train' is not defined"
          ]
        }
      ]
    }
  ]
}