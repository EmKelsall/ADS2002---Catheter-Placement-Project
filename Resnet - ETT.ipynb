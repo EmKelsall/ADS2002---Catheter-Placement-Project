{
  "metadata": {
    "kernelspec": {
      "language": "python",
      "display_name": "Python 3",
      "name": "python3"
    },
    "language_info": {
      "name": "python",
      "version": "3.10.12",
      "mimetype": "text/x-python",
      "codemirror_mode": {
        "name": "ipython",
        "version": 3
      },
      "pygments_lexer": "ipython3",
      "nbconvert_exporter": "python",
      "file_extension": ".py"
    },
    "colab": {
      "provenance": [],
      "include_colab_link": true
    }
  },
  "nbformat_minor": 0,
  "nbformat": 4,
  "cells": [
    {
      "cell_type": "markdown",
      "metadata": {
        "id": "view-in-github",
        "colab_type": "text"
      },
      "source": [
        "<a href=\"https://colab.research.google.com/github/EmKelsall/ADS2002---Catheter-Placement-Project/blob/main/Resnet%20-%20ETT.ipynb\" target=\"_parent\"><img src=\"https://colab.research.google.com/assets/colab-badge.svg\" alt=\"Open In Colab\"/></a>"
      ]
    },
    {
      "cell_type": "markdown",
      "source": [
        "# ResNet - ETT"
      ],
      "metadata": {
        "id": "yRkceaBMnB0R"
      }
    },
    {
      "cell_type": "code",
      "source": [
        "import random\n",
        "import pandas as pd\n",
        "import numpy as np\n",
        "import matplotlib.pyplot as plt\n",
        "import seaborn as sns\n",
        "import json\n",
        "from PIL import Image\n",
        "import ast\n",
        "import os\n",
        "import cv2\n",
        "from tqdm import tqdm"
      ],
      "metadata": {
        "execution": {
          "iopub.status.busy": "2023-10-20T03:31:24.152267Z",
          "iopub.execute_input": "2023-10-20T03:31:24.152539Z",
          "iopub.status.idle": "2023-10-20T03:31:25.627080Z",
          "shell.execute_reply.started": "2023-10-20T03:31:24.152517Z",
          "shell.execute_reply": "2023-10-20T03:31:25.626387Z"
        },
        "trusted": true,
        "id": "ZbcXZfk1c8tW",
        "outputId": "b1d39f6b-0fd9-43f6-f331-d2cf9f08aefc"
      },
      "execution_count": null,
      "outputs": [
        {
          "name": "stderr",
          "text": "/opt/conda/lib/python3.10/site-packages/scipy/__init__.py:146: UserWarning: A NumPy version >=1.16.5 and <1.23.0 is required for this version of SciPy (detected version 1.23.5\n  warnings.warn(f\"A NumPy version >={np_minversion} and <{np_maxversion}\"\n",
          "output_type": "stream"
        }
      ]
    },
    {
      "cell_type": "markdown",
      "source": [
        "## ETT"
      ],
      "metadata": {
        "id": "73ZqQ8k-c8td"
      }
    },
    {
      "cell_type": "code",
      "source": [
        "import random\n",
        "import pandas as pd\n",
        "import numpy as np\n",
        "import matplotlib.pyplot as plt\n",
        "import seaborn as sns\n",
        "import json\n",
        "from PIL import Image\n",
        "import ast\n",
        "import os\n",
        "import cv2\n",
        "from tqdm import tqdm"
      ],
      "metadata": {
        "execution": {
          "iopub.status.busy": "2023-10-20T03:34:17.451343Z",
          "iopub.execute_input": "2023-10-20T03:34:17.452087Z",
          "iopub.status.idle": "2023-10-20T03:34:17.463520Z",
          "shell.execute_reply.started": "2023-10-20T03:34:17.452059Z",
          "shell.execute_reply": "2023-10-20T03:34:17.462760Z"
        },
        "trusted": true,
        "id": "QXZO5-vhc8td"
      },
      "execution_count": null,
      "outputs": []
    },
    {
      "cell_type": "code",
      "source": [
        "train_data = pd.read_csv(\"/kaggle/input/ranzcr-clip-catheter-line-classification/train.csv\")\n",
        "train_data = train_data[(train_data['ETT - Borderline'] != 1 )]\n",
        "\n",
        "train_data[['ETT - Normal', 'ETT - Abnormal', 'ETT - Borderline']].value_counts()\n",
        "train_data['ETT - Present'] = np.where((train_data['ETT - Normal'] == 0) & (train_data['ETT - Abnormal'] == 0) & (train_data['ETT - Borderline'] == 0), 0, 1)\n",
        "\n",
        "train_data[['ETT - Normal', 'ETT - Abnormal']].value_counts()"
      ],
      "metadata": {
        "execution": {
          "iopub.status.busy": "2023-10-20T03:34:17.464515Z",
          "iopub.execute_input": "2023-10-20T03:34:17.464744Z",
          "iopub.status.idle": "2023-10-20T03:34:17.536958Z",
          "shell.execute_reply.started": "2023-10-20T03:34:17.464725Z",
          "shell.execute_reply": "2023-10-20T03:34:17.536145Z"
        },
        "trusted": true,
        "id": "Flns6z0fc8td",
        "outputId": "4e5720cf-0efd-4c04-d74b-115aa3b63982"
      },
      "execution_count": null,
      "outputs": [
        {
          "execution_count": 23,
          "output_type": "execute_result",
          "data": {
            "text/plain": "ETT - Normal  ETT - Abnormal\n0             0                 21626\n1             0                  7240\n0             1                    79\nName: count, dtype: int64"
          },
          "metadata": {}
        }
      ]
    },
    {
      "cell_type": "code",
      "source": [
        "normalAb = pd.concat([train_data[train_data['ETT - Normal'] == 1].sample(n=39), train_data[train_data['ETT - Abnormal'] == 1].sample(n=39)])\n",
        "sampled_data = pd.concat([normalAb, train_data[train_data['ETT - Present'] == 0].sample(n=78)])\n",
        "\n",
        "sampled_data"
      ],
      "metadata": {
        "execution": {
          "iopub.status.busy": "2023-10-20T03:34:17.537987Z",
          "iopub.execute_input": "2023-10-20T03:34:17.538243Z",
          "iopub.status.idle": "2023-10-20T03:34:17.559517Z",
          "shell.execute_reply.started": "2023-10-20T03:34:17.538222Z",
          "shell.execute_reply": "2023-10-20T03:34:17.558729Z"
        },
        "trusted": true,
        "id": "tia_JA6cc8td",
        "outputId": "cc807b0f-7b9d-4af9-bce6-3aff6949bb69"
      },
      "execution_count": null,
      "outputs": [
        {
          "execution_count": 24,
          "output_type": "execute_result",
          "data": {
            "text/plain": "                                        StudyInstanceUID  ETT - Abnormal  \\\n114    1.2.826.0.1.3680043.8.498.58978399544484725012...               0   \n29215  1.2.826.0.1.3680043.8.498.34414786983144528822...               0   \n27577  1.2.826.0.1.3680043.8.498.13206394033751660209...               0   \n15863  1.2.826.0.1.3680043.8.498.12943991364992320755...               0   \n11959  1.2.826.0.1.3680043.8.498.11818325818713851605...               0   \n...                                                  ...             ...   \n15055  1.2.826.0.1.3680043.8.498.12942904850809349583...               0   \n21807  1.2.826.0.1.3680043.8.498.88179133086149977138...               0   \n1272   1.2.826.0.1.3680043.8.498.17783739974925320326...               0   \n11015  1.2.826.0.1.3680043.8.498.11326606389259498883...               0   \n6567   1.2.826.0.1.3680043.8.498.13680799914598090743...               0   \n\n       ETT - Borderline  ETT - Normal  NGT - Abnormal  NGT - Borderline  \\\n114                   0             1               0                 0   \n29215                 0             1               0                 0   \n27577                 0             1               0                 0   \n15863                 0             1               0                 0   \n11959                 0             1               0                 0   \n...                 ...           ...             ...               ...   \n15055                 0             0               0                 0   \n21807                 0             0               0                 0   \n1272                  0             0               0                 0   \n11015                 0             0               0                 0   \n6567                  0             0               0                 0   \n\n       NGT - Incompletely Imaged  NGT - Normal  CVC - Abnormal  \\\n114                            1             0               0   \n29215                          1             0               0   \n27577                          0             0               0   \n15863                          0             1               0   \n11959                          0             0               0   \n...                          ...           ...             ...   \n15055                          0             0               0   \n21807                          0             0               0   \n1272                           0             0               0   \n11015                          0             0               0   \n6567                           0             0               0   \n\n       CVC - Borderline  CVC - Normal  Swan Ganz Catheter Present  PatientID  \\\n114                   0             1                           0  6946eb422   \n29215                 0             1                           0  34242119f   \n27577                 0             1                           0  f935db57e   \n15863                 1             1                           0  adfa658d0   \n11959                 1             0                           0  f2ea92dbf   \n...                 ...           ...                         ...        ...   \n15055                 0             1                           0  26e6f9d68   \n21807                 1             0                           0  76d478fcd   \n1272                  1             0                           0  b23e4a8b0   \n11015                 0             1                           0  a795cefe6   \n6567                  0             1                           0  c01c77c37   \n\n       ETT - Present  \n114                1  \n29215              1  \n27577              1  \n15863              1  \n11959              1  \n...              ...  \n15055              0  \n21807              0  \n1272               0  \n11015              0  \n6567               0  \n\n[156 rows x 14 columns]",
            "text/html": "<div>\n<style scoped>\n    .dataframe tbody tr th:only-of-type {\n        vertical-align: middle;\n    }\n\n    .dataframe tbody tr th {\n        vertical-align: top;\n    }\n\n    .dataframe thead th {\n        text-align: right;\n    }\n</style>\n<table border=\"1\" class=\"dataframe\">\n  <thead>\n    <tr style=\"text-align: right;\">\n      <th></th>\n      <th>StudyInstanceUID</th>\n      <th>ETT - Abnormal</th>\n      <th>ETT - Borderline</th>\n      <th>ETT - Normal</th>\n      <th>NGT - Abnormal</th>\n      <th>NGT - Borderline</th>\n      <th>NGT - Incompletely Imaged</th>\n      <th>NGT - Normal</th>\n      <th>CVC - Abnormal</th>\n      <th>CVC - Borderline</th>\n      <th>CVC - Normal</th>\n      <th>Swan Ganz Catheter Present</th>\n      <th>PatientID</th>\n      <th>ETT - Present</th>\n    </tr>\n  </thead>\n  <tbody>\n    <tr>\n      <th>114</th>\n      <td>1.2.826.0.1.3680043.8.498.58978399544484725012...</td>\n      <td>0</td>\n      <td>0</td>\n      <td>1</td>\n      <td>0</td>\n      <td>0</td>\n      <td>1</td>\n      <td>0</td>\n      <td>0</td>\n      <td>0</td>\n      <td>1</td>\n      <td>0</td>\n      <td>6946eb422</td>\n      <td>1</td>\n    </tr>\n    <tr>\n      <th>29215</th>\n      <td>1.2.826.0.1.3680043.8.498.34414786983144528822...</td>\n      <td>0</td>\n      <td>0</td>\n      <td>1</td>\n      <td>0</td>\n      <td>0</td>\n      <td>1</td>\n      <td>0</td>\n      <td>0</td>\n      <td>0</td>\n      <td>1</td>\n      <td>0</td>\n      <td>34242119f</td>\n      <td>1</td>\n    </tr>\n    <tr>\n      <th>27577</th>\n      <td>1.2.826.0.1.3680043.8.498.13206394033751660209...</td>\n      <td>0</td>\n      <td>0</td>\n      <td>1</td>\n      <td>0</td>\n      <td>0</td>\n      <td>0</td>\n      <td>0</td>\n      <td>0</td>\n      <td>0</td>\n      <td>1</td>\n      <td>0</td>\n      <td>f935db57e</td>\n      <td>1</td>\n    </tr>\n    <tr>\n      <th>15863</th>\n      <td>1.2.826.0.1.3680043.8.498.12943991364992320755...</td>\n      <td>0</td>\n      <td>0</td>\n      <td>1</td>\n      <td>0</td>\n      <td>0</td>\n      <td>0</td>\n      <td>1</td>\n      <td>0</td>\n      <td>1</td>\n      <td>1</td>\n      <td>0</td>\n      <td>adfa658d0</td>\n      <td>1</td>\n    </tr>\n    <tr>\n      <th>11959</th>\n      <td>1.2.826.0.1.3680043.8.498.11818325818713851605...</td>\n      <td>0</td>\n      <td>0</td>\n      <td>1</td>\n      <td>0</td>\n      <td>0</td>\n      <td>0</td>\n      <td>0</td>\n      <td>0</td>\n      <td>1</td>\n      <td>0</td>\n      <td>0</td>\n      <td>f2ea92dbf</td>\n      <td>1</td>\n    </tr>\n    <tr>\n      <th>...</th>\n      <td>...</td>\n      <td>...</td>\n      <td>...</td>\n      <td>...</td>\n      <td>...</td>\n      <td>...</td>\n      <td>...</td>\n      <td>...</td>\n      <td>...</td>\n      <td>...</td>\n      <td>...</td>\n      <td>...</td>\n      <td>...</td>\n      <td>...</td>\n    </tr>\n    <tr>\n      <th>15055</th>\n      <td>1.2.826.0.1.3680043.8.498.12942904850809349583...</td>\n      <td>0</td>\n      <td>0</td>\n      <td>0</td>\n      <td>0</td>\n      <td>0</td>\n      <td>0</td>\n      <td>0</td>\n      <td>0</td>\n      <td>0</td>\n      <td>1</td>\n      <td>0</td>\n      <td>26e6f9d68</td>\n      <td>0</td>\n    </tr>\n    <tr>\n      <th>21807</th>\n      <td>1.2.826.0.1.3680043.8.498.88179133086149977138...</td>\n      <td>0</td>\n      <td>0</td>\n      <td>0</td>\n      <td>0</td>\n      <td>0</td>\n      <td>0</td>\n      <td>0</td>\n      <td>0</td>\n      <td>1</td>\n      <td>0</td>\n      <td>0</td>\n      <td>76d478fcd</td>\n      <td>0</td>\n    </tr>\n    <tr>\n      <th>1272</th>\n      <td>1.2.826.0.1.3680043.8.498.17783739974925320326...</td>\n      <td>0</td>\n      <td>0</td>\n      <td>0</td>\n      <td>0</td>\n      <td>0</td>\n      <td>0</td>\n      <td>0</td>\n      <td>0</td>\n      <td>1</td>\n      <td>0</td>\n      <td>0</td>\n      <td>b23e4a8b0</td>\n      <td>0</td>\n    </tr>\n    <tr>\n      <th>11015</th>\n      <td>1.2.826.0.1.3680043.8.498.11326606389259498883...</td>\n      <td>0</td>\n      <td>0</td>\n      <td>0</td>\n      <td>0</td>\n      <td>0</td>\n      <td>0</td>\n      <td>0</td>\n      <td>0</td>\n      <td>0</td>\n      <td>1</td>\n      <td>0</td>\n      <td>a795cefe6</td>\n      <td>0</td>\n    </tr>\n    <tr>\n      <th>6567</th>\n      <td>1.2.826.0.1.3680043.8.498.13680799914598090743...</td>\n      <td>0</td>\n      <td>0</td>\n      <td>0</td>\n      <td>0</td>\n      <td>0</td>\n      <td>0</td>\n      <td>0</td>\n      <td>0</td>\n      <td>0</td>\n      <td>1</td>\n      <td>0</td>\n      <td>c01c77c37</td>\n      <td>0</td>\n    </tr>\n  </tbody>\n</table>\n<p>156 rows × 14 columns</p>\n</div>"
          },
          "metadata": {}
        }
      ]
    },
    {
      "cell_type": "code",
      "source": [
        "def getFileNames(df):\n",
        "    studyInstance = df['StudyInstanceUID'].tolist()\n",
        "    studyInstance\n",
        "\n",
        "    for i in range(len(studyInstance)):\n",
        "        studyInstance[i] = f'{studyInstance[i]}.jpg'\n",
        "\n",
        "    return studyInstance"
      ],
      "metadata": {
        "execution": {
          "iopub.status.busy": "2023-10-20T03:34:17.560514Z",
          "iopub.execute_input": "2023-10-20T03:34:17.560820Z",
          "iopub.status.idle": "2023-10-20T03:34:17.565307Z",
          "shell.execute_reply.started": "2023-10-20T03:34:17.560792Z",
          "shell.execute_reply": "2023-10-20T03:34:17.564593Z"
        },
        "trusted": true,
        "id": "DrfWhpk3c8td"
      },
      "execution_count": null,
      "outputs": []
    },
    {
      "cell_type": "code",
      "source": [
        "studyInstance = getFileNames(sampled_data)"
      ],
      "metadata": {
        "execution": {
          "iopub.status.busy": "2023-10-20T03:34:17.566403Z",
          "iopub.execute_input": "2023-10-20T03:34:17.566998Z",
          "iopub.status.idle": "2023-10-20T03:34:17.575688Z",
          "shell.execute_reply.started": "2023-10-20T03:34:17.566969Z",
          "shell.execute_reply": "2023-10-20T03:34:17.574928Z"
        },
        "trusted": true,
        "id": "l_cOOil3c8td"
      },
      "execution_count": null,
      "outputs": []
    },
    {
      "cell_type": "code",
      "source": [
        "def processImages(filenames,train_test):\n",
        "\n",
        "    imgs = []\n",
        "    FileIDs = []\n",
        "    lst = []\n",
        "\n",
        "\n",
        "    desired_channels = 3\n",
        "\n",
        "    count = 0\n",
        "    for file in tqdm(filenames, position=0, leave=True):\n",
        "        # Making sure the images are the same pixel size\n",
        "        img = Image.open(f\"/kaggle/input/ranzcr-clip-catheter-line-classification/{train_test}/{file}\")\n",
        "        img = img.resize((300, 300))\n",
        "        img = np.array(img)\n",
        "\n",
        "        # Ensure that the image has 3 channels (RGB)\n",
        "        if img.shape[-1] != 3:\n",
        "            img = np.stack((img,) * 3, axis=-1)  # Convert grayscale to RGB by duplicating channels\n",
        "\n",
        "        imgs.append(img)  # Append the 4D image to the list\n",
        "\n",
        "        # Save filename for later\n",
        "        FileIDs.append(file)\n",
        "\n",
        "        count += 1\n",
        "\n",
        "    # Convert the list of images to a numpy array\n",
        "    imgs = np.array(imgs)\n",
        "    return imgs, FileIDs"
      ],
      "metadata": {
        "execution": {
          "iopub.status.busy": "2023-10-20T03:34:17.576659Z",
          "iopub.execute_input": "2023-10-20T03:34:17.576883Z",
          "iopub.status.idle": "2023-10-20T03:34:17.586729Z",
          "shell.execute_reply.started": "2023-10-20T03:34:17.576865Z",
          "shell.execute_reply": "2023-10-20T03:34:17.585955Z"
        },
        "trusted": true,
        "id": "GtZnwxodc8te"
      },
      "execution_count": null,
      "outputs": []
    },
    {
      "cell_type": "code",
      "source": [
        "train_imgs, fileIDs = processImages(studyInstance, 'train')"
      ],
      "metadata": {
        "execution": {
          "iopub.status.busy": "2023-10-20T03:34:17.592710Z",
          "iopub.execute_input": "2023-10-20T03:34:17.592939Z",
          "iopub.status.idle": "2023-10-20T03:34:25.838083Z",
          "shell.execute_reply.started": "2023-10-20T03:34:17.592919Z",
          "shell.execute_reply": "2023-10-20T03:34:25.837254Z"
        },
        "trusted": true,
        "id": "y8jJ9jSBc8te",
        "outputId": "0aa63472-f876-4eee-f7d9-552c46f36e37"
      },
      "execution_count": null,
      "outputs": [
        {
          "name": "stderr",
          "text": "100%|██████████| 156/156 [00:08<00:00, 18.96it/s]\n",
          "output_type": "stream"
        }
      ]
    },
    {
      "cell_type": "code",
      "source": [
        "#cleaning up the labels\n",
        "UID = []\n",
        "for i in range(len(fileIDs)):\n",
        "  UID.append(fileIDs[i].replace(\".jpg\",\"\"))\n",
        "\n",
        "UID[0:10]"
      ],
      "metadata": {
        "execution": {
          "iopub.status.busy": "2023-10-20T03:34:25.839058Z",
          "iopub.execute_input": "2023-10-20T03:34:25.839278Z",
          "iopub.status.idle": "2023-10-20T03:34:25.845673Z",
          "shell.execute_reply.started": "2023-10-20T03:34:25.839258Z",
          "shell.execute_reply": "2023-10-20T03:34:25.844860Z"
        },
        "trusted": true,
        "id": "OIUWF0jOc8te",
        "outputId": "0b68b985-e334-4826-b814-0bbb0cf2fd6d"
      },
      "execution_count": null,
      "outputs": [
        {
          "execution_count": 29,
          "output_type": "execute_result",
          "data": {
            "text/plain": "['1.2.826.0.1.3680043.8.498.58978399544484725012990490099074395827',\n '1.2.826.0.1.3680043.8.498.34414786983144528822093886496110328396',\n '1.2.826.0.1.3680043.8.498.13206394033751660209376456532079454754',\n '1.2.826.0.1.3680043.8.498.12943991364992320755105760439294630123',\n '1.2.826.0.1.3680043.8.498.11818325818713851605005356351281851103',\n '1.2.826.0.1.3680043.8.498.10310363550730341037663245917488147977',\n '1.2.826.0.1.3680043.8.498.75345280158369398004405022398954691780',\n '1.2.826.0.1.3680043.8.498.96692014265830615336985041998566357144',\n '1.2.826.0.1.3680043.8.498.57562706261298256656000346211938315370',\n '1.2.826.0.1.3680043.8.498.53556272721280942362238528028253111101']"
          },
          "metadata": {}
        }
      ]
    },
    {
      "cell_type": "code",
      "source": [
        "columns_to_drop = ['ETT - Abnormal', 'ETT - Borderline', 'ETT - Normal', 'NGT - Abnormal', 'NGT - Borderline', 'NGT - Normal',\n",
        "                  \"NGT - Incompletely Imaged\", \"Swan Ganz Catheter Present\", \"PatientID\", \"CVC - Borderline\", 'CVC - Abnormal', 'CVC - Normal']\n",
        "\n",
        "ETTsampled_data = sampled_data.drop(columns=columns_to_drop, axis=1)\n",
        "\n",
        "ETTsampled_data.set_index('StudyInstanceUID', inplace=True)"
      ],
      "metadata": {
        "execution": {
          "iopub.status.busy": "2023-10-20T03:34:25.846792Z",
          "iopub.execute_input": "2023-10-20T03:34:25.847112Z",
          "iopub.status.idle": "2023-10-20T03:34:25.858372Z",
          "shell.execute_reply.started": "2023-10-20T03:34:25.847083Z",
          "shell.execute_reply": "2023-10-20T03:34:25.857616Z"
        },
        "trusted": true,
        "id": "To0uEzvqc8te"
      },
      "execution_count": null,
      "outputs": []
    },
    {
      "cell_type": "code",
      "source": [
        "train_labels_df = np.empty((0,3))\n",
        "data = []\n",
        "\n",
        "for ID in UID:\n",
        "    data.append(ETTsampled_data.loc[ID])\n",
        "\n",
        "train_labels_df = pd.DataFrame(data)\n",
        "\n",
        "train_labels_df = train_labels_df.reindex(UID)\n",
        "train_labels = train_labels_df['ETT - Present'].values\n",
        "train_labels"
      ],
      "metadata": {
        "execution": {
          "iopub.status.busy": "2023-10-20T03:34:25.859329Z",
          "iopub.execute_input": "2023-10-20T03:34:25.860298Z",
          "iopub.status.idle": "2023-10-20T03:34:25.885260Z",
          "shell.execute_reply.started": "2023-10-20T03:34:25.860275Z",
          "shell.execute_reply": "2023-10-20T03:34:25.884440Z"
        },
        "trusted": true,
        "id": "C_PLuMq6c8te",
        "outputId": "cefbc80b-2e07-40db-dc63-992acbc89399"
      },
      "execution_count": null,
      "outputs": [
        {
          "execution_count": 31,
          "output_type": "execute_result",
          "data": {
            "text/plain": "array([1, 1, 1, 1, 1, 1, 1, 1, 1, 1, 1, 1, 1, 1, 1, 1, 1, 1, 1, 1, 1, 1,\n       1, 1, 1, 1, 1, 1, 1, 1, 1, 1, 1, 1, 1, 1, 1, 1, 1, 1, 1, 1, 1, 1,\n       1, 1, 1, 1, 1, 1, 1, 1, 1, 1, 1, 1, 1, 1, 1, 1, 1, 1, 1, 1, 1, 1,\n       1, 1, 1, 1, 1, 1, 1, 1, 1, 1, 1, 1, 0, 0, 0, 0, 0, 0, 0, 0, 0, 0,\n       0, 0, 0, 0, 0, 0, 0, 0, 0, 0, 0, 0, 0, 0, 0, 0, 0, 0, 0, 0, 0, 0,\n       0, 0, 0, 0, 0, 0, 0, 0, 0, 0, 0, 0, 0, 0, 0, 0, 0, 0, 0, 0, 0, 0,\n       0, 0, 0, 0, 0, 0, 0, 0, 0, 0, 0, 0, 0, 0, 0, 0, 0, 0, 0, 0, 0, 0,\n       0, 0])"
          },
          "metadata": {}
        }
      ]
    },
    {
      "cell_type": "code",
      "source": [
        "from sklearn.model_selection import train_test_split\n",
        "\n",
        "# Split your data into training and temporary data (combined validation and test)\n",
        "train_imgs, temp_imgs, train_labels, temp_labels = train_test_split(train_imgs, train_labels, test_size=0.2, random_state=42)\n",
        "\n",
        "# Split the temporary data into validation and test sets\n",
        "val_imgs, test_imgs, val_labels, test_labels = train_test_split(temp_imgs, temp_labels, test_size=0.5, random_state=42)"
      ],
      "metadata": {
        "execution": {
          "iopub.status.busy": "2023-10-20T03:34:25.886618Z",
          "iopub.execute_input": "2023-10-20T03:34:25.886856Z",
          "iopub.status.idle": "2023-10-20T03:34:25.907362Z",
          "shell.execute_reply.started": "2023-10-20T03:34:25.886837Z",
          "shell.execute_reply": "2023-10-20T03:34:25.906745Z"
        },
        "trusted": true,
        "id": "jb3lONFIc8te"
      },
      "execution_count": null,
      "outputs": []
    },
    {
      "cell_type": "code",
      "source": [
        "import numpy as np\n",
        "import tensorflow as tf\n",
        "from tensorflow.keras.applications import ResNet50\n",
        "from tensorflow.keras.layers import GlobalAveragePooling2D, Dense, Dropout"
      ],
      "metadata": {
        "execution": {
          "iopub.status.busy": "2023-10-20T03:34:25.908292Z",
          "iopub.execute_input": "2023-10-20T03:34:25.908564Z",
          "iopub.status.idle": "2023-10-20T03:34:25.912999Z",
          "shell.execute_reply.started": "2023-10-20T03:34:25.908543Z",
          "shell.execute_reply": "2023-10-20T03:34:25.911909Z"
        },
        "trusted": true,
        "id": "X7cCzV5ec8te"
      },
      "execution_count": null,
      "outputs": []
    },
    {
      "cell_type": "code",
      "source": [
        "def buildTrainData(catheter, train_data, size):\n",
        "\n",
        "    train_data = train_data[train_data[f'{catheter} - Present'] == 1]\n",
        "    train_data = train_data = train_data[~((train_data[f'{catheter} - Normal'] == 1) & (train_data[f'{catheter} - Abnormal'] == 1))]\n",
        "    train_data[f'{catheter} - Normal/Abnormal'] = np.where(train_data[f'{catheter} - Normal'] == 1, 1, 0)\n",
        "    sampled_data = pd.concat([train_data[train_data[f'{catheter} - Normal'] == 1].sample(n=size), train_data[train_data[f'{catheter} - Abnormal'] == 1].sample(n=size)])\n",
        "\n",
        "    return sampled_data"
      ],
      "metadata": {
        "execution": {
          "iopub.status.busy": "2023-10-20T03:34:25.914074Z",
          "iopub.execute_input": "2023-10-20T03:34:25.914382Z",
          "iopub.status.idle": "2023-10-20T03:34:25.924080Z",
          "shell.execute_reply.started": "2023-10-20T03:34:25.914353Z",
          "shell.execute_reply": "2023-10-20T03:34:25.923325Z"
        },
        "trusted": true,
        "id": "uAq_B6igc8tf"
      },
      "execution_count": null,
      "outputs": []
    },
    {
      "cell_type": "code",
      "source": [
        "sample = buildTrainData('ETT', train_data, 78)\n",
        "sample"
      ],
      "metadata": {
        "execution": {
          "iopub.status.busy": "2023-10-20T03:34:25.925080Z",
          "iopub.execute_input": "2023-10-20T03:34:25.925376Z",
          "iopub.status.idle": "2023-10-20T03:34:25.951077Z",
          "shell.execute_reply.started": "2023-10-20T03:34:25.925348Z",
          "shell.execute_reply": "2023-10-20T03:34:25.950175Z"
        },
        "trusted": true,
        "id": "0WTKV9dgc8tf",
        "outputId": "473bee38-b856-408d-d7f4-1b45f5678420"
      },
      "execution_count": null,
      "outputs": [
        {
          "execution_count": 35,
          "output_type": "execute_result",
          "data": {
            "text/plain": "                                        StudyInstanceUID  ETT - Abnormal  \\\n5514   1.2.826.0.1.3680043.8.498.62482621549066450941...               0   \n21633  1.2.826.0.1.3680043.8.498.11143364354882692909...               0   \n24111  1.2.826.0.1.3680043.8.498.78715330304045487459...               0   \n24235  1.2.826.0.1.3680043.8.498.12355228832479391064...               0   \n3004   1.2.826.0.1.3680043.8.498.64225013817365417818...               0   \n...                                                  ...             ...   \n25183  1.2.826.0.1.3680043.8.498.84533062276529819766...               1   \n10679  1.2.826.0.1.3680043.8.498.15739917130183288582...               1   \n11092  1.2.826.0.1.3680043.8.498.66853777496301033011...               1   \n15399  1.2.826.0.1.3680043.8.498.61889973816225513932...               1   \n7044   1.2.826.0.1.3680043.8.498.64944381826947752542...               1   \n\n       ETT - Borderline  ETT - Normal  NGT - Abnormal  NGT - Borderline  \\\n5514                  0             1               0                 0   \n21633                 0             1               0                 0   \n24111                 0             1               0                 0   \n24235                 0             1               0                 0   \n3004                  0             1               0                 0   \n...                 ...           ...             ...               ...   \n25183                 0             0               0                 1   \n10679                 0             0               0                 0   \n11092                 0             0               0                 0   \n15399                 0             0               0                 0   \n7044                  0             0               0                 0   \n\n       NGT - Incompletely Imaged  NGT - Normal  CVC - Abnormal  \\\n5514                           0             1               0   \n21633                          1             0               0   \n24111                          0             1               0   \n24235                          0             1               0   \n3004                           0             1               0   \n...                          ...           ...             ...   \n25183                          0             0               0   \n10679                          0             1               0   \n11092                          0             0               1   \n15399                          0             1               0   \n7044                           0             1               0   \n\n       CVC - Borderline  CVC - Normal  Swan Ganz Catheter Present  PatientID  \\\n5514                  0             1                           0  fc084b10e   \n21633                 0             1                           0  31ab0c05f   \n24111                 0             0                           0  fc8e49690   \n24235                 1             1                           0  4dd6f80c9   \n3004                  1             1                           0  e65a98a3e   \n...                 ...           ...                         ...        ...   \n25183                 0             1                           0  4e9cd7977   \n10679                 1             1                           0  4dd6f80c9   \n11092                 1             0                           0  26f8065e6   \n15399                 0             1                           0  4e9cd7977   \n7044                  0             1                           1  ac357a821   \n\n       ETT - Present  ETT - Normal/Abnormal  \n5514               1                      1  \n21633              1                      1  \n24111              1                      1  \n24235              1                      1  \n3004               1                      1  \n...              ...                    ...  \n25183              1                      0  \n10679              1                      0  \n11092              1                      0  \n15399              1                      0  \n7044               1                      0  \n\n[156 rows x 15 columns]",
            "text/html": "<div>\n<style scoped>\n    .dataframe tbody tr th:only-of-type {\n        vertical-align: middle;\n    }\n\n    .dataframe tbody tr th {\n        vertical-align: top;\n    }\n\n    .dataframe thead th {\n        text-align: right;\n    }\n</style>\n<table border=\"1\" class=\"dataframe\">\n  <thead>\n    <tr style=\"text-align: right;\">\n      <th></th>\n      <th>StudyInstanceUID</th>\n      <th>ETT - Abnormal</th>\n      <th>ETT - Borderline</th>\n      <th>ETT - Normal</th>\n      <th>NGT - Abnormal</th>\n      <th>NGT - Borderline</th>\n      <th>NGT - Incompletely Imaged</th>\n      <th>NGT - Normal</th>\n      <th>CVC - Abnormal</th>\n      <th>CVC - Borderline</th>\n      <th>CVC - Normal</th>\n      <th>Swan Ganz Catheter Present</th>\n      <th>PatientID</th>\n      <th>ETT - Present</th>\n      <th>ETT - Normal/Abnormal</th>\n    </tr>\n  </thead>\n  <tbody>\n    <tr>\n      <th>5514</th>\n      <td>1.2.826.0.1.3680043.8.498.62482621549066450941...</td>\n      <td>0</td>\n      <td>0</td>\n      <td>1</td>\n      <td>0</td>\n      <td>0</td>\n      <td>0</td>\n      <td>1</td>\n      <td>0</td>\n      <td>0</td>\n      <td>1</td>\n      <td>0</td>\n      <td>fc084b10e</td>\n      <td>1</td>\n      <td>1</td>\n    </tr>\n    <tr>\n      <th>21633</th>\n      <td>1.2.826.0.1.3680043.8.498.11143364354882692909...</td>\n      <td>0</td>\n      <td>0</td>\n      <td>1</td>\n      <td>0</td>\n      <td>0</td>\n      <td>1</td>\n      <td>0</td>\n      <td>0</td>\n      <td>0</td>\n      <td>1</td>\n      <td>0</td>\n      <td>31ab0c05f</td>\n      <td>1</td>\n      <td>1</td>\n    </tr>\n    <tr>\n      <th>24111</th>\n      <td>1.2.826.0.1.3680043.8.498.78715330304045487459...</td>\n      <td>0</td>\n      <td>0</td>\n      <td>1</td>\n      <td>0</td>\n      <td>0</td>\n      <td>0</td>\n      <td>1</td>\n      <td>0</td>\n      <td>0</td>\n      <td>0</td>\n      <td>0</td>\n      <td>fc8e49690</td>\n      <td>1</td>\n      <td>1</td>\n    </tr>\n    <tr>\n      <th>24235</th>\n      <td>1.2.826.0.1.3680043.8.498.12355228832479391064...</td>\n      <td>0</td>\n      <td>0</td>\n      <td>1</td>\n      <td>0</td>\n      <td>0</td>\n      <td>0</td>\n      <td>1</td>\n      <td>0</td>\n      <td>1</td>\n      <td>1</td>\n      <td>0</td>\n      <td>4dd6f80c9</td>\n      <td>1</td>\n      <td>1</td>\n    </tr>\n    <tr>\n      <th>3004</th>\n      <td>1.2.826.0.1.3680043.8.498.64225013817365417818...</td>\n      <td>0</td>\n      <td>0</td>\n      <td>1</td>\n      <td>0</td>\n      <td>0</td>\n      <td>0</td>\n      <td>1</td>\n      <td>0</td>\n      <td>1</td>\n      <td>1</td>\n      <td>0</td>\n      <td>e65a98a3e</td>\n      <td>1</td>\n      <td>1</td>\n    </tr>\n    <tr>\n      <th>...</th>\n      <td>...</td>\n      <td>...</td>\n      <td>...</td>\n      <td>...</td>\n      <td>...</td>\n      <td>...</td>\n      <td>...</td>\n      <td>...</td>\n      <td>...</td>\n      <td>...</td>\n      <td>...</td>\n      <td>...</td>\n      <td>...</td>\n      <td>...</td>\n      <td>...</td>\n    </tr>\n    <tr>\n      <th>25183</th>\n      <td>1.2.826.0.1.3680043.8.498.84533062276529819766...</td>\n      <td>1</td>\n      <td>0</td>\n      <td>0</td>\n      <td>0</td>\n      <td>1</td>\n      <td>0</td>\n      <td>0</td>\n      <td>0</td>\n      <td>0</td>\n      <td>1</td>\n      <td>0</td>\n      <td>4e9cd7977</td>\n      <td>1</td>\n      <td>0</td>\n    </tr>\n    <tr>\n      <th>10679</th>\n      <td>1.2.826.0.1.3680043.8.498.15739917130183288582...</td>\n      <td>1</td>\n      <td>0</td>\n      <td>0</td>\n      <td>0</td>\n      <td>0</td>\n      <td>0</td>\n      <td>1</td>\n      <td>0</td>\n      <td>1</td>\n      <td>1</td>\n      <td>0</td>\n      <td>4dd6f80c9</td>\n      <td>1</td>\n      <td>0</td>\n    </tr>\n    <tr>\n      <th>11092</th>\n      <td>1.2.826.0.1.3680043.8.498.66853777496301033011...</td>\n      <td>1</td>\n      <td>0</td>\n      <td>0</td>\n      <td>0</td>\n      <td>0</td>\n      <td>0</td>\n      <td>0</td>\n      <td>1</td>\n      <td>1</td>\n      <td>0</td>\n      <td>0</td>\n      <td>26f8065e6</td>\n      <td>1</td>\n      <td>0</td>\n    </tr>\n    <tr>\n      <th>15399</th>\n      <td>1.2.826.0.1.3680043.8.498.61889973816225513932...</td>\n      <td>1</td>\n      <td>0</td>\n      <td>0</td>\n      <td>0</td>\n      <td>0</td>\n      <td>0</td>\n      <td>1</td>\n      <td>0</td>\n      <td>0</td>\n      <td>1</td>\n      <td>0</td>\n      <td>4e9cd7977</td>\n      <td>1</td>\n      <td>0</td>\n    </tr>\n    <tr>\n      <th>7044</th>\n      <td>1.2.826.0.1.3680043.8.498.64944381826947752542...</td>\n      <td>1</td>\n      <td>0</td>\n      <td>0</td>\n      <td>0</td>\n      <td>0</td>\n      <td>0</td>\n      <td>1</td>\n      <td>0</td>\n      <td>0</td>\n      <td>1</td>\n      <td>1</td>\n      <td>ac357a821</td>\n      <td>1</td>\n      <td>0</td>\n    </tr>\n  </tbody>\n</table>\n<p>156 rows × 15 columns</p>\n</div>"
          },
          "metadata": {}
        }
      ]
    },
    {
      "cell_type": "code",
      "source": [
        "nAb_data = getFileNames(sample)\n",
        "ett_imgs, fileIDs = processImages(nAb_data, 'train')"
      ],
      "metadata": {
        "execution": {
          "iopub.status.busy": "2023-10-20T03:34:25.952140Z",
          "iopub.execute_input": "2023-10-20T03:34:25.952378Z",
          "iopub.status.idle": "2023-10-20T03:34:33.413174Z",
          "shell.execute_reply.started": "2023-10-20T03:34:25.952358Z",
          "shell.execute_reply": "2023-10-20T03:34:33.412304Z"
        },
        "trusted": true,
        "id": "gcJsvVLgc8tf",
        "outputId": "ca7f10a8-8537-4ece-d70e-7858f1c36da6"
      },
      "execution_count": null,
      "outputs": [
        {
          "name": "stderr",
          "text": "100%|██████████| 156/156 [00:07<00:00, 20.95it/s]\n",
          "output_type": "stream"
        }
      ]
    },
    {
      "cell_type": "code",
      "source": [
        "UID = []\n",
        "for i in range(len(fileIDs)):\n",
        "  UID.append(fileIDs[i].replace(\".jpg\",\"\"))\n",
        "\n",
        "columns_to_drop = ['ETT - Abnormal', 'ETT - Borderline', 'ETT - Normal', 'NGT - Abnormal', 'NGT - Borderline', 'NGT - Normal',\n",
        "                  \"NGT - Incompletely Imaged\", \"Swan Ganz Catheter Present\", \"PatientID\", \"CVC - Borderline\", 'CVC - Abnormal', 'CVC - Normal', 'ETT - Present']\n",
        "\n",
        "ETTsample = sample.drop(columns=columns_to_drop, axis=1)\n",
        "ETTsample.set_index('StudyInstanceUID', inplace=True)\n",
        "\n",
        "ETTsample"
      ],
      "metadata": {
        "execution": {
          "iopub.status.busy": "2023-10-20T03:34:33.414165Z",
          "iopub.execute_input": "2023-10-20T03:34:33.414409Z",
          "iopub.status.idle": "2023-10-20T03:34:33.425921Z",
          "shell.execute_reply.started": "2023-10-20T03:34:33.414387Z",
          "shell.execute_reply": "2023-10-20T03:34:33.425064Z"
        },
        "trusted": true,
        "id": "JtU1cA41c8tg",
        "outputId": "48117dd6-9566-4471-ae7e-fe5b0b21213e"
      },
      "execution_count": null,
      "outputs": [
        {
          "execution_count": 37,
          "output_type": "execute_result",
          "data": {
            "text/plain": "                                                    ETT - Normal/Abnormal\nStudyInstanceUID                                                         \n1.2.826.0.1.3680043.8.498.624826215490664509417...                      1\n1.2.826.0.1.3680043.8.498.111433643548826929092...                      1\n1.2.826.0.1.3680043.8.498.787153303040454874591...                      1\n1.2.826.0.1.3680043.8.498.123552288324793910641...                      1\n1.2.826.0.1.3680043.8.498.642250138173654178180...                      1\n...                                                                   ...\n1.2.826.0.1.3680043.8.498.845330622765298197661...                      0\n1.2.826.0.1.3680043.8.498.157399171301832885824...                      0\n1.2.826.0.1.3680043.8.498.668537774963010330117...                      0\n1.2.826.0.1.3680043.8.498.618899738162255139322...                      0\n1.2.826.0.1.3680043.8.498.649443818269477525426...                      0\n\n[156 rows x 1 columns]",
            "text/html": "<div>\n<style scoped>\n    .dataframe tbody tr th:only-of-type {\n        vertical-align: middle;\n    }\n\n    .dataframe tbody tr th {\n        vertical-align: top;\n    }\n\n    .dataframe thead th {\n        text-align: right;\n    }\n</style>\n<table border=\"1\" class=\"dataframe\">\n  <thead>\n    <tr style=\"text-align: right;\">\n      <th></th>\n      <th>ETT - Normal/Abnormal</th>\n    </tr>\n    <tr>\n      <th>StudyInstanceUID</th>\n      <th></th>\n    </tr>\n  </thead>\n  <tbody>\n    <tr>\n      <th>1.2.826.0.1.3680043.8.498.62482621549066450941742616968051043277</th>\n      <td>1</td>\n    </tr>\n    <tr>\n      <th>1.2.826.0.1.3680043.8.498.11143364354882692909222821800764262312</th>\n      <td>1</td>\n    </tr>\n    <tr>\n      <th>1.2.826.0.1.3680043.8.498.78715330304045487459143788276776992885</th>\n      <td>1</td>\n    </tr>\n    <tr>\n      <th>1.2.826.0.1.3680043.8.498.12355228832479391064189272904637360930</th>\n      <td>1</td>\n    </tr>\n    <tr>\n      <th>1.2.826.0.1.3680043.8.498.64225013817365417818047236662954334719</th>\n      <td>1</td>\n    </tr>\n    <tr>\n      <th>...</th>\n      <td>...</td>\n    </tr>\n    <tr>\n      <th>1.2.826.0.1.3680043.8.498.84533062276529819766171648406000766083</th>\n      <td>0</td>\n    </tr>\n    <tr>\n      <th>1.2.826.0.1.3680043.8.498.15739917130183288582495374522364822377</th>\n      <td>0</td>\n    </tr>\n    <tr>\n      <th>1.2.826.0.1.3680043.8.498.66853777496301033011786823921410375380</th>\n      <td>0</td>\n    </tr>\n    <tr>\n      <th>1.2.826.0.1.3680043.8.498.61889973816225513932209370012107580731</th>\n      <td>0</td>\n    </tr>\n    <tr>\n      <th>1.2.826.0.1.3680043.8.498.64944381826947752542630851918799645855</th>\n      <td>0</td>\n    </tr>\n  </tbody>\n</table>\n<p>156 rows × 1 columns</p>\n</div>"
          },
          "metadata": {}
        }
      ]
    },
    {
      "cell_type": "code",
      "source": [
        "train_labels_df = np.empty((0,3))\n",
        "data = []\n",
        "\n",
        "for ID in UID:\n",
        "    data.append(ETTsample.loc[ID])\n",
        "\n",
        "train_labels_df = pd.DataFrame(data)\n",
        "\n",
        "train_labels_df = train_labels_df.reindex(UID)\n",
        "ett_labels = train_labels_df['ETT - Normal/Abnormal'].values\n",
        "ett_labels"
      ],
      "metadata": {
        "execution": {
          "iopub.status.busy": "2023-10-20T03:34:33.427002Z",
          "iopub.execute_input": "2023-10-20T03:34:33.427258Z",
          "iopub.status.idle": "2023-10-20T03:34:33.454154Z",
          "shell.execute_reply.started": "2023-10-20T03:34:33.427238Z",
          "shell.execute_reply": "2023-10-20T03:34:33.453231Z"
        },
        "trusted": true,
        "id": "vVdaN8jKc8tg",
        "outputId": "aee1946e-20c3-454c-b293-f23b6b72b3ab"
      },
      "execution_count": null,
      "outputs": [
        {
          "execution_count": 38,
          "output_type": "execute_result",
          "data": {
            "text/plain": "array([1, 1, 1, 1, 1, 1, 1, 1, 1, 1, 1, 1, 1, 1, 1, 1, 1, 1, 1, 1, 1, 1,\n       1, 1, 1, 1, 1, 1, 1, 1, 1, 1, 1, 1, 1, 1, 1, 1, 1, 1, 1, 1, 1, 1,\n       1, 1, 1, 1, 1, 1, 1, 1, 1, 1, 1, 1, 1, 1, 1, 1, 1, 1, 1, 1, 1, 1,\n       1, 1, 1, 1, 1, 1, 1, 1, 1, 1, 1, 1, 0, 0, 0, 0, 0, 0, 0, 0, 0, 0,\n       0, 0, 0, 0, 0, 0, 0, 0, 0, 0, 0, 0, 0, 0, 0, 0, 0, 0, 0, 0, 0, 0,\n       0, 0, 0, 0, 0, 0, 0, 0, 0, 0, 0, 0, 0, 0, 0, 0, 0, 0, 0, 0, 0, 0,\n       0, 0, 0, 0, 0, 0, 0, 0, 0, 0, 0, 0, 0, 0, 0, 0, 0, 0, 0, 0, 0, 0,\n       0, 0])"
          },
          "metadata": {}
        }
      ]
    },
    {
      "cell_type": "code",
      "source": [
        "from sklearn.model_selection import train_test_split\n",
        "\n",
        "# Split your data into training and temporary data (combined validation and test)\n",
        "trainETT_imgs, temp_imgs, trainETT_labels, temp_labels = train_test_split(ett_imgs, ett_labels, test_size=0.2, random_state=42)\n",
        "\n",
        "# Split the temporary data into validation and test sets\n",
        "valETT_imgs, testETT_imgs, valETT_labels, testETT_labels = train_test_split(temp_imgs, temp_labels, test_size=0.5, random_state=42)"
      ],
      "metadata": {
        "execution": {
          "iopub.status.busy": "2023-10-20T03:34:33.455052Z",
          "iopub.execute_input": "2023-10-20T03:34:33.455281Z",
          "iopub.status.idle": "2023-10-20T03:34:33.471542Z",
          "shell.execute_reply.started": "2023-10-20T03:34:33.455262Z",
          "shell.execute_reply": "2023-10-20T03:34:33.470693Z"
        },
        "trusted": true,
        "id": "DI78IySHc8tg"
      },
      "execution_count": null,
      "outputs": []
    },
    {
      "cell_type": "code",
      "source": [
        "from tensorflow.keras.layers import concatenate\n",
        "from tensorflow.keras.preprocessing.image import ImageDataGenerator\n",
        "from tensorflow.keras.models import Model\n",
        "from tensorflow.keras.layers import Dropout, BatchNormalization\n",
        "from tensorflow.keras.callbacks import ReduceLROnPlateau\n",
        "from tensorflow.keras.callbacks import EarlyStopping, ModelCheckpoint\n",
        "\n",
        "# Load the ResNet50 model with pre-trained weights\n",
        "base_model = DenseNet121(weights='imagenet', include_top=False)\n",
        "\n",
        "# Add dropout and batch normalization to custom fully connected layers\n",
        "x = base_model.output\n",
        "x = GlobalAveragePooling2D()(x)\n",
        "x = Dense(1024, activation='relu')(x)\n",
        "x = BatchNormalization()(x)\n",
        "x = Dropout(0.5)(x)\n",
        "\n",
        "# First Output Branch: CVC Catheter Presence (Binary Classification)\n",
        "output_ETTpresent = Dense(1, activation='sigmoid', name='output_ETTpresent')(x)\n",
        "\n",
        "# Add a separate set of layers for the new task\n",
        "y = base_model.output\n",
        "y = GlobalAveragePooling2D()(y)\n",
        "y = Dense(1024, activation='relu')(y)\n",
        "y = BatchNormalization()(y)\n",
        "y = Dropout(0.5)(y)\n",
        "\n",
        "# Second Output Branch: CVC Placement (Binary Classification)\n",
        "output_ett_placement = Dense(1, activation='sigmoid', name='output_ETTnormalAbnormal')(y)\n",
        "\n",
        "# Combine the two output branches\n",
        "combined_model = Model(inputs=base_model.input, outputs=[output_ETTpresent, output_ett_placement])\n",
        "\n",
        "# Compile the combined model with optimizer and loss functions for both tasks\n",
        "combined_model.compile(optimizer='SGD',\n",
        "                       loss={'output_ETTpresent': 'binary_crossentropy', 'output_ETTnormalAbnormal': 'binary_crossentropy'},\n",
        "                       metrics={'output_ETTpresent': 'accuracy', 'output_ETTnormalAbnormal': 'accuracy'})\n",
        "\n",
        "# # Reduce learning rate when the validation loss plateaus\n",
        "reduce_lr = ReduceLROnPlateau(monitor='val_loss', factor=0.2, patience=5, min_lr=1e-6)\n",
        "\n",
        "# Early stopping to prevent overfitting\n",
        "early_stop = EarlyStopping(monitor='val_loss', patience=10, restore_best_weights=True)\n",
        "\n",
        "# Save the best model during training\n",
        "model_checkpoint = ModelCheckpoint('best_model.h5', save_best_only=True)\n",
        "\n",
        "history = combined_model.fit(\n",
        "    {'input_1': train_imgs},\n",
        "    {'output_ETTpresent': train_labels, 'output_ETTnormalAbnormal': trainETT_labels},\n",
        "    epochs=30,\n",
        "    validation_data=(\n",
        "        {'input_1': val_imgs},\n",
        "        {'output_ETTpresent': val_labels, 'output_ETTnormalAbnormal': valETT_labels}\n",
        "    ),\n",
        "    callbacks=[reduce_lr, early_stop, model_checkpoint]\n",
        ")"
      ],
      "metadata": {
        "execution": {
          "iopub.status.busy": "2023-10-20T03:34:33.472657Z",
          "iopub.execute_input": "2023-10-20T03:34:33.472966Z",
          "iopub.status.idle": "2023-10-20T03:37:20.729043Z",
          "shell.execute_reply.started": "2023-10-20T03:34:33.472938Z",
          "shell.execute_reply": "2023-10-20T03:37:20.728038Z"
        },
        "trusted": true,
        "id": "3SioeF7Fc8tg",
        "outputId": "c183b2c6-5fcb-4c07-d709-4d1e1ccea0a8"
      },
      "execution_count": null,
      "outputs": [
        {
          "name": "stdout",
          "text": "Downloading data from https://storage.googleapis.com/tensorflow/keras-applications/densenet/densenet121_weights_tf_dim_ordering_tf_kernels_notop.h5\n29084464/29084464 [==============================] - 1s 0us/step\nEpoch 1/30\n4/4 [==============================] - 52s 4s/step - loss: 1.4512 - output_ETTpresent_loss: 0.7217 - output_ETTnormalAbnormal_loss: 0.7295 - output_ETTpresent_accuracy: 0.6613 - output_ETTnormalAbnormal_accuracy: 0.6532 - val_loss: 1.5578 - val_output_ETTpresent_loss: 0.8572 - val_output_ETTnormalAbnormal_loss: 0.7006 - val_output_ETTpresent_accuracy: 0.5625 - val_output_ETTnormalAbnormal_accuracy: 0.5625 - lr: 0.0100\nEpoch 2/30\n4/4 [==============================] - 2s 680ms/step - loss: 0.6651 - output_ETTpresent_loss: 0.3389 - output_ETTnormalAbnormal_loss: 0.3263 - output_ETTpresent_accuracy: 0.8710 - output_ETTnormalAbnormal_accuracy: 0.8468 - val_loss: 1.3220 - val_output_ETTpresent_loss: 0.6594 - val_output_ETTnormalAbnormal_loss: 0.6626 - val_output_ETTpresent_accuracy: 0.5625 - val_output_ETTnormalAbnormal_accuracy: 0.5625 - lr: 0.0100\nEpoch 3/30\n4/4 [==============================] - 2s 680ms/step - loss: 0.3179 - output_ETTpresent_loss: 0.1470 - output_ETTnormalAbnormal_loss: 0.1710 - output_ETTpresent_accuracy: 0.9516 - output_ETTnormalAbnormal_accuracy: 0.9516 - val_loss: 1.2560 - val_output_ETTpresent_loss: 0.6299 - val_output_ETTnormalAbnormal_loss: 0.6260 - val_output_ETTpresent_accuracy: 0.6250 - val_output_ETTnormalAbnormal_accuracy: 0.7500 - lr: 0.0100\nEpoch 4/30\n4/4 [==============================] - 1s 316ms/step - loss: 0.1800 - output_ETTpresent_loss: 0.1158 - output_ETTnormalAbnormal_loss: 0.0642 - output_ETTpresent_accuracy: 0.9435 - output_ETTnormalAbnormal_accuracy: 0.9839 - val_loss: 1.2838 - val_output_ETTpresent_loss: 0.6096 - val_output_ETTnormalAbnormal_loss: 0.6742 - val_output_ETTpresent_accuracy: 0.8125 - val_output_ETTnormalAbnormal_accuracy: 0.6875 - lr: 0.0100\nEpoch 5/30\n4/4 [==============================] - 1s 315ms/step - loss: 0.0880 - output_ETTpresent_loss: 0.0384 - output_ETTnormalAbnormal_loss: 0.0496 - output_ETTpresent_accuracy: 1.0000 - output_ETTnormalAbnormal_accuracy: 0.9919 - val_loss: 1.2812 - val_output_ETTpresent_loss: 0.6232 - val_output_ETTnormalAbnormal_loss: 0.6580 - val_output_ETTpresent_accuracy: 0.6875 - val_output_ETTnormalAbnormal_accuracy: 0.6250 - lr: 0.0100\nEpoch 6/30\n4/4 [==============================] - 2s 686ms/step - loss: 0.0413 - output_ETTpresent_loss: 0.0174 - output_ETTnormalAbnormal_loss: 0.0239 - output_ETTpresent_accuracy: 1.0000 - output_ETTnormalAbnormal_accuracy: 1.0000 - val_loss: 1.2468 - val_output_ETTpresent_loss: 0.6362 - val_output_ETTnormalAbnormal_loss: 0.6105 - val_output_ETTpresent_accuracy: 0.6875 - val_output_ETTnormalAbnormal_accuracy: 0.8125 - lr: 0.0100\nEpoch 7/30\n4/4 [==============================] - 2s 694ms/step - loss: 0.0280 - output_ETTpresent_loss: 0.0131 - output_ETTnormalAbnormal_loss: 0.0149 - output_ETTpresent_accuracy: 1.0000 - output_ETTnormalAbnormal_accuracy: 1.0000 - val_loss: 1.1881 - val_output_ETTpresent_loss: 0.6182 - val_output_ETTnormalAbnormal_loss: 0.5700 - val_output_ETTpresent_accuracy: 0.7500 - val_output_ETTnormalAbnormal_accuracy: 0.8125 - lr: 0.0100\nEpoch 8/30\n4/4 [==============================] - 3s 739ms/step - loss: 0.0241 - output_ETTpresent_loss: 0.0144 - output_ETTnormalAbnormal_loss: 0.0096 - output_ETTpresent_accuracy: 1.0000 - output_ETTnormalAbnormal_accuracy: 1.0000 - val_loss: 1.1472 - val_output_ETTpresent_loss: 0.5981 - val_output_ETTnormalAbnormal_loss: 0.5492 - val_output_ETTpresent_accuracy: 0.8125 - val_output_ETTnormalAbnormal_accuracy: 0.8750 - lr: 0.0100\nEpoch 9/30\n4/4 [==============================] - 2s 686ms/step - loss: 0.0344 - output_ETTpresent_loss: 0.0148 - output_ETTnormalAbnormal_loss: 0.0196 - output_ETTpresent_accuracy: 1.0000 - output_ETTnormalAbnormal_accuracy: 1.0000 - val_loss: 1.0780 - val_output_ETTpresent_loss: 0.5522 - val_output_ETTnormalAbnormal_loss: 0.5258 - val_output_ETTpresent_accuracy: 0.8125 - val_output_ETTnormalAbnormal_accuracy: 0.9375 - lr: 0.0100\nEpoch 10/30\n4/4 [==============================] - 2s 693ms/step - loss: 0.0163 - output_ETTpresent_loss: 0.0061 - output_ETTnormalAbnormal_loss: 0.0102 - output_ETTpresent_accuracy: 1.0000 - output_ETTnormalAbnormal_accuracy: 1.0000 - val_loss: 1.0328 - val_output_ETTpresent_loss: 0.5217 - val_output_ETTnormalAbnormal_loss: 0.5110 - val_output_ETTpresent_accuracy: 0.8750 - val_output_ETTnormalAbnormal_accuracy: 0.9375 - lr: 0.0100\nEpoch 11/30\n4/4 [==============================] - 2s 683ms/step - loss: 0.0100 - output_ETTpresent_loss: 0.0035 - output_ETTnormalAbnormal_loss: 0.0065 - output_ETTpresent_accuracy: 1.0000 - output_ETTnormalAbnormal_accuracy: 1.0000 - val_loss: 1.0060 - val_output_ETTpresent_loss: 0.5024 - val_output_ETTnormalAbnormal_loss: 0.5036 - val_output_ETTpresent_accuracy: 0.8750 - val_output_ETTnormalAbnormal_accuracy: 0.8750 - lr: 0.0100\nEpoch 12/30\n4/4 [==============================] - 2s 719ms/step - loss: 0.0094 - output_ETTpresent_loss: 0.0032 - output_ETTnormalAbnormal_loss: 0.0062 - output_ETTpresent_accuracy: 1.0000 - output_ETTnormalAbnormal_accuracy: 1.0000 - val_loss: 0.9590 - val_output_ETTpresent_loss: 0.4651 - val_output_ETTnormalAbnormal_loss: 0.4939 - val_output_ETTpresent_accuracy: 0.9375 - val_output_ETTnormalAbnormal_accuracy: 0.8125 - lr: 0.0100\nEpoch 13/30\n4/4 [==============================] - 2s 672ms/step - loss: 0.0090 - output_ETTpresent_loss: 0.0041 - output_ETTnormalAbnormal_loss: 0.0048 - output_ETTpresent_accuracy: 1.0000 - output_ETTnormalAbnormal_accuracy: 1.0000 - val_loss: 0.9321 - val_output_ETTpresent_loss: 0.4478 - val_output_ETTnormalAbnormal_loss: 0.4842 - val_output_ETTpresent_accuracy: 0.8750 - val_output_ETTnormalAbnormal_accuracy: 0.8125 - lr: 0.0100\nEpoch 14/30\n4/4 [==============================] - 1s 316ms/step - loss: 0.0133 - output_ETTpresent_loss: 0.0068 - output_ETTnormalAbnormal_loss: 0.0065 - output_ETTpresent_accuracy: 1.0000 - output_ETTnormalAbnormal_accuracy: 1.0000 - val_loss: 0.9348 - val_output_ETTpresent_loss: 0.4599 - val_output_ETTnormalAbnormal_loss: 0.4749 - val_output_ETTpresent_accuracy: 0.8125 - val_output_ETTnormalAbnormal_accuracy: 0.6875 - lr: 0.0100\nEpoch 15/30\n4/4 [==============================] - 1s 317ms/step - loss: 0.0271 - output_ETTpresent_loss: 0.0126 - output_ETTnormalAbnormal_loss: 0.0145 - output_ETTpresent_accuracy: 1.0000 - output_ETTnormalAbnormal_accuracy: 1.0000 - val_loss: 1.0147 - val_output_ETTpresent_loss: 0.5134 - val_output_ETTnormalAbnormal_loss: 0.5013 - val_output_ETTpresent_accuracy: 0.6250 - val_output_ETTnormalAbnormal_accuracy: 0.6875 - lr: 0.0100\nEpoch 16/30\n4/4 [==============================] - 1s 317ms/step - loss: 0.0057 - output_ETTpresent_loss: 0.0027 - output_ETTnormalAbnormal_loss: 0.0030 - output_ETTpresent_accuracy: 1.0000 - output_ETTnormalAbnormal_accuracy: 1.0000 - val_loss: 1.0168 - val_output_ETTpresent_loss: 0.5167 - val_output_ETTnormalAbnormal_loss: 0.5002 - val_output_ETTpresent_accuracy: 0.6250 - val_output_ETTnormalAbnormal_accuracy: 0.6250 - lr: 0.0100\nEpoch 17/30\n4/4 [==============================] - 1s 316ms/step - loss: 0.0069 - output_ETTpresent_loss: 0.0032 - output_ETTnormalAbnormal_loss: 0.0036 - output_ETTpresent_accuracy: 1.0000 - output_ETTnormalAbnormal_accuracy: 1.0000 - val_loss: 1.0158 - val_output_ETTpresent_loss: 0.5152 - val_output_ETTnormalAbnormal_loss: 0.5006 - val_output_ETTpresent_accuracy: 0.6250 - val_output_ETTnormalAbnormal_accuracy: 0.6250 - lr: 0.0100\nEpoch 18/30\n4/4 [==============================] - 3s 794ms/step - loss: 0.0319 - output_ETTpresent_loss: 0.0156 - output_ETTnormalAbnormal_loss: 0.0163 - output_ETTpresent_accuracy: 1.0000 - output_ETTnormalAbnormal_accuracy: 1.0000 - val_loss: 0.8981 - val_output_ETTpresent_loss: 0.4150 - val_output_ETTnormalAbnormal_loss: 0.4831 - val_output_ETTpresent_accuracy: 0.9375 - val_output_ETTnormalAbnormal_accuracy: 0.7500 - lr: 0.0100\nEpoch 19/30\n4/4 [==============================] - 2s 693ms/step - loss: 0.0108 - output_ETTpresent_loss: 0.0055 - output_ETTnormalAbnormal_loss: 0.0053 - output_ETTpresent_accuracy: 1.0000 - output_ETTnormalAbnormal_accuracy: 1.0000 - val_loss: 0.8792 - val_output_ETTpresent_loss: 0.4009 - val_output_ETTnormalAbnormal_loss: 0.4782 - val_output_ETTpresent_accuracy: 0.8750 - val_output_ETTnormalAbnormal_accuracy: 0.7500 - lr: 0.0100\nEpoch 20/30\n4/4 [==============================] - 2s 695ms/step - loss: 0.0048 - output_ETTpresent_loss: 0.0018 - output_ETTnormalAbnormal_loss: 0.0030 - output_ETTpresent_accuracy: 1.0000 - output_ETTnormalAbnormal_accuracy: 1.0000 - val_loss: 0.8523 - val_output_ETTpresent_loss: 0.3882 - val_output_ETTnormalAbnormal_loss: 0.4640 - val_output_ETTpresent_accuracy: 0.9375 - val_output_ETTnormalAbnormal_accuracy: 0.7500 - lr: 0.0100\nEpoch 21/30\n4/4 [==============================] - 1s 317ms/step - loss: 0.0059 - output_ETTpresent_loss: 0.0025 - output_ETTnormalAbnormal_loss: 0.0034 - output_ETTpresent_accuracy: 1.0000 - output_ETTnormalAbnormal_accuracy: 1.0000 - val_loss: 0.8555 - val_output_ETTpresent_loss: 0.3904 - val_output_ETTnormalAbnormal_loss: 0.4651 - val_output_ETTpresent_accuracy: 0.8750 - val_output_ETTnormalAbnormal_accuracy: 0.7500 - lr: 0.0100\nEpoch 22/30\n4/4 [==============================] - 1s 317ms/step - loss: 0.0036 - output_ETTpresent_loss: 0.0019 - output_ETTnormalAbnormal_loss: 0.0018 - output_ETTpresent_accuracy: 1.0000 - output_ETTnormalAbnormal_accuracy: 1.0000 - val_loss: 0.8544 - val_output_ETTpresent_loss: 0.3839 - val_output_ETTnormalAbnormal_loss: 0.4705 - val_output_ETTpresent_accuracy: 0.8750 - val_output_ETTnormalAbnormal_accuracy: 0.7500 - lr: 0.0100\nEpoch 23/30\n4/4 [==============================] - 2s 694ms/step - loss: 0.0087 - output_ETTpresent_loss: 0.0050 - output_ETTnormalAbnormal_loss: 0.0037 - output_ETTpresent_accuracy: 1.0000 - output_ETTnormalAbnormal_accuracy: 1.0000 - val_loss: 0.8033 - val_output_ETTpresent_loss: 0.3583 - val_output_ETTnormalAbnormal_loss: 0.4450 - val_output_ETTpresent_accuracy: 0.8750 - val_output_ETTnormalAbnormal_accuracy: 0.8125 - lr: 0.0100\nEpoch 24/30\n4/4 [==============================] - 2s 706ms/step - loss: 0.0041 - output_ETTpresent_loss: 0.0018 - output_ETTnormalAbnormal_loss: 0.0023 - output_ETTpresent_accuracy: 1.0000 - output_ETTnormalAbnormal_accuracy: 1.0000 - val_loss: 0.7882 - val_output_ETTpresent_loss: 0.3506 - val_output_ETTnormalAbnormal_loss: 0.4377 - val_output_ETTpresent_accuracy: 0.8750 - val_output_ETTnormalAbnormal_accuracy: 0.8125 - lr: 0.0100\nEpoch 25/30\n4/4 [==============================] - 2s 687ms/step - loss: 0.0034 - output_ETTpresent_loss: 0.0014 - output_ETTnormalAbnormal_loss: 0.0021 - output_ETTpresent_accuracy: 1.0000 - output_ETTnormalAbnormal_accuracy: 1.0000 - val_loss: 0.7779 - val_output_ETTpresent_loss: 0.3427 - val_output_ETTnormalAbnormal_loss: 0.4352 - val_output_ETTpresent_accuracy: 0.8750 - val_output_ETTnormalAbnormal_accuracy: 0.8125 - lr: 0.0100\nEpoch 26/30\n4/4 [==============================] - 2s 696ms/step - loss: 0.0040 - output_ETTpresent_loss: 0.0016 - output_ETTnormalAbnormal_loss: 0.0023 - output_ETTpresent_accuracy: 1.0000 - output_ETTnormalAbnormal_accuracy: 1.0000 - val_loss: 0.7697 - val_output_ETTpresent_loss: 0.3320 - val_output_ETTnormalAbnormal_loss: 0.4377 - val_output_ETTpresent_accuracy: 0.9375 - val_output_ETTnormalAbnormal_accuracy: 0.8125 - lr: 0.0100\nEpoch 27/30\n4/4 [==============================] - 2s 732ms/step - loss: 0.0030 - output_ETTpresent_loss: 0.0017 - output_ETTnormalAbnormal_loss: 0.0012 - output_ETTpresent_accuracy: 1.0000 - output_ETTnormalAbnormal_accuracy: 1.0000 - val_loss: 0.7639 - val_output_ETTpresent_loss: 0.3303 - val_output_ETTnormalAbnormal_loss: 0.4336 - val_output_ETTpresent_accuracy: 0.9375 - val_output_ETTnormalAbnormal_accuracy: 0.8125 - lr: 0.0100\nEpoch 28/30\n4/4 [==============================] - 1s 323ms/step - loss: 0.0078 - output_ETTpresent_loss: 0.0022 - output_ETTnormalAbnormal_loss: 0.0057 - output_ETTpresent_accuracy: 1.0000 - output_ETTnormalAbnormal_accuracy: 1.0000 - val_loss: 0.7781 - val_output_ETTpresent_loss: 0.3393 - val_output_ETTnormalAbnormal_loss: 0.4388 - val_output_ETTpresent_accuracy: 0.9375 - val_output_ETTnormalAbnormal_accuracy: 0.8125 - lr: 0.0100\nEpoch 29/30\n4/4 [==============================] - 2s 691ms/step - loss: 0.0037 - output_ETTpresent_loss: 0.0013 - output_ETTnormalAbnormal_loss: 0.0024 - output_ETTpresent_accuracy: 1.0000 - output_ETTnormalAbnormal_accuracy: 1.0000 - val_loss: 0.7534 - val_output_ETTpresent_loss: 0.3319 - val_output_ETTnormalAbnormal_loss: 0.4215 - val_output_ETTpresent_accuracy: 0.9375 - val_output_ETTnormalAbnormal_accuracy: 0.8125 - lr: 0.0100\nEpoch 30/30\n4/4 [==============================] - 2s 682ms/step - loss: 0.0050 - output_ETTpresent_loss: 0.0022 - output_ETTnormalAbnormal_loss: 0.0028 - output_ETTpresent_accuracy: 1.0000 - output_ETTnormalAbnormal_accuracy: 1.0000 - val_loss: 0.7332 - val_output_ETTpresent_loss: 0.3333 - val_output_ETTnormalAbnormal_loss: 0.4000 - val_output_ETTpresent_accuracy: 0.9375 - val_output_ETTnormalAbnormal_accuracy: 0.8125 - lr: 0.0100\n",
          "output_type": "stream"
        }
      ]
    },
    {
      "cell_type": "code",
      "source": [
        "# Evaluate accuracy for the 'output_catheter' branch\n",
        "evaluation = combined_model.evaluate(\n",
        "    {'input_1': test_imgs},\n",
        "    {'output_ETTpresent': test_labels, 'output_ETTnormalAbnormal': testETT_labels},\n",
        ")\n",
        "\n",
        "# Extract the accuracy values from the evaluation results\n",
        "test_accuracy_catheter = evaluation[3]  # Index 3 corresponds to 'output_catheter_accuracy'\n",
        "test_accuracy_cvc_placement = evaluation[4]  # Index 4 corresponds to 'output_cvc_placement_accuracy'\n",
        "\n",
        "print(f'Test Accuracy (ETT Present): {test_accuracy_catheter * 100:.2f}%')\n",
        "print(f'Test Accuracy (ETT Normal/Abnormal): {test_accuracy_cvc_placement * 100:.2f}%')"
      ],
      "metadata": {
        "execution": {
          "iopub.status.busy": "2023-10-20T03:37:20.730545Z",
          "iopub.execute_input": "2023-10-20T03:37:20.731188Z",
          "iopub.status.idle": "2023-10-20T03:37:20.870985Z",
          "shell.execute_reply.started": "2023-10-20T03:37:20.731151Z",
          "shell.execute_reply": "2023-10-20T03:37:20.870293Z"
        },
        "trusted": true,
        "id": "PxxJrTwJc8tg",
        "outputId": "67122d8b-ad2b-4ad9-b8e4-c0e10dfa3c18"
      },
      "execution_count": null,
      "outputs": [
        {
          "name": "stdout",
          "text": "1/1 [==============================] - 0s 82ms/step - loss: 0.6107 - output_ETTpresent_loss: 0.2817 - output_ETTnormalAbnormal_loss: 0.3290 - output_ETTpresent_accuracy: 0.9375 - output_ETTnormalAbnormal_accuracy: 0.8750\nTest Accuracy (ETT Present): 93.75%\nTest Accuracy (ETT Normal/Abnormal): 87.50%\n",
          "output_type": "stream"
        }
      ]
    },
    {
      "cell_type": "code",
      "source": [
        "test_path = \"/kaggle/input/ranzcr-clip-catheter-line-classification/test\"\n",
        "\n",
        "all_files = os.listdir(test_path)\n",
        "\n",
        "test_files = all_files[:300]\n",
        "test_files"
      ],
      "metadata": {
        "execution": {
          "iopub.status.busy": "2023-10-20T03:37:20.872096Z",
          "iopub.execute_input": "2023-10-20T03:37:20.872351Z",
          "iopub.status.idle": "2023-10-20T03:37:21.442810Z",
          "shell.execute_reply.started": "2023-10-20T03:37:20.872327Z",
          "shell.execute_reply": "2023-10-20T03:37:21.441980Z"
        },
        "trusted": true,
        "id": "Z1mSsn-tc8th",
        "outputId": "6b9384fd-0279-495b-ffb9-52cc3c42f831"
      },
      "execution_count": null,
      "outputs": [
        {
          "execution_count": 42,
          "output_type": "execute_result",
          "data": {
            "text/plain": "['1.2.826.0.1.3680043.8.498.24641136930096467169760392302420182106.jpg',\n '1.2.826.0.1.3680043.8.498.12690617441924311870163706574398714392.jpg',\n '1.2.826.0.1.3680043.8.498.12475334287210977140172691428186327103.jpg',\n '1.2.826.0.1.3680043.8.498.55782720675326550262893311106139070009.jpg',\n '1.2.826.0.1.3680043.8.498.31365479801404007311365048380495464463.jpg',\n '1.2.826.0.1.3680043.8.498.13043303594150346673962481493258651093.jpg',\n '1.2.826.0.1.3680043.8.498.60108166612824699125913102300039381281.jpg',\n '1.2.826.0.1.3680043.8.498.12757156828559108408767706876868537692.jpg',\n '1.2.826.0.1.3680043.8.498.12413191473242486642775669969165655303.jpg',\n '1.2.826.0.1.3680043.8.498.33426541084050922126044157497759698686.jpg',\n '1.2.826.0.1.3680043.8.498.81331161041469445136893540822536130532.jpg',\n '1.2.826.0.1.3680043.8.498.89079018247674289360334226660537800410.jpg',\n '1.2.826.0.1.3680043.8.498.67508619225965666321181545421495924183.jpg',\n '1.2.826.0.1.3680043.8.498.10560542500659302354273480134596764530.jpg',\n '1.2.826.0.1.3680043.8.498.32985782322665777497128654680340079232.jpg',\n '1.2.826.0.1.3680043.8.498.57969099130083272905911303330966318568.jpg',\n '1.2.826.0.1.3680043.8.498.93237458592198899549776777282428238152.jpg',\n '1.2.826.0.1.3680043.8.498.79970459628459740787353154681831228331.jpg',\n '1.2.826.0.1.3680043.8.498.20518495816221518077962659216085063199.jpg',\n '1.2.826.0.1.3680043.8.498.28892363985897420825356190624507496045.jpg',\n '1.2.826.0.1.3680043.8.498.99816833022200806675842086692656523271.jpg',\n '1.2.826.0.1.3680043.8.498.10601452724870747682216600735141075447.jpg',\n '1.2.826.0.1.3680043.8.498.10539757650438359837326737720601916450.jpg',\n '1.2.826.0.1.3680043.8.498.40147044088148262913045042217274173760.jpg',\n '1.2.826.0.1.3680043.8.498.56673502698236668921126104048908835751.jpg',\n '1.2.826.0.1.3680043.8.498.47696225993898881910615651007362532578.jpg',\n '1.2.826.0.1.3680043.8.498.10735186967657345831559266361070703493.jpg',\n '1.2.826.0.1.3680043.8.498.69052465096402548984954193766576257968.jpg',\n '1.2.826.0.1.3680043.8.498.12217207900076030214773962107969909431.jpg',\n '1.2.826.0.1.3680043.8.498.51685979041083005590784385425425729509.jpg',\n '1.2.826.0.1.3680043.8.498.85824523528616485168442647488281357669.jpg',\n '1.2.826.0.1.3680043.8.498.13266697753583870548703462490416547777.jpg',\n '1.2.826.0.1.3680043.8.498.11131187386736204709624619085319459970.jpg',\n '1.2.826.0.1.3680043.8.498.44771410113702857421787786916038666472.jpg',\n '1.2.826.0.1.3680043.8.498.92145120790266970874710708006146569073.jpg',\n '1.2.826.0.1.3680043.8.498.52324510874051058671134278288150280159.jpg',\n '1.2.826.0.1.3680043.8.498.12146407494503723181868721397423552170.jpg',\n '1.2.826.0.1.3680043.8.498.50289433648421530681496937548975906408.jpg',\n '1.2.826.0.1.3680043.8.498.12602093846937798659120832392328149493.jpg',\n '1.2.826.0.1.3680043.8.498.79302378998948597520439786638200890010.jpg',\n '1.2.826.0.1.3680043.8.498.11440157355448937041149153062977337373.jpg',\n '1.2.826.0.1.3680043.8.498.84883475650300959632228707300850894530.jpg',\n '1.2.826.0.1.3680043.8.498.29122668338586877268827883707055008621.jpg',\n '1.2.826.0.1.3680043.8.498.11650384955263766408293417564246277957.jpg',\n '1.2.826.0.1.3680043.8.498.63842515310181684329517341788616815184.jpg',\n '1.2.826.0.1.3680043.8.498.26985232562209932774422591304990735823.jpg',\n '1.2.826.0.1.3680043.8.498.61707530827138029992991242331306253608.jpg',\n '1.2.826.0.1.3680043.8.498.36978556594222791359119060450916689442.jpg',\n '1.2.826.0.1.3680043.8.498.11795783196008486574833258719473289165.jpg',\n '1.2.826.0.1.3680043.8.498.18704126664162192127925247705877643924.jpg',\n '1.2.826.0.1.3680043.8.498.10184802307209842469128248621640333882.jpg',\n '1.2.826.0.1.3680043.8.498.13298891353615927677597035853525107129.jpg',\n '1.2.826.0.1.3680043.8.498.21967616401607136588738415341023184476.jpg',\n '1.2.826.0.1.3680043.8.498.13311511216969411270544259032479836696.jpg',\n '1.2.826.0.1.3680043.8.498.38719859272058898994792742732363335072.jpg',\n '1.2.826.0.1.3680043.8.498.10229592074495378792269122860354582003.jpg',\n '1.2.826.0.1.3680043.8.498.74102044252194740087768539962807856656.jpg',\n '1.2.826.0.1.3680043.8.498.19231426153718876018089201509632072944.jpg',\n '1.2.826.0.1.3680043.8.498.11486106459163680072191183382443808155.jpg',\n '1.2.826.0.1.3680043.8.498.72017572987692341806536147302676381718.jpg',\n '1.2.826.0.1.3680043.8.498.32609022387985819390756512548477581196.jpg',\n '1.2.826.0.1.3680043.8.498.45609049134290618951290847645362071550.jpg',\n '1.2.826.0.1.3680043.8.498.46663352667529095355088039808259604316.jpg',\n '1.2.826.0.1.3680043.8.498.29240373431162912150593136537605726034.jpg',\n '1.2.826.0.1.3680043.8.498.20964041861506616125966359944162126141.jpg',\n '1.2.826.0.1.3680043.8.498.46702302610643672268834728030413834354.jpg',\n '1.2.826.0.1.3680043.8.498.13231993032641949963256899114386927839.jpg',\n '1.2.826.0.1.3680043.8.498.68255322949332729478689728137325615224.jpg',\n '1.2.826.0.1.3680043.8.498.50610853435032109032894352852059742461.jpg',\n '1.2.826.0.1.3680043.8.498.45301439037466883398145900303588712380.jpg',\n '1.2.826.0.1.3680043.8.498.56148598582826576725921748154321506738.jpg',\n '1.2.826.0.1.3680043.8.498.10703020068686618744896512669998494714.jpg',\n '1.2.826.0.1.3680043.8.498.68464287981461238367263233434570707723.jpg',\n '1.2.826.0.1.3680043.8.498.11411140743506989421856421414070651673.jpg',\n '1.2.826.0.1.3680043.8.498.80306425234918754286376067520387184099.jpg',\n '1.2.826.0.1.3680043.8.498.82982813590429179336789270853336478639.jpg',\n '1.2.826.0.1.3680043.8.498.71257369960199928984926441140032224868.jpg',\n '1.2.826.0.1.3680043.8.498.90774042476467538316995079528098177567.jpg',\n '1.2.826.0.1.3680043.8.498.11288453287609950753215976727190599528.jpg',\n '1.2.826.0.1.3680043.8.498.13206384207357985819198612139841390479.jpg',\n '1.2.826.0.1.3680043.8.498.50555404165094776317720932344037864964.jpg',\n '1.2.826.0.1.3680043.8.498.57703972091752690824180185024678096840.jpg',\n '1.2.826.0.1.3680043.8.498.12406248471694238889253401264708540141.jpg',\n '1.2.826.0.1.3680043.8.498.29830839810080325065490643237042205862.jpg',\n '1.2.826.0.1.3680043.8.498.69196843054780097664458246926724471515.jpg',\n '1.2.826.0.1.3680043.8.498.44979771201613529746190668898654660718.jpg',\n '1.2.826.0.1.3680043.8.498.22571763148596162898523116592326549689.jpg',\n '1.2.826.0.1.3680043.8.498.51116595730184107537070906853859832650.jpg',\n '1.2.826.0.1.3680043.8.498.17002156521081654633688450483863069486.jpg',\n '1.2.826.0.1.3680043.8.498.10136995472216870665550403705398446963.jpg',\n '1.2.826.0.1.3680043.8.498.67784797317935231222271000901904734259.jpg',\n '1.2.826.0.1.3680043.8.498.26907137437799109813882547180388074440.jpg',\n '1.2.826.0.1.3680043.8.498.21529418802575186553290175061088248047.jpg',\n '1.2.826.0.1.3680043.8.498.82567018128261205674917612446318736513.jpg',\n '1.2.826.0.1.3680043.8.498.25557651291138934660458444593108124893.jpg',\n '1.2.826.0.1.3680043.8.498.82297106578629000574590400224425414864.jpg',\n '1.2.826.0.1.3680043.8.498.11451674187904480438008687611596820890.jpg',\n '1.2.826.0.1.3680043.8.498.56861913956579397335770331343388782085.jpg',\n '1.2.826.0.1.3680043.8.498.84752368028803498125597100378568176667.jpg',\n '1.2.826.0.1.3680043.8.498.94529368392273749159291697418586230116.jpg',\n '1.2.826.0.1.3680043.8.498.19848481542970648401255573708889891129.jpg',\n '1.2.826.0.1.3680043.8.498.21434116527874547705593901471963352249.jpg',\n '1.2.826.0.1.3680043.8.498.94905052051686903352477398941452118607.jpg',\n '1.2.826.0.1.3680043.8.498.81916789914212432516872814367494923885.jpg',\n '1.2.826.0.1.3680043.8.498.47733032538593041263394813571675186856.jpg',\n '1.2.826.0.1.3680043.8.498.30384301771245189772464047770976515402.jpg',\n '1.2.826.0.1.3680043.8.498.41070286723437661135654064015320246423.jpg',\n '1.2.826.0.1.3680043.8.498.89039013586193603044836353123921101461.jpg',\n '1.2.826.0.1.3680043.8.498.12836466744252283400938728922358222327.jpg',\n '1.2.826.0.1.3680043.8.498.87019449328609805105820053459223152543.jpg',\n '1.2.826.0.1.3680043.8.498.36029009388243498214899704561082515533.jpg',\n '1.2.826.0.1.3680043.8.498.59917179341451717755046351999020863654.jpg',\n '1.2.826.0.1.3680043.8.498.97862987207222029044126522105923192311.jpg',\n '1.2.826.0.1.3680043.8.498.22275452757450917051044505015177559483.jpg',\n '1.2.826.0.1.3680043.8.498.89164520258439757828966880785150941512.jpg',\n '1.2.826.0.1.3680043.8.498.72573047958407945366997737962205364298.jpg',\n '1.2.826.0.1.3680043.8.498.12432122165423626686875254874228585218.jpg',\n '1.2.826.0.1.3680043.8.498.12782432725709980940680831834063709709.jpg',\n '1.2.826.0.1.3680043.8.498.12406023961132436663653498164982280751.jpg',\n '1.2.826.0.1.3680043.8.498.56607539895049688402126258219216935593.jpg',\n '1.2.826.0.1.3680043.8.498.11694732430197478808477060429362022938.jpg',\n '1.2.826.0.1.3680043.8.498.10534431772579363625022920669999184568.jpg',\n '1.2.826.0.1.3680043.8.498.33834897489397856478177383862441641981.jpg',\n '1.2.826.0.1.3680043.8.498.52811805712515465390994478502807748358.jpg',\n '1.2.826.0.1.3680043.8.498.59807514001084492262604421355959450912.jpg',\n '1.2.826.0.1.3680043.8.498.37771017469515996300465975485358503289.jpg',\n '1.2.826.0.1.3680043.8.498.51449887719564295794014313993498659844.jpg',\n '1.2.826.0.1.3680043.8.498.33173995667177467417245255880598029818.jpg',\n '1.2.826.0.1.3680043.8.498.69678445959554683882722907578319741245.jpg',\n '1.2.826.0.1.3680043.8.498.10948217841388750279985009369652714544.jpg',\n '1.2.826.0.1.3680043.8.498.27697060622293803643285353167499043882.jpg',\n '1.2.826.0.1.3680043.8.498.42968083092055105339045555435629232010.jpg',\n '1.2.826.0.1.3680043.8.498.46187615184313306911610444515617408153.jpg',\n '1.2.826.0.1.3680043.8.498.13308403439983761744328327671857701783.jpg',\n '1.2.826.0.1.3680043.8.498.67698353963650183869820417504991470944.jpg',\n '1.2.826.0.1.3680043.8.498.71767212795583546376377461948407948553.jpg',\n '1.2.826.0.1.3680043.8.498.97201525318310745487510041373277814558.jpg',\n '1.2.826.0.1.3680043.8.498.10303273670428476332043562163932135795.jpg',\n '1.2.826.0.1.3680043.8.498.92621294907847464325171160057292888925.jpg',\n '1.2.826.0.1.3680043.8.498.50992783985785340887428763084349796520.jpg',\n '1.2.826.0.1.3680043.8.498.95892971303168405021011915731570647032.jpg',\n '1.2.826.0.1.3680043.8.498.41903685826499641425236586063424336703.jpg',\n '1.2.826.0.1.3680043.8.498.81135742054583128636410225125682779313.jpg',\n '1.2.826.0.1.3680043.8.498.12440400441721641697126440167414071740.jpg',\n '1.2.826.0.1.3680043.8.498.72728315516606057197344942999084826767.jpg',\n '1.2.826.0.1.3680043.8.498.36646782385635652076050038339602130216.jpg',\n '1.2.826.0.1.3680043.8.498.21628113596055764554367926477529090869.jpg',\n '1.2.826.0.1.3680043.8.498.10476199691053887486706119406234768744.jpg',\n '1.2.826.0.1.3680043.8.498.11902475082282705681093107954682430219.jpg',\n '1.2.826.0.1.3680043.8.498.50797682066651945045029749482723253285.jpg',\n '1.2.826.0.1.3680043.8.498.81591588647412095296674907598979779310.jpg',\n '1.2.826.0.1.3680043.8.498.97523865378982570599092224198809309057.jpg',\n '1.2.826.0.1.3680043.8.498.11079086227783028526403099759583864559.jpg',\n '1.2.826.0.1.3680043.8.498.57800023260975807688853575776471305800.jpg',\n '1.2.826.0.1.3680043.8.498.45729470680888154263290200405508226941.jpg',\n '1.2.826.0.1.3680043.8.498.67605125694625868636940815635117945867.jpg',\n '1.2.826.0.1.3680043.8.498.91827444253216321151255779056956825950.jpg',\n '1.2.826.0.1.3680043.8.498.79189549325926570977535745442686052567.jpg',\n '1.2.826.0.1.3680043.8.498.76424543454010644565337965890534038861.jpg',\n '1.2.826.0.1.3680043.8.498.12633219127030026453841112283162997925.jpg',\n '1.2.826.0.1.3680043.8.498.12331506725759891501369187468594155416.jpg',\n '1.2.826.0.1.3680043.8.498.38655389162833550917681859101139211215.jpg',\n '1.2.826.0.1.3680043.8.498.84748375933584844528497896497844913436.jpg',\n '1.2.826.0.1.3680043.8.498.10652898742873387735104900345514340141.jpg',\n '1.2.826.0.1.3680043.8.498.37796693151015386892846625103445428002.jpg',\n '1.2.826.0.1.3680043.8.498.12855739362042803312363423205716748135.jpg',\n '1.2.826.0.1.3680043.8.498.77461502623035335247219087397266630044.jpg',\n '1.2.826.0.1.3680043.8.498.66729060400038912651313162928056357541.jpg',\n '1.2.826.0.1.3680043.8.498.22088319445901040068163822055171744964.jpg',\n '1.2.826.0.1.3680043.8.498.12580063534969452684366777944858888572.jpg',\n '1.2.826.0.1.3680043.8.498.85128540199621081078094608430448914099.jpg',\n '1.2.826.0.1.3680043.8.498.48035511060147338184052178762165920349.jpg',\n '1.2.826.0.1.3680043.8.498.46655995260893148939952623925515524527.jpg',\n '1.2.826.0.1.3680043.8.498.22298932819352925766951583557336794760.jpg',\n '1.2.826.0.1.3680043.8.498.85674544122154188710984711301152614007.jpg',\n '1.2.826.0.1.3680043.8.498.26807781986382989614837562433308544735.jpg',\n '1.2.826.0.1.3680043.8.498.11842027040455737053232921692939600178.jpg',\n '1.2.826.0.1.3680043.8.498.90269706561365896671975775796384227401.jpg',\n '1.2.826.0.1.3680043.8.498.68125247267612491216833059435357127964.jpg',\n '1.2.826.0.1.3680043.8.498.12133670040296535917435599205235308181.jpg',\n '1.2.826.0.1.3680043.8.498.82069690918220098474649505152850817042.jpg',\n '1.2.826.0.1.3680043.8.498.26358633186643897544539184569323077028.jpg',\n '1.2.826.0.1.3680043.8.498.74159804632644960957695090848550561951.jpg',\n '1.2.826.0.1.3680043.8.498.13332152441223529744358456575031760696.jpg',\n '1.2.826.0.1.3680043.8.498.78816522419327550777815192913248485990.jpg',\n '1.2.826.0.1.3680043.8.498.99930578228271951378273901192112541986.jpg',\n '1.2.826.0.1.3680043.8.498.77915333087098256576568683682233092047.jpg',\n '1.2.826.0.1.3680043.8.498.85696153852718683568360500407461570882.jpg',\n '1.2.826.0.1.3680043.8.498.10217058470640269643387730524345277115.jpg',\n '1.2.826.0.1.3680043.8.498.43312370200195299865103477716657846094.jpg',\n '1.2.826.0.1.3680043.8.498.12744146377900429977005817720766359510.jpg',\n '1.2.826.0.1.3680043.8.498.11406032485441901659826880847873616279.jpg',\n '1.2.826.0.1.3680043.8.498.34433817986574423993817271258357153045.jpg',\n '1.2.826.0.1.3680043.8.498.12851108053117916023931135719880510319.jpg',\n '1.2.826.0.1.3680043.8.498.11698072861454278558396312252089091971.jpg',\n '1.2.826.0.1.3680043.8.498.85486482118049403825501073946234558600.jpg',\n '1.2.826.0.1.3680043.8.498.17404716773534004895523030674613162152.jpg',\n '1.2.826.0.1.3680043.8.498.65585482327046647186032145431243978907.jpg',\n '1.2.826.0.1.3680043.8.498.71183202325661201662927672594114667107.jpg',\n '1.2.826.0.1.3680043.8.498.27025835392715046493677806736737840099.jpg',\n '1.2.826.0.1.3680043.8.498.14968848131321851539925275951381699991.jpg',\n '1.2.826.0.1.3680043.8.498.17199948436961527563887686989888960924.jpg',\n '1.2.826.0.1.3680043.8.498.13065589083180231016540010288551770259.jpg',\n '1.2.826.0.1.3680043.8.498.13897637454772623349648552130558536626.jpg',\n '1.2.826.0.1.3680043.8.498.71621932904424978840863115175793414857.jpg',\n '1.2.826.0.1.3680043.8.498.23004766214788339751560348671005992161.jpg',\n '1.2.826.0.1.3680043.8.498.10694352419500456727368090885780827302.jpg',\n '1.2.826.0.1.3680043.8.498.70219612801435564128569244881903124903.jpg',\n '1.2.826.0.1.3680043.8.498.27218714672534357060940476999317572046.jpg',\n '1.2.826.0.1.3680043.8.498.51586478383184725895244053598803019067.jpg',\n '1.2.826.0.1.3680043.8.498.44412545961029440914693186715671996789.jpg',\n '1.2.826.0.1.3680043.8.498.13279055105167867830517676460358545937.jpg',\n '1.2.826.0.1.3680043.8.498.92262230525867908683977114558051276590.jpg',\n '1.2.826.0.1.3680043.8.498.73693859353165788767157180688802932065.jpg',\n '1.2.826.0.1.3680043.8.498.35555518848200612223409375598737054059.jpg',\n '1.2.826.0.1.3680043.8.498.10220778026354081231030528067934551992.jpg',\n '1.2.826.0.1.3680043.8.498.10147963900072882899885898630774489220.jpg',\n '1.2.826.0.1.3680043.8.498.40644388302873898692023325872473931638.jpg',\n '1.2.826.0.1.3680043.8.498.19417454278683695731141874767870638461.jpg',\n '1.2.826.0.1.3680043.8.498.99793759701152871653601749247393185909.jpg',\n '1.2.826.0.1.3680043.8.498.47944202800655839003392211126117922084.jpg',\n '1.2.826.0.1.3680043.8.498.92494633322114159553599995765897665038.jpg',\n '1.2.826.0.1.3680043.8.498.51127375000607531824009719681163518211.jpg',\n '1.2.826.0.1.3680043.8.498.88414167872710718471043234891096525236.jpg',\n '1.2.826.0.1.3680043.8.498.88154272965309506889843256158264741079.jpg',\n '1.2.826.0.1.3680043.8.498.23536016452093656377195386589251465403.jpg',\n '1.2.826.0.1.3680043.8.498.15657122242608062823827538780961437289.jpg',\n '1.2.826.0.1.3680043.8.498.77375911905205599085007065653349503736.jpg',\n '1.2.826.0.1.3680043.8.498.87440517001342578448706174851232985509.jpg',\n '1.2.826.0.1.3680043.8.498.97616551546939142218066205297486889583.jpg',\n '1.2.826.0.1.3680043.8.498.38821365097103938843967083594567134718.jpg',\n '1.2.826.0.1.3680043.8.498.91034888767428190660277231538892137412.jpg',\n '1.2.826.0.1.3680043.8.498.47812467041922401369150644705072161580.jpg',\n '1.2.826.0.1.3680043.8.498.76432186382157224021729321674025137054.jpg',\n '1.2.826.0.1.3680043.8.498.10476486809857717696820052487428801462.jpg',\n '1.2.826.0.1.3680043.8.498.85611734343024698195099721538254547414.jpg',\n '1.2.826.0.1.3680043.8.498.83428792827037803586762885469227168945.jpg',\n '1.2.826.0.1.3680043.8.498.10301860603887622867230508003859730270.jpg',\n '1.2.826.0.1.3680043.8.498.41314860206264563300581805557240713705.jpg',\n '1.2.826.0.1.3680043.8.498.14822516628779847206103930327848810472.jpg',\n '1.2.826.0.1.3680043.8.498.71343242222818738355293082622352955177.jpg',\n '1.2.826.0.1.3680043.8.498.22918098611929466043810445962548656905.jpg',\n '1.2.826.0.1.3680043.8.498.20375374497199877005393599252681794880.jpg',\n '1.2.826.0.1.3680043.8.498.13387575526826555914356706150581962490.jpg',\n '1.2.826.0.1.3680043.8.498.34813577131181900529110275957146003078.jpg',\n '1.2.826.0.1.3680043.8.498.55262310581367213766698892555692315968.jpg',\n '1.2.826.0.1.3680043.8.498.79362393695427654071380478367658885754.jpg',\n '1.2.826.0.1.3680043.8.498.76134754873605763227304807135032490370.jpg',\n '1.2.826.0.1.3680043.8.498.12498146420467848486218879754651515995.jpg',\n '1.2.826.0.1.3680043.8.498.94846461236687636918495968517048590195.jpg',\n '1.2.826.0.1.3680043.8.498.17854143166337206952272378476078600670.jpg',\n '1.2.826.0.1.3680043.8.498.11737661105271063918540562942258875873.jpg',\n '1.2.826.0.1.3680043.8.498.96406345950187530461917503199561338193.jpg',\n '1.2.826.0.1.3680043.8.498.38895832128314334333931235419610748917.jpg',\n '1.2.826.0.1.3680043.8.498.69025604111696380149638510117058731313.jpg',\n '1.2.826.0.1.3680043.8.498.63240919770254218574080886081558779834.jpg',\n '1.2.826.0.1.3680043.8.498.10709083716803043197383336438598543174.jpg',\n '1.2.826.0.1.3680043.8.498.93670541562845245128097569962502289876.jpg',\n '1.2.826.0.1.3680043.8.498.98979209780443059446452179995017889809.jpg',\n '1.2.826.0.1.3680043.8.498.92836964806112167540506013603703654062.jpg',\n '1.2.826.0.1.3680043.8.498.12056339323736959950637074440288337517.jpg',\n '1.2.826.0.1.3680043.8.498.25808619278327502855104255882078580225.jpg',\n '1.2.826.0.1.3680043.8.498.73698211933776528789778078966974932305.jpg',\n '1.2.826.0.1.3680043.8.498.11867287322910511144321301632635706573.jpg',\n '1.2.826.0.1.3680043.8.498.57432042771971958397233200766713467572.jpg',\n '1.2.826.0.1.3680043.8.498.11800985442859717545851121076581836172.jpg',\n '1.2.826.0.1.3680043.8.498.95922042032323928281308020353675330721.jpg',\n '1.2.826.0.1.3680043.8.498.20297468367935576411607830223838567482.jpg',\n '1.2.826.0.1.3680043.8.498.46479741216118478705707730555168055209.jpg',\n '1.2.826.0.1.3680043.8.498.12957370085517508946396714433770947463.jpg',\n '1.2.826.0.1.3680043.8.498.10943408915031684537986755662347290155.jpg',\n '1.2.826.0.1.3680043.8.498.55758259409506451507217148761479103701.jpg',\n '1.2.826.0.1.3680043.8.498.67312508546144411625932922814992983489.jpg',\n '1.2.826.0.1.3680043.8.498.12395617796342739170781835459824261311.jpg',\n '1.2.826.0.1.3680043.8.498.42006385221663958165960562976413039394.jpg',\n '1.2.826.0.1.3680043.8.498.68935514831099019725777311956010576977.jpg',\n '1.2.826.0.1.3680043.8.498.86558554732617162713004950584299211584.jpg',\n '1.2.826.0.1.3680043.8.498.29637890049490240697842370513240738865.jpg',\n '1.2.826.0.1.3680043.8.498.92341820578320420497235899783455634375.jpg',\n '1.2.826.0.1.3680043.8.498.75781679599430266837509903218728733140.jpg',\n '1.2.826.0.1.3680043.8.498.11576561724476102899911500199777295406.jpg',\n '1.2.826.0.1.3680043.8.498.13085189398932296228440384312655307118.jpg',\n '1.2.826.0.1.3680043.8.498.93446923007229994057134835485804933798.jpg',\n '1.2.826.0.1.3680043.8.498.96964434199989482758903795445561097862.jpg',\n '1.2.826.0.1.3680043.8.498.51146219867771355190856169725880872311.jpg',\n '1.2.826.0.1.3680043.8.498.24877744317812716189175865875521852903.jpg',\n '1.2.826.0.1.3680043.8.498.74333861938448705828721995260848098025.jpg',\n '1.2.826.0.1.3680043.8.498.75092452864474038059292505196661480217.jpg',\n '1.2.826.0.1.3680043.8.498.72336909482860437016707617277792598855.jpg',\n '1.2.826.0.1.3680043.8.498.53211840524738036417560823327351887819.jpg',\n '1.2.826.0.1.3680043.8.498.28730569678782992654086148008373817278.jpg',\n '1.2.826.0.1.3680043.8.498.90700747064217454951815353931355759813.jpg',\n '1.2.826.0.1.3680043.8.498.58776256279034308700400885573489095779.jpg',\n '1.2.826.0.1.3680043.8.498.92154693258265641687096566978073995914.jpg',\n '1.2.826.0.1.3680043.8.498.53187330532968389747698235045816913851.jpg',\n '1.2.826.0.1.3680043.8.498.11210230496603592426923805075700446453.jpg',\n '1.2.826.0.1.3680043.8.498.14764365163594763921578543953377920398.jpg',\n '1.2.826.0.1.3680043.8.498.97538139418698216708691589013732614508.jpg',\n '1.2.826.0.1.3680043.8.498.11736556400675819225826998645174901160.jpg',\n '1.2.826.0.1.3680043.8.498.43950476868919991369795560419394814883.jpg']"
          },
          "metadata": {}
        }
      ]
    },
    {
      "cell_type": "code",
      "source": [
        "test_img, testFiles = processImages(test_files, \"test\")\n"
      ],
      "metadata": {
        "execution": {
          "iopub.status.busy": "2023-10-20T03:37:21.444348Z",
          "iopub.execute_input": "2023-10-20T03:37:21.444707Z",
          "iopub.status.idle": "2023-10-20T03:37:36.642645Z",
          "shell.execute_reply.started": "2023-10-20T03:37:21.444675Z",
          "shell.execute_reply": "2023-10-20T03:37:36.641759Z"
        },
        "trusted": true,
        "id": "40xs4-HIc8th",
        "outputId": "98c0422e-e732-4c19-a88c-b5a05f6c87ff"
      },
      "execution_count": null,
      "outputs": [
        {
          "name": "stderr",
          "text": "100%|██████████| 300/300 [00:15<00:00, 19.78it/s]\n",
          "output_type": "stream"
        }
      ]
    },
    {
      "cell_type": "code",
      "source": [
        "predictions = combined_model.predict(test_imgs)\n",
        "predictions\n",
        "\n",
        "# Access predictions for the first task\n",
        "ngt_present_predictions = predictions[0]\n",
        "ngt_present_predictions\n",
        "# Access predictions for the second task\n",
        "ngt_normal_abnormal_predictions = predictions[1]\n",
        "\n",
        "ngt_present_predictions\n",
        "# Create two separate DataFrames\n",
        "df1 = pd.DataFrame(ngt_present_predictions, columns=[\"ETT - Present\"])\n",
        "df2 = pd.DataFrame(ngt_normal_abnormal_predictions, columns=['ETT - Normal/Abnormal'])\n",
        "\n",
        "# # Concatenate the DataFrames horizontally to create one with two columns\n",
        "NGTpredictions = pd.concat([df1, df2], axis=1)\n",
        "NGTpredictions\n",
        "\n",
        "NGTpredictions['ETT - Present'] = np.where(NGTpredictions['ETT - Present'] > 0.5, 1, 0)\n",
        "NGTpredictions['ETT - Normal/Abnormal'] = np.where(NGTpredictions['ETT - Normal/Abnormal'] > 0.5, 1, 0)\n",
        "NGTpredictions\n",
        "\n",
        "from sklearn.metrics import confusion_matrix\n",
        "\n",
        "# Create the confusion matrix\n",
        "confusion_matrix_present = confusion_matrix(test_labels, NGTpredictions['ETT - Present'])\n",
        "\n",
        "plt.gca().patch.set_facecolor('none')\n",
        "\n",
        "\n",
        "\n",
        "custom_palette = ['#D3E0EA', '#AAB8C4', '#8498A2', '#5D7D88', '#3C6270',\n",
        "                  '#1F465E', '#132D4B', '#0A1C36', '#051024', '#020916']\n",
        "\n",
        "# Create a heatmap plot of the confusion matrix\n",
        "sns.heatmap(confusion_matrix_present, annot=True, cmap=custom_palette)\n",
        "plt.xlabel('Predicted')\n",
        "plt.ylabel('Actual')\n",
        "plt.title('Confusion Matrix')\n",
        "plt.show()"
      ],
      "metadata": {
        "execution": {
          "iopub.status.busy": "2023-10-20T03:37:36.643904Z",
          "iopub.execute_input": "2023-10-20T03:37:36.644248Z",
          "iopub.status.idle": "2023-10-20T03:37:38.655452Z",
          "shell.execute_reply.started": "2023-10-20T03:37:36.644216Z",
          "shell.execute_reply": "2023-10-20T03:37:38.654584Z"
        },
        "trusted": true,
        "id": "BC411wfac8th",
        "outputId": "a2ec229a-44f9-476f-a64f-8fc083e25bc5"
      },
      "execution_count": null,
      "outputs": [
        {
          "name": "stdout",
          "text": "1/1 [==============================] - 2s 2s/step\n",
          "output_type": "stream"
        },
        {
          "output_type": "display_data",
          "data": {
            "text/plain": "<Figure size 640x480 with 2 Axes>",
            "image/png": "[encoded data removed]"
          },
          "metadata": {}
        }
      ]
    },
    {
      "cell_type": "code",
      "source": [
        "confusion_matrix_present = confusion_matrix(test_labels, NGTpredictions['ETT - Normal/Abnormal'])\n",
        "\n",
        "plt.gca().patch.set_facecolor('none')\n",
        "\n",
        "\n",
        "\n",
        "custom_palette = ['#D3E0EA', '#AAB8C4', '#8498A2', '#5D7D88', '#3C6270',\n",
        "                  '#1F465E', '#132D4B', '#0A1C36', '#051024', '#020916']\n",
        "\n",
        "# Create a heatmap plot of the confusion matrix\n",
        "sns.heatmap(confusion_matrix_present, annot=True, cmap=custom_palette)\n",
        "plt.xlabel('Predicted')\n",
        "plt.ylabel('Actual')\n",
        "plt.title('Confusion Matrix')\n",
        "plt.show()"
      ],
      "metadata": {
        "execution": {
          "iopub.status.busy": "2023-10-20T03:37:38.656513Z",
          "iopub.execute_input": "2023-10-20T03:37:38.656772Z",
          "iopub.status.idle": "2023-10-20T03:37:38.891068Z",
          "shell.execute_reply.started": "2023-10-20T03:37:38.656749Z",
          "shell.execute_reply": "2023-10-20T03:37:38.890184Z"
        },
        "trusted": true,
        "id": "Z2ASrSR0c8th",
        "outputId": "17c0a1ba-e2ec-48ef-e72b-a74d16086d8f"
      },
      "execution_count": null,
      "outputs": [
        {
          "output_type": "display_data",
          "data": {
            "text/plain": "<Figure size 640x480 with 2 Axes>",
            "image/png": "[encoded data removed]"
          },
          "metadata": {}
        }
      ]
    }
  ]
}