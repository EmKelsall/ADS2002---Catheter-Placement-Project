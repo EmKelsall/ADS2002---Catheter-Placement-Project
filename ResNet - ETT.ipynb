{
  "metadata": {
    "kernelspec": {
      "language": "python",
      "display_name": "Python 3",
      "name": "python3"
    },
    "language_info": {
      "name": "python",
      "version": "3.10.12",
      "mimetype": "text/x-python",
      "codemirror_mode": {
        "name": "ipython",
        "version": 3
      },
      "pygments_lexer": "ipython3",
      "nbconvert_exporter": "python",
      "file_extension": ".py"
    },
    "colab": {
      "provenance": [],
      "include_colab_link": true
    }
  },
  "nbformat_minor": 0,
  "nbformat": 4,
  "cells": [
    {
      "cell_type": "markdown",
      "metadata": {
        "id": "view-in-github",
        "colab_type": "text"
      },
      "source": [
        "<a href=\"https://colab.research.google.com/github/EmKelsall/ADS2002---Catheter-Placement-Project/blob/main/ResNet%20-%20ETT.ipynb\" target=\"_parent\"><img src=\"https://colab.research.google.com/assets/colab-badge.svg\" alt=\"Open In Colab\"/></a>"
      ]
    },
    {
      "cell_type": "markdown",
      "source": [
        "# ResNet - ETT"
      ],
      "metadata": {
        "id": "yRkceaBMnB0R"
      }
    },
    {
      "cell_type": "code",
      "source": [
        "import random\n",
        "import pandas as pd\n",
        "import numpy as np\n",
        "import matplotlib.pyplot as plt\n",
        "import seaborn as sns\n",
        "import json\n",
        "from PIL import Image\n",
        "import ast\n",
        "import os\n",
        "import cv2\n",
        "from tqdm import tqdm"
      ],
      "metadata": {
        "id": "ZbcXZfk1c8tW",
        "execution": {
          "iopub.status.busy": "2023-10-22T03:20:48.406647Z",
          "iopub.execute_input": "2023-10-22T03:20:48.407010Z",
          "iopub.status.idle": "2023-10-22T03:20:50.534508Z",
          "shell.execute_reply.started": "2023-10-22T03:20:48.406977Z",
          "shell.execute_reply": "2023-10-22T03:20:50.533720Z"
        },
        "trusted": true
      },
      "execution_count": null,
      "outputs": []
    },
    {
      "cell_type": "code",
      "source": [
        "train_data = pd.read_csv(\"/kaggle/input/ranzcr-clip-catheter-line-classification/train.csv\")\n",
        "train_data = train_data[(train_data['ETT - Borderline'] != 1 )]\n",
        "\n",
        "train_data[['ETT - Normal', 'ETT - Abnormal', 'ETT - Borderline']].value_counts()\n",
        "train_data['ETT - Present'] = np.where((train_data['ETT - Normal'] == 0) & (train_data['ETT - Abnormal'] == 0) & (train_data['ETT - Borderline'] == 0), 0, 1)\n",
        "\n",
        "train_data[['ETT - Normal', 'ETT - Abnormal']].value_counts()"
      ],
      "metadata": {
        "id": "Flns6z0fc8td",
        "outputId": "4e5720cf-0efd-4c04-d74b-115aa3b63982",
        "execution": {
          "iopub.status.busy": "2023-10-22T03:20:50.536327Z",
          "iopub.execute_input": "2023-10-22T03:20:50.536932Z",
          "iopub.status.idle": "2023-10-22T03:20:50.717179Z",
          "shell.execute_reply.started": "2023-10-22T03:20:50.536899Z",
          "shell.execute_reply": "2023-10-22T03:20:50.716111Z"
        },
        "trusted": true
      },
      "execution_count": null,
      "outputs": [
        {
          "execution_count": 2,
          "output_type": "execute_result",
          "data": {
            "text/plain": "ETT - Normal  ETT - Abnormal\n0             0                 21626\n1             0                  7240\n0             1                    79\nName: count, dtype: int64"
          },
          "metadata": {}
        }
      ]
    },
    {
      "cell_type": "code",
      "source": [
        "normalAb = pd.concat([train_data[train_data['ETT - Normal'] == 1].sample(n=39), train_data[train_data['ETT - Abnormal'] == 1].sample(n=39)])\n",
        "sampled_data = pd.concat([normalAb, train_data[train_data['ETT - Present'] == 0].sample(n=78)])\n",
        "\n",
        "sampled_data"
      ],
      "metadata": {
        "id": "tia_JA6cc8td",
        "outputId": "cc807b0f-7b9d-4af9-bce6-3aff6949bb69",
        "execution": {
          "iopub.status.busy": "2023-10-22T03:20:50.718657Z",
          "iopub.execute_input": "2023-10-22T03:20:50.719065Z",
          "iopub.status.idle": "2023-10-22T03:20:50.758852Z",
          "shell.execute_reply.started": "2023-10-22T03:20:50.719027Z",
          "shell.execute_reply": "2023-10-22T03:20:50.757608Z"
        },
        "trusted": true
      },
      "execution_count": null,
      "outputs": [
        {
          "execution_count": 3,
          "output_type": "execute_result",
          "data": {
            "text/plain": "                                        StudyInstanceUID  ETT - Abnormal  \\\n18335  1.2.826.0.1.3680043.8.498.12808251684309131301...               0   \n16818  1.2.826.0.1.3680043.8.498.64545344928474329458...               0   \n2370   1.2.826.0.1.3680043.8.498.95430425383132004650...               0   \n25211  1.2.826.0.1.3680043.8.498.10480044806634047819...               0   \n27722  1.2.826.0.1.3680043.8.498.13373062361633258041...               0   \n...                                                  ...             ...   \n23460  1.2.826.0.1.3680043.8.498.10383526461057115729...               0   \n11622  1.2.826.0.1.3680043.8.498.53392761555531684084...               0   \n12896  1.2.826.0.1.3680043.8.498.12835091123305319564...               0   \n15818  1.2.826.0.1.3680043.8.498.75375541699770932705...               0   \n15021  1.2.826.0.1.3680043.8.498.30271781979432929522...               0   \n\n       ETT - Borderline  ETT - Normal  NGT - Abnormal  NGT - Borderline  \\\n18335                 0             1               0                 0   \n16818                 0             1               0                 0   \n2370                  0             1               0                 0   \n25211                 0             1               0                 0   \n27722                 0             1               0                 0   \n...                 ...           ...             ...               ...   \n23460                 0             0               0                 0   \n11622                 0             0               0                 0   \n12896                 0             0               0                 0   \n15818                 0             0               0                 0   \n15021                 0             0               0                 0   \n\n       NGT - Incompletely Imaged  NGT - Normal  CVC - Abnormal  \\\n18335                          0             0               0   \n16818                          0             1               0   \n2370                           0             0               0   \n25211                          0             0               0   \n27722                          1             0               0   \n...                          ...           ...             ...   \n23460                          0             0               0   \n11622                          0             0               0   \n12896                          0             0               0   \n15818                          0             0               0   \n15021                          0             1               0   \n\n       CVC - Borderline  CVC - Normal  Swan Ganz Catheter Present  PatientID  \\\n18335                 0             1                           0  3fb755940   \n16818                 0             1                           0  25590bd5f   \n2370                  0             1                           0  dff1c0f73   \n25211                 0             1                           0  4da1ef00e   \n27722                 0             1                           0  a7afe075d   \n...                 ...           ...                         ...        ...   \n23460                 0             1                           0  cc1277177   \n11622                 0             1                           0  dd4b69482   \n12896                 0             1                           0  57eae9725   \n15818                 0             1                           0  bc6b7ac06   \n15021                 0             1                           0  0b324f09b   \n\n       ETT - Present  \n18335              1  \n16818              1  \n2370               1  \n25211              1  \n27722              1  \n...              ...  \n23460              0  \n11622              0  \n12896              0  \n15818              0  \n15021              0  \n\n[156 rows x 14 columns]",
            "text/html": "<div>\n<style scoped>\n    .dataframe tbody tr th:only-of-type {\n        vertical-align: middle;\n    }\n\n    .dataframe tbody tr th {\n        vertical-align: top;\n    }\n\n    .dataframe thead th {\n        text-align: right;\n    }\n</style>\n<table border=\"1\" class=\"dataframe\">\n  <thead>\n    <tr style=\"text-align: right;\">\n      <th></th>\n      <th>StudyInstanceUID</th>\n      <th>ETT - Abnormal</th>\n      <th>ETT - Borderline</th>\n      <th>ETT - Normal</th>\n      <th>NGT - Abnormal</th>\n      <th>NGT - Borderline</th>\n      <th>NGT - Incompletely Imaged</th>\n      <th>NGT - Normal</th>\n      <th>CVC - Abnormal</th>\n      <th>CVC - Borderline</th>\n      <th>CVC - Normal</th>\n      <th>Swan Ganz Catheter Present</th>\n      <th>PatientID</th>\n      <th>ETT - Present</th>\n    </tr>\n  </thead>\n  <tbody>\n    <tr>\n      <th>18335</th>\n      <td>1.2.826.0.1.3680043.8.498.12808251684309131301...</td>\n      <td>0</td>\n      <td>0</td>\n      <td>1</td>\n      <td>0</td>\n      <td>0</td>\n      <td>0</td>\n      <td>0</td>\n      <td>0</td>\n      <td>0</td>\n      <td>1</td>\n      <td>0</td>\n      <td>3fb755940</td>\n      <td>1</td>\n    </tr>\n    <tr>\n      <th>16818</th>\n      <td>1.2.826.0.1.3680043.8.498.64545344928474329458...</td>\n      <td>0</td>\n      <td>0</td>\n      <td>1</td>\n      <td>0</td>\n      <td>0</td>\n      <td>0</td>\n      <td>1</td>\n      <td>0</td>\n      <td>0</td>\n      <td>1</td>\n      <td>0</td>\n      <td>25590bd5f</td>\n      <td>1</td>\n    </tr>\n    <tr>\n      <th>2370</th>\n      <td>1.2.826.0.1.3680043.8.498.95430425383132004650...</td>\n      <td>0</td>\n      <td>0</td>\n      <td>1</td>\n      <td>0</td>\n      <td>0</td>\n      <td>0</td>\n      <td>0</td>\n      <td>0</td>\n      <td>0</td>\n      <td>1</td>\n      <td>0</td>\n      <td>dff1c0f73</td>\n      <td>1</td>\n    </tr>\n    <tr>\n      <th>25211</th>\n      <td>1.2.826.0.1.3680043.8.498.10480044806634047819...</td>\n      <td>0</td>\n      <td>0</td>\n      <td>1</td>\n      <td>0</td>\n      <td>0</td>\n      <td>0</td>\n      <td>0</td>\n      <td>0</td>\n      <td>0</td>\n      <td>1</td>\n      <td>0</td>\n      <td>4da1ef00e</td>\n      <td>1</td>\n    </tr>\n    <tr>\n      <th>27722</th>\n      <td>1.2.826.0.1.3680043.8.498.13373062361633258041...</td>\n      <td>0</td>\n      <td>0</td>\n      <td>1</td>\n      <td>0</td>\n      <td>0</td>\n      <td>1</td>\n      <td>0</td>\n      <td>0</td>\n      <td>0</td>\n      <td>1</td>\n      <td>0</td>\n      <td>a7afe075d</td>\n      <td>1</td>\n    </tr>\n    <tr>\n      <th>...</th>\n      <td>...</td>\n      <td>...</td>\n      <td>...</td>\n      <td>...</td>\n      <td>...</td>\n      <td>...</td>\n      <td>...</td>\n      <td>...</td>\n      <td>...</td>\n      <td>...</td>\n      <td>...</td>\n      <td>...</td>\n      <td>...</td>\n      <td>...</td>\n    </tr>\n    <tr>\n      <th>23460</th>\n      <td>1.2.826.0.1.3680043.8.498.10383526461057115729...</td>\n      <td>0</td>\n      <td>0</td>\n      <td>0</td>\n      <td>0</td>\n      <td>0</td>\n      <td>0</td>\n      <td>0</td>\n      <td>0</td>\n      <td>0</td>\n      <td>1</td>\n      <td>0</td>\n      <td>cc1277177</td>\n      <td>0</td>\n    </tr>\n    <tr>\n      <th>11622</th>\n      <td>1.2.826.0.1.3680043.8.498.53392761555531684084...</td>\n      <td>0</td>\n      <td>0</td>\n      <td>0</td>\n      <td>0</td>\n      <td>0</td>\n      <td>0</td>\n      <td>0</td>\n      <td>0</td>\n      <td>0</td>\n      <td>1</td>\n      <td>0</td>\n      <td>dd4b69482</td>\n      <td>0</td>\n    </tr>\n    <tr>\n      <th>12896</th>\n      <td>1.2.826.0.1.3680043.8.498.12835091123305319564...</td>\n      <td>0</td>\n      <td>0</td>\n      <td>0</td>\n      <td>0</td>\n      <td>0</td>\n      <td>0</td>\n      <td>0</td>\n      <td>0</td>\n      <td>0</td>\n      <td>1</td>\n      <td>0</td>\n      <td>57eae9725</td>\n      <td>0</td>\n    </tr>\n    <tr>\n      <th>15818</th>\n      <td>1.2.826.0.1.3680043.8.498.75375541699770932705...</td>\n      <td>0</td>\n      <td>0</td>\n      <td>0</td>\n      <td>0</td>\n      <td>0</td>\n      <td>0</td>\n      <td>0</td>\n      <td>0</td>\n      <td>0</td>\n      <td>1</td>\n      <td>0</td>\n      <td>bc6b7ac06</td>\n      <td>0</td>\n    </tr>\n    <tr>\n      <th>15021</th>\n      <td>1.2.826.0.1.3680043.8.498.30271781979432929522...</td>\n      <td>0</td>\n      <td>0</td>\n      <td>0</td>\n      <td>0</td>\n      <td>0</td>\n      <td>0</td>\n      <td>1</td>\n      <td>0</td>\n      <td>0</td>\n      <td>1</td>\n      <td>0</td>\n      <td>0b324f09b</td>\n      <td>0</td>\n    </tr>\n  </tbody>\n</table>\n<p>156 rows × 14 columns</p>\n</div>"
          },
          "metadata": {}
        }
      ]
    },
    {
      "cell_type": "code",
      "source": [
        "def getFileNames(df):\n",
        "    studyInstance = df['StudyInstanceUID'].tolist()\n",
        "    studyInstance\n",
        "\n",
        "    for i in range(len(studyInstance)):\n",
        "        studyInstance[i] = f'{studyInstance[i]}.jpg'\n",
        "\n",
        "    return studyInstance"
      ],
      "metadata": {
        "id": "DrfWhpk3c8td",
        "execution": {
          "iopub.status.busy": "2023-10-22T03:20:50.760531Z",
          "iopub.execute_input": "2023-10-22T03:20:50.760926Z",
          "iopub.status.idle": "2023-10-22T03:20:50.767721Z",
          "shell.execute_reply.started": "2023-10-22T03:20:50.760888Z",
          "shell.execute_reply": "2023-10-22T03:20:50.766593Z"
        },
        "trusted": true
      },
      "execution_count": null,
      "outputs": []
    },
    {
      "cell_type": "code",
      "source": [
        "studyInstance = getFileNames(sampled_data)"
      ],
      "metadata": {
        "id": "l_cOOil3c8td",
        "execution": {
          "iopub.status.busy": "2023-10-22T03:20:50.770643Z",
          "iopub.execute_input": "2023-10-22T03:20:50.771775Z",
          "iopub.status.idle": "2023-10-22T03:20:50.780655Z",
          "shell.execute_reply.started": "2023-10-22T03:20:50.771726Z",
          "shell.execute_reply": "2023-10-22T03:20:50.779386Z"
        },
        "trusted": true
      },
      "execution_count": null,
      "outputs": []
    },
    {
      "cell_type": "code",
      "source": [
        "def processImages(filenames,train_test):\n",
        "\n",
        "    imgs = []\n",
        "    FileIDs = []\n",
        "    lst = []\n",
        "\n",
        "\n",
        "    desired_channels = 3\n",
        "\n",
        "    count = 0\n",
        "    for file in tqdm(filenames, position=0, leave=True):\n",
        "        # Making sure the images are the same pixel size\n",
        "        img = Image.open(f\"/kaggle/input/ranzcr-clip-catheter-line-classification/{train_test}/{file}\")\n",
        "        img = img.resize((300, 300))\n",
        "        img = np.array(img)\n",
        "\n",
        "        # Ensure that the image has 3 channels (RGB)\n",
        "        if img.shape[-1] != 3:\n",
        "            img = np.stack((img,) * 3, axis=-1)  # Convert grayscale to RGB by duplicating channels\n",
        "\n",
        "        imgs.append(img)  # Append the 4D image to the list\n",
        "\n",
        "        # Save filename for later\n",
        "        FileIDs.append(file)\n",
        "\n",
        "        count += 1\n",
        "\n",
        "    # Convert the list of images to a numpy array\n",
        "    imgs = np.array(imgs)\n",
        "    return imgs, FileIDs"
      ],
      "metadata": {
        "id": "GtZnwxodc8te",
        "execution": {
          "iopub.status.busy": "2023-10-22T03:20:50.786051Z",
          "iopub.execute_input": "2023-10-22T03:20:50.789319Z",
          "iopub.status.idle": "2023-10-22T03:20:50.801757Z",
          "shell.execute_reply.started": "2023-10-22T03:20:50.789269Z",
          "shell.execute_reply": "2023-10-22T03:20:50.800386Z"
        },
        "trusted": true
      },
      "execution_count": null,
      "outputs": []
    },
    {
      "cell_type": "code",
      "source": [
        "train_imgs, fileIDs = processImages(studyInstance, 'train')"
      ],
      "metadata": {
        "id": "y8jJ9jSBc8te",
        "outputId": "0aa63472-f876-4eee-f7d9-552c46f36e37",
        "execution": {
          "iopub.status.busy": "2023-10-22T03:20:50.808980Z",
          "iopub.execute_input": "2023-10-22T03:20:50.812434Z",
          "iopub.status.idle": "2023-10-22T03:21:00.376031Z",
          "shell.execute_reply.started": "2023-10-22T03:20:50.812383Z",
          "shell.execute_reply": "2023-10-22T03:21:00.374912Z"
        },
        "trusted": true
      },
      "execution_count": null,
      "outputs": [
        {
          "name": "stderr",
          "text": "100%|██████████| 156/156 [00:09<00:00, 16.39it/s]\n",
          "output_type": "stream"
        }
      ]
    },
    {
      "cell_type": "code",
      "source": [
        "#cleaning up the labels\n",
        "UID = []\n",
        "for i in range(len(fileIDs)):\n",
        "  UID.append(fileIDs[i].replace(\".jpg\",\"\"))\n",
        "\n",
        "UID[0:10]"
      ],
      "metadata": {
        "id": "OIUWF0jOc8te",
        "outputId": "0b68b985-e334-4826-b814-0bbb0cf2fd6d",
        "execution": {
          "iopub.status.busy": "2023-10-22T03:21:00.377212Z",
          "iopub.execute_input": "2023-10-22T03:21:00.377544Z",
          "iopub.status.idle": "2023-10-22T03:21:00.386102Z",
          "shell.execute_reply.started": "2023-10-22T03:21:00.377497Z",
          "shell.execute_reply": "2023-10-22T03:21:00.384934Z"
        },
        "trusted": true
      },
      "execution_count": null,
      "outputs": [
        {
          "execution_count": 8,
          "output_type": "execute_result",
          "data": {
            "text/plain": "['1.2.826.0.1.3680043.8.498.12808251684309131301583755654824541840',\n '1.2.826.0.1.3680043.8.498.64545344928474329458810362248833710064',\n '1.2.826.0.1.3680043.8.498.95430425383132004650191433607630505062',\n '1.2.826.0.1.3680043.8.498.10480044806634047819626681796785825533',\n '1.2.826.0.1.3680043.8.498.13373062361633258041199854131744962522',\n '1.2.826.0.1.3680043.8.498.28300964548658894395744362436309385737',\n '1.2.826.0.1.3680043.8.498.59297302149458774284162472548980015632',\n '1.2.826.0.1.3680043.8.498.27638524618188151587003689152335998105',\n '1.2.826.0.1.3680043.8.498.13028010645410161954037386970470767950',\n '1.2.826.0.1.3680043.8.498.92346044940481053670973987722867427355']"
          },
          "metadata": {}
        }
      ]
    },
    {
      "cell_type": "code",
      "source": [
        "columns_to_drop = ['ETT - Abnormal', 'ETT - Borderline', 'ETT - Normal', 'NGT - Abnormal', 'NGT - Borderline', 'NGT - Normal',\n",
        "                  \"NGT - Incompletely Imaged\", \"Swan Ganz Catheter Present\", \"PatientID\", \"CVC - Borderline\", 'CVC - Abnormal', 'CVC - Normal']\n",
        "\n",
        "ETTsampled_data = sampled_data.drop(columns=columns_to_drop, axis=1)\n",
        "\n",
        "ETTsampled_data.set_index('StudyInstanceUID', inplace=True)"
      ],
      "metadata": {
        "id": "To0uEzvqc8te",
        "execution": {
          "iopub.status.busy": "2023-10-22T03:21:00.387963Z",
          "iopub.execute_input": "2023-10-22T03:21:00.388387Z",
          "iopub.status.idle": "2023-10-22T03:21:00.411952Z",
          "shell.execute_reply.started": "2023-10-22T03:21:00.388349Z",
          "shell.execute_reply": "2023-10-22T03:21:00.410923Z"
        },
        "trusted": true
      },
      "execution_count": null,
      "outputs": []
    },
    {
      "cell_type": "code",
      "source": [
        "train_labels_df = np.empty((0,3))\n",
        "data = []\n",
        "\n",
        "for ID in UID:\n",
        "    data.append(ETTsampled_data.loc[ID])\n",
        "\n",
        "train_labels_df = pd.DataFrame(data)\n",
        "\n",
        "train_labels_df = train_labels_df.reindex(UID)\n",
        "train_labels = train_labels_df['ETT - Present'].values\n",
        "train_labels"
      ],
      "metadata": {
        "id": "C_PLuMq6c8te",
        "outputId": "cefbc80b-2e07-40db-dc63-992acbc89399",
        "execution": {
          "iopub.status.busy": "2023-10-22T03:21:00.413112Z",
          "iopub.execute_input": "2023-10-22T03:21:00.413410Z",
          "iopub.status.idle": "2023-10-22T03:21:00.445724Z",
          "shell.execute_reply.started": "2023-10-22T03:21:00.413384Z",
          "shell.execute_reply": "2023-10-22T03:21:00.444603Z"
        },
        "trusted": true
      },
      "execution_count": null,
      "outputs": [
        {
          "execution_count": 10,
          "output_type": "execute_result",
          "data": {
            "text/plain": "array([1, 1, 1, 1, 1, 1, 1, 1, 1, 1, 1, 1, 1, 1, 1, 1, 1, 1, 1, 1, 1, 1,\n       1, 1, 1, 1, 1, 1, 1, 1, 1, 1, 1, 1, 1, 1, 1, 1, 1, 1, 1, 1, 1, 1,\n       1, 1, 1, 1, 1, 1, 1, 1, 1, 1, 1, 1, 1, 1, 1, 1, 1, 1, 1, 1, 1, 1,\n       1, 1, 1, 1, 1, 1, 1, 1, 1, 1, 1, 1, 0, 0, 0, 0, 0, 0, 0, 0, 0, 0,\n       0, 0, 0, 0, 0, 0, 0, 0, 0, 0, 0, 0, 0, 0, 0, 0, 0, 0, 0, 0, 0, 0,\n       0, 0, 0, 0, 0, 0, 0, 0, 0, 0, 0, 0, 0, 0, 0, 0, 0, 0, 0, 0, 0, 0,\n       0, 0, 0, 0, 0, 0, 0, 0, 0, 0, 0, 0, 0, 0, 0, 0, 0, 0, 0, 0, 0, 0,\n       0, 0])"
          },
          "metadata": {}
        }
      ]
    },
    {
      "cell_type": "code",
      "source": [
        "from sklearn.model_selection import train_test_split\n",
        "\n",
        "# Split your data into training and temporary data (combined validation and test)\n",
        "train_imgs, temp_imgs, train_labels, temp_labels = train_test_split(train_imgs, train_labels, test_size=0.2, random_state=42)\n",
        "\n",
        "# Split the temporary data into validation and test sets\n",
        "val_imgs, test_imgs, val_labels, test_labels = train_test_split(temp_imgs, temp_labels, test_size=0.5, random_state=42)"
      ],
      "metadata": {
        "id": "jb3lONFIc8te",
        "execution": {
          "iopub.status.busy": "2023-10-22T03:21:00.447245Z",
          "iopub.execute_input": "2023-10-22T03:21:00.447599Z",
          "iopub.status.idle": "2023-10-22T03:21:00.636666Z",
          "shell.execute_reply.started": "2023-10-22T03:21:00.447564Z",
          "shell.execute_reply": "2023-10-22T03:21:00.635698Z"
        },
        "trusted": true
      },
      "execution_count": null,
      "outputs": []
    },
    {
      "cell_type": "code",
      "source": [
        "import numpy as np\n",
        "import tensorflow as tf\n",
        "from tensorflow.keras.applications import ResNet50\n",
        "from tensorflow.keras.layers import GlobalAveragePooling2D, Dense, Dropout"
      ],
      "metadata": {
        "id": "X7cCzV5ec8te",
        "execution": {
          "iopub.status.busy": "2023-10-22T03:21:00.637914Z",
          "iopub.execute_input": "2023-10-22T03:21:00.638300Z",
          "iopub.status.idle": "2023-10-22T03:21:09.531097Z",
          "shell.execute_reply.started": "2023-10-22T03:21:00.638265Z",
          "shell.execute_reply": "2023-10-22T03:21:09.530023Z"
        },
        "trusted": true
      },
      "execution_count": null,
      "outputs": []
    },
    {
      "cell_type": "code",
      "source": [
        "def buildTrainData(catheter, train_data, size):\n",
        "\n",
        "    train_data = train_data[train_data[f'{catheter} - Present'] == 1]\n",
        "    train_data = train_data = train_data[~((train_data[f'{catheter} - Normal'] == 1) & (train_data[f'{catheter} - Abnormal'] == 1))]\n",
        "    train_data[f'{catheter} - Normal/Abnormal'] = np.where(train_data[f'{catheter} - Normal'] == 1, 1, 0)\n",
        "    sampled_data = pd.concat([train_data[train_data[f'{catheter} - Normal'] == 1].sample(n=size), train_data[train_data[f'{catheter} - Abnormal'] == 1].sample(n=size)])\n",
        "\n",
        "    return sampled_data"
      ],
      "metadata": {
        "id": "uAq_B6igc8tf",
        "execution": {
          "iopub.status.busy": "2023-10-22T03:21:09.532487Z",
          "iopub.execute_input": "2023-10-22T03:21:09.533100Z",
          "iopub.status.idle": "2023-10-22T03:21:09.539697Z",
          "shell.execute_reply.started": "2023-10-22T03:21:09.533066Z",
          "shell.execute_reply": "2023-10-22T03:21:09.538681Z"
        },
        "trusted": true
      },
      "execution_count": null,
      "outputs": []
    },
    {
      "cell_type": "code",
      "source": [
        "sample = buildTrainData('ETT', train_data, 78)\n",
        "sample"
      ],
      "metadata": {
        "id": "0WTKV9dgc8tf",
        "outputId": "473bee38-b856-408d-d7f4-1b45f5678420",
        "execution": {
          "iopub.status.busy": "2023-10-22T03:21:09.543375Z",
          "iopub.execute_input": "2023-10-22T03:21:09.543891Z",
          "iopub.status.idle": "2023-10-22T03:21:09.583041Z",
          "shell.execute_reply.started": "2023-10-22T03:21:09.543855Z",
          "shell.execute_reply": "2023-10-22T03:21:09.581920Z"
        },
        "trusted": true
      },
      "execution_count": null,
      "outputs": [
        {
          "execution_count": 14,
          "output_type": "execute_result",
          "data": {
            "text/plain": "                                        StudyInstanceUID  ETT - Abnormal  \\\n29887  1.2.826.0.1.3680043.8.498.36518875504968416477...               0   \n6375   1.2.826.0.1.3680043.8.498.13181424540386334611...               0   \n29672  1.2.826.0.1.3680043.8.498.10815368909177631498...               0   \n14805  1.2.826.0.1.3680043.8.498.13221541665973093351...               0   \n5196   1.2.826.0.1.3680043.8.498.50626675605939419196...               0   \n...                                                  ...             ...   \n20701  1.2.826.0.1.3680043.8.498.10479615105716260873...               1   \n18286  1.2.826.0.1.3680043.8.498.45630226598251928362...               1   \n23435  1.2.826.0.1.3680043.8.498.80937139423520710449...               1   \n5457   1.2.826.0.1.3680043.8.498.30836180807940123518...               1   \n20200  1.2.826.0.1.3680043.8.498.28578895328900384008...               1   \n\n       ETT - Borderline  ETT - Normal  NGT - Abnormal  NGT - Borderline  \\\n29887                 0             1               0                 0   \n6375                  0             1               0                 0   \n29672                 0             1               0                 0   \n14805                 0             1               0                 0   \n5196                  0             1               0                 0   \n...                 ...           ...             ...               ...   \n20701                 0             0               0                 0   \n18286                 0             0               0                 0   \n23435                 0             0               0                 0   \n5457                  0             0               0                 0   \n20200                 0             0               0                 0   \n\n       NGT - Incompletely Imaged  NGT - Normal  CVC - Abnormal  \\\n29887                          0             1               1   \n6375                           0             1               0   \n29672                          1             0               0   \n14805                          1             0               0   \n5196                           0             1               0   \n...                          ...           ...             ...   \n20701                          0             0               0   \n18286                          0             1               0   \n23435                          0             1               0   \n5457                           0             0               0   \n20200                          0             1               1   \n\n       CVC - Borderline  CVC - Normal  Swan Ganz Catheter Present  PatientID  \\\n29887                 0             0                           0  83f1d2141   \n6375                  0             1                           1  ca9a05f60   \n29672                 1             0                           0  2bb41c720   \n14805                 1             0                           0  41320a953   \n5196                  0             1                           0  fd3ab6f0e   \n...                 ...           ...                         ...        ...   \n20701                 1             0                           0  b478001d5   \n18286                 1             0                           0  bf4c6da3c   \n23435                 0             1                           0  3fb755940   \n5457                  0             1                           0  2fcdd13f8   \n20200                 0             0                           0  1fcdd2b25   \n\n       ETT - Present  ETT - Normal/Abnormal  \n29887              1                      1  \n6375               1                      1  \n29672              1                      1  \n14805              1                      1  \n5196               1                      1  \n...              ...                    ...  \n20701              1                      0  \n18286              1                      0  \n23435              1                      0  \n5457               1                      0  \n20200              1                      0  \n\n[156 rows x 15 columns]",
            "text/html": "<div>\n<style scoped>\n    .dataframe tbody tr th:only-of-type {\n        vertical-align: middle;\n    }\n\n    .dataframe tbody tr th {\n        vertical-align: top;\n    }\n\n    .dataframe thead th {\n        text-align: right;\n    }\n</style>\n<table border=\"1\" class=\"dataframe\">\n  <thead>\n    <tr style=\"text-align: right;\">\n      <th></th>\n      <th>StudyInstanceUID</th>\n      <th>ETT - Abnormal</th>\n      <th>ETT - Borderline</th>\n      <th>ETT - Normal</th>\n      <th>NGT - Abnormal</th>\n      <th>NGT - Borderline</th>\n      <th>NGT - Incompletely Imaged</th>\n      <th>NGT - Normal</th>\n      <th>CVC - Abnormal</th>\n      <th>CVC - Borderline</th>\n      <th>CVC - Normal</th>\n      <th>Swan Ganz Catheter Present</th>\n      <th>PatientID</th>\n      <th>ETT - Present</th>\n      <th>ETT - Normal/Abnormal</th>\n    </tr>\n  </thead>\n  <tbody>\n    <tr>\n      <th>29887</th>\n      <td>1.2.826.0.1.3680043.8.498.36518875504968416477...</td>\n      <td>0</td>\n      <td>0</td>\n      <td>1</td>\n      <td>0</td>\n      <td>0</td>\n      <td>0</td>\n      <td>1</td>\n      <td>1</td>\n      <td>0</td>\n      <td>0</td>\n      <td>0</td>\n      <td>83f1d2141</td>\n      <td>1</td>\n      <td>1</td>\n    </tr>\n    <tr>\n      <th>6375</th>\n      <td>1.2.826.0.1.3680043.8.498.13181424540386334611...</td>\n      <td>0</td>\n      <td>0</td>\n      <td>1</td>\n      <td>0</td>\n      <td>0</td>\n      <td>0</td>\n      <td>1</td>\n      <td>0</td>\n      <td>0</td>\n      <td>1</td>\n      <td>1</td>\n      <td>ca9a05f60</td>\n      <td>1</td>\n      <td>1</td>\n    </tr>\n    <tr>\n      <th>29672</th>\n      <td>1.2.826.0.1.3680043.8.498.10815368909177631498...</td>\n      <td>0</td>\n      <td>0</td>\n      <td>1</td>\n      <td>0</td>\n      <td>0</td>\n      <td>1</td>\n      <td>0</td>\n      <td>0</td>\n      <td>1</td>\n      <td>0</td>\n      <td>0</td>\n      <td>2bb41c720</td>\n      <td>1</td>\n      <td>1</td>\n    </tr>\n    <tr>\n      <th>14805</th>\n      <td>1.2.826.0.1.3680043.8.498.13221541665973093351...</td>\n      <td>0</td>\n      <td>0</td>\n      <td>1</td>\n      <td>0</td>\n      <td>0</td>\n      <td>1</td>\n      <td>0</td>\n      <td>0</td>\n      <td>1</td>\n      <td>0</td>\n      <td>0</td>\n      <td>41320a953</td>\n      <td>1</td>\n      <td>1</td>\n    </tr>\n    <tr>\n      <th>5196</th>\n      <td>1.2.826.0.1.3680043.8.498.50626675605939419196...</td>\n      <td>0</td>\n      <td>0</td>\n      <td>1</td>\n      <td>0</td>\n      <td>0</td>\n      <td>0</td>\n      <td>1</td>\n      <td>0</td>\n      <td>0</td>\n      <td>1</td>\n      <td>0</td>\n      <td>fd3ab6f0e</td>\n      <td>1</td>\n      <td>1</td>\n    </tr>\n    <tr>\n      <th>...</th>\n      <td>...</td>\n      <td>...</td>\n      <td>...</td>\n      <td>...</td>\n      <td>...</td>\n      <td>...</td>\n      <td>...</td>\n      <td>...</td>\n      <td>...</td>\n      <td>...</td>\n      <td>...</td>\n      <td>...</td>\n      <td>...</td>\n      <td>...</td>\n      <td>...</td>\n    </tr>\n    <tr>\n      <th>20701</th>\n      <td>1.2.826.0.1.3680043.8.498.10479615105716260873...</td>\n      <td>1</td>\n      <td>0</td>\n      <td>0</td>\n      <td>0</td>\n      <td>0</td>\n      <td>0</td>\n      <td>0</td>\n      <td>0</td>\n      <td>1</td>\n      <td>0</td>\n      <td>0</td>\n      <td>b478001d5</td>\n      <td>1</td>\n      <td>0</td>\n    </tr>\n    <tr>\n      <th>18286</th>\n      <td>1.2.826.0.1.3680043.8.498.45630226598251928362...</td>\n      <td>1</td>\n      <td>0</td>\n      <td>0</td>\n      <td>0</td>\n      <td>0</td>\n      <td>0</td>\n      <td>1</td>\n      <td>0</td>\n      <td>1</td>\n      <td>0</td>\n      <td>0</td>\n      <td>bf4c6da3c</td>\n      <td>1</td>\n      <td>0</td>\n    </tr>\n    <tr>\n      <th>23435</th>\n      <td>1.2.826.0.1.3680043.8.498.80937139423520710449...</td>\n      <td>1</td>\n      <td>0</td>\n      <td>0</td>\n      <td>0</td>\n      <td>0</td>\n      <td>0</td>\n      <td>1</td>\n      <td>0</td>\n      <td>0</td>\n      <td>1</td>\n      <td>0</td>\n      <td>3fb755940</td>\n      <td>1</td>\n      <td>0</td>\n    </tr>\n    <tr>\n      <th>5457</th>\n      <td>1.2.826.0.1.3680043.8.498.30836180807940123518...</td>\n      <td>1</td>\n      <td>0</td>\n      <td>0</td>\n      <td>0</td>\n      <td>0</td>\n      <td>0</td>\n      <td>0</td>\n      <td>0</td>\n      <td>0</td>\n      <td>1</td>\n      <td>0</td>\n      <td>2fcdd13f8</td>\n      <td>1</td>\n      <td>0</td>\n    </tr>\n    <tr>\n      <th>20200</th>\n      <td>1.2.826.0.1.3680043.8.498.28578895328900384008...</td>\n      <td>1</td>\n      <td>0</td>\n      <td>0</td>\n      <td>0</td>\n      <td>0</td>\n      <td>0</td>\n      <td>1</td>\n      <td>1</td>\n      <td>0</td>\n      <td>0</td>\n      <td>0</td>\n      <td>1fcdd2b25</td>\n      <td>1</td>\n      <td>0</td>\n    </tr>\n  </tbody>\n</table>\n<p>156 rows × 15 columns</p>\n</div>"
          },
          "metadata": {}
        }
      ]
    },
    {
      "cell_type": "code",
      "source": [
        "nAb_data = getFileNames(sample)\n",
        "ett_imgs, fileIDs = processImages(nAb_data, 'train')"
      ],
      "metadata": {
        "id": "gcJsvVLgc8tf",
        "outputId": "ca7f10a8-8537-4ece-d70e-7858f1c36da6",
        "execution": {
          "iopub.status.busy": "2023-10-22T03:21:09.584704Z",
          "iopub.execute_input": "2023-10-22T03:21:09.585133Z",
          "iopub.status.idle": "2023-10-22T03:21:18.056741Z",
          "shell.execute_reply.started": "2023-10-22T03:21:09.585094Z",
          "shell.execute_reply": "2023-10-22T03:21:18.055630Z"
        },
        "trusted": true
      },
      "execution_count": null,
      "outputs": [
        {
          "name": "stderr",
          "text": "100%|██████████| 156/156 [00:08<00:00, 18.49it/s]\n",
          "output_type": "stream"
        }
      ]
    },
    {
      "cell_type": "code",
      "source": [
        "UID = []\n",
        "for i in range(len(fileIDs)):\n",
        "  UID.append(fileIDs[i].replace(\".jpg\",\"\"))\n",
        "\n",
        "columns_to_drop = ['ETT - Abnormal', 'ETT - Borderline', 'ETT - Normal', 'NGT - Abnormal', 'NGT - Borderline', 'NGT - Normal',\n",
        "                  \"NGT - Incompletely Imaged\", \"Swan Ganz Catheter Present\", \"PatientID\", \"CVC - Borderline\", 'CVC - Abnormal', 'CVC - Normal', 'ETT - Present']\n",
        "\n",
        "ETTsample = sample.drop(columns=columns_to_drop, axis=1)\n",
        "ETTsample.set_index('StudyInstanceUID', inplace=True)\n",
        "\n",
        "ETTsample"
      ],
      "metadata": {
        "id": "JtU1cA41c8tg",
        "outputId": "48117dd6-9566-4471-ae7e-fe5b0b21213e",
        "execution": {
          "iopub.status.busy": "2023-10-22T03:21:18.057846Z",
          "iopub.execute_input": "2023-10-22T03:21:18.058142Z",
          "iopub.status.idle": "2023-10-22T03:21:18.072937Z",
          "shell.execute_reply.started": "2023-10-22T03:21:18.058117Z",
          "shell.execute_reply": "2023-10-22T03:21:18.071574Z"
        },
        "trusted": true
      },
      "execution_count": null,
      "outputs": [
        {
          "execution_count": 16,
          "output_type": "execute_result",
          "data": {
            "text/plain": "                                                    ETT - Normal/Abnormal\nStudyInstanceUID                                                         \n1.2.826.0.1.3680043.8.498.365188755049684164772...                      1\n1.2.826.0.1.3680043.8.498.131814245403863346111...                      1\n1.2.826.0.1.3680043.8.498.108153689091776314989...                      1\n1.2.826.0.1.3680043.8.498.132215416659730933514...                      1\n1.2.826.0.1.3680043.8.498.506266756059394191967...                      1\n...                                                                   ...\n1.2.826.0.1.3680043.8.498.104796151057162608730...                      0\n1.2.826.0.1.3680043.8.498.456302265982519283629...                      0\n1.2.826.0.1.3680043.8.498.809371394235207104490...                      0\n1.2.826.0.1.3680043.8.498.308361808079401235180...                      0\n1.2.826.0.1.3680043.8.498.285788953289003840086...                      0\n\n[156 rows x 1 columns]",
            "text/html": "<div>\n<style scoped>\n    .dataframe tbody tr th:only-of-type {\n        vertical-align: middle;\n    }\n\n    .dataframe tbody tr th {\n        vertical-align: top;\n    }\n\n    .dataframe thead th {\n        text-align: right;\n    }\n</style>\n<table border=\"1\" class=\"dataframe\">\n  <thead>\n    <tr style=\"text-align: right;\">\n      <th></th>\n      <th>ETT - Normal/Abnormal</th>\n    </tr>\n    <tr>\n      <th>StudyInstanceUID</th>\n      <th></th>\n    </tr>\n  </thead>\n  <tbody>\n    <tr>\n      <th>1.2.826.0.1.3680043.8.498.36518875504968416477207111692632539562</th>\n      <td>1</td>\n    </tr>\n    <tr>\n      <th>1.2.826.0.1.3680043.8.498.13181424540386334611112176122756730652</th>\n      <td>1</td>\n    </tr>\n    <tr>\n      <th>1.2.826.0.1.3680043.8.498.10815368909177631498970268684837832051</th>\n      <td>1</td>\n    </tr>\n    <tr>\n      <th>1.2.826.0.1.3680043.8.498.13221541665973093351408354838592188322</th>\n      <td>1</td>\n    </tr>\n    <tr>\n      <th>1.2.826.0.1.3680043.8.498.50626675605939419196753481286642152534</th>\n      <td>1</td>\n    </tr>\n    <tr>\n      <th>...</th>\n      <td>...</td>\n    </tr>\n    <tr>\n      <th>1.2.826.0.1.3680043.8.498.10479615105716260873080198321864360531</th>\n      <td>0</td>\n    </tr>\n    <tr>\n      <th>1.2.826.0.1.3680043.8.498.45630226598251928362902318654119069919</th>\n      <td>0</td>\n    </tr>\n    <tr>\n      <th>1.2.826.0.1.3680043.8.498.80937139423520710449087164918249582817</th>\n      <td>0</td>\n    </tr>\n    <tr>\n      <th>1.2.826.0.1.3680043.8.498.30836180807940123518012807355584281014</th>\n      <td>0</td>\n    </tr>\n    <tr>\n      <th>1.2.826.0.1.3680043.8.498.28578895328900384008640781750393178159</th>\n      <td>0</td>\n    </tr>\n  </tbody>\n</table>\n<p>156 rows × 1 columns</p>\n</div>"
          },
          "metadata": {}
        }
      ]
    },
    {
      "cell_type": "code",
      "source": [
        "train_labels_df = np.empty((0,3))\n",
        "data = []\n",
        "\n",
        "for ID in UID:\n",
        "    data.append(ETTsample.loc[ID])\n",
        "\n",
        "train_labels_df = pd.DataFrame(data)\n",
        "\n",
        "train_labels_df = train_labels_df.reindex(UID)\n",
        "ett_labels = train_labels_df['ETT - Normal/Abnormal'].values\n",
        "ett_labels"
      ],
      "metadata": {
        "id": "vVdaN8jKc8tg",
        "outputId": "aee1946e-20c3-454c-b293-f23b6b72b3ab",
        "execution": {
          "iopub.status.busy": "2023-10-22T03:21:18.075489Z",
          "iopub.execute_input": "2023-10-22T03:21:18.076038Z",
          "iopub.status.idle": "2023-10-22T03:21:18.101535Z",
          "shell.execute_reply.started": "2023-10-22T03:21:18.075998Z",
          "shell.execute_reply": "2023-10-22T03:21:18.100481Z"
        },
        "trusted": true
      },
      "execution_count": null,
      "outputs": [
        {
          "execution_count": 17,
          "output_type": "execute_result",
          "data": {
            "text/plain": "array([1, 1, 1, 1, 1, 1, 1, 1, 1, 1, 1, 1, 1, 1, 1, 1, 1, 1, 1, 1, 1, 1,\n       1, 1, 1, 1, 1, 1, 1, 1, 1, 1, 1, 1, 1, 1, 1, 1, 1, 1, 1, 1, 1, 1,\n       1, 1, 1, 1, 1, 1, 1, 1, 1, 1, 1, 1, 1, 1, 1, 1, 1, 1, 1, 1, 1, 1,\n       1, 1, 1, 1, 1, 1, 1, 1, 1, 1, 1, 1, 0, 0, 0, 0, 0, 0, 0, 0, 0, 0,\n       0, 0, 0, 0, 0, 0, 0, 0, 0, 0, 0, 0, 0, 0, 0, 0, 0, 0, 0, 0, 0, 0,\n       0, 0, 0, 0, 0, 0, 0, 0, 0, 0, 0, 0, 0, 0, 0, 0, 0, 0, 0, 0, 0, 0,\n       0, 0, 0, 0, 0, 0, 0, 0, 0, 0, 0, 0, 0, 0, 0, 0, 0, 0, 0, 0, 0, 0,\n       0, 0])"
          },
          "metadata": {}
        }
      ]
    },
    {
      "cell_type": "code",
      "source": [
        "from sklearn.model_selection import train_test_split\n",
        "\n",
        "# Split your data into training and temporary data (combined validation and test)\n",
        "trainETT_imgs, temp_imgs, trainETT_labels, temp_labels = train_test_split(ett_imgs, ett_labels, test_size=0.2, random_state=42)\n",
        "\n",
        "# Split the temporary data into validation and test sets\n",
        "valETT_imgs, testETT_imgs, valETT_labels, testETT_labels = train_test_split(temp_imgs, temp_labels, test_size=0.5, random_state=42)"
      ],
      "metadata": {
        "id": "DI78IySHc8tg",
        "execution": {
          "iopub.status.busy": "2023-10-22T03:21:18.103116Z",
          "iopub.execute_input": "2023-10-22T03:21:18.103509Z",
          "iopub.status.idle": "2023-10-22T03:21:18.140095Z",
          "shell.execute_reply.started": "2023-10-22T03:21:18.103474Z",
          "shell.execute_reply": "2023-10-22T03:21:18.139090Z"
        },
        "trusted": true
      },
      "execution_count": null,
      "outputs": []
    },
    {
      "cell_type": "code",
      "source": [
        "from tensorflow.keras.layers import concatenate\n",
        "from tensorflow.keras.preprocessing.image import ImageDataGenerator\n",
        "from tensorflow.keras.models import Model\n",
        "from tensorflow.keras.layers import Dropout, BatchNormalization\n",
        "from tensorflow.keras.callbacks import ReduceLROnPlateau\n",
        "from tensorflow.keras.callbacks import EarlyStopping, ModelCheckpoint\n",
        "\n",
        "# Load the ResNet50 model with pre-trained weights\n",
        "base_model = ResNet50(weights='imagenet', include_top=False)\n",
        "\n",
        "# Add dropout and batch normalization to custom fully connected layers\n",
        "x = base_model.output\n",
        "x = GlobalAveragePooling2D()(x)\n",
        "x = Dense(1024, activation='relu')(x)\n",
        "x = BatchNormalization()(x)\n",
        "x = Dropout(0.5)(x)\n",
        "\n",
        "# First Output Branch: CVC Catheter Presence (Binary Classification)\n",
        "output_ETTpresent = Dense(1, activation='sigmoid', name='output_ETTpresent')(x)\n",
        "\n",
        "# Add a separate set of layers for the new task\n",
        "y = base_model.output\n",
        "y = GlobalAveragePooling2D()(y)\n",
        "y = Dense(1024, activation='relu')(y)\n",
        "y = BatchNormalization()(y)\n",
        "y = Dropout(0.5)(y)\n",
        "\n",
        "# Second Output Branch: CVC Placement (Binary Classification)\n",
        "output_ett_placement = Dense(1, activation='sigmoid', name='output_ETTnormalAbnormal')(y)\n",
        "\n",
        "# Combine the two output branches\n",
        "combined_model = Model(inputs=base_model.input, outputs=[output_ETTpresent, output_ett_placement])\n",
        "\n",
        "# Compile the combined model with optimizer and loss functions for both tasks\n",
        "combined_model.compile(optimizer='SGD',\n",
        "                       loss={'output_ETTpresent': 'binary_crossentropy', 'output_ETTnormalAbnormal': 'binary_crossentropy'},\n",
        "                       metrics={'output_ETTpresent': 'accuracy', 'output_ETTnormalAbnormal': 'accuracy'})\n",
        "\n",
        "# # Reduce learning rate when the validation loss plateaus\n",
        "reduce_lr = ReduceLROnPlateau(monitor='val_loss', factor=0.2, patience=5, min_lr=1e-6)\n",
        "\n",
        "# Early stopping to prevent overfitting\n",
        "early_stop = EarlyStopping(monitor='val_loss', patience=10, restore_best_weights=True)\n",
        "\n",
        "# Save the best model during training\n",
        "model_checkpoint = ModelCheckpoint('best_model.h5', save_best_only=True)\n",
        "\n",
        "history = combined_model.fit(\n",
        "    {'input_1': train_imgs},\n",
        "    {'output_ETTpresent': train_labels, 'output_ETTnormalAbnormal': trainETT_labels},\n",
        "    epochs=30,\n",
        "    validation_data=(\n",
        "        {'input_1': val_imgs},\n",
        "        {'output_ETTpresent': val_labels, 'output_ETTnormalAbnormal': valETT_labels}\n",
        "    ),\n",
        "    callbacks=[reduce_lr, early_stop, model_checkpoint]\n",
        ")"
      ],
      "metadata": {
        "id": "3SioeF7Fc8tg",
        "outputId": "c183b2c6-5fcb-4c07-d709-4d1e1ccea0a8",
        "execution": {
          "iopub.status.busy": "2023-10-22T03:21:18.141755Z",
          "iopub.execute_input": "2023-10-22T03:21:18.142064Z",
          "iopub.status.idle": "2023-10-22T03:57:59.438484Z",
          "shell.execute_reply.started": "2023-10-22T03:21:18.142039Z",
          "shell.execute_reply": "2023-10-22T03:57:59.436784Z"
        },
        "trusted": true
      },
      "execution_count": null,
      "outputs": [
        {
          "name": "stdout",
          "text": "Downloading data from https://storage.googleapis.com/tensorflow/keras-applications/resnet/resnet50_weights_tf_dim_ordering_tf_kernels_notop.h5\n94765736/94765736 [==============================] - 4s 0us/step\nEpoch 1/30\n4/4 [==============================] - 96s 21s/step - loss: 1.5294 - output_ETTpresent_loss: 0.7815 - output_ETTnormalAbnormal_loss: 0.7478 - output_ETTpresent_accuracy: 0.6048 - output_ETTnormalAbnormal_accuracy: 0.6290 - val_loss: 1.4038 - val_output_ETTpresent_loss: 0.7199 - val_output_ETTnormalAbnormal_loss: 0.6839 - val_output_ETTpresent_accuracy: 0.3125 - val_output_ETTnormalAbnormal_accuracy: 0.5625 - lr: 0.0100\nEpoch 2/30\n4/4 [==============================] - 83s 21s/step - loss: 0.5241 - output_ETTpresent_loss: 0.2532 - output_ETTnormalAbnormal_loss: 0.2709 - output_ETTpresent_accuracy: 0.8952 - output_ETTnormalAbnormal_accuracy: 0.8710 - val_loss: 1.3186 - val_output_ETTpresent_loss: 0.6268 - val_output_ETTnormalAbnormal_loss: 0.6917 - val_output_ETTpresent_accuracy: 0.6875 - val_output_ETTnormalAbnormal_accuracy: 0.6250 - lr: 0.0100\nEpoch 3/30\n4/4 [==============================] - 84s 21s/step - loss: 0.2495 - output_ETTpresent_loss: 0.1214 - output_ETTnormalAbnormal_loss: 0.1281 - output_ETTpresent_accuracy: 0.9435 - output_ETTnormalAbnormal_accuracy: 0.9355 - val_loss: 1.2999 - val_output_ETTpresent_loss: 0.6232 - val_output_ETTnormalAbnormal_loss: 0.6768 - val_output_ETTpresent_accuracy: 0.6875 - val_output_ETTnormalAbnormal_accuracy: 0.6250 - lr: 0.0100\nEpoch 4/30\n4/4 [==============================] - 81s 20s/step - loss: 0.0957 - output_ETTpresent_loss: 0.0634 - output_ETTnormalAbnormal_loss: 0.0323 - output_ETTpresent_accuracy: 0.9758 - output_ETTnormalAbnormal_accuracy: 1.0000 - val_loss: 1.3016 - val_output_ETTpresent_loss: 0.6206 - val_output_ETTnormalAbnormal_loss: 0.6809 - val_output_ETTpresent_accuracy: 0.7500 - val_output_ETTnormalAbnormal_accuracy: 0.6250 - lr: 0.0100\nEpoch 5/30\n4/4 [==============================] - 87s 22s/step - loss: 0.0547 - output_ETTpresent_loss: 0.0292 - output_ETTnormalAbnormal_loss: 0.0255 - output_ETTpresent_accuracy: 0.9919 - output_ETTnormalAbnormal_accuracy: 1.0000 - val_loss: 1.2631 - val_output_ETTpresent_loss: 0.6009 - val_output_ETTnormalAbnormal_loss: 0.6622 - val_output_ETTpresent_accuracy: 0.7500 - val_output_ETTnormalAbnormal_accuracy: 0.6875 - lr: 0.0100\nEpoch 6/30\n4/4 [==============================] - 83s 21s/step - loss: 0.0277 - output_ETTpresent_loss: 0.0123 - output_ETTnormalAbnormal_loss: 0.0155 - output_ETTpresent_accuracy: 1.0000 - output_ETTnormalAbnormal_accuracy: 1.0000 - val_loss: 1.2225 - val_output_ETTpresent_loss: 0.5811 - val_output_ETTnormalAbnormal_loss: 0.6414 - val_output_ETTpresent_accuracy: 0.7500 - val_output_ETTnormalAbnormal_accuracy: 0.6875 - lr: 0.0100\nEpoch 7/30\n4/4 [==============================] - 82s 21s/step - loss: 0.0184 - output_ETTpresent_loss: 0.0108 - output_ETTnormalAbnormal_loss: 0.0076 - output_ETTpresent_accuracy: 1.0000 - output_ETTnormalAbnormal_accuracy: 1.0000 - val_loss: 1.1466 - val_output_ETTpresent_loss: 0.5468 - val_output_ETTnormalAbnormal_loss: 0.5998 - val_output_ETTpresent_accuracy: 0.7500 - val_output_ETTnormalAbnormal_accuracy: 0.6875 - lr: 0.0100\nEpoch 8/30\n4/4 [==============================] - 82s 21s/step - loss: 0.0414 - output_ETTpresent_loss: 0.0167 - output_ETTnormalAbnormal_loss: 0.0248 - output_ETTpresent_accuracy: 1.0000 - output_ETTnormalAbnormal_accuracy: 1.0000 - val_loss: 1.0619 - val_output_ETTpresent_loss: 0.5035 - val_output_ETTnormalAbnormal_loss: 0.5584 - val_output_ETTpresent_accuracy: 0.8125 - val_output_ETTnormalAbnormal_accuracy: 0.6875 - lr: 0.0100\nEpoch 9/30\n4/4 [==============================] - 83s 21s/step - loss: 0.0092 - output_ETTpresent_loss: 0.0044 - output_ETTnormalAbnormal_loss: 0.0048 - output_ETTpresent_accuracy: 1.0000 - output_ETTnormalAbnormal_accuracy: 1.0000 - val_loss: 0.9877 - val_output_ETTpresent_loss: 0.4707 - val_output_ETTnormalAbnormal_loss: 0.5170 - val_output_ETTpresent_accuracy: 0.8125 - val_output_ETTnormalAbnormal_accuracy: 0.6875 - lr: 0.0100\nEpoch 10/30\n4/4 [==============================] - 82s 21s/step - loss: 0.0098 - output_ETTpresent_loss: 0.0044 - output_ETTnormalAbnormal_loss: 0.0054 - output_ETTpresent_accuracy: 1.0000 - output_ETTnormalAbnormal_accuracy: 1.0000 - val_loss: 0.9460 - val_output_ETTpresent_loss: 0.4516 - val_output_ETTnormalAbnormal_loss: 0.4944 - val_output_ETTpresent_accuracy: 0.8125 - val_output_ETTnormalAbnormal_accuracy: 0.6875 - lr: 0.0100\nEpoch 11/30\n4/4 [==============================] - 81s 20s/step - loss: 0.0450 - output_ETTpresent_loss: 0.0254 - output_ETTnormalAbnormal_loss: 0.0196 - output_ETTpresent_accuracy: 0.9919 - output_ETTnormalAbnormal_accuracy: 1.0000 - val_loss: 0.8813 - val_output_ETTpresent_loss: 0.4305 - val_output_ETTnormalAbnormal_loss: 0.4508 - val_output_ETTpresent_accuracy: 0.8750 - val_output_ETTnormalAbnormal_accuracy: 0.7500 - lr: 0.0100\nEpoch 12/30\n4/4 [==============================] - 94s 24s/step - loss: 0.0108 - output_ETTpresent_loss: 0.0058 - output_ETTnormalAbnormal_loss: 0.0050 - output_ETTpresent_accuracy: 1.0000 - output_ETTnormalAbnormal_accuracy: 1.0000 - val_loss: 0.8621 - val_output_ETTpresent_loss: 0.4250 - val_output_ETTnormalAbnormal_loss: 0.4371 - val_output_ETTpresent_accuracy: 0.8125 - val_output_ETTnormalAbnormal_accuracy: 0.7500 - lr: 0.0100\nEpoch 13/30\n4/4 [==============================] - 83s 21s/step - loss: 0.0039 - output_ETTpresent_loss: 0.0021 - output_ETTnormalAbnormal_loss: 0.0018 - output_ETTpresent_accuracy: 1.0000 - output_ETTnormalAbnormal_accuracy: 1.0000 - val_loss: 0.8457 - val_output_ETTpresent_loss: 0.4183 - val_output_ETTnormalAbnormal_loss: 0.4274 - val_output_ETTpresent_accuracy: 0.8125 - val_output_ETTnormalAbnormal_accuracy: 0.7500 - lr: 0.0100\nEpoch 14/30\n4/4 [==============================] - 83s 21s/step - loss: 0.0093 - output_ETTpresent_loss: 0.0041 - output_ETTnormalAbnormal_loss: 0.0052 - output_ETTpresent_accuracy: 1.0000 - output_ETTnormalAbnormal_accuracy: 1.0000 - val_loss: 0.8343 - val_output_ETTpresent_loss: 0.4127 - val_output_ETTnormalAbnormal_loss: 0.4216 - val_output_ETTpresent_accuracy: 0.8125 - val_output_ETTnormalAbnormal_accuracy: 0.8125 - lr: 0.0100\nEpoch 15/30\n4/4 [==============================] - 83s 21s/step - loss: 0.0309 - output_ETTpresent_loss: 0.0143 - output_ETTnormalAbnormal_loss: 0.0166 - output_ETTpresent_accuracy: 1.0000 - output_ETTnormalAbnormal_accuracy: 0.9919 - val_loss: 0.8222 - val_output_ETTpresent_loss: 0.3998 - val_output_ETTnormalAbnormal_loss: 0.4225 - val_output_ETTpresent_accuracy: 0.8125 - val_output_ETTnormalAbnormal_accuracy: 0.8125 - lr: 0.0100\nEpoch 16/30\n4/4 [==============================] - 85s 21s/step - loss: 0.0094 - output_ETTpresent_loss: 0.0050 - output_ETTnormalAbnormal_loss: 0.0044 - output_ETTpresent_accuracy: 1.0000 - output_ETTnormalAbnormal_accuracy: 1.0000 - val_loss: 0.8135 - val_output_ETTpresent_loss: 0.3925 - val_output_ETTnormalAbnormal_loss: 0.4210 - val_output_ETTpresent_accuracy: 0.8750 - val_output_ETTnormalAbnormal_accuracy: 0.8750 - lr: 0.0100\nEpoch 17/30\n4/4 [==============================] - 81s 20s/step - loss: 0.0098 - output_ETTpresent_loss: 0.0072 - output_ETTnormalAbnormal_loss: 0.0025 - output_ETTpresent_accuracy: 1.0000 - output_ETTnormalAbnormal_accuracy: 1.0000 - val_loss: 0.8621 - val_output_ETTpresent_loss: 0.4365 - val_output_ETTnormalAbnormal_loss: 0.4256 - val_output_ETTpresent_accuracy: 0.8125 - val_output_ETTnormalAbnormal_accuracy: 0.8750 - lr: 0.0100\nEpoch 18/30\n4/4 [==============================] - 82s 20s/step - loss: 0.0155 - output_ETTpresent_loss: 0.0079 - output_ETTnormalAbnormal_loss: 0.0076 - output_ETTpresent_accuracy: 1.0000 - output_ETTnormalAbnormal_accuracy: 1.0000 - val_loss: 0.9171 - val_output_ETTpresent_loss: 0.4677 - val_output_ETTnormalAbnormal_loss: 0.4494 - val_output_ETTpresent_accuracy: 0.6875 - val_output_ETTnormalAbnormal_accuracy: 0.7500 - lr: 0.0100\nEpoch 19/30\n4/4 [==============================] - 101s 27s/step - loss: 0.0037 - output_ETTpresent_loss: 0.0016 - output_ETTnormalAbnormal_loss: 0.0022 - output_ETTpresent_accuracy: 1.0000 - output_ETTnormalAbnormal_accuracy: 1.0000 - val_loss: 0.9482 - val_output_ETTpresent_loss: 0.4807 - val_output_ETTnormalAbnormal_loss: 0.4675 - val_output_ETTpresent_accuracy: 0.6875 - val_output_ETTnormalAbnormal_accuracy: 0.7500 - lr: 0.0100\nEpoch 20/30\n4/4 [==============================] - 83s 20s/step - loss: 0.0042 - output_ETTpresent_loss: 0.0021 - output_ETTnormalAbnormal_loss: 0.0021 - output_ETTpresent_accuracy: 1.0000 - output_ETTnormalAbnormal_accuracy: 1.0000 - val_loss: 0.9695 - val_output_ETTpresent_loss: 0.4876 - val_output_ETTnormalAbnormal_loss: 0.4819 - val_output_ETTpresent_accuracy: 0.6875 - val_output_ETTnormalAbnormal_accuracy: 0.6875 - lr: 0.0100\nEpoch 21/30\n4/4 [==============================] - 82s 20s/step - loss: 0.0042 - output_ETTpresent_loss: 0.0017 - output_ETTnormalAbnormal_loss: 0.0026 - output_ETTpresent_accuracy: 1.0000 - output_ETTnormalAbnormal_accuracy: 1.0000 - val_loss: 0.9895 - val_output_ETTpresent_loss: 0.4960 - val_output_ETTnormalAbnormal_loss: 0.4935 - val_output_ETTpresent_accuracy: 0.6250 - val_output_ETTnormalAbnormal_accuracy: 0.6875 - lr: 0.0100\nEpoch 22/30\n4/4 [==============================] - 84s 21s/step - loss: 0.0040 - output_ETTpresent_loss: 0.0012 - output_ETTnormalAbnormal_loss: 0.0028 - output_ETTpresent_accuracy: 1.0000 - output_ETTnormalAbnormal_accuracy: 1.0000 - val_loss: 1.0014 - val_output_ETTpresent_loss: 0.4993 - val_output_ETTnormalAbnormal_loss: 0.5021 - val_output_ETTpresent_accuracy: 0.6250 - val_output_ETTnormalAbnormal_accuracy: 0.6875 - lr: 0.0020\nEpoch 23/30\n4/4 [==============================] - 82s 21s/step - loss: 0.0072 - output_ETTpresent_loss: 0.0038 - output_ETTnormalAbnormal_loss: 0.0035 - output_ETTpresent_accuracy: 1.0000 - output_ETTnormalAbnormal_accuracy: 1.0000 - val_loss: 1.0160 - val_output_ETTpresent_loss: 0.5062 - val_output_ETTnormalAbnormal_loss: 0.5098 - val_output_ETTpresent_accuracy: 0.6250 - val_output_ETTnormalAbnormal_accuracy: 0.7500 - lr: 0.0020\nEpoch 24/30\n4/4 [==============================] - 82s 21s/step - loss: 0.0027 - output_ETTpresent_loss: 9.3768e-04 - output_ETTnormalAbnormal_loss: 0.0018 - output_ETTpresent_accuracy: 1.0000 - output_ETTnormalAbnormal_accuracy: 1.0000 - val_loss: 1.0227 - val_output_ETTpresent_loss: 0.5112 - val_output_ETTnormalAbnormal_loss: 0.5115 - val_output_ETTpresent_accuracy: 0.6250 - val_output_ETTnormalAbnormal_accuracy: 0.6875 - lr: 0.0020\nEpoch 25/30\n4/4 [==============================] - 82s 20s/step - loss: 0.0042 - output_ETTpresent_loss: 0.0022 - output_ETTnormalAbnormal_loss: 0.0020 - output_ETTpresent_accuracy: 1.0000 - output_ETTnormalAbnormal_accuracy: 1.0000 - val_loss: 1.0329 - val_output_ETTpresent_loss: 0.5179 - val_output_ETTnormalAbnormal_loss: 0.5151 - val_output_ETTpresent_accuracy: 0.6250 - val_output_ETTnormalAbnormal_accuracy: 0.6875 - lr: 0.0020\nEpoch 26/30\n4/4 [==============================] - 82s 21s/step - loss: 0.0065 - output_ETTpresent_loss: 0.0040 - output_ETTnormalAbnormal_loss: 0.0025 - output_ETTpresent_accuracy: 1.0000 - output_ETTnormalAbnormal_accuracy: 1.0000 - val_loss: 1.0353 - val_output_ETTpresent_loss: 0.5217 - val_output_ETTnormalAbnormal_loss: 0.5136 - val_output_ETTpresent_accuracy: 0.6250 - val_output_ETTnormalAbnormal_accuracy: 0.6875 - lr: 0.0020\n",
          "output_type": "stream"
        }
      ]
    },
    {
      "cell_type": "code",
      "source": [
        "# Evaluate accuracy for the 'output_catheter' branch\n",
        "evaluation = combined_model.evaluate(\n",
        "    {'input_1': test_imgs},\n",
        "    {'output_ETTpresent': test_labels, 'output_ETTnormalAbnormal': testETT_labels},\n",
        ")\n",
        "\n",
        "# Extract the accuracy values from the evaluation results\n",
        "test_accuracy_catheter = evaluation[3]  # Index 3 corresponds to 'output_catheter_accuracy'\n",
        "test_accuracy_cvc_placement = evaluation[4]  # Index 4 corresponds to 'output_cvc_placement_accuracy'\n",
        "\n",
        "print(f'Test Accuracy (ETT Present): {test_accuracy_catheter * 100:.2f}%')\n",
        "print(f'Test Accuracy (ETT Normal/Abnormal): {test_accuracy_cvc_placement * 100:.2f}%')"
      ],
      "metadata": {
        "id": "PxxJrTwJc8tg",
        "outputId": "67122d8b-ad2b-4ad9-b8e4-c0e10dfa3c18",
        "execution": {
          "iopub.status.busy": "2023-10-22T03:57:59.440603Z",
          "iopub.execute_input": "2023-10-22T03:57:59.441077Z",
          "iopub.status.idle": "2023-10-22T03:58:02.091406Z",
          "shell.execute_reply.started": "2023-10-22T03:57:59.441043Z",
          "shell.execute_reply": "2023-10-22T03:58:02.090238Z"
        },
        "trusted": true
      },
      "execution_count": null,
      "outputs": [
        {
          "name": "stdout",
          "text": "1/1 [==============================] - 2s 2s/step - loss: 1.1538 - output_ETTpresent_loss: 0.5100 - output_ETTnormalAbnormal_loss: 0.6438 - output_ETTpresent_accuracy: 0.7500 - output_ETTnormalAbnormal_accuracy: 0.6250\nTest Accuracy (ETT Present): 75.00%\nTest Accuracy (ETT Normal/Abnormal): 62.50%\n",
          "output_type": "stream"
        }
      ]
    },
    {
      "cell_type": "code",
      "source": [
        "test_path = \"/kaggle/input/ranzcr-clip-catheter-line-classification/test\"\n",
        "\n",
        "all_files = os.listdir(test_path)\n",
        "\n",
        "test_files = all_files[:300]"
      ],
      "metadata": {
        "id": "Z1mSsn-tc8th",
        "execution": {
          "iopub.status.busy": "2023-10-22T03:58:02.093031Z",
          "iopub.execute_input": "2023-10-22T03:58:02.093469Z",
          "iopub.status.idle": "2023-10-22T03:58:02.743585Z",
          "shell.execute_reply.started": "2023-10-22T03:58:02.093433Z",
          "shell.execute_reply": "2023-10-22T03:58:02.742625Z"
        },
        "trusted": true
      },
      "execution_count": null,
      "outputs": []
    },
    {
      "cell_type": "code",
      "source": [
        "test_img, testFiles = processImages(test_files, \"test\")\n"
      ],
      "metadata": {
        "id": "40xs4-HIc8th",
        "outputId": "98c0422e-e732-4c19-a88c-b5a05f6c87ff",
        "execution": {
          "iopub.status.busy": "2023-10-22T03:58:02.745029Z",
          "iopub.execute_input": "2023-10-22T03:58:02.746236Z",
          "iopub.status.idle": "2023-10-22T03:58:29.167136Z",
          "shell.execute_reply.started": "2023-10-22T03:58:02.746194Z",
          "shell.execute_reply": "2023-10-22T03:58:29.164428Z"
        },
        "trusted": true
      },
      "execution_count": null,
      "outputs": [
        {
          "name": "stderr",
          "text": "100%|██████████| 300/300 [00:26<00:00, 11.37it/s]\n",
          "output_type": "stream"
        }
      ]
    },
    {
      "cell_type": "code",
      "source": [
        "predictions = combined_model.predict(test_imgs)\n",
        "predictions\n",
        "\n",
        "# Access predictions for the first task\n",
        "ngt_present_predictions = predictions[0]\n",
        "ngt_present_predictions\n",
        "# Access predictions for the second task\n",
        "ngt_normal_abnormal_predictions = predictions[1]\n",
        "\n",
        "ngt_present_predictions\n",
        "# Create two separate DataFrames\n",
        "df1 = pd.DataFrame(ngt_present_predictions, columns=[\"ETT - Present\"])\n",
        "df2 = pd.DataFrame(ngt_normal_abnormal_predictions, columns=['ETT - Normal/Abnormal'])\n",
        "\n",
        "# # Concatenate the DataFrames horizontally to create one with two columns\n",
        "NGTpredictions = pd.concat([df1, df2], axis=1)\n",
        "NGTpredictions\n",
        "\n",
        "NGTpredictions['ETT - Present'] = np.where(NGTpredictions['ETT - Present'] > 0.5, 1, 0)\n",
        "NGTpredictions['ETT - Normal/Abnormal'] = np.where(NGTpredictions['ETT - Normal/Abnormal'] > 0.5, 1, 0)\n",
        "NGTpredictions\n",
        "\n",
        "from sklearn.metrics import confusion_matrix\n",
        "\n",
        "# Create the confusion matrix\n",
        "confusion_matrix_present = confusion_matrix(test_labels, NGTpredictions['ETT - Present'])\n",
        "\n",
        "plt.gca().patch.set_facecolor('none')\n",
        "\n",
        "\n",
        "\n",
        "custom_palette = ['#D3E0EA', '#AAB8C4', '#8498A2', '#5D7D88', '#3C6270',\n",
        "                  '#1F465E', '#132D4B', '#0A1C36', '#051024', '#020916']\n",
        "\n",
        "# Create a heatmap plot of the confusion matrix\n",
        "sns.heatmap(confusion_matrix_present, annot=True, cmap=custom_palette)\n",
        "plt.xlabel('Predicted')\n",
        "plt.ylabel('Actual')\n",
        "plt.title('Confusion Matrix')\n",
        "plt.show()"
      ],
      "metadata": {
        "id": "BC411wfac8th",
        "outputId": "a2ec229a-44f9-476f-a64f-8fc083e25bc5",
        "execution": {
          "iopub.status.busy": "2023-10-22T03:58:29.172506Z",
          "iopub.execute_input": "2023-10-22T03:58:29.172894Z",
          "iopub.status.idle": "2023-10-22T03:58:36.508299Z",
          "shell.execute_reply.started": "2023-10-22T03:58:29.172865Z",
          "shell.execute_reply": "2023-10-22T03:58:36.507164Z"
        },
        "trusted": true
      },
      "execution_count": null,
      "outputs": [
        {
          "name": "stdout",
          "text": "1/1 [==============================] - 7s 7s/step\n",
          "output_type": "stream"
        },
        {
          "output_type": "display_data",
          "data": {
            "text/plain": "<Figure size 640x480 with 2 Axes>",
            "image/png": "[encoded data removed]"
          },
          "metadata": {}
        }
      ]
    },
    {
      "cell_type": "code",
      "source": [
        "confusion_matrix_present = confusion_matrix(test_labels, NGTpredictions['ETT - Normal/Abnormal'])\n",
        "\n",
        "plt.gca().patch.set_facecolor('none')\n",
        "\n",
        "\n",
        "\n",
        "custom_palette = ['#D3E0EA', '#AAB8C4', '#8498A2', '#5D7D88', '#3C6270',\n",
        "                  '#1F465E', '#132D4B', '#0A1C36', '#051024', '#020916']\n",
        "\n",
        "# Create a heatmap plot of the confusion matrix\n",
        "sns.heatmap(confusion_matrix_present, annot=True, cmap=custom_palette)\n",
        "plt.xlabel('Predicted')\n",
        "plt.ylabel('Actual')\n",
        "plt.title('Confusion Matrix')\n",
        "plt.show()"
      ],
      "metadata": {
        "id": "Z2ASrSR0c8th",
        "outputId": "17c0a1ba-e2ec-48ef-e72b-a74d16086d8f",
        "execution": {
          "iopub.status.busy": "2023-10-22T03:58:36.509359Z",
          "iopub.execute_input": "2023-10-22T03:58:36.509674Z",
          "iopub.status.idle": "2023-10-22T03:58:36.854146Z",
          "shell.execute_reply.started": "2023-10-22T03:58:36.509639Z",
          "shell.execute_reply": "2023-10-22T03:58:36.852722Z"
        },
        "trusted": true
      },
      "execution_count": null,
      "outputs": [
        {
          "output_type": "display_data",
          "data": {
            "text/plain": "<Figure size 640x480 with 2 Axes>",
            "image/png": "[encoded data removed]"
          },
          "metadata": {}
        }
      ]
    }
  ]
}