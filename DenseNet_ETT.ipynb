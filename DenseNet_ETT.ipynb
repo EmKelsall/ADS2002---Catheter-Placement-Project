{
  "metadata": {
    "kernelspec": {
      "language": "python",
      "display_name": "Python 3",
      "name": "python3"
    },
    "language_info": {
      "name": "python",
      "version": "3.10.12",
      "mimetype": "text/x-python",
      "codemirror_mode": {
        "name": "ipython",
        "version": 3
      },
      "pygments_lexer": "ipython3",
      "nbconvert_exporter": "python",
      "file_extension": ".py"
    },
    "colab": {
      "provenance": [],
      "include_colab_link": true
    }
  },
  "nbformat_minor": 0,
  "nbformat": 4,
  "cells": [
    {
      "cell_type": "markdown",
      "metadata": {
        "id": "view-in-github",
        "colab_type": "text"
      },
      "source": [
        "<a href=\"https://colab.research.google.com/github/EmKelsall/ADS2002---Catheter-Placement-Project/blob/main/DenseNet_ETT.ipynb\" target=\"_parent\"><img src=\"https://colab.research.google.com/assets/colab-badge.svg\" alt=\"Open In Colab\"/></a>"
      ]
    },
    {
      "cell_type": "markdown",
      "source": [
        "# DenseNet - ETT"
      ],
      "metadata": {
        "id": "yRkceaBMnB0R"
      }
    },
    {
      "cell_type": "code",
      "source": [
        "import random\n",
        "import pandas as pd\n",
        "import numpy as np\n",
        "import matplotlib.pyplot as plt\n",
        "import seaborn as sns\n",
        "import json\n",
        "from PIL import Image\n",
        "import ast\n",
        "import os\n",
        "import cv2\n",
        "from tqdm import tqdm"
      ],
      "metadata": {
        "execution": {
          "iopub.status.busy": "2023-10-20T03:31:24.152267Z",
          "iopub.execute_input": "2023-10-20T03:31:24.152539Z",
          "iopub.status.idle": "2023-10-20T03:31:25.627080Z",
          "shell.execute_reply.started": "2023-10-20T03:31:24.152517Z",
          "shell.execute_reply": "2023-10-20T03:31:25.626387Z"
        },
        "trusted": true,
        "id": "ZbcXZfk1c8tW",
        "outputId": "b1d39f6b-0fd9-43f6-f331-d2cf9f08aefc"
      },
      "execution_count": null,
      "outputs": [
        {
          "name": "stderr",
          "text": "/opt/conda/lib/python3.10/site-packages/scipy/__init__.py:146: UserWarning: A NumPy version >=1.16.5 and <1.23.0 is required for this version of SciPy (detected version 1.23.5\n  warnings.warn(f\"A NumPy version >={np_minversion} and <{np_maxversion}\"\n",
          "output_type": "stream"
        }
      ]
    },
    {
      "cell_type": "code",
      "source": [
        "train_data = pd.read_csv(\"/kaggle/input/ranzcr-clip-catheter-line-classification/train.csv\")\n",
        "train_data = train_data[(train_data['ETT - Borderline'] != 1 )]\n",
        "\n",
        "train_data[['ETT - Normal', 'ETT - Abnormal', 'ETT - Borderline']].value_counts()\n",
        "train_data['ETT - Present'] = np.where((train_data['ETT - Normal'] == 0) & (train_data['ETT - Abnormal'] == 0) & (train_data['ETT - Borderline'] == 0), 0, 1)\n",
        "\n",
        "train_data[['ETT - Normal', 'ETT - Abnormal']].value_counts()"
      ],
      "metadata": {
        "execution": {
          "iopub.status.busy": "2023-10-20T03:34:17.464515Z",
          "iopub.execute_input": "2023-10-20T03:34:17.464744Z",
          "iopub.status.idle": "2023-10-20T03:34:17.536958Z",
          "shell.execute_reply.started": "2023-10-20T03:34:17.464725Z",
          "shell.execute_reply": "2023-10-20T03:34:17.536145Z"
        },
        "trusted": true,
        "id": "Flns6z0fc8td",
        "outputId": "4e5720cf-0efd-4c04-d74b-115aa3b63982"
      },
      "execution_count": null,
      "outputs": [
        {
          "execution_count": 23,
          "output_type": "execute_result",
          "data": {
            "text/plain": "ETT - Normal  ETT - Abnormal\n0             0                 21626\n1             0                  7240\n0             1                    79\nName: count, dtype: int64"
          },
          "metadata": {}
        }
      ]
    },
    {
      "cell_type": "code",
      "source": [
        "normalAb = pd.concat([train_data[train_data['ETT - Normal'] == 1].sample(n=39), train_data[train_data['ETT - Abnormal'] == 1].sample(n=39)])\n",
        "sampled_data = pd.concat([normalAb, train_data[train_data['ETT - Present'] == 0].sample(n=78)])\n",
        "\n",
        "sampled_data"
      ],
      "metadata": {
        "execution": {
          "iopub.status.busy": "2023-10-20T03:34:17.537987Z",
          "iopub.execute_input": "2023-10-20T03:34:17.538243Z",
          "iopub.status.idle": "2023-10-20T03:34:17.559517Z",
          "shell.execute_reply.started": "2023-10-20T03:34:17.538222Z",
          "shell.execute_reply": "2023-10-20T03:34:17.558729Z"
        },
        "trusted": true,
        "id": "tia_JA6cc8td",
        "outputId": "cc807b0f-7b9d-4af9-bce6-3aff6949bb69"
      },
      "execution_count": null,
      "outputs": [
        {
          "execution_count": 24,
          "output_type": "execute_result",
          "data": {
            "text/plain": "                                        StudyInstanceUID  ETT - Abnormal  \\\n114    1.2.826.0.1.3680043.8.498.58978399544484725012...               0   \n29215  1.2.826.0.1.3680043.8.498.34414786983144528822...               0   \n27577  1.2.826.0.1.3680043.8.498.13206394033751660209...               0   \n15863  1.2.826.0.1.3680043.8.498.12943991364992320755...               0   \n11959  1.2.826.0.1.3680043.8.498.11818325818713851605...               0   \n...                                                  ...             ...   \n15055  1.2.826.0.1.3680043.8.498.12942904850809349583...               0   \n21807  1.2.826.0.1.3680043.8.498.88179133086149977138...               0   \n1272   1.2.826.0.1.3680043.8.498.17783739974925320326...               0   \n11015  1.2.826.0.1.3680043.8.498.11326606389259498883...               0   \n6567   1.2.826.0.1.3680043.8.498.13680799914598090743...               0   \n\n       ETT - Borderline  ETT - Normal  NGT - Abnormal  NGT - Borderline  \\\n114                   0             1               0                 0   \n29215                 0             1               0                 0   \n27577                 0             1               0                 0   \n15863                 0             1               0                 0   \n11959                 0             1               0                 0   \n...                 ...           ...             ...               ...   \n15055                 0             0               0                 0   \n21807                 0             0               0                 0   \n1272                  0             0               0                 0   \n11015                 0             0               0                 0   \n6567                  0             0               0                 0   \n\n       NGT - Incompletely Imaged  NGT - Normal  CVC - Abnormal  \\\n114                            1             0               0   \n29215                          1             0               0   \n27577                          0             0               0   \n15863                          0             1               0   \n11959                          0             0               0   \n...                          ...           ...             ...   \n15055                          0             0               0   \n21807                          0             0               0   \n1272                           0             0               0   \n11015                          0             0               0   \n6567                           0             0               0   \n\n       CVC - Borderline  CVC - Normal  Swan Ganz Catheter Present  PatientID  \\\n114                   0             1                           0  6946eb422   \n29215                 0             1                           0  34242119f   \n27577                 0             1                           0  f935db57e   \n15863                 1             1                           0  adfa658d0   \n11959                 1             0                           0  f2ea92dbf   \n...                 ...           ...                         ...        ...   \n15055                 0             1                           0  26e6f9d68   \n21807                 1             0                           0  76d478fcd   \n1272                  1             0                           0  b23e4a8b0   \n11015                 0             1                           0  a795cefe6   \n6567                  0             1                           0  c01c77c37   \n\n       ETT - Present  \n114                1  \n29215              1  \n27577              1  \n15863              1  \n11959              1  \n...              ...  \n15055              0  \n21807              0  \n1272               0  \n11015              0  \n6567               0  \n\n[156 rows x 14 columns]",
            "text/html": "<div>\n<style scoped>\n    .dataframe tbody tr th:only-of-type {\n        vertical-align: middle;\n    }\n\n    .dataframe tbody tr th {\n        vertical-align: top;\n    }\n\n    .dataframe thead th {\n        text-align: right;\n    }\n</style>\n<table border=\"1\" class=\"dataframe\">\n  <thead>\n    <tr style=\"text-align: right;\">\n      <th></th>\n      <th>StudyInstanceUID</th>\n      <th>ETT - Abnormal</th>\n      <th>ETT - Borderline</th>\n      <th>ETT - Normal</th>\n      <th>NGT - Abnormal</th>\n      <th>NGT - Borderline</th>\n      <th>NGT - Incompletely Imaged</th>\n      <th>NGT - Normal</th>\n      <th>CVC - Abnormal</th>\n      <th>CVC - Borderline</th>\n      <th>CVC - Normal</th>\n      <th>Swan Ganz Catheter Present</th>\n      <th>PatientID</th>\n      <th>ETT - Present</th>\n    </tr>\n  </thead>\n  <tbody>\n    <tr>\n      <th>114</th>\n      <td>1.2.826.0.1.3680043.8.498.58978399544484725012...</td>\n      <td>0</td>\n      <td>0</td>\n      <td>1</td>\n      <td>0</td>\n      <td>0</td>\n      <td>1</td>\n      <td>0</td>\n      <td>0</td>\n      <td>0</td>\n      <td>1</td>\n      <td>0</td>\n      <td>6946eb422</td>\n      <td>1</td>\n    </tr>\n    <tr>\n      <th>29215</th>\n      <td>1.2.826.0.1.3680043.8.498.34414786983144528822...</td>\n      <td>0</td>\n      <td>0</td>\n      <td>1</td>\n      <td>0</td>\n      <td>0</td>\n      <td>1</td>\n      <td>0</td>\n      <td>0</td>\n      <td>0</td>\n      <td>1</td>\n      <td>0</td>\n      <td>34242119f</td>\n      <td>1</td>\n    </tr>\n    <tr>\n      <th>27577</th>\n      <td>1.2.826.0.1.3680043.8.498.13206394033751660209...</td>\n      <td>0</td>\n      <td>0</td>\n      <td>1</td>\n      <td>0</td>\n      <td>0</td>\n      <td>0</td>\n      <td>0</td>\n      <td>0</td>\n      <td>0</td>\n      <td>1</td>\n      <td>0</td>\n      <td>f935db57e</td>\n      <td>1</td>\n    </tr>\n    <tr>\n      <th>15863</th>\n      <td>1.2.826.0.1.3680043.8.498.12943991364992320755...</td>\n      <td>0</td>\n      <td>0</td>\n      <td>1</td>\n      <td>0</td>\n      <td>0</td>\n      <td>0</td>\n      <td>1</td>\n      <td>0</td>\n      <td>1</td>\n      <td>1</td>\n      <td>0</td>\n      <td>adfa658d0</td>\n      <td>1</td>\n    </tr>\n    <tr>\n      <th>11959</th>\n      <td>1.2.826.0.1.3680043.8.498.11818325818713851605...</td>\n      <td>0</td>\n      <td>0</td>\n      <td>1</td>\n      <td>0</td>\n      <td>0</td>\n      <td>0</td>\n      <td>0</td>\n      <td>0</td>\n      <td>1</td>\n      <td>0</td>\n      <td>0</td>\n      <td>f2ea92dbf</td>\n      <td>1</td>\n    </tr>\n    <tr>\n      <th>...</th>\n      <td>...</td>\n      <td>...</td>\n      <td>...</td>\n      <td>...</td>\n      <td>...</td>\n      <td>...</td>\n      <td>...</td>\n      <td>...</td>\n      <td>...</td>\n      <td>...</td>\n      <td>...</td>\n      <td>...</td>\n      <td>...</td>\n      <td>...</td>\n    </tr>\n    <tr>\n      <th>15055</th>\n      <td>1.2.826.0.1.3680043.8.498.12942904850809349583...</td>\n      <td>0</td>\n      <td>0</td>\n      <td>0</td>\n      <td>0</td>\n      <td>0</td>\n      <td>0</td>\n      <td>0</td>\n      <td>0</td>\n      <td>0</td>\n      <td>1</td>\n      <td>0</td>\n      <td>26e6f9d68</td>\n      <td>0</td>\n    </tr>\n    <tr>\n      <th>21807</th>\n      <td>1.2.826.0.1.3680043.8.498.88179133086149977138...</td>\n      <td>0</td>\n      <td>0</td>\n      <td>0</td>\n      <td>0</td>\n      <td>0</td>\n      <td>0</td>\n      <td>0</td>\n      <td>0</td>\n      <td>1</td>\n      <td>0</td>\n      <td>0</td>\n      <td>76d478fcd</td>\n      <td>0</td>\n    </tr>\n    <tr>\n      <th>1272</th>\n      <td>1.2.826.0.1.3680043.8.498.17783739974925320326...</td>\n      <td>0</td>\n      <td>0</td>\n      <td>0</td>\n      <td>0</td>\n      <td>0</td>\n      <td>0</td>\n      <td>0</td>\n      <td>0</td>\n      <td>1</td>\n      <td>0</td>\n      <td>0</td>\n      <td>b23e4a8b0</td>\n      <td>0</td>\n    </tr>\n    <tr>\n      <th>11015</th>\n      <td>1.2.826.0.1.3680043.8.498.11326606389259498883...</td>\n      <td>0</td>\n      <td>0</td>\n      <td>0</td>\n      <td>0</td>\n      <td>0</td>\n      <td>0</td>\n      <td>0</td>\n      <td>0</td>\n      <td>0</td>\n      <td>1</td>\n      <td>0</td>\n      <td>a795cefe6</td>\n      <td>0</td>\n    </tr>\n    <tr>\n      <th>6567</th>\n      <td>1.2.826.0.1.3680043.8.498.13680799914598090743...</td>\n      <td>0</td>\n      <td>0</td>\n      <td>0</td>\n      <td>0</td>\n      <td>0</td>\n      <td>0</td>\n      <td>0</td>\n      <td>0</td>\n      <td>0</td>\n      <td>1</td>\n      <td>0</td>\n      <td>c01c77c37</td>\n      <td>0</td>\n    </tr>\n  </tbody>\n</table>\n<p>156 rows × 14 columns</p>\n</div>"
          },
          "metadata": {}
        }
      ]
    },
    {
      "cell_type": "code",
      "source": [
        "def getFileNames(df):\n",
        "    studyInstance = df['StudyInstanceUID'].tolist()\n",
        "    studyInstance\n",
        "\n",
        "    for i in range(len(studyInstance)):\n",
        "        studyInstance[i] = f'{studyInstance[i]}.jpg'\n",
        "\n",
        "    return studyInstance"
      ],
      "metadata": {
        "execution": {
          "iopub.status.busy": "2023-10-20T03:34:17.560514Z",
          "iopub.execute_input": "2023-10-20T03:34:17.560820Z",
          "iopub.status.idle": "2023-10-20T03:34:17.565307Z",
          "shell.execute_reply.started": "2023-10-20T03:34:17.560792Z",
          "shell.execute_reply": "2023-10-20T03:34:17.564593Z"
        },
        "trusted": true,
        "id": "DrfWhpk3c8td"
      },
      "execution_count": null,
      "outputs": []
    },
    {
      "cell_type": "code",
      "source": [
        "studyInstance = getFileNames(sampled_data)"
      ],
      "metadata": {
        "execution": {
          "iopub.status.busy": "2023-10-20T03:34:17.566403Z",
          "iopub.execute_input": "2023-10-20T03:34:17.566998Z",
          "iopub.status.idle": "2023-10-20T03:34:17.575688Z",
          "shell.execute_reply.started": "2023-10-20T03:34:17.566969Z",
          "shell.execute_reply": "2023-10-20T03:34:17.574928Z"
        },
        "trusted": true,
        "id": "l_cOOil3c8td"
      },
      "execution_count": null,
      "outputs": []
    },
    {
      "cell_type": "code",
      "source": [
        "def processImages(filenames,train_test):\n",
        "\n",
        "    imgs = []\n",
        "    FileIDs = []\n",
        "    lst = []\n",
        "\n",
        "\n",
        "    desired_channels = 3\n",
        "\n",
        "    count = 0\n",
        "    for file in tqdm(filenames, position=0, leave=True):\n",
        "        # Making sure the images are the same pixel size\n",
        "        img = Image.open(f\"/kaggle/input/ranzcr-clip-catheter-line-classification/{train_test}/{file}\")\n",
        "        img = img.resize((300, 300))\n",
        "        img = np.array(img)\n",
        "\n",
        "        # Ensure that the image has 3 channels (RGB)\n",
        "        if img.shape[-1] != 3:\n",
        "            img = np.stack((img,) * 3, axis=-1)  # Convert grayscale to RGB by duplicating channels\n",
        "\n",
        "        imgs.append(img)  # Append the 4D image to the list\n",
        "\n",
        "        # Save filename for later\n",
        "        FileIDs.append(file)\n",
        "\n",
        "        count += 1\n",
        "\n",
        "    # Convert the list of images to a numpy array\n",
        "    imgs = np.array(imgs)\n",
        "    return imgs, FileIDs"
      ],
      "metadata": {
        "execution": {
          "iopub.status.busy": "2023-10-20T03:34:17.576659Z",
          "iopub.execute_input": "2023-10-20T03:34:17.576883Z",
          "iopub.status.idle": "2023-10-20T03:34:17.586729Z",
          "shell.execute_reply.started": "2023-10-20T03:34:17.576865Z",
          "shell.execute_reply": "2023-10-20T03:34:17.585955Z"
        },
        "trusted": true,
        "id": "GtZnwxodc8te"
      },
      "execution_count": null,
      "outputs": []
    },
    {
      "cell_type": "code",
      "source": [
        "train_imgs, fileIDs = processImages(studyInstance, 'train')"
      ],
      "metadata": {
        "execution": {
          "iopub.status.busy": "2023-10-20T03:34:17.592710Z",
          "iopub.execute_input": "2023-10-20T03:34:17.592939Z",
          "iopub.status.idle": "2023-10-20T03:34:25.838083Z",
          "shell.execute_reply.started": "2023-10-20T03:34:17.592919Z",
          "shell.execute_reply": "2023-10-20T03:34:25.837254Z"
        },
        "trusted": true,
        "id": "y8jJ9jSBc8te",
        "outputId": "0aa63472-f876-4eee-f7d9-552c46f36e37"
      },
      "execution_count": null,
      "outputs": [
        {
          "name": "stderr",
          "text": "100%|██████████| 156/156 [00:08<00:00, 18.96it/s]\n",
          "output_type": "stream"
        }
      ]
    },
    {
      "cell_type": "code",
      "source": [
        "#cleaning up the labels\n",
        "UID = []\n",
        "for i in range(len(fileIDs)):\n",
        "  UID.append(fileIDs[i].replace(\".jpg\",\"\"))\n",
        "\n",
        "UID[0:10]"
      ],
      "metadata": {
        "execution": {
          "iopub.status.busy": "2023-10-20T03:34:25.839058Z",
          "iopub.execute_input": "2023-10-20T03:34:25.839278Z",
          "iopub.status.idle": "2023-10-20T03:34:25.845673Z",
          "shell.execute_reply.started": "2023-10-20T03:34:25.839258Z",
          "shell.execute_reply": "2023-10-20T03:34:25.844860Z"
        },
        "trusted": true,
        "id": "OIUWF0jOc8te",
        "outputId": "0b68b985-e334-4826-b814-0bbb0cf2fd6d"
      },
      "execution_count": null,
      "outputs": [
        {
          "execution_count": 29,
          "output_type": "execute_result",
          "data": {
            "text/plain": "['1.2.826.0.1.3680043.8.498.58978399544484725012990490099074395827',\n '1.2.826.0.1.3680043.8.498.34414786983144528822093886496110328396',\n '1.2.826.0.1.3680043.8.498.13206394033751660209376456532079454754',\n '1.2.826.0.1.3680043.8.498.12943991364992320755105760439294630123',\n '1.2.826.0.1.3680043.8.498.11818325818713851605005356351281851103',\n '1.2.826.0.1.3680043.8.498.10310363550730341037663245917488147977',\n '1.2.826.0.1.3680043.8.498.75345280158369398004405022398954691780',\n '1.2.826.0.1.3680043.8.498.96692014265830615336985041998566357144',\n '1.2.826.0.1.3680043.8.498.57562706261298256656000346211938315370',\n '1.2.826.0.1.3680043.8.498.53556272721280942362238528028253111101']"
          },
          "metadata": {}
        }
      ]
    },
    {
      "cell_type": "code",
      "source": [
        "columns_to_drop = ['ETT - Abnormal', 'ETT - Borderline', 'ETT - Normal', 'NGT - Abnormal', 'NGT - Borderline', 'NGT - Normal',\n",
        "                  \"NGT - Incompletely Imaged\", \"Swan Ganz Catheter Present\", \"PatientID\", \"CVC - Borderline\", 'CVC - Abnormal', 'CVC - Normal']\n",
        "\n",
        "ETTsampled_data = sampled_data.drop(columns=columns_to_drop, axis=1)\n",
        "\n",
        "ETTsampled_data.set_index('StudyInstanceUID', inplace=True)"
      ],
      "metadata": {
        "execution": {
          "iopub.status.busy": "2023-10-20T03:34:25.846792Z",
          "iopub.execute_input": "2023-10-20T03:34:25.847112Z",
          "iopub.status.idle": "2023-10-20T03:34:25.858372Z",
          "shell.execute_reply.started": "2023-10-20T03:34:25.847083Z",
          "shell.execute_reply": "2023-10-20T03:34:25.857616Z"
        },
        "trusted": true,
        "id": "To0uEzvqc8te"
      },
      "execution_count": null,
      "outputs": []
    },
    {
      "cell_type": "code",
      "source": [
        "train_labels_df = np.empty((0,3))\n",
        "data = []\n",
        "\n",
        "for ID in UID:\n",
        "    data.append(ETTsampled_data.loc[ID])\n",
        "\n",
        "train_labels_df = pd.DataFrame(data)\n",
        "\n",
        "train_labels_df = train_labels_df.reindex(UID)\n",
        "train_labels = train_labels_df['ETT - Present'].values\n",
        "train_labels"
      ],
      "metadata": {
        "execution": {
          "iopub.status.busy": "2023-10-20T03:34:25.859329Z",
          "iopub.execute_input": "2023-10-20T03:34:25.860298Z",
          "iopub.status.idle": "2023-10-20T03:34:25.885260Z",
          "shell.execute_reply.started": "2023-10-20T03:34:25.860275Z",
          "shell.execute_reply": "2023-10-20T03:34:25.884440Z"
        },
        "trusted": true,
        "id": "C_PLuMq6c8te",
        "outputId": "cefbc80b-2e07-40db-dc63-992acbc89399"
      },
      "execution_count": null,
      "outputs": [
        {
          "execution_count": 31,
          "output_type": "execute_result",
          "data": {
            "text/plain": "array([1, 1, 1, 1, 1, 1, 1, 1, 1, 1, 1, 1, 1, 1, 1, 1, 1, 1, 1, 1, 1, 1,\n       1, 1, 1, 1, 1, 1, 1, 1, 1, 1, 1, 1, 1, 1, 1, 1, 1, 1, 1, 1, 1, 1,\n       1, 1, 1, 1, 1, 1, 1, 1, 1, 1, 1, 1, 1, 1, 1, 1, 1, 1, 1, 1, 1, 1,\n       1, 1, 1, 1, 1, 1, 1, 1, 1, 1, 1, 1, 0, 0, 0, 0, 0, 0, 0, 0, 0, 0,\n       0, 0, 0, 0, 0, 0, 0, 0, 0, 0, 0, 0, 0, 0, 0, 0, 0, 0, 0, 0, 0, 0,\n       0, 0, 0, 0, 0, 0, 0, 0, 0, 0, 0, 0, 0, 0, 0, 0, 0, 0, 0, 0, 0, 0,\n       0, 0, 0, 0, 0, 0, 0, 0, 0, 0, 0, 0, 0, 0, 0, 0, 0, 0, 0, 0, 0, 0,\n       0, 0])"
          },
          "metadata": {}
        }
      ]
    },
    {
      "cell_type": "code",
      "source": [
        "from sklearn.model_selection import train_test_split\n",
        "\n",
        "# Split your data into training and temporary data (combined validation and test)\n",
        "train_imgs, temp_imgs, train_labels, temp_labels = train_test_split(train_imgs, train_labels, test_size=0.2, random_state=42)\n",
        "\n",
        "# Split the temporary data into validation and test sets\n",
        "val_imgs, test_imgs, val_labels, test_labels = train_test_split(temp_imgs, temp_labels, test_size=0.5, random_state=42)"
      ],
      "metadata": {
        "execution": {
          "iopub.status.busy": "2023-10-20T03:34:25.886618Z",
          "iopub.execute_input": "2023-10-20T03:34:25.886856Z",
          "iopub.status.idle": "2023-10-20T03:34:25.907362Z",
          "shell.execute_reply.started": "2023-10-20T03:34:25.886837Z",
          "shell.execute_reply": "2023-10-20T03:34:25.906745Z"
        },
        "trusted": true,
        "id": "jb3lONFIc8te"
      },
      "execution_count": null,
      "outputs": []
    },
    {
      "cell_type": "code",
      "source": [
        "import numpy as np\n",
        "import tensorflow as tf\n",
        "from tensorflow.keras.layers import GlobalAveragePooling2D, Dense, Dropout"
      ],
      "metadata": {
        "execution": {
          "iopub.status.busy": "2023-10-20T03:34:25.908292Z",
          "iopub.execute_input": "2023-10-20T03:34:25.908564Z",
          "iopub.status.idle": "2023-10-20T03:34:25.912999Z",
          "shell.execute_reply.started": "2023-10-20T03:34:25.908543Z",
          "shell.execute_reply": "2023-10-20T03:34:25.911909Z"
        },
        "trusted": true,
        "id": "X7cCzV5ec8te"
      },
      "execution_count": null,
      "outputs": []
    },
    {
      "cell_type": "code",
      "source": [
        "def buildTrainData(catheter, train_data, size):\n",
        "\n",
        "    train_data = train_data[train_data[f'{catheter} - Present'] == 1]\n",
        "    train_data = train_data = train_data[~((train_data[f'{catheter} - Normal'] == 1) & (train_data[f'{catheter} - Abnormal'] == 1))]\n",
        "    train_data[f'{catheter} - Normal/Abnormal'] = np.where(train_data[f'{catheter} - Normal'] == 1, 1, 0)\n",
        "    sampled_data = pd.concat([train_data[train_data[f'{catheter} - Normal'] == 1].sample(n=size), train_data[train_data[f'{catheter} - Abnormal'] == 1].sample(n=size)])\n",
        "\n",
        "    return sampled_data"
      ],
      "metadata": {
        "execution": {
          "iopub.status.busy": "2023-10-20T03:34:25.914074Z",
          "iopub.execute_input": "2023-10-20T03:34:25.914382Z",
          "iopub.status.idle": "2023-10-20T03:34:25.924080Z",
          "shell.execute_reply.started": "2023-10-20T03:34:25.914353Z",
          "shell.execute_reply": "2023-10-20T03:34:25.923325Z"
        },
        "trusted": true,
        "id": "uAq_B6igc8tf"
      },
      "execution_count": null,
      "outputs": []
    },
    {
      "cell_type": "code",
      "source": [
        "sample = buildTrainData('ETT', train_data, 78)\n",
        "sample"
      ],
      "metadata": {
        "execution": {
          "iopub.status.busy": "2023-10-20T03:34:25.925080Z",
          "iopub.execute_input": "2023-10-20T03:34:25.925376Z",
          "iopub.status.idle": "2023-10-20T03:34:25.951077Z",
          "shell.execute_reply.started": "2023-10-20T03:34:25.925348Z",
          "shell.execute_reply": "2023-10-20T03:34:25.950175Z"
        },
        "trusted": true,
        "id": "0WTKV9dgc8tf",
        "outputId": "473bee38-b856-408d-d7f4-1b45f5678420"
      },
      "execution_count": null,
      "outputs": [
        {
          "execution_count": 35,
          "output_type": "execute_result",
          "data": {
            "text/plain": "                                        StudyInstanceUID  ETT - Abnormal  \\\n5514   1.2.826.0.1.3680043.8.498.62482621549066450941...               0   \n21633  1.2.826.0.1.3680043.8.498.11143364354882692909...               0   \n24111  1.2.826.0.1.3680043.8.498.78715330304045487459...               0   \n24235  1.2.826.0.1.3680043.8.498.12355228832479391064...               0   \n3004   1.2.826.0.1.3680043.8.498.64225013817365417818...               0   \n...                                                  ...             ...   \n25183  1.2.826.0.1.3680043.8.498.84533062276529819766...               1   \n10679  1.2.826.0.1.3680043.8.498.15739917130183288582...               1   \n11092  1.2.826.0.1.3680043.8.498.66853777496301033011...               1   \n15399  1.2.826.0.1.3680043.8.498.61889973816225513932...               1   \n7044   1.2.826.0.1.3680043.8.498.64944381826947752542...               1   \n\n       ETT - Borderline  ETT - Normal  NGT - Abnormal  NGT - Borderline  \\\n5514                  0             1               0                 0   \n21633                 0             1               0                 0   \n24111                 0             1               0                 0   \n24235                 0             1               0                 0   \n3004                  0             1               0                 0   \n...                 ...           ...             ...               ...   \n25183                 0             0               0                 1   \n10679                 0             0               0                 0   \n11092                 0             0               0                 0   \n15399                 0             0               0                 0   \n7044                  0             0               0                 0   \n\n       NGT - Incompletely Imaged  NGT - Normal  CVC - Abnormal  \\\n5514                           0             1               0   \n21633                          1             0               0   \n24111                          0             1               0   \n24235                          0             1               0   \n3004                           0             1               0   \n...                          ...           ...             ...   \n25183                          0             0               0   \n10679                          0             1               0   \n11092                          0             0               1   \n15399                          0             1               0   \n7044                           0             1               0   \n\n       CVC - Borderline  CVC - Normal  Swan Ganz Catheter Present  PatientID  \\\n5514                  0             1                           0  fc084b10e   \n21633                 0             1                           0  31ab0c05f   \n24111                 0             0                           0  fc8e49690   \n24235                 1             1                           0  4dd6f80c9   \n3004                  1             1                           0  e65a98a3e   \n...                 ...           ...                         ...        ...   \n25183                 0             1                           0  4e9cd7977   \n10679                 1             1                           0  4dd6f80c9   \n11092                 1             0                           0  26f8065e6   \n15399                 0             1                           0  4e9cd7977   \n7044                  0             1                           1  ac357a821   \n\n       ETT - Present  ETT - Normal/Abnormal  \n5514               1                      1  \n21633              1                      1  \n24111              1                      1  \n24235              1                      1  \n3004               1                      1  \n...              ...                    ...  \n25183              1                      0  \n10679              1                      0  \n11092              1                      0  \n15399              1                      0  \n7044               1                      0  \n\n[156 rows x 15 columns]",
            "text/html": "<div>\n<style scoped>\n    .dataframe tbody tr th:only-of-type {\n        vertical-align: middle;\n    }\n\n    .dataframe tbody tr th {\n        vertical-align: top;\n    }\n\n    .dataframe thead th {\n        text-align: right;\n    }\n</style>\n<table border=\"1\" class=\"dataframe\">\n  <thead>\n    <tr style=\"text-align: right;\">\n      <th></th>\n      <th>StudyInstanceUID</th>\n      <th>ETT - Abnormal</th>\n      <th>ETT - Borderline</th>\n      <th>ETT - Normal</th>\n      <th>NGT - Abnormal</th>\n      <th>NGT - Borderline</th>\n      <th>NGT - Incompletely Imaged</th>\n      <th>NGT - Normal</th>\n      <th>CVC - Abnormal</th>\n      <th>CVC - Borderline</th>\n      <th>CVC - Normal</th>\n      <th>Swan Ganz Catheter Present</th>\n      <th>PatientID</th>\n      <th>ETT - Present</th>\n      <th>ETT - Normal/Abnormal</th>\n    </tr>\n  </thead>\n  <tbody>\n    <tr>\n      <th>5514</th>\n      <td>1.2.826.0.1.3680043.8.498.62482621549066450941...</td>\n      <td>0</td>\n      <td>0</td>\n      <td>1</td>\n      <td>0</td>\n      <td>0</td>\n      <td>0</td>\n      <td>1</td>\n      <td>0</td>\n      <td>0</td>\n      <td>1</td>\n      <td>0</td>\n      <td>fc084b10e</td>\n      <td>1</td>\n      <td>1</td>\n    </tr>\n    <tr>\n      <th>21633</th>\n      <td>1.2.826.0.1.3680043.8.498.11143364354882692909...</td>\n      <td>0</td>\n      <td>0</td>\n      <td>1</td>\n      <td>0</td>\n      <td>0</td>\n      <td>1</td>\n      <td>0</td>\n      <td>0</td>\n      <td>0</td>\n      <td>1</td>\n      <td>0</td>\n      <td>31ab0c05f</td>\n      <td>1</td>\n      <td>1</td>\n    </tr>\n    <tr>\n      <th>24111</th>\n      <td>1.2.826.0.1.3680043.8.498.78715330304045487459...</td>\n      <td>0</td>\n      <td>0</td>\n      <td>1</td>\n      <td>0</td>\n      <td>0</td>\n      <td>0</td>\n      <td>1</td>\n      <td>0</td>\n      <td>0</td>\n      <td>0</td>\n      <td>0</td>\n      <td>fc8e49690</td>\n      <td>1</td>\n      <td>1</td>\n    </tr>\n    <tr>\n      <th>24235</th>\n      <td>1.2.826.0.1.3680043.8.498.12355228832479391064...</td>\n      <td>0</td>\n      <td>0</td>\n      <td>1</td>\n      <td>0</td>\n      <td>0</td>\n      <td>0</td>\n      <td>1</td>\n      <td>0</td>\n      <td>1</td>\n      <td>1</td>\n      <td>0</td>\n      <td>4dd6f80c9</td>\n      <td>1</td>\n      <td>1</td>\n    </tr>\n    <tr>\n      <th>3004</th>\n      <td>1.2.826.0.1.3680043.8.498.64225013817365417818...</td>\n      <td>0</td>\n      <td>0</td>\n      <td>1</td>\n      <td>0</td>\n      <td>0</td>\n      <td>0</td>\n      <td>1</td>\n      <td>0</td>\n      <td>1</td>\n      <td>1</td>\n      <td>0</td>\n      <td>e65a98a3e</td>\n      <td>1</td>\n      <td>1</td>\n    </tr>\n    <tr>\n      <th>...</th>\n      <td>...</td>\n      <td>...</td>\n      <td>...</td>\n      <td>...</td>\n      <td>...</td>\n      <td>...</td>\n      <td>...</td>\n      <td>...</td>\n      <td>...</td>\n      <td>...</td>\n      <td>...</td>\n      <td>...</td>\n      <td>...</td>\n      <td>...</td>\n      <td>...</td>\n    </tr>\n    <tr>\n      <th>25183</th>\n      <td>1.2.826.0.1.3680043.8.498.84533062276529819766...</td>\n      <td>1</td>\n      <td>0</td>\n      <td>0</td>\n      <td>0</td>\n      <td>1</td>\n      <td>0</td>\n      <td>0</td>\n      <td>0</td>\n      <td>0</td>\n      <td>1</td>\n      <td>0</td>\n      <td>4e9cd7977</td>\n      <td>1</td>\n      <td>0</td>\n    </tr>\n    <tr>\n      <th>10679</th>\n      <td>1.2.826.0.1.3680043.8.498.15739917130183288582...</td>\n      <td>1</td>\n      <td>0</td>\n      <td>0</td>\n      <td>0</td>\n      <td>0</td>\n      <td>0</td>\n      <td>1</td>\n      <td>0</td>\n      <td>1</td>\n      <td>1</td>\n      <td>0</td>\n      <td>4dd6f80c9</td>\n      <td>1</td>\n      <td>0</td>\n    </tr>\n    <tr>\n      <th>11092</th>\n      <td>1.2.826.0.1.3680043.8.498.66853777496301033011...</td>\n      <td>1</td>\n      <td>0</td>\n      <td>0</td>\n      <td>0</td>\n      <td>0</td>\n      <td>0</td>\n      <td>0</td>\n      <td>1</td>\n      <td>1</td>\n      <td>0</td>\n      <td>0</td>\n      <td>26f8065e6</td>\n      <td>1</td>\n      <td>0</td>\n    </tr>\n    <tr>\n      <th>15399</th>\n      <td>1.2.826.0.1.3680043.8.498.61889973816225513932...</td>\n      <td>1</td>\n      <td>0</td>\n      <td>0</td>\n      <td>0</td>\n      <td>0</td>\n      <td>0</td>\n      <td>1</td>\n      <td>0</td>\n      <td>0</td>\n      <td>1</td>\n      <td>0</td>\n      <td>4e9cd7977</td>\n      <td>1</td>\n      <td>0</td>\n    </tr>\n    <tr>\n      <th>7044</th>\n      <td>1.2.826.0.1.3680043.8.498.64944381826947752542...</td>\n      <td>1</td>\n      <td>0</td>\n      <td>0</td>\n      <td>0</td>\n      <td>0</td>\n      <td>0</td>\n      <td>1</td>\n      <td>0</td>\n      <td>0</td>\n      <td>1</td>\n      <td>1</td>\n      <td>ac357a821</td>\n      <td>1</td>\n      <td>0</td>\n    </tr>\n  </tbody>\n</table>\n<p>156 rows × 15 columns</p>\n</div>"
          },
          "metadata": {}
        }
      ]
    },
    {
      "cell_type": "code",
      "source": [
        "nAb_data = getFileNames(sample)\n",
        "ett_imgs, fileIDs = processImages(nAb_data, 'train')"
      ],
      "metadata": {
        "execution": {
          "iopub.status.busy": "2023-10-20T03:34:25.952140Z",
          "iopub.execute_input": "2023-10-20T03:34:25.952378Z",
          "iopub.status.idle": "2023-10-20T03:34:33.413174Z",
          "shell.execute_reply.started": "2023-10-20T03:34:25.952358Z",
          "shell.execute_reply": "2023-10-20T03:34:33.412304Z"
        },
        "trusted": true,
        "id": "gcJsvVLgc8tf",
        "outputId": "ca7f10a8-8537-4ece-d70e-7858f1c36da6"
      },
      "execution_count": null,
      "outputs": [
        {
          "name": "stderr",
          "text": "100%|██████████| 156/156 [00:07<00:00, 20.95it/s]\n",
          "output_type": "stream"
        }
      ]
    },
    {
      "cell_type": "code",
      "source": [
        "UID = []\n",
        "for i in range(len(fileIDs)):\n",
        "  UID.append(fileIDs[i].replace(\".jpg\",\"\"))\n",
        "\n",
        "columns_to_drop = ['ETT - Abnormal', 'ETT - Borderline', 'ETT - Normal', 'NGT - Abnormal', 'NGT - Borderline', 'NGT - Normal',\n",
        "                  \"NGT - Incompletely Imaged\", \"Swan Ganz Catheter Present\", \"PatientID\", \"CVC - Borderline\", 'CVC - Abnormal', 'CVC - Normal', 'ETT - Present']\n",
        "\n",
        "ETTsample = sample.drop(columns=columns_to_drop, axis=1)\n",
        "ETTsample.set_index('StudyInstanceUID', inplace=True)\n",
        "\n",
        "ETTsample"
      ],
      "metadata": {
        "execution": {
          "iopub.status.busy": "2023-10-20T03:34:33.414165Z",
          "iopub.execute_input": "2023-10-20T03:34:33.414409Z",
          "iopub.status.idle": "2023-10-20T03:34:33.425921Z",
          "shell.execute_reply.started": "2023-10-20T03:34:33.414387Z",
          "shell.execute_reply": "2023-10-20T03:34:33.425064Z"
        },
        "trusted": true,
        "id": "JtU1cA41c8tg",
        "outputId": "48117dd6-9566-4471-ae7e-fe5b0b21213e"
      },
      "execution_count": null,
      "outputs": [
        {
          "execution_count": 37,
          "output_type": "execute_result",
          "data": {
            "text/plain": "                                                    ETT - Normal/Abnormal\nStudyInstanceUID                                                         \n1.2.826.0.1.3680043.8.498.624826215490664509417...                      1\n1.2.826.0.1.3680043.8.498.111433643548826929092...                      1\n1.2.826.0.1.3680043.8.498.787153303040454874591...                      1\n1.2.826.0.1.3680043.8.498.123552288324793910641...                      1\n1.2.826.0.1.3680043.8.498.642250138173654178180...                      1\n...                                                                   ...\n1.2.826.0.1.3680043.8.498.845330622765298197661...                      0\n1.2.826.0.1.3680043.8.498.157399171301832885824...                      0\n1.2.826.0.1.3680043.8.498.668537774963010330117...                      0\n1.2.826.0.1.3680043.8.498.618899738162255139322...                      0\n1.2.826.0.1.3680043.8.498.649443818269477525426...                      0\n\n[156 rows x 1 columns]",
            "text/html": "<div>\n<style scoped>\n    .dataframe tbody tr th:only-of-type {\n        vertical-align: middle;\n    }\n\n    .dataframe tbody tr th {\n        vertical-align: top;\n    }\n\n    .dataframe thead th {\n        text-align: right;\n    }\n</style>\n<table border=\"1\" class=\"dataframe\">\n  <thead>\n    <tr style=\"text-align: right;\">\n      <th></th>\n      <th>ETT - Normal/Abnormal</th>\n    </tr>\n    <tr>\n      <th>StudyInstanceUID</th>\n      <th></th>\n    </tr>\n  </thead>\n  <tbody>\n    <tr>\n      <th>1.2.826.0.1.3680043.8.498.62482621549066450941742616968051043277</th>\n      <td>1</td>\n    </tr>\n    <tr>\n      <th>1.2.826.0.1.3680043.8.498.11143364354882692909222821800764262312</th>\n      <td>1</td>\n    </tr>\n    <tr>\n      <th>1.2.826.0.1.3680043.8.498.78715330304045487459143788276776992885</th>\n      <td>1</td>\n    </tr>\n    <tr>\n      <th>1.2.826.0.1.3680043.8.498.12355228832479391064189272904637360930</th>\n      <td>1</td>\n    </tr>\n    <tr>\n      <th>1.2.826.0.1.3680043.8.498.64225013817365417818047236662954334719</th>\n      <td>1</td>\n    </tr>\n    <tr>\n      <th>...</th>\n      <td>...</td>\n    </tr>\n    <tr>\n      <th>1.2.826.0.1.3680043.8.498.84533062276529819766171648406000766083</th>\n      <td>0</td>\n    </tr>\n    <tr>\n      <th>1.2.826.0.1.3680043.8.498.15739917130183288582495374522364822377</th>\n      <td>0</td>\n    </tr>\n    <tr>\n      <th>1.2.826.0.1.3680043.8.498.66853777496301033011786823921410375380</th>\n      <td>0</td>\n    </tr>\n    <tr>\n      <th>1.2.826.0.1.3680043.8.498.61889973816225513932209370012107580731</th>\n      <td>0</td>\n    </tr>\n    <tr>\n      <th>1.2.826.0.1.3680043.8.498.64944381826947752542630851918799645855</th>\n      <td>0</td>\n    </tr>\n  </tbody>\n</table>\n<p>156 rows × 1 columns</p>\n</div>"
          },
          "metadata": {}
        }
      ]
    },
    {
      "cell_type": "code",
      "source": [
        "train_labels_df = np.empty((0,3))\n",
        "data = []\n",
        "\n",
        "for ID in UID:\n",
        "    data.append(ETTsample.loc[ID])\n",
        "\n",
        "train_labels_df = pd.DataFrame(data)\n",
        "\n",
        "train_labels_df = train_labels_df.reindex(UID)\n",
        "ett_labels = train_labels_df['ETT - Normal/Abnormal'].values\n",
        "ett_labels"
      ],
      "metadata": {
        "execution": {
          "iopub.status.busy": "2023-10-20T03:34:33.427002Z",
          "iopub.execute_input": "2023-10-20T03:34:33.427258Z",
          "iopub.status.idle": "2023-10-20T03:34:33.454154Z",
          "shell.execute_reply.started": "2023-10-20T03:34:33.427238Z",
          "shell.execute_reply": "2023-10-20T03:34:33.453231Z"
        },
        "trusted": true,
        "id": "vVdaN8jKc8tg",
        "outputId": "aee1946e-20c3-454c-b293-f23b6b72b3ab"
      },
      "execution_count": null,
      "outputs": [
        {
          "execution_count": 38,
          "output_type": "execute_result",
          "data": {
            "text/plain": "array([1, 1, 1, 1, 1, 1, 1, 1, 1, 1, 1, 1, 1, 1, 1, 1, 1, 1, 1, 1, 1, 1,\n       1, 1, 1, 1, 1, 1, 1, 1, 1, 1, 1, 1, 1, 1, 1, 1, 1, 1, 1, 1, 1, 1,\n       1, 1, 1, 1, 1, 1, 1, 1, 1, 1, 1, 1, 1, 1, 1, 1, 1, 1, 1, 1, 1, 1,\n       1, 1, 1, 1, 1, 1, 1, 1, 1, 1, 1, 1, 0, 0, 0, 0, 0, 0, 0, 0, 0, 0,\n       0, 0, 0, 0, 0, 0, 0, 0, 0, 0, 0, 0, 0, 0, 0, 0, 0, 0, 0, 0, 0, 0,\n       0, 0, 0, 0, 0, 0, 0, 0, 0, 0, 0, 0, 0, 0, 0, 0, 0, 0, 0, 0, 0, 0,\n       0, 0, 0, 0, 0, 0, 0, 0, 0, 0, 0, 0, 0, 0, 0, 0, 0, 0, 0, 0, 0, 0,\n       0, 0])"
          },
          "metadata": {}
        }
      ]
    },
    {
      "cell_type": "code",
      "source": [
        "from sklearn.model_selection import train_test_split\n",
        "\n",
        "# Split your data into training and temporary data (combined validation and test)\n",
        "trainETT_imgs, temp_imgs, trainETT_labels, temp_labels = train_test_split(ett_imgs, ett_labels, test_size=0.2, random_state=42)\n",
        "\n",
        "# Split the temporary data into validation and test sets\n",
        "valETT_imgs, testETT_imgs, valETT_labels, testETT_labels = train_test_split(temp_imgs, temp_labels, test_size=0.5, random_state=42)"
      ],
      "metadata": {
        "execution": {
          "iopub.status.busy": "2023-10-20T03:34:33.455052Z",
          "iopub.execute_input": "2023-10-20T03:34:33.455281Z",
          "iopub.status.idle": "2023-10-20T03:34:33.471542Z",
          "shell.execute_reply.started": "2023-10-20T03:34:33.455262Z",
          "shell.execute_reply": "2023-10-20T03:34:33.470693Z"
        },
        "trusted": true,
        "id": "DI78IySHc8tg"
      },
      "execution_count": null,
      "outputs": []
    },
    {
      "cell_type": "code",
      "source": [
        "from tensorflow.keras.layers import concatenate\n",
        "from tensorflow.keras.preprocessing.image import ImageDataGenerator\n",
        "from tensorflow.keras.models import Model\n",
        "from tensorflow.keras.layers import Dropout, BatchNormalization\n",
        "from tensorflow.keras.callbacks import ReduceLROnPlateau\n",
        "from tensorflow.keras.callbacks import EarlyStopping, ModelCheckpoint\n",
        "\n",
        "# Load the DenseNet121 model with pre-trained weights\n",
        "base_model = DenseNet121(weights='imagenet', include_top=False)\n",
        "\n",
        "# Add dropout and batch normalization to custom fully connected layers\n",
        "x = base_model.output\n",
        "x = GlobalAveragePooling2D()(x)\n",
        "x = Dense(1024, activation='relu')(x)\n",
        "x = BatchNormalization()(x)\n",
        "x = Dropout(0.5)(x)\n",
        "\n",
        "# First Output Branch: CVC Catheter Presence (Binary Classification)\n",
        "output_ETTpresent = Dense(1, activation='sigmoid', name='output_ETTpresent')(x)\n",
        "\n",
        "# Add a separate set of layers for the new task\n",
        "y = base_model.output\n",
        "y = GlobalAveragePooling2D()(y)\n",
        "y = Dense(1024, activation='relu')(y)\n",
        "y = BatchNormalization()(y)\n",
        "y = Dropout(0.5)(y)\n",
        "\n",
        "# Second Output Branch: CVC Placement (Binary Classification)\n",
        "output_ett_placement = Dense(1, activation='sigmoid', name='output_ETTnormalAbnormal')(y)\n",
        "\n",
        "# Combine the two output branches\n",
        "combined_model = Model(inputs=base_model.input, outputs=[output_ETTpresent, output_ett_placement])\n",
        "\n",
        "# Compile the combined model with optimizer and loss functions for both tasks\n",
        "combined_model.compile(optimizer='SGD',\n",
        "                       loss={'output_ETTpresent': 'binary_crossentropy', 'output_ETTnormalAbnormal': 'binary_crossentropy'},\n",
        "                       metrics={'output_ETTpresent': 'accuracy', 'output_ETTnormalAbnormal': 'accuracy'})\n",
        "\n",
        "# # Reduce learning rate when the validation loss plateaus\n",
        "reduce_lr = ReduceLROnPlateau(monitor='val_loss', factor=0.2, patience=5, min_lr=1e-6)\n",
        "\n",
        "# Early stopping to prevent overfitting\n",
        "early_stop = EarlyStopping(monitor='val_loss', patience=10, restore_best_weights=True)\n",
        "\n",
        "# Save the best model during training\n",
        "model_checkpoint = ModelCheckpoint('best_model.h5', save_best_only=True)\n",
        "\n",
        "history = combined_model.fit(\n",
        "    {'input_1': train_imgs},\n",
        "    {'output_ETTpresent': train_labels, 'output_ETTnormalAbnormal': trainETT_labels},\n",
        "    epochs=30,\n",
        "    validation_data=(\n",
        "        {'input_1': val_imgs},\n",
        "        {'output_ETTpresent': val_labels, 'output_ETTnormalAbnormal': valETT_labels}\n",
        "    ),\n",
        "    callbacks=[reduce_lr, early_stop, model_checkpoint]\n",
        ")"
      ],
      "metadata": {
        "execution": {
          "iopub.status.busy": "2023-10-20T03:34:33.472657Z",
          "iopub.execute_input": "2023-10-20T03:34:33.472966Z",
          "iopub.status.idle": "2023-10-20T03:37:20.729043Z",
          "shell.execute_reply.started": "2023-10-20T03:34:33.472938Z",
          "shell.execute_reply": "2023-10-20T03:37:20.728038Z"
        },
        "trusted": true,
        "id": "3SioeF7Fc8tg",
        "outputId": "c183b2c6-5fcb-4c07-d709-4d1e1ccea0a8"
      },
      "execution_count": null,
      "outputs": [
        {
          "name": "stdout",
          "text": "Downloading data from https://storage.googleapis.com/tensorflow/keras-applications/densenet/densenet121_weights_tf_dim_ordering_tf_kernels_notop.h5\n29084464/29084464 [==============================] - 1s 0us/step\nEpoch 1/30\n4/4 [==============================] - 52s 4s/step - loss: 1.4512 - output_ETTpresent_loss: 0.7217 - output_ETTnormalAbnormal_loss: 0.7295 - output_ETTpresent_accuracy: 0.6613 - output_ETTnormalAbnormal_accuracy: 0.6532 - val_loss: 1.5578 - val_output_ETTpresent_loss: 0.8572 - val_output_ETTnormalAbnormal_loss: 0.7006 - val_output_ETTpresent_accuracy: 0.5625 - val_output_ETTnormalAbnormal_accuracy: 0.5625 - lr: 0.0100\nEpoch 2/30\n4/4 [==============================] - 2s 680ms/step - loss: 0.6651 - output_ETTpresent_loss: 0.3389 - output_ETTnormalAbnormal_loss: 0.3263 - output_ETTpresent_accuracy: 0.8710 - output_ETTnormalAbnormal_accuracy: 0.8468 - val_loss: 1.3220 - val_output_ETTpresent_loss: 0.6594 - val_output_ETTnormalAbnormal_loss: 0.6626 - val_output_ETTpresent_accuracy: 0.5625 - val_output_ETTnormalAbnormal_accuracy: 0.5625 - lr: 0.0100\nEpoch 3/30\n4/4 [==============================] - 2s 680ms/step - loss: 0.3179 - output_ETTpresent_loss: 0.1470 - output_ETTnormalAbnormal_loss: 0.1710 - output_ETTpresent_accuracy: 0.9516 - output_ETTnormalAbnormal_accuracy: 0.9516 - val_loss: 1.2560 - val_output_ETTpresent_loss: 0.6299 - val_output_ETTnormalAbnormal_loss: 0.6260 - val_output_ETTpresent_accuracy: 0.6250 - val_output_ETTnormalAbnormal_accuracy: 0.7500 - lr: 0.0100\nEpoch 4/30\n4/4 [==============================] - 1s 316ms/step - loss: 0.1800 - output_ETTpresent_loss: 0.1158 - output_ETTnormalAbnormal_loss: 0.0642 - output_ETTpresent_accuracy: 0.9435 - output_ETTnormalAbnormal_accuracy: 0.9839 - val_loss: 1.2838 - val_output_ETTpresent_loss: 0.6096 - val_output_ETTnormalAbnormal_loss: 0.6742 - val_output_ETTpresent_accuracy: 0.8125 - val_output_ETTnormalAbnormal_accuracy: 0.6875 - lr: 0.0100\nEpoch 5/30\n4/4 [==============================] - 1s 315ms/step - loss: 0.0880 - output_ETTpresent_loss: 0.0384 - output_ETTnormalAbnormal_loss: 0.0496 - output_ETTpresent_accuracy: 1.0000 - output_ETTnormalAbnormal_accuracy: 0.9919 - val_loss: 1.2812 - val_output_ETTpresent_loss: 0.6232 - val_output_ETTnormalAbnormal_loss: 0.6580 - val_output_ETTpresent_accuracy: 0.6875 - val_output_ETTnormalAbnormal_accuracy: 0.6250 - lr: 0.0100\nEpoch 6/30\n4/4 [==============================] - 2s 686ms/step - loss: 0.0413 - output_ETTpresent_loss: 0.0174 - output_ETTnormalAbnormal_loss: 0.0239 - output_ETTpresent_accuracy: 1.0000 - output_ETTnormalAbnormal_accuracy: 1.0000 - val_loss: 1.2468 - val_output_ETTpresent_loss: 0.6362 - val_output_ETTnormalAbnormal_loss: 0.6105 - val_output_ETTpresent_accuracy: 0.6875 - val_output_ETTnormalAbnormal_accuracy: 0.8125 - lr: 0.0100\nEpoch 7/30\n4/4 [==============================] - 2s 694ms/step - loss: 0.0280 - output_ETTpresent_loss: 0.0131 - output_ETTnormalAbnormal_loss: 0.0149 - output_ETTpresent_accuracy: 1.0000 - output_ETTnormalAbnormal_accuracy: 1.0000 - val_loss: 1.1881 - val_output_ETTpresent_loss: 0.6182 - val_output_ETTnormalAbnormal_loss: 0.5700 - val_output_ETTpresent_accuracy: 0.7500 - val_output_ETTnormalAbnormal_accuracy: 0.8125 - lr: 0.0100\nEpoch 8/30\n4/4 [==============================] - 3s 739ms/step - loss: 0.0241 - output_ETTpresent_loss: 0.0144 - output_ETTnormalAbnormal_loss: 0.0096 - output_ETTpresent_accuracy: 1.0000 - output_ETTnormalAbnormal_accuracy: 1.0000 - val_loss: 1.1472 - val_output_ETTpresent_loss: 0.5981 - val_output_ETTnormalAbnormal_loss: 0.5492 - val_output_ETTpresent_accuracy: 0.8125 - val_output_ETTnormalAbnormal_accuracy: 0.8750 - lr: 0.0100\nEpoch 9/30\n4/4 [==============================] - 2s 686ms/step - loss: 0.0344 - output_ETTpresent_loss: 0.0148 - output_ETTnormalAbnormal_loss: 0.0196 - output_ETTpresent_accuracy: 1.0000 - output_ETTnormalAbnormal_accuracy: 1.0000 - val_loss: 1.0780 - val_output_ETTpresent_loss: 0.5522 - val_output_ETTnormalAbnormal_loss: 0.5258 - val_output_ETTpresent_accuracy: 0.8125 - val_output_ETTnormalAbnormal_accuracy: 0.9375 - lr: 0.0100\nEpoch 10/30\n4/4 [==============================] - 2s 693ms/step - loss: 0.0163 - output_ETTpresent_loss: 0.0061 - output_ETTnormalAbnormal_loss: 0.0102 - output_ETTpresent_accuracy: 1.0000 - output_ETTnormalAbnormal_accuracy: 1.0000 - val_loss: 1.0328 - val_output_ETTpresent_loss: 0.5217 - val_output_ETTnormalAbnormal_loss: 0.5110 - val_output_ETTpresent_accuracy: 0.8750 - val_output_ETTnormalAbnormal_accuracy: 0.9375 - lr: 0.0100\nEpoch 11/30\n4/4 [==============================] - 2s 683ms/step - loss: 0.0100 - output_ETTpresent_loss: 0.0035 - output_ETTnormalAbnormal_loss: 0.0065 - output_ETTpresent_accuracy: 1.0000 - output_ETTnormalAbnormal_accuracy: 1.0000 - val_loss: 1.0060 - val_output_ETTpresent_loss: 0.5024 - val_output_ETTnormalAbnormal_loss: 0.5036 - val_output_ETTpresent_accuracy: 0.8750 - val_output_ETTnormalAbnormal_accuracy: 0.8750 - lr: 0.0100\nEpoch 12/30\n4/4 [==============================] - 2s 719ms/step - loss: 0.0094 - output_ETTpresent_loss: 0.0032 - output_ETTnormalAbnormal_loss: 0.0062 - output_ETTpresent_accuracy: 1.0000 - output_ETTnormalAbnormal_accuracy: 1.0000 - val_loss: 0.9590 - val_output_ETTpresent_loss: 0.4651 - val_output_ETTnormalAbnormal_loss: 0.4939 - val_output_ETTpresent_accuracy: 0.9375 - val_output_ETTnormalAbnormal_accuracy: 0.8125 - lr: 0.0100\nEpoch 13/30\n4/4 [==============================] - 2s 672ms/step - loss: 0.0090 - output_ETTpresent_loss: 0.0041 - output_ETTnormalAbnormal_loss: 0.0048 - output_ETTpresent_accuracy: 1.0000 - output_ETTnormalAbnormal_accuracy: 1.0000 - val_loss: 0.9321 - val_output_ETTpresent_loss: 0.4478 - val_output_ETTnormalAbnormal_loss: 0.4842 - val_output_ETTpresent_accuracy: 0.8750 - val_output_ETTnormalAbnormal_accuracy: 0.8125 - lr: 0.0100\nEpoch 14/30\n4/4 [==============================] - 1s 316ms/step - loss: 0.0133 - output_ETTpresent_loss: 0.0068 - output_ETTnormalAbnormal_loss: 0.0065 - output_ETTpresent_accuracy: 1.0000 - output_ETTnormalAbnormal_accuracy: 1.0000 - val_loss: 0.9348 - val_output_ETTpresent_loss: 0.4599 - val_output_ETTnormalAbnormal_loss: 0.4749 - val_output_ETTpresent_accuracy: 0.8125 - val_output_ETTnormalAbnormal_accuracy: 0.6875 - lr: 0.0100\nEpoch 15/30\n4/4 [==============================] - 1s 317ms/step - loss: 0.0271 - output_ETTpresent_loss: 0.0126 - output_ETTnormalAbnormal_loss: 0.0145 - output_ETTpresent_accuracy: 1.0000 - output_ETTnormalAbnormal_accuracy: 1.0000 - val_loss: 1.0147 - val_output_ETTpresent_loss: 0.5134 - val_output_ETTnormalAbnormal_loss: 0.5013 - val_output_ETTpresent_accuracy: 0.6250 - val_output_ETTnormalAbnormal_accuracy: 0.6875 - lr: 0.0100\nEpoch 16/30\n4/4 [==============================] - 1s 317ms/step - loss: 0.0057 - output_ETTpresent_loss: 0.0027 - output_ETTnormalAbnormal_loss: 0.0030 - output_ETTpresent_accuracy: 1.0000 - output_ETTnormalAbnormal_accuracy: 1.0000 - val_loss: 1.0168 - val_output_ETTpresent_loss: 0.5167 - val_output_ETTnormalAbnormal_loss: 0.5002 - val_output_ETTpresent_accuracy: 0.6250 - val_output_ETTnormalAbnormal_accuracy: 0.6250 - lr: 0.0100\nEpoch 17/30\n4/4 [==============================] - 1s 316ms/step - loss: 0.0069 - output_ETTpresent_loss: 0.0032 - output_ETTnormalAbnormal_loss: 0.0036 - output_ETTpresent_accuracy: 1.0000 - output_ETTnormalAbnormal_accuracy: 1.0000 - val_loss: 1.0158 - val_output_ETTpresent_loss: 0.5152 - val_output_ETTnormalAbnormal_loss: 0.5006 - val_output_ETTpresent_accuracy: 0.6250 - val_output_ETTnormalAbnormal_accuracy: 0.6250 - lr: 0.0100\nEpoch 18/30\n4/4 [==============================] - 3s 794ms/step - loss: 0.0319 - output_ETTpresent_loss: 0.0156 - output_ETTnormalAbnormal_loss: 0.0163 - output_ETTpresent_accuracy: 1.0000 - output_ETTnormalAbnormal_accuracy: 1.0000 - val_loss: 0.8981 - val_output_ETTpresent_loss: 0.4150 - val_output_ETTnormalAbnormal_loss: 0.4831 - val_output_ETTpresent_accuracy: 0.9375 - val_output_ETTnormalAbnormal_accuracy: 0.7500 - lr: 0.0100\nEpoch 19/30\n4/4 [==============================] - 2s 693ms/step - loss: 0.0108 - output_ETTpresent_loss: 0.0055 - output_ETTnormalAbnormal_loss: 0.0053 - output_ETTpresent_accuracy: 1.0000 - output_ETTnormalAbnormal_accuracy: 1.0000 - val_loss: 0.8792 - val_output_ETTpresent_loss: 0.4009 - val_output_ETTnormalAbnormal_loss: 0.4782 - val_output_ETTpresent_accuracy: 0.8750 - val_output_ETTnormalAbnormal_accuracy: 0.7500 - lr: 0.0100\nEpoch 20/30\n4/4 [==============================] - 2s 695ms/step - loss: 0.0048 - output_ETTpresent_loss: 0.0018 - output_ETTnormalAbnormal_loss: 0.0030 - output_ETTpresent_accuracy: 1.0000 - output_ETTnormalAbnormal_accuracy: 1.0000 - val_loss: 0.8523 - val_output_ETTpresent_loss: 0.3882 - val_output_ETTnormalAbnormal_loss: 0.4640 - val_output_ETTpresent_accuracy: 0.9375 - val_output_ETTnormalAbnormal_accuracy: 0.7500 - lr: 0.0100\nEpoch 21/30\n4/4 [==============================] - 1s 317ms/step - loss: 0.0059 - output_ETTpresent_loss: 0.0025 - output_ETTnormalAbnormal_loss: 0.0034 - output_ETTpresent_accuracy: 1.0000 - output_ETTnormalAbnormal_accuracy: 1.0000 - val_loss: 0.8555 - val_output_ETTpresent_loss: 0.3904 - val_output_ETTnormalAbnormal_loss: 0.4651 - val_output_ETTpresent_accuracy: 0.8750 - val_output_ETTnormalAbnormal_accuracy: 0.7500 - lr: 0.0100\nEpoch 22/30\n4/4 [==============================] - 1s 317ms/step - loss: 0.0036 - output_ETTpresent_loss: 0.0019 - output_ETTnormalAbnormal_loss: 0.0018 - output_ETTpresent_accuracy: 1.0000 - output_ETTnormalAbnormal_accuracy: 1.0000 - val_loss: 0.8544 - val_output_ETTpresent_loss: 0.3839 - val_output_ETTnormalAbnormal_loss: 0.4705 - val_output_ETTpresent_accuracy: 0.8750 - val_output_ETTnormalAbnormal_accuracy: 0.7500 - lr: 0.0100\nEpoch 23/30\n4/4 [==============================] - 2s 694ms/step - loss: 0.0087 - output_ETTpresent_loss: 0.0050 - output_ETTnormalAbnormal_loss: 0.0037 - output_ETTpresent_accuracy: 1.0000 - output_ETTnormalAbnormal_accuracy: 1.0000 - val_loss: 0.8033 - val_output_ETTpresent_loss: 0.3583 - val_output_ETTnormalAbnormal_loss: 0.4450 - val_output_ETTpresent_accuracy: 0.8750 - val_output_ETTnormalAbnormal_accuracy: 0.8125 - lr: 0.0100\nEpoch 24/30\n4/4 [==============================] - 2s 706ms/step - loss: 0.0041 - output_ETTpresent_loss: 0.0018 - output_ETTnormalAbnormal_loss: 0.0023 - output_ETTpresent_accuracy: 1.0000 - output_ETTnormalAbnormal_accuracy: 1.0000 - val_loss: 0.7882 - val_output_ETTpresent_loss: 0.3506 - val_output_ETTnormalAbnormal_loss: 0.4377 - val_output_ETTpresent_accuracy: 0.8750 - val_output_ETTnormalAbnormal_accuracy: 0.8125 - lr: 0.0100\nEpoch 25/30\n4/4 [==============================] - 2s 687ms/step - loss: 0.0034 - output_ETTpresent_loss: 0.0014 - output_ETTnormalAbnormal_loss: 0.0021 - output_ETTpresent_accuracy: 1.0000 - output_ETTnormalAbnormal_accuracy: 1.0000 - val_loss: 0.7779 - val_output_ETTpresent_loss: 0.3427 - val_output_ETTnormalAbnormal_loss: 0.4352 - val_output_ETTpresent_accuracy: 0.8750 - val_output_ETTnormalAbnormal_accuracy: 0.8125 - lr: 0.0100\nEpoch 26/30\n4/4 [==============================] - 2s 696ms/step - loss: 0.0040 - output_ETTpresent_loss: 0.0016 - output_ETTnormalAbnormal_loss: 0.0023 - output_ETTpresent_accuracy: 1.0000 - output_ETTnormalAbnormal_accuracy: 1.0000 - val_loss: 0.7697 - val_output_ETTpresent_loss: 0.3320 - val_output_ETTnormalAbnormal_loss: 0.4377 - val_output_ETTpresent_accuracy: 0.9375 - val_output_ETTnormalAbnormal_accuracy: 0.8125 - lr: 0.0100\nEpoch 27/30\n4/4 [==============================] - 2s 732ms/step - loss: 0.0030 - output_ETTpresent_loss: 0.0017 - output_ETTnormalAbnormal_loss: 0.0012 - output_ETTpresent_accuracy: 1.0000 - output_ETTnormalAbnormal_accuracy: 1.0000 - val_loss: 0.7639 - val_output_ETTpresent_loss: 0.3303 - val_output_ETTnormalAbnormal_loss: 0.4336 - val_output_ETTpresent_accuracy: 0.9375 - val_output_ETTnormalAbnormal_accuracy: 0.8125 - lr: 0.0100\nEpoch 28/30\n4/4 [==============================] - 1s 323ms/step - loss: 0.0078 - output_ETTpresent_loss: 0.0022 - output_ETTnormalAbnormal_loss: 0.0057 - output_ETTpresent_accuracy: 1.0000 - output_ETTnormalAbnormal_accuracy: 1.0000 - val_loss: 0.7781 - val_output_ETTpresent_loss: 0.3393 - val_output_ETTnormalAbnormal_loss: 0.4388 - val_output_ETTpresent_accuracy: 0.9375 - val_output_ETTnormalAbnormal_accuracy: 0.8125 - lr: 0.0100\nEpoch 29/30\n4/4 [==============================] - 2s 691ms/step - loss: 0.0037 - output_ETTpresent_loss: 0.0013 - output_ETTnormalAbnormal_loss: 0.0024 - output_ETTpresent_accuracy: 1.0000 - output_ETTnormalAbnormal_accuracy: 1.0000 - val_loss: 0.7534 - val_output_ETTpresent_loss: 0.3319 - val_output_ETTnormalAbnormal_loss: 0.4215 - val_output_ETTpresent_accuracy: 0.9375 - val_output_ETTnormalAbnormal_accuracy: 0.8125 - lr: 0.0100\nEpoch 30/30\n4/4 [==============================] - 2s 682ms/step - loss: 0.0050 - output_ETTpresent_loss: 0.0022 - output_ETTnormalAbnormal_loss: 0.0028 - output_ETTpresent_accuracy: 1.0000 - output_ETTnormalAbnormal_accuracy: 1.0000 - val_loss: 0.7332 - val_output_ETTpresent_loss: 0.3333 - val_output_ETTnormalAbnormal_loss: 0.4000 - val_output_ETTpresent_accuracy: 0.9375 - val_output_ETTnormalAbnormal_accuracy: 0.8125 - lr: 0.0100\n",
          "output_type": "stream"
        }
      ]
    },
    {
      "cell_type": "code",
      "source": [
        "# Evaluate accuracy for the 'output_catheter' branch\n",
        "evaluation = combined_model.evaluate(\n",
        "    {'input_1': test_imgs},\n",
        "    {'output_ETTpresent': test_labels, 'output_ETTnormalAbnormal': testETT_labels},\n",
        ")\n",
        "\n",
        "# Extract the accuracy values from the evaluation results\n",
        "test_accuracy_catheter = evaluation[3]  # Index 3 corresponds to 'output_catheter_accuracy'\n",
        "test_accuracy_cvc_placement = evaluation[4]  # Index 4 corresponds to 'output_cvc_placement_accuracy'\n",
        "\n",
        "print(f'Test Accuracy (ETT Present): {test_accuracy_catheter * 100:.2f}%')\n",
        "print(f'Test Accuracy (ETT Normal/Abnormal): {test_accuracy_cvc_placement * 100:.2f}%')"
      ],
      "metadata": {
        "execution": {
          "iopub.status.busy": "2023-10-20T03:37:20.730545Z",
          "iopub.execute_input": "2023-10-20T03:37:20.731188Z",
          "iopub.status.idle": "2023-10-20T03:37:20.870985Z",
          "shell.execute_reply.started": "2023-10-20T03:37:20.731151Z",
          "shell.execute_reply": "2023-10-20T03:37:20.870293Z"
        },
        "trusted": true,
        "id": "PxxJrTwJc8tg",
        "outputId": "67122d8b-ad2b-4ad9-b8e4-c0e10dfa3c18"
      },
      "execution_count": null,
      "outputs": [
        {
          "name": "stdout",
          "text": "1/1 [==============================] - 0s 82ms/step - loss: 0.6107 - output_ETTpresent_loss: 0.2817 - output_ETTnormalAbnormal_loss: 0.3290 - output_ETTpresent_accuracy: 0.9375 - output_ETTnormalAbnormal_accuracy: 0.8750\nTest Accuracy (ETT Present): 93.75%\nTest Accuracy (ETT Normal/Abnormal): 87.50%\n",
          "output_type": "stream"
        }
      ]
    },
    {
      "cell_type": "code",
      "source": [
        "test_path = \"/kaggle/input/ranzcr-clip-catheter-line-classification/test\"\n",
        "\n",
        "all_files = os.listdir(test_path)\n",
        "\n",
        "test_files = all_files[:300]"
      ],
      "metadata": {
        "execution": {
          "iopub.status.busy": "2023-10-20T03:37:20.872096Z",
          "iopub.execute_input": "2023-10-20T03:37:20.872351Z",
          "iopub.status.idle": "2023-10-20T03:37:21.442810Z",
          "shell.execute_reply.started": "2023-10-20T03:37:20.872327Z",
          "shell.execute_reply": "2023-10-20T03:37:21.441980Z"
        },
        "trusted": true,
        "id": "Z1mSsn-tc8th"
      },
      "execution_count": null,
      "outputs": []
    },
    {
      "cell_type": "code",
      "source": [
        "test_img, testFiles = processImages(test_files, \"test\")\n"
      ],
      "metadata": {
        "execution": {
          "iopub.status.busy": "2023-10-20T03:37:21.444348Z",
          "iopub.execute_input": "2023-10-20T03:37:21.444707Z",
          "iopub.status.idle": "2023-10-20T03:37:36.642645Z",
          "shell.execute_reply.started": "2023-10-20T03:37:21.444675Z",
          "shell.execute_reply": "2023-10-20T03:37:36.641759Z"
        },
        "trusted": true,
        "id": "40xs4-HIc8th",
        "outputId": "98c0422e-e732-4c19-a88c-b5a05f6c87ff"
      },
      "execution_count": null,
      "outputs": [
        {
          "name": "stderr",
          "text": "100%|██████████| 300/300 [00:15<00:00, 19.78it/s]\n",
          "output_type": "stream"
        }
      ]
    },
    {
      "cell_type": "code",
      "source": [
        "predictions = combined_model.predict(test_imgs)\n",
        "predictions\n",
        "\n",
        "# Access predictions for the first task\n",
        "ngt_present_predictions = predictions[0]\n",
        "ngt_present_predictions\n",
        "# Access predictions for the second task\n",
        "ngt_normal_abnormal_predictions = predictions[1]\n",
        "\n",
        "ngt_present_predictions\n",
        "# Create two separate DataFrames\n",
        "df1 = pd.DataFrame(ngt_present_predictions, columns=[\"ETT - Present\"])\n",
        "df2 = pd.DataFrame(ngt_normal_abnormal_predictions, columns=['ETT - Normal/Abnormal'])\n",
        "\n",
        "# # Concatenate the DataFrames horizontally to create one with two columns\n",
        "NGTpredictions = pd.concat([df1, df2], axis=1)\n",
        "NGTpredictions\n",
        "\n",
        "NGTpredictions['ETT - Present'] = np.where(NGTpredictions['ETT - Present'] > 0.5, 1, 0)\n",
        "NGTpredictions['ETT - Normal/Abnormal'] = np.where(NGTpredictions['ETT - Normal/Abnormal'] > 0.5, 1, 0)\n",
        "NGTpredictions\n",
        "\n",
        "from sklearn.metrics import confusion_matrix\n",
        "\n",
        "# Create the confusion matrix\n",
        "confusion_matrix_present = confusion_matrix(test_labels, NGTpredictions['ETT - Present'])\n",
        "\n",
        "plt.gca().patch.set_facecolor('none')\n",
        "\n",
        "\n",
        "\n",
        "custom_palette = ['#D3E0EA', '#AAB8C4', '#8498A2', '#5D7D88', '#3C6270',\n",
        "                  '#1F465E', '#132D4B', '#0A1C36', '#051024', '#020916']\n",
        "\n",
        "# Create a heatmap plot of the confusion matrix\n",
        "sns.heatmap(confusion_matrix_present, annot=True, cmap=custom_palette)\n",
        "plt.xlabel('Predicted')\n",
        "plt.ylabel('Actual')\n",
        "plt.title('Confusion Matrix')\n",
        "plt.show()"
      ],
      "metadata": {
        "execution": {
          "iopub.status.busy": "2023-10-20T03:37:36.643904Z",
          "iopub.execute_input": "2023-10-20T03:37:36.644248Z",
          "iopub.status.idle": "2023-10-20T03:37:38.655452Z",
          "shell.execute_reply.started": "2023-10-20T03:37:36.644216Z",
          "shell.execute_reply": "2023-10-20T03:37:38.654584Z"
        },
        "trusted": true,
        "id": "BC411wfac8th",
        "outputId": "a2ec229a-44f9-476f-a64f-8fc083e25bc5"
      },
      "execution_count": null,
      "outputs": [
        {
          "name": "stdout",
          "text": "1/1 [==============================] - 2s 2s/step\n",
          "output_type": "stream"
        },
        {
          "output_type": "display_data",
          "data": {
            "text/plain": "<Figure size 640x480 with 2 Axes>",
            "image/png": "[encoded data removed]"
          },
          "metadata": {}
        }
      ]
    },
    {
      "cell_type": "code",
      "source": [
        "confusion_matrix_present = confusion_matrix(test_labels, NGTpredictions['ETT - Normal/Abnormal'])\n",
        "\n",
        "plt.gca().patch.set_facecolor('none')\n",
        "\n",
        "\n",
        "\n",
        "custom_palette = ['#D3E0EA', '#AAB8C4', '#8498A2', '#5D7D88', '#3C6270',\n",
        "                  '#1F465E', '#132D4B', '#0A1C36', '#051024', '#020916']\n",
        "\n",
        "# Create a heatmap plot of the confusion matrix\n",
        "sns.heatmap(confusion_matrix_present, annot=True, cmap=custom_palette)\n",
        "plt.xlabel('Predicted')\n",
        "plt.ylabel('Actual')\n",
        "plt.title('Confusion Matrix')\n",
        "plt.show()"
      ],
      "metadata": {
        "execution": {
          "iopub.status.busy": "2023-10-20T03:37:38.656513Z",
          "iopub.execute_input": "2023-10-20T03:37:38.656772Z",
          "iopub.status.idle": "2023-10-20T03:37:38.891068Z",
          "shell.execute_reply.started": "2023-10-20T03:37:38.656749Z",
          "shell.execute_reply": "2023-10-20T03:37:38.890184Z"
        },
        "trusted": true,
        "id": "Z2ASrSR0c8th",
        "outputId": "17c0a1ba-e2ec-48ef-e72b-a74d16086d8f"
      },
      "execution_count": null,
      "outputs": [
        {
          "output_type": "display_data",
          "data": {
            "text/plain": "<Figure size 640x480 with 2 Axes>",
            "image/png": "[encoded data removed]"
          },
          "metadata": {}
        }
      ]
    }
  ]
}